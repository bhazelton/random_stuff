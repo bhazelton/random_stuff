{
 "cells": [
  {
   "cell_type": "markdown",
   "metadata": {},
   "source": [
    "This almost exactly follows SWC lesson 1, just replacing inflammation data with auto spectra.\n",
    "\n",
    "I'm leaving out all the words/explanations in this notebook and just documenting the actual code typed into the notebook, so this notebook can only be understood in concert with SWC lesson 1."
   ]
  },
  {
   "cell_type": "code",
   "execution_count": 1,
   "metadata": {
    "collapsed": true
   },
   "outputs": [],
   "source": [
    "import numpy"
   ]
  },
  {
   "cell_type": "code",
   "execution_count": 17,
   "metadata": {
    "collapsed": false
   },
   "outputs": [
    {
     "data": {
      "text/plain": [
       "array([[ 44735.88671875,  44006.39453125,  43784.3515625 , ...,\n",
       "         26436.20507812,  27046.11132812,  27959.21289062],\n",
       "       [ 44404.5625    ,  44302.3359375 ,  43988.30859375, ...,\n",
       "         26256.62304688,  27281.56054688,  28448.88085938],\n",
       "       [ 52105.34375   ,  51818.45703125,  52069.875     , ...,\n",
       "         28315.21289062,  29598.86523438,  31155.2421875 ],\n",
       "       ..., \n",
       "       [ 46145.296875  ,  45840.33203125,  45605.83984375, ...,\n",
       "         23445.92578125,  23704.08398438,  24154.70507812],\n",
       "       [ 52272.50390625,  51849.94140625,  51510.69140625, ...,\n",
       "         24040.3046875 ,  24625.6875    ,  25483.90429688],\n",
       "       [ 47617.703125  ,  47534.390625  ,  46826.44140625, ...,\n",
       "         24525.5078125 ,  25231.859375  ,  26100.7265625 ]])"
      ]
     },
     "execution_count": 17,
     "metadata": {},
     "output_type": "execute_result"
    }
   ],
   "source": [
    "numpy.loadtxt(fname='spectra-01.csv', delimiter=',')"
   ]
  },
  {
   "cell_type": "code",
   "execution_count": 4,
   "metadata": {
    "collapsed": true
   },
   "outputs": [],
   "source": [
    "weight_kg = 55"
   ]
  },
  {
   "cell_type": "code",
   "execution_count": 5,
   "metadata": {
    "collapsed": false
   },
   "outputs": [
    {
     "name": "stdout",
     "output_type": "stream",
     "text": [
      "55\n"
     ]
    }
   ],
   "source": [
    "print(weight_kg)"
   ]
  },
  {
   "cell_type": "code",
   "execution_count": 6,
   "metadata": {
    "collapsed": false
   },
   "outputs": [
    {
     "name": "stdout",
     "output_type": "stream",
     "text": [
      "('weight in pounds:', 121.00000000000001)\n"
     ]
    }
   ],
   "source": [
    "print('weight in pounds:', 2.2 * weight_kg)"
   ]
  },
  {
   "cell_type": "code",
   "execution_count": 7,
   "metadata": {
    "collapsed": false
   },
   "outputs": [
    {
     "name": "stdout",
     "output_type": "stream",
     "text": [
      "('weight in kilograms is now:', 57.5)\n"
     ]
    }
   ],
   "source": [
    "weight_kg = 57.5\n",
    "print('weight in kilograms is now:', weight_kg)"
   ]
  },
  {
   "cell_type": "code",
   "execution_count": 8,
   "metadata": {
    "collapsed": false
   },
   "outputs": [
    {
     "name": "stdout",
     "output_type": "stream",
     "text": [
      "('weight in kilograms:', 57.5, 'and in pounds:', 126.50000000000001)\n"
     ]
    }
   ],
   "source": [
    "weight_lb = 2.2 * weight_kg\n",
    "print('weight in kilograms:', weight_kg, 'and in pounds:', weight_lb)"
   ]
  },
  {
   "cell_type": "code",
   "execution_count": 9,
   "metadata": {
    "collapsed": false
   },
   "outputs": [
    {
     "name": "stdout",
     "output_type": "stream",
     "text": [
      "('weight in kilograms is now:', 100.0, 'and weight in pounds is still:', 126.50000000000001)\n"
     ]
    }
   ],
   "source": [
    "weight_kg = 100.0\n",
    "print('weight in kilograms is now:', weight_kg, 'and weight in pounds is still:', weight_lb)"
   ]
  },
  {
   "cell_type": "code",
   "execution_count": 10,
   "metadata": {
    "collapsed": false
   },
   "outputs": [
    {
     "name": "stdout",
     "output_type": "stream",
     "text": [
      "Variable    Type      Data/Info\n",
      "-------------------------------\n",
      "numpy       module    <module 'numpy' from '/Us<...>ages/numpy/__init__.pyc'>\n",
      "weight_kg   float     100.0\n",
      "weight_lb   float     126.5\n"
     ]
    }
   ],
   "source": [
    "%whos"
   ]
  },
  {
   "cell_type": "code",
   "execution_count": 18,
   "metadata": {
    "collapsed": true
   },
   "outputs": [],
   "source": [
    "data = numpy.loadtxt(fname='spectra-01.csv', delimiter=',')"
   ]
  },
  {
   "cell_type": "code",
   "execution_count": 19,
   "metadata": {
    "collapsed": false
   },
   "outputs": [
    {
     "name": "stdout",
     "output_type": "stream",
     "text": [
      "[[ 44735.88671875  44006.39453125  43784.3515625  ...,  26436.20507812\n",
      "   27046.11132812  27959.21289062]\n",
      " [ 44404.5625      44302.3359375   43988.30859375 ...,  26256.62304688\n",
      "   27281.56054688  28448.88085938]\n",
      " [ 52105.34375     51818.45703125  52069.875      ...,  28315.21289062\n",
      "   29598.86523438  31155.2421875 ]\n",
      " ..., \n",
      " [ 46145.296875    45840.33203125  45605.83984375 ...,  23445.92578125\n",
      "   23704.08398438  24154.70507812]\n",
      " [ 52272.50390625  51849.94140625  51510.69140625 ...,  24040.3046875\n",
      "   24625.6875      25483.90429688]\n",
      " [ 47617.703125    47534.390625    46826.44140625 ...,  24525.5078125\n",
      "   25231.859375    26100.7265625 ]]\n"
     ]
    }
   ],
   "source": [
    "print(data)"
   ]
  },
  {
   "cell_type": "code",
   "execution_count": 20,
   "metadata": {
    "collapsed": false
   },
   "outputs": [
    {
     "name": "stdout",
     "output_type": "stream",
     "text": [
      "<type 'numpy.ndarray'>\n"
     ]
    }
   ],
   "source": [
    "print(type(data))"
   ]
  },
  {
   "cell_type": "code",
   "execution_count": 21,
   "metadata": {
    "collapsed": false
   },
   "outputs": [
    {
     "name": "stdout",
     "output_type": "stream",
     "text": [
      "float64\n"
     ]
    }
   ],
   "source": [
    "print(data.dtype)"
   ]
  },
  {
   "cell_type": "code",
   "execution_count": 22,
   "metadata": {
    "collapsed": false
   },
   "outputs": [
    {
     "name": "stdout",
     "output_type": "stream",
     "text": [
      "(127, 384)\n"
     ]
    }
   ],
   "source": [
    "print(data.shape)"
   ]
  },
  {
   "cell_type": "code",
   "execution_count": 23,
   "metadata": {
    "collapsed": false
   },
   "outputs": [
    {
     "name": "stdout",
     "output_type": "stream",
     "text": [
      "('first value in data:', 44735.88671875)\n"
     ]
    }
   ],
   "source": [
    "print('first value in data:', data[0, 0])"
   ]
  },
  {
   "cell_type": "code",
   "execution_count": 24,
   "metadata": {
    "collapsed": false
   },
   "outputs": [
    {
     "name": "stdout",
     "output_type": "stream",
     "text": [
      "('middle value in data:', 38199.140625)\n"
     ]
    }
   ],
   "source": [
    "print('middle value in data:', data[63, 192])"
   ]
  },
  {
   "cell_type": "code",
   "execution_count": 27,
   "metadata": {
    "collapsed": false
   },
   "outputs": [
    {
     "name": "stdout",
     "output_type": "stream",
     "text": [
      "[[ 44735.88671875  44006.39453125  43784.3515625 ]\n",
      " [ 44404.5625      44302.3359375   43988.30859375]\n",
      " [ 52105.34375     51818.45703125  52069.875     ]\n",
      " [ 52839.578125    53402.546875    52707.9375    ]]\n"
     ]
    }
   ],
   "source": [
    "print(data[0:4, 0:3])"
   ]
  },
  {
   "cell_type": "code",
   "execution_count": 28,
   "metadata": {
    "collapsed": false
   },
   "outputs": [
    {
     "name": "stdout",
     "output_type": "stream",
     "text": [
      "[[ 37169.0546875   36928.1640625   36594.40625   ]\n",
      " [ 31944.89648438  31551.66992188  31228.49804688]\n",
      " [ 33460.2109375   33391.12109375  32932.4375    ]\n",
      " [ 29466.5078125   29258.66796875  28830.04296875]]\n"
     ]
    }
   ],
   "source": [
    "print(data[4:8, 0:3])"
   ]
  },
  {
   "cell_type": "code",
   "execution_count": 30,
   "metadata": {
    "collapsed": false
   },
   "outputs": [
    {
     "name": "stdout",
     "output_type": "stream",
     "text": [
      "small is:\n",
      "[[ 26436.20507812  27046.11132812  27959.21289062]\n",
      " [ 26256.62304688  27281.56054688  28448.88085938]\n",
      " [ 28315.21289062  29598.86523438  31155.2421875 ]\n",
      " [ 29059.19921875  30337.8671875   31297.80859375]]\n"
     ]
    }
   ],
   "source": [
    "small = data[:4, 381:]\n",
    "print('small is:')\n",
    "print(small)"
   ]
  },
  {
   "cell_type": "code",
   "execution_count": 31,
   "metadata": {
    "collapsed": true
   },
   "outputs": [],
   "source": [
    "doubledata = data * 2.0"
   ]
  },
  {
   "cell_type": "code",
   "execution_count": 32,
   "metadata": {
    "collapsed": false
   },
   "outputs": [
    {
     "name": "stdout",
     "output_type": "stream",
     "text": [
      "original:\n",
      "[[ 26436.20507812  27046.11132812  27959.21289062]\n",
      " [ 26256.62304688  27281.56054688  28448.88085938]\n",
      " [ 28315.21289062  29598.86523438  31155.2421875 ]\n",
      " [ 29059.19921875  30337.8671875   31297.80859375]]\n",
      "doubledata:\n",
      "[[ 52872.41015625  54092.22265625  55918.42578125]\n",
      " [ 52513.24609375  54563.12109375  56897.76171875]\n",
      " [ 56630.42578125  59197.73046875  62310.484375  ]\n",
      " [ 58118.3984375   60675.734375    62595.6171875 ]]\n"
     ]
    }
   ],
   "source": [
    "print('original:')\n",
    "print(data[:4, 381:])\n",
    "print('doubledata:')\n",
    "print(doubledata[:4, 381:])"
   ]
  },
  {
   "cell_type": "code",
   "execution_count": 33,
   "metadata": {
    "collapsed": true
   },
   "outputs": [],
   "source": [
    "tripledata = doubledata + data"
   ]
  },
  {
   "cell_type": "code",
   "execution_count": 34,
   "metadata": {
    "collapsed": false
   },
   "outputs": [
    {
     "name": "stdout",
     "output_type": "stream",
     "text": [
      "tripledata:\n",
      "[[ 79308.61523438  81138.33398438  83877.63867188]\n",
      " [ 78769.86914062  81844.68164062  85346.64257812]\n",
      " [ 84945.63867188  88796.59570312  93465.7265625 ]\n",
      " [ 87177.59765625  91013.6015625   93893.42578125]]\n"
     ]
    }
   ],
   "source": [
    "print('tripledata:')\n",
    "print(tripledata[:4, 381:])"
   ]
  },
  {
   "cell_type": "code",
   "execution_count": 35,
   "metadata": {
    "collapsed": false
   },
   "outputs": [
    {
     "name": "stdout",
     "output_type": "stream",
     "text": [
      "34876.3650667\n"
     ]
    }
   ],
   "source": [
    "print(numpy.mean(data))"
   ]
  },
  {
   "cell_type": "code",
   "execution_count": 36,
   "metadata": {
    "collapsed": false
   },
   "outputs": [
    {
     "name": "stdout",
     "output_type": "stream",
     "text": [
      "Thu May 11 11:41:31 2017\n"
     ]
    }
   ],
   "source": [
    "import time\n",
    "print(time.ctime())"
   ]
  },
  {
   "cell_type": "code",
   "execution_count": 37,
   "metadata": {
    "collapsed": false
   },
   "outputs": [
    {
     "name": "stdout",
     "output_type": "stream",
     "text": [
      "('maximum power:', 61964.25390625)\n",
      "('minimum power:', 12926.17578125)\n",
      "('standard deviation:', 9511.4456100358238)\n"
     ]
    }
   ],
   "source": [
    "maxval, minval, stdval = numpy.max(data), numpy.min(data), numpy.std(data)\n",
    "\n",
    "print('maximum power:', maxval)\n",
    "print('minimum power:', minval)\n",
    "print('standard deviation:', stdval)"
   ]
  },
  {
   "cell_type": "code",
   "execution_count": 39,
   "metadata": {
    "collapsed": false
   },
   "outputs": [
    {
     "name": "stdout",
     "output_type": "stream",
     "text": [
      "('maximum inflammation for antenna 0:', 45801.23828125)\n"
     ]
    }
   ],
   "source": [
    "antenna_0 = data[0, :] # 0 on the first axis, everything on the second\n",
    "print('maximum inflammation for antenna 0:', antenna_0.max())"
   ]
  },
  {
   "cell_type": "code",
   "execution_count": 40,
   "metadata": {
    "collapsed": false
   },
   "outputs": [
    {
     "name": "stdout",
     "output_type": "stream",
     "text": [
      "('maximum inflammation for antenna 2:', 52315.96875)\n"
     ]
    }
   ],
   "source": [
    "print('maximum inflammation for antenna 2:', numpy.max(data[2, :]))"
   ]
  },
  {
   "cell_type": "code",
   "execution_count": 41,
   "metadata": {
    "collapsed": false
   },
   "outputs": [
    {
     "name": "stdout",
     "output_type": "stream",
     "text": [
      "[ 45945.14883735  45674.99449434  45236.03952387  45013.48322158\n",
      "  44929.49104946  44813.92839567  44717.55547183  44686.93623893\n",
      "  44771.22965367  44674.60466905  44686.50026144  44679.93373216\n",
      "  44622.11488066  44636.1991111   44907.79238435  45636.10874446\n",
      "  45216.50601316  44757.73620509  44359.58676796  44261.6863312\n",
      "  44277.32595657  44305.86437315  44256.76433317  44209.01850086\n",
      "  44248.55247293  44100.33619894  44066.87873708  44086.05119648\n",
      "  44083.08945928  44175.56706754  44546.67365896  45215.39045583\n",
      "  44949.88092089  44499.45067975  44090.18479331  43915.39857591\n",
      "  43841.58758305  43787.09645669  43821.31968196  43860.58802904\n",
      "  43987.70755413  43895.79630598  43898.40437377  43853.02709769\n",
      "  43800.70646223  43841.90497355  44155.65028297  44845.96638164\n",
      "  44671.47931533  44248.48886565  43906.9401298   43822.08456877\n",
      "  43806.48628199  43748.87123216  43656.70026452  43628.68809978\n",
      "  43650.08316929  43569.26605561  43622.6742126   43654.59625677\n",
      "  43710.17084461  43812.05831693  44156.60672982  44711.77842028\n",
      "  44408.55002768  43980.16287832  43564.14039432  43411.27160741\n",
      "  43378.65994094  43396.55373401  43424.22893086  43423.29944328\n",
      "  43478.40349717  43351.59750246  43277.03275714  43215.73192975\n",
      "  43154.45736959  43169.65354331  43514.70946112  44247.77754368\n",
      "  43706.76208784  43502.64020977  43130.22822343  42933.31731361\n",
      "  42804.38593442  42701.10589936  42589.02931225  42541.04722872\n",
      "  42563.0205924   42480.1669845   42451.22660864  42444.41995263\n",
      "  42361.91613866  42378.33770608  42624.93440883  43309.78346457\n",
      "  42528.60892901  42256.01480992  41888.74998462  41748.05602547\n",
      "  41717.75021531  41650.4401298   41572.87433871  41435.48449803\n",
      "  41368.45833846  41183.22277928  41063.976055    40964.36203556\n",
      "  40890.0844765   40959.17162894  41294.42914924  42085.71721211\n",
      "  41197.92204417  41031.26207247  40597.79146161  40327.0281127\n",
      "  40135.72473241  40026.06289985  39944.00716658  39875.99078802\n",
      "  39896.27351439  39773.39820682  39705.16287832  39625.94917261\n",
      "  39470.72487082  39449.55165785  39706.55857837  40534.91018701\n",
      "  39671.13567298  39454.53617126  39077.7071389   38912.16689222\n",
      "  38845.25219919  38721.70401698  38586.37375431  38417.52325295\n",
      "  38362.70012611  38167.3853654   38180.41350886  38115.15831078\n",
      "  38129.59705647  38185.61754122  38470.90415846  39213.75170706\n",
      "  38457.29141548  38132.62932148  37712.694805    37514.56889764\n",
      "  37455.27961983  37404.90781865  37385.18999139  37335.21365957\n",
      "  37367.24892347  37189.97041093  37114.83473794  36980.20524729\n",
      "  36895.30294968  36924.76228777  37250.05196543  38075.03180364\n",
      "  37492.05825541  37209.09042815  36846.93879183  36656.85383858\n",
      "  36543.39453125  36439.55521038  36332.76664001  36258.51456385\n",
      "  36282.21421321  36206.12686085  36190.89465428  36213.16510827\n",
      "  36221.10600701  36271.41094058  36535.15160556  37210.813961\n",
      "  36844.87556902  36392.75710507  36053.09833292  35957.82280389\n",
      "  35960.77220719  35963.5179626   35930.08624508  35870.48105315\n",
      "  35885.60163939  35727.29212291  35661.88725701  35592.79976624\n",
      "  35609.64828371  35701.55304195  36059.9343627   36770.69788078\n",
      "  36488.84244279  36129.2731453   35737.78088091  35552.18951464\n",
      "  35482.47447096  35419.87676858  35395.81823634  35386.83687562\n",
      "  35496.91032542  35417.34325787  35379.96642778  35341.52003875\n",
      "  35285.76484067  35286.33236959  35553.28005044  36223.47542446\n",
      "  35904.79289186  35569.03769377  35254.19580463  35187.99813915\n",
      "  35187.24311024  35146.33721395  35032.29279958  34938.56088521\n",
      "  34913.66066375  34761.11871001  34740.99600148  34722.53503322\n",
      "  34757.26584031  34837.91543123  35127.86655696  35763.93514702\n",
      "  35256.34478039  34936.38341228  34535.93969919  34375.28332616\n",
      "  34316.33807517  34277.18150221  34260.50444451  34223.02182271\n",
      "  34281.08141609  34113.14170153  33997.35497662  33869.51451772\n",
      "  33768.57092766  33750.18456262  34060.0414001   34826.63559609\n",
      "  34199.69974163  34006.2494925   33656.1070374   33505.83081631\n",
      "  33398.15382013  33269.56254614  33133.34493418  33035.6628937\n",
      "  33011.86608022  32872.64773007  32817.12756828  32795.13024422\n",
      "  32745.42718073  32752.37232406  32963.7676704   33704.26996186\n",
      "  30306.63950234  29565.3208969   28432.99387918  27985.98008428\n",
      "  27922.4948173   27899.72857714  27829.86066683  27757.88771838\n",
      "  27680.81822096  27559.0219765   27479.63401206  27397.13722625\n",
      "  27316.91576956  27563.2259781   28535.16018701  29808.00864296\n",
      "  29105.15935655  28519.10111651  27482.77798967  27034.09814838\n",
      "  26938.9898499   26865.8966843   26784.95410925  26744.60090121\n",
      "  26715.68799213  26656.5821389   26603.76966197  26539.52521377\n",
      "  26459.40185162  26651.56808255  27459.02463706  28564.26479454\n",
      "  27936.60691437  27372.18657726  26498.39565391  26157.34538786\n",
      "  26116.26089598  26063.59544937  25995.47537832  25935.64730715\n",
      "  25861.23591289  25740.86032849  25691.69303642  25646.35496125\n",
      "  25612.09697189  25828.61440391  26611.66470073  27584.02344519\n",
      "  27084.34977085  26559.32883243  25702.44208292  25344.19885734\n",
      "  25278.86970965  25273.11458846  25249.854992    25241.69039893\n",
      "  25235.09012826  25169.8916477   25129.26877768  25046.03634812\n",
      "  24970.90798013  25166.98011503  25863.3969765   26766.8326541\n",
      "  26415.78776298  25927.91332431  25184.16450849  24887.80091966\n",
      "  24834.77492926  24812.95079509  24752.67239019  24694.67658095\n",
      "  24660.67160587  24613.78812438  24607.42351286  24597.83423044\n",
      "  24583.1424474   24791.0570251   25459.02457554  26221.14739942\n",
      "  25925.44998001  25419.8780681   24705.55020454  24430.67698081\n",
      "  24414.30501815  24419.76512518  24427.3921552   24416.11485759\n",
      "  24390.62364665  24315.1482914   24261.57504152  24197.10603008\n",
      "  24143.9799228   24338.12970595  25000.36221241  25764.57032788\n",
      "  25445.3127922   25067.0390625   24380.22582431  24063.88088244\n",
      "  24004.24095719  23967.99093412  23931.27096149  23920.57376507\n",
      "  23915.14139395  23862.69829601  23853.5516194   23817.74777774\n",
      "  23777.90439684  23921.51735513  24492.77184578  25185.30231145\n",
      "  24778.47322527  24419.56814407  23811.87472318  23561.92441252\n",
      "  23551.66106361  23549.055418    23485.97520915  23441.07607191\n",
      "  23390.98367526  23295.594988    23236.5709661   23189.60244679\n",
      "  23154.66127891  23313.45945343  23880.96471303  24556.39600763]\n"
     ]
    }
   ],
   "source": [
    "print(numpy.mean(data, axis=0))"
   ]
  },
  {
   "cell_type": "code",
   "execution_count": 42,
   "metadata": {
    "collapsed": false
   },
   "outputs": [
    {
     "name": "stdout",
     "output_type": "stream",
     "text": [
      "(384,)\n"
     ]
    }
   ],
   "source": [
    "print(numpy.mean(data, axis=0).shape)"
   ]
  },
  {
   "cell_type": "code",
   "execution_count": 43,
   "metadata": {
    "collapsed": false
   },
   "outputs": [
    {
     "name": "stdout",
     "output_type": "stream",
     "text": [
      "[ 37505.83492533  37702.90264893  41800.69311523  40842.51634216\n",
      "  28957.29028829  25911.81283569  26469.44350688  24028.03220622\n",
      "  31874.90389506  33405.8761851   35986.98852539  42883.92420451\n",
      "  46064.82897441  45827.70673625  46119.16207886  36221.83662923\n",
      "  30784.47396851  37068.08382161  36488.46413676  36570.21292623\n",
      "  39090.96189372  36659.11528015  37267.14748637  38706.69447835\n",
      "  38268.10047404  45010.38623047  42563.70209757  35987.79989115\n",
      "  46075.07958984  37702.76324972  47043.96581014  32606.96082052\n",
      "  36920.04751587  40724.29462687  34874.11845398  40922.89539591\n",
      "  31273.89820862  26416.03235881  33848.08758545  27278.32179769\n",
      "  34517.41439819  38122.06508382  36047.70232646  45551.23657735\n",
      "  36711.45073954  33409.30495707  37768.80887858  30439.93511454\n",
      "  33577.11446126  37413.82010396  28145.8307902   32723.91741435\n",
      "  30293.55383809  34602.71881104  30674.57475789  48386.26320394\n",
      "  34222.00012207  43900.79656474  34371.25652059  40443.96072896\n",
      "  33716.04808044  39457.48418681  35467.70900472  36803.53067017\n",
      "  34890.37042236  34276.36247762  37523.4357961   36321.19121297\n",
      "  36209.79104106  37624.60663859  33538.35076904  33828.72588603\n",
      "  36047.95302327  34368.70870463  45377.42241923  28806.3805186\n",
      "  45325.13772583  25504.16129303  29927.59873454  27097.58843486\n",
      "  40663.43149821  25579.38649241  40575.94663493  23889.66545614\n",
      "  29393.35649109  30808.89658101  30590.87356567  27727.5395813\n",
      "  30993.67272441  33748.65841166  38434.48951721  26988.55184937\n",
      "  31467.54588318  37053.29514567  23038.86208344  28853.29051208\n",
      "  30125.75675456  26967.22432454  42767.05836487  40575.49039205\n",
      "  37627.31037903  39443.85935465  21869.67011515  25540.55957286\n",
      "  28902.15616353  37288.08743795  29882.74476115  31846.50661723\n",
      "  38995.98629761  36718.16215007  37961.5118866   31169.76339213\n",
      "  39776.31349691  23792.19432322  29549.25867208  34962.42764791\n",
      "  35343.68343608  37971.18803406  38086.83634949  36084.22056071\n",
      "  29506.23798625  26917.42236328  27538.10690816  27755.14286804\n",
      "  34876.96747843  38154.39056396  36303.01875814]\n"
     ]
    }
   ],
   "source": [
    "print(numpy.mean(data, axis=1))"
   ]
  },
  {
   "cell_type": "code",
   "execution_count": 44,
   "metadata": {
    "collapsed": false
   },
   "outputs": [
    {
     "name": "stdout",
     "output_type": "stream",
     "text": [
      "(127,)\n"
     ]
    }
   ],
   "source": [
    "print(numpy.mean(data, axis=1)).shape"
   ]
  },
  {
   "cell_type": "code",
   "execution_count": 45,
   "metadata": {
    "collapsed": false
   },
   "outputs": [
    {
     "name": "stderr",
     "output_type": "stream",
     "text": [
      "/Users/bryna/anaconda/envs/py2/lib/python2.7/site-packages/matplotlib/font_manager.py:273: UserWarning: Matplotlib is building the font cache using fc-list. This may take a moment.\n",
      "  warnings.warn('Matplotlib is building the font cache using fc-list. This may take a moment.')\n"
     ]
    }
   ],
   "source": [
    "import matplotlib.pyplot\n",
    "image = matplotlib.pyplot.imshow(data)\n",
    "matplotlib.pyplot.show()"
   ]
  },
  {
   "cell_type": "code",
   "execution_count": 46,
   "metadata": {
    "collapsed": true
   },
   "outputs": [],
   "source": [
    "%matplotlib inline"
   ]
  },
  {
   "cell_type": "code",
   "execution_count": 48,
   "metadata": {
    "collapsed": false
   },
   "outputs": [
    {
     "data": {
      "image/png": "[encoded data removed]",
      "text/plain": [
       "<matplotlib.figure.Figure at 0x10ef01b50>"
      ]
     },
     "metadata": {},
     "output_type": "display_data"
    }
   ],
   "source": [
    "image = matplotlib.pyplot.imshow(data)\n",
    "matplotlib.pyplot.show()"
   ]
  },
  {
   "cell_type": "code",
   "execution_count": 50,
   "metadata": {
    "collapsed": false
   },
   "outputs": [
    {
     "data": {
      "image/png": "[encoded data removed]",
      "text/plain": [
       "<matplotlib.figure.Figure at 0x11d141190>"
      ]
     },
     "metadata": {},
     "output_type": "display_data"
    }
   ],
   "source": [
    "ave_spectrum = numpy.mean(data, axis=0)\n",
    "ave_plot = matplotlib.pyplot.plot(ave_spectrum)\n",
    "matplotlib.pyplot.show()"
   ]
  },
  {
   "cell_type": "code",
   "execution_count": 51,
   "metadata": {
    "collapsed": false
   },
   "outputs": [
    {
     "data": {
      "image/png": "[encoded data removed]",
      "text/plain": [
       "<matplotlib.figure.Figure at 0x10d9158d0>"
      ]
     },
     "metadata": {},
     "output_type": "display_data"
    }
   ],
   "source": [
    "max_plot = matplotlib.pyplot.plot(numpy.max(data, axis=0))\n",
    "matplotlib.pyplot.show()"
   ]
  },
  {
   "cell_type": "code",
   "execution_count": 52,
   "metadata": {
    "collapsed": false
   },
   "outputs": [
    {
     "data": {
      "image/png": "[encoded data removed]",
      "text/plain": [
       "<matplotlib.figure.Figure at 0x1208f0f90>"
      ]
     },
     "metadata": {},
     "output_type": "display_data"
    }
   ],
   "source": [
    "min_plot = matplotlib.pyplot.plot(numpy.min(data, axis=0))\n",
    "matplotlib.pyplot.show()"
   ]
  },
  {
   "cell_type": "code",
   "execution_count": 54,
   "metadata": {
    "collapsed": false
   },
   "outputs": [
    {
     "data": {
      "image/png": "[encoded data removed]",
      "text/plain": [
       "<matplotlib.figure.Figure at 0x120d89410>"
      ]
     },
     "metadata": {},
     "output_type": "display_data"
    }
   ],
   "source": [
    "import numpy\n",
    "import matplotlib.pyplot\n",
    "\n",
    "data = numpy.loadtxt(fname='spectra-01.csv', delimiter=',')\n",
    "\n",
    "fig = matplotlib.pyplot.figure(figsize=(10.0, 3.0))\n",
    "\n",
    "axes1 = fig.add_subplot(1, 3, 1)\n",
    "axes2 = fig.add_subplot(1, 3, 2)\n",
    "axes3 = fig.add_subplot(1, 3, 3)\n",
    "\n",
    "axes1.set_ylabel('average')\n",
    "axes1.plot(numpy.mean(data, axis=0))\n",
    "\n",
    "axes2.set_ylabel('max')\n",
    "axes2.plot(numpy.max(data, axis=0))\n",
    "\n",
    "axes3.set_ylabel('min')\n",
    "axes3.plot(numpy.min(data, axis=0))\n",
    "\n",
    "fig.tight_layout()\n",
    "\n",
    "matplotlib.pyplot.show()"
   ]
  },
  {
   "cell_type": "markdown",
   "metadata": {},
   "source": [
    "End of lesson 1"
   ]
  },
  {
   "cell_type": "markdown",
   "metadata": {},
   "source": [
    "Lessons 2 & 3 exactly follows SWC, no inflammation data is invoked."
   ]
  },
  {
   "cell_type": "markdown",
   "metadata": {},
   "source": [
    "Begin Lesson 4. Unlikely to actually get to this point, but better to be prepared."
   ]
  },
  {
   "cell_type": "code",
   "execution_count": null,
   "metadata": {
    "collapsed": true
   },
   "outputs": [],
   "source": []
  }
 ],
 "metadata": {
  "kernelspec": {
   "display_name": "Python 2",
   "language": "python",
   "name": "python2"
  },
  "language_info": {
   "codemirror_mode": {
    "name": "ipython",
    "version": 2
   },
   "file_extension": ".py",
   "mimetype": "text/x-python",
   "name": "python",
   "nbconvert_exporter": "python",
   "pygments_lexer": "ipython2",
   "version": "2.7.11"
  }
 },
 "nbformat": 4,
 "nbformat_minor": 0
}
