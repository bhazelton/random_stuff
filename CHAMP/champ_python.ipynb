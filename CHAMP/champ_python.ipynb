{
 "cells": [
  {
   "cell_type": "code",
   "execution_count": 1,
   "metadata": {
    "collapsed": true
   },
   "outputs": [],
   "source": [
    "weight_kg = 55"
   ]
  },
  {
   "cell_type": "code",
   "execution_count": 2,
   "metadata": {
    "collapsed": false
   },
   "outputs": [
    {
     "name": "stdout",
     "output_type": "stream",
     "text": [
      "55\n"
     ]
    }
   ],
   "source": [
    "print(weight_kg)"
   ]
  },
  {
   "cell_type": "code",
   "execution_count": 3,
   "metadata": {
    "collapsed": false
   },
   "outputs": [
    {
     "name": "stdout",
     "output_type": "stream",
     "text": [
      "('weight in pounds: ', 121.00000000000001)\n"
     ]
    }
   ],
   "source": [
    "print('weight in pounds: ', 2.2*weight_kg)"
   ]
  },
  {
   "cell_type": "code",
   "execution_count": 4,
   "metadata": {
    "collapsed": false
   },
   "outputs": [
    {
     "name": "stdout",
     "output_type": "stream",
     "text": [
      "('weight in kilograms is now: ', 57.5)\n"
     ]
    }
   ],
   "source": [
    "weight_kg = 57.5\n",
    "print('weight in kilograms is now: ', weight_kg)"
   ]
  },
  {
   "cell_type": "code",
   "execution_count": 5,
   "metadata": {
    "collapsed": false
   },
   "outputs": [
    {
     "name": "stdout",
     "output_type": "stream",
     "text": [
      "('weight in kilograms: ', 57.5, 'weight in pounds: ', 126.50000000000001)\n"
     ]
    }
   ],
   "source": [
    "weight_lb = 2.2 * weight_kg\n",
    "print('weight in kilograms: ', weight_kg, 'weight in pounds: ', weight_lb)"
   ]
  },
  {
   "cell_type": "code",
   "execution_count": 6,
   "metadata": {
    "collapsed": false
   },
   "outputs": [
    {
     "name": "stdout",
     "output_type": "stream",
     "text": [
      "('weight in kilograms: ', 100.0, 'weight in pounds: ', 126.50000000000001)\n"
     ]
    }
   ],
   "source": [
    "weight_kg = 100.0\n",
    "print('weight in kilograms: ', weight_kg, 'weight in pounds: ', weight_lb)"
   ]
  },
  {
   "cell_type": "code",
   "execution_count": 7,
   "metadata": {
    "collapsed": false
   },
   "outputs": [
    {
     "name": "stdout",
     "output_type": "stream",
     "text": [
      "Variable    Type     Data/Info\n",
      "------------------------------\n",
      "weight_kg   float    100.0\n",
      "weight_lb   float    126.5\n"
     ]
    }
   ],
   "source": [
    "%whos"
   ]
  },
  {
   "cell_type": "code",
   "execution_count": 8,
   "metadata": {
    "collapsed": true
   },
   "outputs": [],
   "source": [
    "import numpy"
   ]
  },
  {
   "cell_type": "code",
   "execution_count": 12,
   "metadata": {
    "collapsed": false
   },
   "outputs": [
    {
     "data": {
      "text/plain": [
       "array([[  4.47358867e+04,   4.40063945e+04,   4.37843516e+04, ...,\n",
       "          2.64362051e+04,   2.70461113e+04,   2.79592129e+04],\n",
       "       [  7.41365891e+01,   1.03397110e+02,   1.77445862e+02, ...,\n",
       "          2.81997185e+01,   9.61245956e+01,   6.65218878e+00],\n",
       "       [  6.83311768e+01,   9.89244614e+01,   2.32232605e+02, ...,\n",
       "          2.07630901e+01,   6.28128204e+01,   1.26889620e+01],\n",
       "       ..., \n",
       "       [  1.84684326e+02,   9.14458542e+01,   8.37519379e+01, ...,\n",
       "          5.39893913e+01,   2.34939804e+01,   8.45690994e+01],\n",
       "       [  1.37337509e+02,   1.58816330e+02,   1.74108124e+02, ...,\n",
       "          2.83125896e+01,   7.19598770e+01,   4.47477379e+01],\n",
       "       [  5.54886932e+01,   9.49404373e+01,   7.94494019e+01, ...,\n",
       "          5.13257790e+01,   3.38513908e+01,   2.65041065e+01]])"
      ]
     },
     "execution_count": 12,
     "metadata": {},
     "output_type": "execute_result"
    }
   ],
   "source": [
    "numpy.loadtxt(fname='data/spectra-01.csv', delimiter=',')"
   ]
  },
  {
   "cell_type": "code",
   "execution_count": 13,
   "metadata": {
    "collapsed": true
   },
   "outputs": [],
   "source": [
    "data = numpy.loadtxt(fname='data/spectra-01.csv', delimiter=',')"
   ]
  },
  {
   "cell_type": "code",
   "execution_count": 14,
   "metadata": {
    "collapsed": false
   },
   "outputs": [
    {
     "name": "stdout",
     "output_type": "stream",
     "text": [
      "[[  4.47358867e+04   4.40063945e+04   4.37843516e+04 ...,   2.64362051e+04\n",
      "    2.70461113e+04   2.79592129e+04]\n",
      " [  7.41365891e+01   1.03397110e+02   1.77445862e+02 ...,   2.81997185e+01\n",
      "    9.61245956e+01   6.65218878e+00]\n",
      " [  6.83311768e+01   9.89244614e+01   2.32232605e+02 ...,   2.07630901e+01\n",
      "    6.28128204e+01   1.26889620e+01]\n",
      " ..., \n",
      " [  1.84684326e+02   9.14458542e+01   8.37519379e+01 ...,   5.39893913e+01\n",
      "    2.34939804e+01   8.45690994e+01]\n",
      " [  1.37337509e+02   1.58816330e+02   1.74108124e+02 ...,   2.83125896e+01\n",
      "    7.19598770e+01   4.47477379e+01]\n",
      " [  5.54886932e+01   9.49404373e+01   7.94494019e+01 ...,   5.13257790e+01\n",
      "    3.38513908e+01   2.65041065e+01]]\n"
     ]
    }
   ],
   "source": [
    "print(data)"
   ]
  },
  {
   "cell_type": "code",
   "execution_count": 16,
   "metadata": {
    "collapsed": false
   },
   "outputs": [
    {
     "name": "stdout",
     "output_type": "stream",
     "text": [
      "<type 'float'>\n"
     ]
    }
   ],
   "source": [
    "print(type(weight_kg))"
   ]
  },
  {
   "cell_type": "code",
   "execution_count": 15,
   "metadata": {
    "collapsed": false
   },
   "outputs": [
    {
     "name": "stdout",
     "output_type": "stream",
     "text": [
      "<type 'numpy.ndarray'>\n"
     ]
    }
   ],
   "source": [
    "print(type(data))"
   ]
  },
  {
   "cell_type": "code",
   "execution_count": 17,
   "metadata": {
    "collapsed": false
   },
   "outputs": [
    {
     "name": "stdout",
     "output_type": "stream",
     "text": [
      "float64\n"
     ]
    }
   ],
   "source": [
    "print(data.dtype)"
   ]
  },
  {
   "cell_type": "code",
   "execution_count": 18,
   "metadata": {
    "collapsed": false
   },
   "outputs": [
    {
     "name": "stdout",
     "output_type": "stream",
     "text": [
      "(127, 384)\n"
     ]
    }
   ],
   "source": [
    "print(data.shape)"
   ]
  },
  {
   "cell_type": "code",
   "execution_count": 19,
   "metadata": {
    "collapsed": false
   },
   "outputs": [
    {
     "name": "stdout",
     "output_type": "stream",
     "text": [
      "('first value in data: ', 44735.88671875)\n"
     ]
    }
   ],
   "source": [
    "print('first value in data: ', data[0,0])"
   ]
  },
  {
   "cell_type": "code",
   "execution_count": 20,
   "metadata": {
    "collapsed": false
   },
   "outputs": [
    {
     "name": "stdout",
     "output_type": "stream",
     "text": [
      "('middle value in data: ', 104.31467437744141)\n"
     ]
    }
   ],
   "source": [
    "print('middle value in data: ', data[63, 192])"
   ]
  },
  {
   "cell_type": "code",
   "execution_count": 21,
   "metadata": {
    "collapsed": false
   },
   "outputs": [
    {
     "name": "stdout",
     "output_type": "stream",
     "text": [
      "[[ 44735.88671875  44006.39453125  43784.3515625 ]\n",
      " [    74.13658905    103.39710999    177.44586182]\n",
      " [    68.33117676     98.92446136    232.23260498]\n",
      " [   215.43830872     80.82846832     77.66504669]]\n"
     ]
    }
   ],
   "source": [
    "print(data[0:4, 0:3])"
   ]
  },
  {
   "cell_type": "code",
   "execution_count": 22,
   "metadata": {
    "collapsed": true
   },
   "outputs": [],
   "source": [
    "doubledata = data * 2.0"
   ]
  },
  {
   "cell_type": "code",
   "execution_count": 23,
   "metadata": {
    "collapsed": false
   },
   "outputs": [
    {
     "name": "stdout",
     "output_type": "stream",
     "text": [
      "original:\n",
      "[[ 44735.88671875  44006.39453125  43784.3515625 ]\n",
      " [    74.13658905    103.39710999    177.44586182]\n",
      " [    68.33117676     98.92446136    232.23260498]\n",
      " [   215.43830872     80.82846832     77.66504669]]\n",
      "doubledata:\n",
      "[[ 89471.7734375   88012.7890625   87568.703125  ]\n",
      " [   148.2731781     206.79421997    354.89172363]\n",
      " [   136.66235352    197.84892273    464.46520996]\n",
      " [   430.87661743    161.65693665    155.33009338]]\n"
     ]
    }
   ],
   "source": [
    "print('original:')\n",
    "print(data[0:4,0:3])\n",
    "print('doubledata:')\n",
    "print(doubledata[0:4,0:3])"
   ]
  },
  {
   "cell_type": "code",
   "execution_count": 24,
   "metadata": {
    "collapsed": true
   },
   "outputs": [],
   "source": [
    "tripledata = doubledata + data"
   ]
  },
  {
   "cell_type": "code",
   "execution_count": 25,
   "metadata": {
    "collapsed": false
   },
   "outputs": [
    {
     "name": "stdout",
     "output_type": "stream",
     "text": [
      "[[ 134207.66015625  132019.18359375  131353.0546875 ]\n",
      " [    222.40976715     310.19132996     532.33758545]\n",
      " [    204.99353027     296.77338409     696.69781494]\n",
      " [    646.31492615     242.48540497     232.99514008]]\n"
     ]
    }
   ],
   "source": [
    "print(tripledata[0:4,0:3])"
   ]
  },
  {
   "cell_type": "code",
   "execution_count": 26,
   "metadata": {
    "collapsed": false
   },
   "outputs": [
    {
     "name": "stdout",
     "output_type": "stream",
     "text": [
      "[[  2.64362051e+04   2.70461113e+04   2.79592129e+04]\n",
      " [  2.81997185e+01   9.61245956e+01   6.65218878e+00]\n",
      " [  2.07630901e+01   6.28128204e+01   1.26889620e+01]\n",
      " [  6.74390564e+01   5.68813515e+01   7.91672287e+01]]\n"
     ]
    }
   ],
   "source": [
    "print(data[:4, 381:])"
   ]
  },
  {
   "cell_type": "code",
   "execution_count": 27,
   "metadata": {
    "collapsed": false
   },
   "outputs": [
    {
     "name": "stdout",
     "output_type": "stream",
     "text": [
      "389.020250024\n"
     ]
    }
   ],
   "source": [
    "print(numpy.mean(data))"
   ]
  },
  {
   "cell_type": "code",
   "execution_count": 28,
   "metadata": {
    "collapsed": true
   },
   "outputs": [],
   "source": [
    "import time"
   ]
  },
  {
   "cell_type": "code",
   "execution_count": 29,
   "metadata": {
    "collapsed": false
   },
   "outputs": [
    {
     "name": "stdout",
     "output_type": "stream",
     "text": [
      "Mon Jun 12 16:36:41 2017\n"
     ]
    }
   ],
   "source": [
    "print(time.ctime())"
   ]
  },
  {
   "cell_type": "code",
   "execution_count": 30,
   "metadata": {
    "collapsed": true
   },
   "outputs": [],
   "source": [
    "minval, maxval, stdval = numpy.min(data), numpy.max(data), numpy.std(data)"
   ]
  },
  {
   "cell_type": "code",
   "execution_count": 31,
   "metadata": {
    "collapsed": false
   },
   "outputs": [
    {
     "name": "stdout",
     "output_type": "stream",
     "text": [
      "('min: ', 0.65259277820587158)\n",
      "('max: ', 45801.23828125)\n",
      "('std dev.: ', 3354.0796773459178)\n"
     ]
    }
   ],
   "source": [
    "print('min: ', minval)\n",
    "print('max: ', maxval)\n",
    "print('std dev.: ', stdval)"
   ]
  },
  {
   "cell_type": "code",
   "execution_count": 32,
   "metadata": {
    "collapsed": true
   },
   "outputs": [],
   "source": [
    "antenna_0 = data[0,:]"
   ]
  },
  {
   "cell_type": "code",
   "execution_count": 33,
   "metadata": {
    "collapsed": false
   },
   "outputs": [
    {
     "name": "stdout",
     "output_type": "stream",
     "text": [
      "('max power antenna_0: ', 45801.23828125)\n"
     ]
    }
   ],
   "source": [
    "print('max power antenna_0: ', max(antenna_0))"
   ]
  },
  {
   "cell_type": "code",
   "execution_count": 34,
   "metadata": {
    "collapsed": false
   },
   "outputs": [
    {
     "name": "stdout",
     "output_type": "stream",
     "text": [
      "45801.2382812\n"
     ]
    }
   ],
   "source": [
    "print(max(data[0,:]))"
   ]
  },
  {
   "cell_type": "code",
   "execution_count": 36,
   "metadata": {
    "collapsed": false
   },
   "outputs": [
    {
     "name": "stdout",
     "output_type": "stream",
     "text": [
      "[ 37505.83492533    104.84814717    103.80846748    101.91016924\n",
      "     89.05305083     80.21492635     75.11007554     68.87548063\n",
      "     91.76356006    108.56707773    114.68925751    113.72587269\n",
      "    114.05798059    116.35523077    110.67870237    115.6889675\n",
      "     82.46388724     96.33753924     88.18759135     90.6639822\n",
      "     96.32477931     89.62551946    112.29710272    105.11878676\n",
      "     92.26422154    106.37251728    101.85880217     94.80130587\n",
      "    107.83650049    101.82736283    111.90612004    106.125945\n",
      "     91.01408479    102.31111729     95.25601961    100.74846482\n",
      "     91.25835556     84.8972441      87.80468953     79.6937269\n",
      "     88.7404408      94.34365278     88.0123607      97.17529043\n",
      "     89.55143048     86.92854978     96.72451979     96.51077222\n",
      "    101.43970741     98.65829113     81.97591498     94.11120694\n",
      "     82.07853751     96.2677624      91.76238274    114.81032032\n",
      "     93.68292968    111.64442863     84.64511766    101.70501313\n",
      "     95.7292956      99.46965701    101.6243577     100.91301501\n",
      "     90.17609185     95.20791007     97.37608763     97.09301489\n",
      "    112.93858753     94.09941024     96.64438388     97.13629269\n",
      "     92.99336504     94.83693419    106.16317226     88.88553442\n",
      "    117.27493604     81.82021842     82.50373681     78.5808102\n",
      "    100.88324322     80.4235533     103.12986457     77.80576068\n",
      "     90.57385515     88.29064896     87.56496411     81.36444512\n",
      "     88.40817187    100.53203382     93.60701302     78.48157483\n",
      "     86.99593786     98.31683036     75.11277827     88.73241168\n",
      "     85.5411145      81.52192935    104.32536048     99.79708884\n",
      "     97.41955131    105.61048745     74.87944637     76.23518779\n",
      "     84.84438281     95.39310511     84.51926595     87.70696052\n",
      "     98.73604453    105.05794473     92.73573465     86.96786985\n",
      "    100.57138607     77.39656159     88.41968114     91.24687767\n",
      "     95.01406932     97.06461733     97.49352028     92.89064646\n",
      "     88.38365292     84.07933181     86.18261493     83.56677046\n",
      "     94.20340458    101.74786963    101.38318891]\n"
     ]
    }
   ],
   "source": [
    "print(numpy.mean(data, axis=1))"
   ]
  },
  {
   "cell_type": "code",
   "execution_count": 37,
   "metadata": {
    "collapsed": false
   },
   "outputs": [
    {
     "name": "stdout",
     "output_type": "stream",
     "text": [
      "(384,)\n"
     ]
    }
   ],
   "source": [
    "print(numpy.mean(data, axis=0).shape)"
   ]
  },
  {
   "cell_type": "code",
   "execution_count": 40,
   "metadata": {
    "collapsed": false
   },
   "outputs": [
    {
     "data": {
      "image/png": "[encoded data removed]",
      "text/plain": [
       "<matplotlib.figure.Figure at 0x1159cf190>"
      ]
     },
     "metadata": {},
     "output_type": "display_data"
    }
   ],
   "source": [
    "import matplotlib.pyplot\n",
    "image = matplotlib.pyplot.imshow(data)\n",
    "matplotlib.pyplot.show()"
   ]
  },
  {
   "cell_type": "code",
   "execution_count": 39,
   "metadata": {
    "collapsed": true
   },
   "outputs": [],
   "source": [
    "%matplotlib inline"
   ]
  },
  {
   "cell_type": "code",
   "execution_count": 41,
   "metadata": {
    "collapsed": false
   },
   "outputs": [
    {
     "data": {
      "image/png": "[encoded data removed]",
      "text/plain": [
       "<matplotlib.figure.Figure at 0x115909d10>"
      ]
     },
     "metadata": {},
     "output_type": "display_data"
    }
   ],
   "source": [
    "line_plot = matplotlib.pyplot.plot(data[0,:])\n",
    "matplotlib.pyplot.show(line_plot)"
   ]
  },
  {
   "cell_type": "code",
   "execution_count": null,
   "metadata": {
    "collapsed": true
   },
   "outputs": [],
   "source": []
  }
 ],
 "metadata": {
  "kernelspec": {
   "display_name": "Python 2",
   "language": "python",
   "name": "python2"
  },
  "language_info": {
   "codemirror_mode": {
    "name": "ipython",
    "version": 2
   },
   "file_extension": ".py",
   "mimetype": "text/x-python",
   "name": "python",
   "nbconvert_exporter": "python",
   "pygments_lexer": "ipython2",
   "version": "2.7.11"
  }
 },
 "nbformat": 4,
 "nbformat_minor": 0
}
