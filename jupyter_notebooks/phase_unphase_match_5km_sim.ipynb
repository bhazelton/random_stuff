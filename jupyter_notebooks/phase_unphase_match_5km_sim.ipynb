{
 "cells": [
  {
   "cell_type": "code",
   "execution_count": 1,
   "metadata": {
    "collapsed": false,
    "jupyter": {
     "outputs_hidden": false
    }
   },
   "outputs": [],
   "source": [
    "import os\n",
    "import copy\n",
    "import numpy as np\n",
    "from astropy import constants as const\n",
    "from astropy.coordinates import SkyCoord, Angle, EarthLocation, Longitude, spherical_to_cartesian, cartesian_to_spherical\n",
    "from astropy.time import Time, TimeDelta\n",
    "from astropy import units\n",
    "from pyuvdata import UVData\n",
    "import pyuvdata.utils as uvutils\n",
    "from pyuvsim.data import DATA_PATH"
   ]
  },
  {
   "cell_type": "code",
   "execution_count": 2,
   "metadata": {
    "collapsed": false,
    "jupyter": {
     "outputs_hidden": false
    }
   },
   "outputs": [],
   "source": [
    "file1 = os.path.join(DATA_PATH, '5km_triangle_1time_1chan.uvfits')"
   ]
  },
  {
   "cell_type": "code",
   "execution_count": 3,
   "metadata": {
    "collapsed": false,
    "jupyter": {
     "outputs_hidden": false
    }
   },
   "outputs": [
    {
     "name": "stderr",
     "output_type": "stream",
     "text": [
      "antenna_diameters is not set. Using known values for HERA.\n"
     ]
    }
   ],
   "source": [
    "uvd_init = UVData()\n",
    "uvd_init.read_uvfits(file1)"
   ]
  },
  {
   "cell_type": "code",
   "execution_count": 4,
   "metadata": {
    "collapsed": true,
    "jupyter": {
     "outputs_hidden": true
    }
   },
   "outputs": [],
   "source": [
    "phase_frame = 'icrs'"
   ]
  },
  {
   "cell_type": "code",
   "execution_count": 5,
   "metadata": {
    "collapsed": false,
    "jupyter": {
     "outputs_hidden": false
    }
   },
   "outputs": [
    {
     "name": "stdout",
     "output_type": "stream",
     "text": [
      "float32\n",
      "float64\n",
      "float64\n"
     ]
    }
   ],
   "source": [
    "print(uvd_init.uvw_array.dtype)\n",
    "print(uvd_init.antenna_positions.dtype)\n",
    "# uvd_init.uvw_array = np.float64(uvd1.uvw_array)\n",
    "uvd_init.unphase_to_drift(phase_frame=phase_frame, use_ant_pos=True)\n",
    "print(uvd_init.uvw_array.dtype)"
   ]
  },
  {
   "cell_type": "code",
   "execution_count": 6,
   "metadata": {
    "collapsed": false,
    "jupyter": {
     "outputs_hidden": false
    }
   },
   "outputs": [
    {
     "name": "stdout",
     "output_type": "stream",
     "text": [
      "1.9629996689759532e-13\n"
     ]
    }
   ],
   "source": [
    "uvw_calc = np.zeros_like(uvd_init.uvw_array)\n",
    "ant_pos_ecef = uvd_init.antenna_positions + uvd_init.telescope_location\n",
    "ant_pos_enu = uvutils.ENU_from_ECEF(ant_pos_ecef.T, *uvd_init.telescope_location_lat_lon_alt).T\n",
    "for ind, bl in enumerate(uvd_init.baseline_array):\n",
    "    ant1 = uvd_init.ant_1_array[ind]\n",
    "    ant2 = uvd_init.ant_2_array[ind]\n",
    "    uvw_calc[ind, :] = ant_pos_enu[ant2] - ant_pos_enu[ant1]\n",
    "\n",
    "print(np.max(np.abs(uvd_init.uvw_array - uvw_calc)))"
   ]
  },
  {
   "cell_type": "code",
   "execution_count": 7,
   "metadata": {
    "collapsed": false,
    "jupyter": {
     "outputs_hidden": false
    }
   },
   "outputs": [
    {
     "name": "stdout",
     "output_type": "stream",
     "text": [
      "0.0\n"
     ]
    }
   ],
   "source": [
    "print(np.min(uvd_init.time_array) - np.max(uvd_init.time_array))"
   ]
  },
  {
   "cell_type": "code",
   "execution_count": 8,
   "metadata": {
    "collapsed": false,
    "jupyter": {
     "outputs_hidden": false
    }
   },
   "outputs": [
    {
     "name": "stdout",
     "output_type": "stream",
     "text": [
      "[[ 0.00000000e+00  0.00000000e+00  0.00000000e+00]\n",
      " [-5.00000000e+03  1.05728759e-10  1.77578841e-10]\n",
      " [-1.46446610e+03 -3.53553390e+03 -7.79891707e-11]\n",
      " [ 0.00000000e+00  0.00000000e+00  0.00000000e+00]\n",
      " [ 3.53553390e+03 -3.53553390e+03 -2.55568011e-10]\n",
      " [ 0.00000000e+00  0.00000000e+00  0.00000000e+00]]\n",
      "[[-3.02752942e-05  9.27291148e-06  2.04350268e-05]\n",
      " [-5.00000001e+03 -1.93840924e-05 -2.89360930e-05]\n",
      " [-1.46446609e+03 -3.53553391e+03 -1.55756218e-05]\n",
      " [-3.02752942e-05  9.27291148e-06  2.04350268e-05]\n",
      " [ 3.53553389e+03 -3.53553392e+03 -2.31132460e-05]\n",
      " [-3.02752942e-05  9.27291148e-06  2.04350268e-05]]\n",
      "\n",
      "[[ 3.02752942e-05 -9.27291148e-06 -2.04350268e-05]\n",
      " [ 6.43268231e-06  1.93841981e-05  2.89362706e-05]\n",
      " [-7.36061315e-06  8.70185886e-06  1.55755438e-05]\n",
      " [ 3.02752942e-05 -9.27291148e-06 -2.04350268e-05]\n",
      " [ 9.70413566e-06  1.68910688e-05  2.31129904e-05]\n",
      " [ 3.02752942e-05 -9.27291148e-06 -2.04350268e-05]]\n",
      "3.0275294180715294e-05\n",
      "\n",
      "('drift baseline number with max difference:', (array([0, 3, 5]), array([0, 0, 0])))\n",
      "('drift baseline vector with max difference:', array([[0., 0., 0.],\n",
      "       [0., 0., 0.],\n",
      "       [0., 0., 0.]]))\n",
      "('baseline length for max difference:', 0.0)\n"
     ]
    }
   ],
   "source": [
    "obs_time = Time(uvd_init.time_array[0], format='jd')\n",
    "uvd_phase = copy.deepcopy(uvd_init)\n",
    "uvd_phase.phase_to_time(obs_time, phase_frame=phase_frame)\n",
    "\n",
    "uvd_phase_unphase = copy.deepcopy(uvd_init)\n",
    "uvd_phase_unphase.phase_to_time(obs_time, phase_frame=phase_frame)\n",
    "uvd_phase_unphase.unphase_to_drift(phase_frame=phase_frame)\n",
    "\n",
    "print(uvd_init.uvw_array)\n",
    "print(uvd_phase_unphase.uvw_array)\n",
    "print('')\n",
    "print(uvd_init.uvw_array - uvd_phase_unphase.uvw_array)\n",
    "print(np.max(np.abs(uvd_init.uvw_array - uvd_phase_unphase.uvw_array)))\n",
    "\n",
    "print('')\n",
    "temp = uvd_init.uvw_array - uvd_phase_unphase.uvw_array\n",
    "wh_max = np.where(np.abs(temp) == np.max(np.abs(temp)))\n",
    "print('drift baseline number with max difference:', wh_max)\n",
    "print('drift baseline vector with max difference:', uvd_init.uvw_array[wh_max[0], :])\n",
    "print('baseline length for max difference:', np.linalg.norm(uvd_init.uvw_array[wh_max[0], :]))"
   ]
  },
  {
   "cell_type": "code",
   "execution_count": 9,
   "metadata": {
    "collapsed": false,
    "jupyter": {
     "outputs_hidden": false
    }
   },
   "outputs": [
    {
     "name": "stdout",
     "output_type": "stream",
     "text": [
      "[[ 0.00000000e+00  0.00000000e+00  0.00000000e+00]\n",
      " [-5.00000000e+03  1.05728759e-10  1.77578841e-10]\n",
      " [-1.46446610e+03 -3.53553390e+03 -7.79891707e-11]\n",
      " [ 0.00000000e+00  0.00000000e+00  0.00000000e+00]\n",
      " [ 3.53553390e+03 -3.53553390e+03 -2.55568011e-10]\n",
      " [ 0.00000000e+00  0.00000000e+00  0.00000000e+00]]\n",
      "[[-6.05418938e-05  1.04806346e-05  2.61079100e-05]\n",
      " [-5.00000001e+03 -1.93840924e-05 -2.89360930e-05]\n",
      " [-1.46446613e+03 -3.53553391e+03 -1.51872691e-05]\n",
      " [-6.05418938e-05  1.04806346e-05  2.61079100e-05]\n",
      " [ 3.53553389e+03 -3.53553392e+03 -2.21389057e-05]\n",
      " [-6.05418938e-05  1.04806346e-05  2.61079100e-05]]\n",
      "\n",
      "[[ 6.05418938e-05 -1.04806346e-05 -2.61079100e-05]\n",
      " [ 6.43268231e-06  1.93841981e-05  2.89362706e-05]\n",
      " [ 2.51917472e-05  1.28521865e-05  1.51871911e-05]\n",
      " [ 6.05418938e-05 -1.04806346e-05 -2.61079100e-05]\n",
      " [ 9.70686006e-06  1.85307758e-05  2.21386501e-05]\n",
      " [ 6.05418938e-05 -1.04806346e-05 -2.61079100e-05]]\n",
      "6.0541893808199344e-05\n",
      "\n",
      "('drift baseline number with max difference:', (array([0, 3, 5]), array([0, 0, 0])))\n",
      "('drift baseline vector with max difference:', array([[0., 0., 0.],\n",
      "       [0., 0., 0.],\n",
      "       [0., 0., 0.]]))\n",
      "('baseline length for max difference:', 0.0)\n"
     ]
    }
   ],
   "source": [
    "uvd_phase2 = copy.deepcopy(uvd_phase_unphase)\n",
    "uvd_phase2.phase_to_time(obs_time, phase_frame=phase_frame)\n",
    "\n",
    "uvd_phase_unphase2 = copy.deepcopy(uvd_phase_unphase)\n",
    "uvd_phase_unphase2.phase_to_time(obs_time, phase_frame=phase_frame)\n",
    "uvd_phase_unphase2.unphase_to_drift(phase_frame=phase_frame)\n",
    "\n",
    "print(uvd_init.uvw_array)\n",
    "print(uvd_phase_unphase2.uvw_array)\n",
    "print('')\n",
    "print(uvd_init.uvw_array - uvd_phase_unphase2.uvw_array)\n",
    "print(np.max(np.abs(uvd_init.uvw_array - uvd_phase_unphase2.uvw_array)))\n",
    "\n",
    "print('')\n",
    "temp = uvd_init.uvw_array - uvd_phase_unphase2.uvw_array\n",
    "wh_max = np.where(np.abs(temp) == np.max(np.abs(temp)))\n",
    "print('drift baseline number with max difference:', wh_max)\n",
    "print('drift baseline vector with max difference:', uvd_init.uvw_array[wh_max[0], :])\n",
    "print('baseline length for max difference:', np.linalg.norm(uvd_init.uvw_array[wh_max[0], :]))"
   ]
  },
  {
   "cell_type": "code",
   "execution_count": 10,
   "metadata": {
    "collapsed": false,
    "jupyter": {
     "outputs_hidden": false
    }
   },
   "outputs": [],
   "source": [
    "zenith_coord = SkyCoord(alt=Angle(90 * units.deg), az=Angle(0 * units.deg),\n",
    "                        obstime=obs_time, frame='altaz',\n",
    "                        location=EarthLocation.from_geocentric(uvd_init.telescope_location[0],\n",
    "                                                               uvd_init.telescope_location[1],\n",
    "                                                               uvd_init.telescope_location[2],\n",
    "                                                               unit='m'))\n",
    "frame_phase_center = zenith_coord.transform_to(phase_frame)"
   ]
  },
  {
   "cell_type": "code",
   "execution_count": 11,
   "metadata": {
    "collapsed": false,
    "jupyter": {
     "outputs_hidden": false
    }
   },
   "outputs": [],
   "source": [
    "itrs_telescope_location = SkyCoord(x=uvd_init.telescope_location[0] * units.m,\n",
    "                                   y=uvd_init.telescope_location[1] * units.m,\n",
    "                                   z=uvd_init.telescope_location[2] * units.m,\n",
    "                                   representation='cartesian',\n",
    "                                   frame='itrs', obstime=obs_time)\n",
    "itrs_lat_lon_alt = uvd_init.telescope_location_lat_lon_alt\n",
    "\n",
    "frame_telescope_location = itrs_telescope_location.transform_to(phase_frame)"
   ]
  },
  {
   "cell_type": "code",
   "execution_count": 12,
   "metadata": {
    "collapsed": false,
    "jupyter": {
     "outputs_hidden": false
    }
   },
   "outputs": [],
   "source": [
    "uvw_ecef = uvutils.ECEF_from_ENU(uvd_init.uvw_array.T, *itrs_lat_lon_alt).T\n",
    "itrs_uvw_coord = SkyCoord(x=uvw_ecef[:, 0] * units.m,\n",
    "                          y=uvw_ecef[:, 1] * units.m,\n",
    "                          z=uvw_ecef[:, 2] * units.m,\n",
    "                          representation='cartesian',\n",
    "                          frame='itrs', obstime=obs_time)"
   ]
  },
  {
   "cell_type": "code",
   "execution_count": 13,
   "metadata": {
    "collapsed": false,
    "jupyter": {
     "outputs_hidden": false
    }
   },
   "outputs": [],
   "source": [
    "frame_uvw_coord = itrs_uvw_coord.transform_to(phase_frame)\n",
    "rt_itrs_uvw_coord = frame_uvw_coord.transform_to('itrs')"
   ]
  },
  {
   "cell_type": "code",
   "execution_count": 14,
   "metadata": {
    "collapsed": false,
    "jupyter": {
     "outputs_hidden": false
    }
   },
   "outputs": [
    {
     "name": "stdout",
     "output_type": "stream",
     "text": [
      "[( 3.18232924e-05, -2.00339127e-05, -2.46800482e-06),\n",
      " (-3.00239772e-05, -1.86937395e-05, -1.88127160e-06),\n",
      " (-1.92914158e-05,  3.35974619e-07,  4.76371497e-07),\n",
      " ( 3.18232924e-05, -2.00339127e-05, -2.46800482e-06),\n",
      " (-2.29831785e-05, -1.94448512e-05, -2.71294266e-06),\n",
      " ( 3.18232924e-05, -2.00339127e-05, -2.46800482e-06)] m\n",
      "3.18232923746109e-05\n",
      "\n",
      "('drift baseline number with max difference:', (array([0, 0, 0]), array([0, 3, 5])))\n",
      "('drift baseline vector with max difference:', array([[0., 0., 0.],\n",
      "       [0., 0., 0.],\n",
      "       [0., 0., 0.]]))\n",
      "('baseline length for max difference:', 0.0)\n"
     ]
    }
   ],
   "source": [
    "print(rt_itrs_uvw_coord.cartesian - itrs_uvw_coord.cartesian)\n",
    "print(np.max(np.abs(rt_itrs_uvw_coord.cartesian.get_xyz().value - itrs_uvw_coord.cartesian.get_xyz().value)))\n",
    "\n",
    "print('')\n",
    "temp = rt_itrs_uvw_coord.cartesian.get_xyz().value - itrs_uvw_coord.cartesian.get_xyz().value\n",
    "wh_max = np.where(np.abs(temp) == np.max(np.abs(temp)))\n",
    "print('drift baseline number with max difference:', wh_max)\n",
    "print('drift baseline vector with max difference:', uvd_init.uvw_array[wh_max[0], :])\n",
    "print('baseline length for max difference:', np.linalg.norm(uvd_init.uvw_array[wh_max[0], :]))"
   ]
  },
  {
   "cell_type": "code",
   "execution_count": 15,
   "metadata": {
    "collapsed": true,
    "jupyter": {
     "outputs_hidden": true
    }
   },
   "outputs": [],
   "source": [
    "frame_rel_uvw = (frame_uvw_coord.cartesian.get_xyz().value.T\n",
    "                 - frame_telescope_location.cartesian.get_xyz().value)"
   ]
  },
  {
   "cell_type": "code",
   "execution_count": 16,
   "metadata": {
    "collapsed": false,
    "jupyter": {
     "outputs_hidden": false
    }
   },
   "outputs": [],
   "source": [
    "phased_uvws = uvutils.phase_uvw(frame_phase_center.ra.rad, frame_phase_center.dec.rad, frame_rel_uvw)"
   ]
  },
  {
   "cell_type": "code",
   "execution_count": 17,
   "metadata": {
    "collapsed": false,
    "jupyter": {
     "outputs_hidden": false
    }
   },
   "outputs": [
    {
     "name": "stdout",
     "output_type": "stream",
     "text": [
      "[[0. 0. 0.]\n",
      " [0. 0. 0.]\n",
      " [0. 0. 0.]\n",
      " [0. 0. 0.]\n",
      " [0. 0. 0.]\n",
      " [0. 0. 0.]]\n",
      "0.0\n"
     ]
    }
   ],
   "source": [
    "print(uvd_phase.uvw_array - phased_uvws)\n",
    "print(np.max(np.abs(uvd_phase.uvw_array - phased_uvws)))"
   ]
  },
  {
   "cell_type": "code",
   "execution_count": 18,
   "metadata": {
    "collapsed": false,
    "jupyter": {
     "outputs_hidden": false
    }
   },
   "outputs": [
    {
     "name": "stdout",
     "output_type": "stream",
     "text": [
      "[[0.00000000e+00 0.00000000e+00 0.00000000e+00]\n",
      " [0.00000000e+00 1.95399252e-13 1.78523862e-13]\n",
      " [2.27373675e-13 0.00000000e+00 0.00000000e+00]\n",
      " [0.00000000e+00 0.00000000e+00 0.00000000e+00]\n",
      " [0.00000000e+00 0.00000000e+00 0.00000000e+00]\n",
      " [0.00000000e+00 0.00000000e+00 0.00000000e+00]]\n",
      "2.2737367544323206e-13\n"
     ]
    }
   ],
   "source": [
    "uvw_rel_positions = uvutils.unphase_uvw(frame_phase_center.ra.rad,\n",
    "                                        frame_phase_center.dec.rad,\n",
    "                                        phased_uvws)\n",
    "rephase_uvws = uvutils.phase_uvw(frame_phase_center.ra.rad, frame_phase_center.dec.rad,\n",
    "                                 uvw_rel_positions)\n",
    "print(rephase_uvws - phased_uvws)\n",
    "print(np.max(np.abs(rephase_uvws - phased_uvws)))"
   ]
  },
  {
   "cell_type": "code",
   "execution_count": 19,
   "metadata": {
    "collapsed": false,
    "jupyter": {
     "outputs_hidden": false
    }
   },
   "outputs": [
    {
     "name": "stdout",
     "output_type": "stream",
     "text": [
      "[(0., 0., 0.), (0., 0., 0.), (0., 0., 0.), (0., 0., 0.), (0., 0., 0.),\n",
      " (0., 0., 0.)] m\n",
      "0.0\n"
     ]
    }
   ],
   "source": [
    "frame_telescope_location.representation = 'cartesian'\n",
    "new_frame_uvw_coord = SkyCoord(x=uvw_rel_positions[:, 0] * units.m + frame_telescope_location.x,\n",
    "                               y=uvw_rel_positions[:, 1] * units.m + frame_telescope_location.y,\n",
    "                               z=uvw_rel_positions[:, 2] * units.m + frame_telescope_location.z,\n",
    "                               representation='cartesian',\n",
    "                               frame=phase_frame, obstime=obs_time)\n",
    "print(new_frame_uvw_coord.cartesian - frame_uvw_coord.cartesian)\n",
    "print(np.max(np.abs(new_frame_uvw_coord.cartesian.get_xyz().value - frame_uvw_coord.cartesian.get_xyz().value)))"
   ]
  },
  {
   "cell_type": "code",
   "execution_count": 20,
   "metadata": {
    "collapsed": false,
    "jupyter": {
     "outputs_hidden": false
    }
   },
   "outputs": [
    {
     "name": "stdout",
     "output_type": "stream",
     "text": [
      "[( 3.18232924e-05, -2.00339127e-05, -2.46800482e-06),\n",
      " (-3.00239772e-05, -1.86937395e-05, -1.88127160e-06),\n",
      " (-1.92914158e-05,  3.35974619e-07,  4.76371497e-07),\n",
      " ( 3.18232924e-05, -2.00339127e-05, -2.46800482e-06),\n",
      " (-2.29831785e-05, -1.94448512e-05, -2.71294266e-06),\n",
      " ( 3.18232924e-05, -2.00339127e-05, -2.46800482e-06)] m\n",
      "3.18232923746109e-05\n",
      "\n",
      "('drift baseline number with max difference:', (array([0, 0, 0]), array([0, 3, 5])))\n",
      "('drift baseline vector with max difference:', array([[0., 0., 0.],\n",
      "       [0., 0., 0.],\n",
      "       [0., 0., 0.]]))\n",
      "('baseline length for max difference:', 0.0)\n"
     ]
    }
   ],
   "source": [
    "new_itrs_uvw_coord = frame_uvw_coord.transform_to('itrs')\n",
    "print(new_itrs_uvw_coord.cartesian - itrs_uvw_coord.cartesian)\n",
    "print(np.max(np.abs(new_itrs_uvw_coord.cartesian.get_xyz().value - itrs_uvw_coord.cartesian.get_xyz().value)))\n",
    "\n",
    "print('')\n",
    "temp = new_itrs_uvw_coord.cartesian.get_xyz().value - itrs_uvw_coord.cartesian.get_xyz().value\n",
    "wh_max = np.where(np.abs(temp) == np.max(np.abs(temp)))\n",
    "print('drift baseline number with max difference:', wh_max)\n",
    "print('drift baseline vector with max difference:', uvd_init.uvw_array[wh_max[0], :])\n",
    "print('baseline length for max difference:', np.linalg.norm(uvd_init.uvw_array[wh_max[0], :]))"
   ]
  },
  {
   "cell_type": "code",
   "execution_count": 21,
   "metadata": {
    "collapsed": false,
    "jupyter": {
     "outputs_hidden": false
    }
   },
   "outputs": [
    {
     "name": "stdout",
     "output_type": "stream",
     "text": [
      "[[ 3.02752942e-05 -9.27291148e-06 -2.04350268e-05]\n",
      " [ 6.43268231e-06  1.93841981e-05  2.89362706e-05]\n",
      " [-7.36061315e-06  8.70185886e-06  1.55755438e-05]\n",
      " [ 3.02752942e-05 -9.27291148e-06 -2.04350268e-05]\n",
      " [ 9.70413566e-06  1.68910688e-05  2.31129904e-05]\n",
      " [ 3.02752942e-05 -9.27291148e-06 -2.04350268e-05]]\n",
      "3.0275294180715294e-05\n",
      "\n",
      "('drift baseline number with max difference:', (array([0, 3, 5]), array([0, 0, 0])))\n",
      "('drift baseline vector with max difference:', array([[0., 0., 0.],\n",
      "       [0., 0., 0.],\n",
      "       [0., 0., 0.]]))\n",
      "('baseline length for max difference:', 0.0)\n"
     ]
    }
   ],
   "source": [
    "drift_uvws = uvutils.ENU_from_ECEF(new_itrs_uvw_coord.cartesian.get_xyz().value,\n",
    "                                   *itrs_lat_lon_alt).T\n",
    "print(uvd_init.uvw_array - drift_uvws)\n",
    "print(np.max(np.abs(uvd_init.uvw_array - drift_uvws)))\n",
    "\n",
    "print('')\n",
    "temp = uvd_init.uvw_array - drift_uvws\n",
    "wh_max = np.where(np.abs(temp) == np.max(np.abs(temp)))\n",
    "print('drift baseline number with max difference:', wh_max)\n",
    "print('drift baseline vector with max difference:', uvd_init.uvw_array[wh_max[0], :])\n",
    "print('baseline length for max difference:', np.linalg.norm(uvd_init.uvw_array[wh_max[0], :]))"
   ]
  },
  {
   "cell_type": "code",
   "execution_count": null,
   "metadata": {
    "collapsed": true,
    "jupyter": {
     "outputs_hidden": true
    }
   },
   "outputs": [],
   "source": []
  }
 ],
 "metadata": {
  "kernelspec": {
   "display_name": "Python 3",
   "language": "python",
   "name": "python3"
  },
  "language_info": {
   "codemirror_mode": {
    "name": "ipython",
    "version": 3
   },
   "file_extension": ".py",
   "mimetype": "text/x-python",
   "name": "python",
   "nbconvert_exporter": "python",
   "pygments_lexer": "ipython3",
   "version": "3.8.2"
  }
 },
 "nbformat": 4,
 "nbformat_minor": 4
}
