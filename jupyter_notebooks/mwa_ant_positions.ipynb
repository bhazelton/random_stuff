{
 "cells": [
  {
   "cell_type": "code",
   "execution_count": 1,
   "id": "5376496d-62c2-44fb-8f86-bd7b114ed666",
   "metadata": {},
   "outputs": [],
   "source": [
    "import os\n",
    "\n",
    "import numpy as np\n",
    "import pandas as pd\n",
    "from astropy.coordinates import EarthLocation\n",
    "\n",
    "import pyuvdata.utils as uvutils\n",
    "\n",
    "mwa_site = EarthLocation.of_site(\"mwa\")\n",
    "mwa_site_ecef = np.array([mwa_site.x.value, mwa_site.y.value, mwa_site.z.value])"
   ]
  },
  {
   "cell_type": "code",
   "execution_count": 2,
   "id": "599b0663-df44-48fb-90f6-124a963eb224",
   "metadata": {},
   "outputs": [],
   "source": [
    "phase1_enu_file = \"mwa_phase1_antpos_enu.csv\"\n",
    "phase2_enu_file = \"mwa_phase2_antpos_enu.csv\""
   ]
  },
  {
   "cell_type": "code",
   "execution_count": 3,
   "id": "f7767e00-bb1b-4934-a666-d77f8fbca486",
   "metadata": {},
   "outputs": [],
   "source": [
    "dtype_phase1 = np.dtype([(\"antenna_number\",int),(\"height\", float), (\"east\", float), (\"north\", float)])\n",
    "phase1_arr = np.genfromtxt(phase1_enu_file, delimiter=\",\", skip_header=1, dtype=dtype_phase1)"
   ]
  },
  {
   "cell_type": "code",
   "execution_count": 4,
   "id": "56f7e58b-1acc-4a93-8d9a-a6776f15a142",
   "metadata": {},
   "outputs": [],
   "source": [
    "antnums_phase1 = phase1_arr[\"antenna_number\"]\n",
    "antnames_phase1 = np.array([f\"Tile{antname:03d}\" for antname in antnums_phase1])"
   ]
  },
  {
   "cell_type": "code",
   "execution_count": 5,
   "id": "1e37b3c7-8659-4fd7-9a7f-6d8836a323c4",
   "metadata": {},
   "outputs": [],
   "source": [
    "enu_phase1 = np.stack((phase1_arr[\"east\"], phase1_arr[\"north\"], phase1_arr[\"height\"]), axis=1)"
   ]
  },
  {
   "cell_type": "code",
   "execution_count": 6,
   "id": "cb4c5ec6-4fb9-4aa9-a765-f96b94247d0c",
   "metadata": {},
   "outputs": [],
   "source": [
    "dtype_phase2 = np.dtype([(\"antenna_name\",np.unicode_, 16),(\"height\", float), (\"east\", float), (\"north\", float)])\n",
    "phase2_arr = np.genfromtxt(phase2_enu_file, delimiter=\",\", skip_header=1, dtype=dtype_phase2)"
   ]
  },
  {
   "cell_type": "code",
   "execution_count": 7,
   "id": "1701ee2b-4e19-4f13-aa6e-604b7afcccdb",
   "metadata": {},
   "outputs": [],
   "source": [
    "antnames_phase2 = np.array([antname.strip() for antname in phase2_arr[\"antenna_name\"]])\n",
    "antnums_phase2 = np.concatenate((2000 + np.arange(1,57), 1000 + np.arange(1,73)))"
   ]
  },
  {
   "cell_type": "code",
   "execution_count": 8,
   "id": "27fe31e3-5606-4b29-9d59-bae27b511130",
   "metadata": {},
   "outputs": [
    {
     "data": {
      "text/plain": [
       "array(['LBA1', 'LBA2', 'LBA3', 'LBA4', 'LBA5', 'LBA6', 'LBA7', 'LBA8',\n",
       "       'LBB1', 'LBB2', 'LBB3', 'LBB4', 'LBB5', 'LBB6', 'LBB7', 'LBB8',\n",
       "       'LBC1', 'LBC2', 'LBC3', 'LBC4', 'LBC5', 'LBC6', 'LBC7', 'LBC8',\n",
       "       'LBD1', 'LBD2', 'LBD3', 'LBD4', 'LBD5', 'LBD6', 'LBD7', 'LBD8',\n",
       "       'LBE1', 'LBE2', 'LBE3', 'LBE4', 'LBE5', 'LBE6', 'LBE7', 'LBE8',\n",
       "       'LBF1', 'LBF2', 'LBF3', 'LBF4', 'LBF5', 'LBF6', 'LBF7', 'LBF8',\n",
       "       'LBG1', 'LBG2', 'LBG3', 'LBG4', 'LBG5', 'LBG6', 'LBG7', 'LBG8',\n",
       "       'HexE01', 'HexE02', 'HexE03', 'HexE04', 'HexE05', 'HexE06',\n",
       "       'HexE07', 'HexE08', 'HexE09', 'HexE10', 'HexE11', 'HexE12',\n",
       "       'HexE13', 'HexE14', 'HexE15', 'HexE16', 'HexE17', 'HexE18',\n",
       "       'HexE19', 'HexE20', 'HexE21', 'HexE22', 'HexE23', 'HexE24',\n",
       "       'HexE25', 'HexE26', 'HexE27', 'HexE28', 'HexE29', 'HexE30',\n",
       "       'HexE31', 'HexE32', 'HexE33', 'HexE34', 'HexE35', 'HexE36',\n",
       "       'HexS01', 'HexS02', 'HexS03', 'HexS04', 'HexS05', 'HexS06',\n",
       "       'HexS07', 'HexS08', 'HexS09', 'HexS10', 'HexS11', 'HexS12',\n",
       "       'HexS13', 'HexS14', 'HexS15', 'HexS16', 'HexS17', 'HexS18',\n",
       "       'HexS19', 'HexS20', 'HexS21', 'HexS22', 'HexS23', 'HexS24',\n",
       "       'HexS25', 'HexS26', 'HexS27', 'HexS28', 'HexS29', 'HexS30',\n",
       "       'HexS31', 'HexS32', 'HexS33', 'HexS34', 'HexS35', 'HexS36'],\n",
       "      dtype='<U6')"
      ]
     },
     "execution_count": 8,
     "metadata": {},
     "output_type": "execute_result"
    }
   ],
   "source": [
    "antnames_phase2"
   ]
  },
  {
   "cell_type": "code",
   "execution_count": 9,
   "id": "0fe29859-adca-4e9d-9498-a2f675869504",
   "metadata": {},
   "outputs": [],
   "source": [
    "enu_phase2 = np.stack((phase2_arr[\"east\"], phase2_arr[\"north\"], phase2_arr[\"height\"]), axis=1)"
   ]
  },
  {
   "cell_type": "code",
   "execution_count": 10,
   "id": "8e5776e4-ef45-4914-80d3-37f33ba873bc",
   "metadata": {},
   "outputs": [],
   "source": [
    "antnames_special = np.array([\"AAVS0.5\", \"BIGHORNS\", \"EDA1\", \"RFI_monitor\", \"CRAM\", \"EDA2\"])\n",
    "antnums_special = np.array([79, 59, 99, 999, 1099, 2999])\n",
    "assert antnames_special.size == antnums_special.size\n",
    "enu_special = np.zeros((antnums_special.size, 3), dtype=float)"
   ]
  },
  {
   "cell_type": "code",
   "execution_count": 11,
   "id": "204166a8-58e9-4b45-97cd-f6c0c1f1298d",
   "metadata": {},
   "outputs": [],
   "source": [
    "antnums_full = np.concatenate((antnums_phase1, antnums_phase2, antnums_special))\n",
    "antnames_full = np.concatenate((antnames_phase1, antnames_phase2, antnames_special))"
   ]
  },
  {
   "cell_type": "code",
   "execution_count": 12,
   "id": "194b5844-24cd-452e-a105-336a42ac9362",
   "metadata": {},
   "outputs": [],
   "source": [
    "enu_full = np.concatenate((enu_phase1, enu_phase2, enu_special), axis=0)"
   ]
  },
  {
   "cell_type": "code",
   "execution_count": 13,
   "id": "fdbe030a-9e1c-4eba-95fd-86ed4e52194d",
   "metadata": {},
   "outputs": [],
   "source": [
    "rel_ecef_full = uvutils.ECEF_from_ENU(\n",
    "    enu_full,\n",
    "    latitude = mwa_site.geodetic.lat.rad,\n",
    "    longitude=mwa_site.geodetic.lon.rad,\n",
    "    altitude=mwa_site.geodetic.height\n",
    ") - mwa_site_ecef"
   ]
  },
  {
   "cell_type": "code",
   "execution_count": 14,
   "id": "027d4ac3-3cf6-423e-8e51-44a9519373c7",
   "metadata": {},
   "outputs": [
    {
     "data": {
      "text/plain": [
       "(262, 3)"
      ]
     },
     "execution_count": 14,
     "metadata": {},
     "output_type": "execute_result"
    }
   ],
   "source": [
    "rel_ecef_full.shape"
   ]
  },
  {
   "cell_type": "code",
   "execution_count": 15,
   "id": "93ac9d69-1da3-4dd2-878a-e1b05bf97cd3",
   "metadata": {},
   "outputs": [],
   "source": [
    "ant_pos_df = pd.DataFrame(columns = [\"names\", \"numbers\", \"x\", \"y\", \"z\"])\n",
    "ant_pos_df[\"names\"] = antnames_full\n",
    "ant_pos_df[\"numbers\"] = antnums_full\n",
    "ant_pos_df[\"x\"] = rel_ecef_full[:,0]\n",
    "ant_pos_df[\"y\"] = rel_ecef_full[:,1]\n",
    "ant_pos_df[\"z\"] = rel_ecef_full[:,2]"
   ]
  },
  {
   "cell_type": "code",
   "execution_count": 16,
   "id": "6dfa84f1-12f3-49df-bc60-fb27258657c7",
   "metadata": {},
   "outputs": [],
   "source": [
    "ant_pos_df = ant_pos_df.sort_values(\"numbers\")"
   ]
  },
  {
   "cell_type": "code",
   "execution_count": 17,
   "id": "bf9de0d8-e603-4711-b695-dbb65216123e",
   "metadata": {},
   "outputs": [],
   "source": [
    "ant_pos_df.to_csv(\"mwa_ant_pos.csv\", index=False)"
   ]
  },
  {
   "cell_type": "code",
   "execution_count": null,
   "id": "40af855e-adfd-4e51-8157-bd614802c229",
   "metadata": {},
   "outputs": [],
   "source": []
  }
 ],
 "metadata": {
  "kernelspec": {
   "display_name": "Python 3 (ipykernel)",
   "language": "python",
   "name": "python3"
  },
  "language_info": {
   "codemirror_mode": {
    "name": "ipython",
    "version": 3
   },
   "file_extension": ".py",
   "mimetype": "text/x-python",
   "name": "python",
   "nbconvert_exporter": "python",
   "pygments_lexer": "ipython3",
   "version": "3.11.5"
  }
 },
 "nbformat": 4,
 "nbformat_minor": 5
}
