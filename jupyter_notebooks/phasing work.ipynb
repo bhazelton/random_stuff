{
 "cells": [
  {
   "cell_type": "code",
   "execution_count": 1,
   "metadata": {
    "collapsed": false
   },
   "outputs": [
    {
     "name": "stdout",
     "output_type": "stream",
     "text": [
      "-30:38:10.2\n",
      "-30:38:05.3\n"
     ]
    }
   ],
   "source": [
    "import ephem\n",
    "\n",
    "precess_pos = ephem.FixedBody()\n",
    "precess_pos._ra = '10:35:57.83'\n",
    "precess_pos._dec = -0.536191810965\n",
    "precess_pos._epoch = '2016/6/8 16:00:23'\n",
    "\n",
    "precess_pos.compute(epoch=ephem.J2000)\n",
    "print precess_pos.a_dec\n",
    "\n",
    "del(precess_pos)\n",
    "\n",
    "#now increase ra and epoch by 10 minutes\n",
    "precess_pos = ephem.FixedBody()\n",
    "precess_pos._ra = '10:45:57.83'\n",
    "precess_pos._dec = -0.536191810965\n",
    "precess_pos._epoch = '2016/6/8 16:10:23'\n",
    "\n",
    "precess_pos.compute(epoch=ephem.J2000)\n",
    "print precess_pos.a_dec\n"
   ]
  },
  {
   "cell_type": "code",
   "execution_count": 12,
   "metadata": {
    "collapsed": false,
    "scrolled": true
   },
   "outputs": [
    {
     "name": "stdout",
     "output_type": "stream",
     "text": [
      "10h35m57.83s -30d43m17.5s\n",
      "10h45m57.83s -30d43m17.5s\n",
      "  \n",
      "10h35m11.9819s -30d38m10.1998s\n",
      "10h45m11.4474s -30d38m05.3207s\n"
     ]
    }
   ],
   "source": [
    "import astropy.units as u\n",
    "from astropy.coordinates import SkyCoord, FK5, Angle\n",
    "fk5c_1 = SkyCoord('10h35m57.83s', Angle(-0.536191810965, unit='radian'), frame=FK5, equinox='2016-6-8T16:00:23')\n",
    "fk5_2000 = FK5(equinox='J2000')\n",
    "precess_pos1 = fk5c_1.transform_to(fk5_2000)\n",
    "\n",
    "fk5c_2 = SkyCoord('10h45m57.83s', Angle(-0.536191810965, unit='radian'), frame=FK5, equinox='2016-6-8T16:10:23')\n",
    "precess_pos2 = fk5c_2.transform_to(fk5_2000)\n",
    "\n",
    "print fk5c_1.ra.to_string(unit='hourangle', sep='hms'), fk5c_1.dec\n",
    "print fk5c_2.ra.to_string(unit='hourangle', sep='hms'), fk5c_2.dec\n",
    "print '  '\n",
    "print precess_pos1.ra.to_string(unit='hourangle', sep='hms'), precess_pos1.dec\n",
    "print precess_pos2.ra.to_string(unit='hourangle', sep='hms'), precess_pos2.dec\n"
   ]
  },
  {
   "cell_type": "code",
   "execution_count": null,
   "metadata": {
    "collapsed": true
   },
   "outputs": [],
   "source": []
  }
 ],
 "metadata": {
  "kernelspec": {
   "display_name": "Python 2",
   "language": "python",
   "name": "python2"
  },
  "language_info": {
   "codemirror_mode": {
    "name": "ipython",
    "version": 2
   },
   "file_extension": ".py",
   "mimetype": "text/x-python",
   "name": "python",
   "nbconvert_exporter": "python",
   "pygments_lexer": "ipython2",
   "version": "2.7.11"
  }
 },
 "nbformat": 4,
 "nbformat_minor": 0
}
