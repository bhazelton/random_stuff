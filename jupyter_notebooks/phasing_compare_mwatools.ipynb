{
 "cells": [
  {
   "cell_type": "code",
   "execution_count": 1,
   "metadata": {
    "collapsed": false
   },
   "outputs": [],
   "source": [
    "import numpy as np\n",
    "from astropy import constants as const\n",
    "from astropy.coordinates import SkyCoord, Angle, EarthLocation, Longitude, spherical_to_cartesian, cartesian_to_spherical\n",
    "from astropy.time import Time, TimeDelta\n",
    "from astropy import units"
   ]
  },
  {
   "cell_type": "code",
   "execution_count": 2,
   "metadata": {
    "collapsed": false
   },
   "outputs": [],
   "source": [
    "ra_hrs = 12.1\n",
    "dec_degs = -42.3\n",
    "mjd = 55780.1\n",
    "latitude = Angle('-26d42m11.94986s')\n",
    "longitude = Angle('116d40m14.93485s')"
   ]
  },
  {
   "cell_type": "code",
   "execution_count": 3,
   "metadata": {
    "collapsed": false
   },
   "outputs": [
    {
     "name": "stdout",
     "output_type": "stream",
     "text": [
      "-0.466060844839\n",
      "2.03628986686\n"
     ]
    }
   ],
   "source": [
    "print(latitude.rad)\n",
    "print(longitude.rad)"
   ]
  },
  {
   "cell_type": "code",
   "execution_count": 4,
   "metadata": {
    "collapsed": false
   },
   "outputs": [
    {
     "name": "stdout",
     "output_type": "stream",
     "text": [
      "1.88387679923\n",
      "1.88395723805\n"
     ]
    }
   ],
   "source": [
    "obs_time = Time(mjd, format='mjd', location = (longitude, latitude))\n",
    "lst_mean = obs_time.sidereal_time('mean')\n",
    "lst_apparent = obs_time.sidereal_time('apparent')\n",
    "print(lst_mean.rad)\n",
    "print(lst_apparent.rad)"
   ]
  },
  {
   "cell_type": "code",
   "execution_count": 5,
   "metadata": {
    "collapsed": false
   },
   "outputs": [
    {
     "data": {
      "text/latex": [
       "$-0^\\circ00{}^\\prime16.5917{}^{\\prime\\prime}$"
      ],
      "text/plain": [
       "<Angle -0.0046088 deg>"
      ]
     },
     "execution_count": 5,
     "metadata": {},
     "output_type": "execute_result"
    }
   ],
   "source": [
    "(lst_mean - lst_apparent).to('deg')"
   ]
  },
  {
   "cell_type": "code",
   "execution_count": 6,
   "metadata": {
    "collapsed": false
   },
   "outputs": [],
   "source": [
    "mwa_tools_lst_mean = np.float64(1.8838984)"
   ]
  },
  {
   "cell_type": "code",
   "execution_count": 7,
   "metadata": {
    "collapsed": false
   },
   "outputs": [
    {
     "name": "stdout",
     "output_type": "stream",
     "text": [
      "-0d00m04.4555s\n",
      "0d00m12.1362s\n"
     ]
    }
   ],
   "source": [
    "print(Angle(lst_mean.rad - mwa_tools_lst_mean, unit='rad').to('deg'))\n",
    "print(Angle(lst_apparent.rad - mwa_tools_lst_mean, unit='rad').to('deg'))"
   ]
  },
  {
   "cell_type": "code",
   "execution_count": 8,
   "metadata": {
    "collapsed": false
   },
   "outputs": [
    {
     "name": "stdout",
     "output_type": "stream",
     "text": [
      "-0d00m04.4555s\n",
      "0d00m12.1362s\n"
     ]
    }
   ],
   "source": [
    "print((lst_mean - Angle(mwa_tools_lst_mean, unit='rad')).to('deg'))\n",
    "print((lst_apparent - Angle(mwa_tools_lst_mean, unit='rad')).to('deg'))"
   ]
  },
  {
   "cell_type": "code",
   "execution_count": 9,
   "metadata": {
    "collapsed": false
   },
   "outputs": [
    {
     "name": "stdout",
     "output_type": "stream",
     "text": [
      "1.88389890112\n"
     ]
    },
    {
     "data": {
      "text/latex": [
       "$0^\\circ00{}^\\prime00.1034{}^{\\prime\\prime}$"
      ],
      "text/plain": [
       "<Angle 2.87119341e-05 deg>"
      ]
     },
     "execution_count": 9,
     "metadata": {},
     "output_type": "execute_result"
    }
   ],
   "source": [
    "new_time = obs_time + TimeDelta('-0.8' * units.s)\n",
    "print(new_time.sidereal_time('apparent').rad)\n",
    "(new_time.sidereal_time('apparent') - Angle(mwa_tools_lst_mean, unit='rad')).to('deg')\n",
    "# so to get an apparent LST that matches mwa_tools mean LST, need to add ~ -0.8s"
   ]
  },
  {
   "cell_type": "markdown",
   "metadata": {},
   "source": [
    "# -> mean LST disagrees by ~4.5 arcseconds (should we use apparent??)"
   ]
  },
  {
   "cell_type": "code",
   "execution_count": 10,
   "metadata": {
    "collapsed": false
   },
   "outputs": [
    {
     "data": {
      "text/plain": [
       "<SkyCoord (ICRS): (ra, dec) in deg\n",
       "    (181.5, -42.3)>"
      ]
     },
     "execution_count": 10,
     "metadata": {},
     "output_type": "execute_result"
    }
   ],
   "source": [
    "icrs_coord = SkyCoord(ra=Angle(ra_hrs, unit='hr'), dec=Angle(dec_degs, unit='deg'),\n",
    "                      obstime=obs_time)\n",
    "icrs_coord"
   ]
  },
  {
   "cell_type": "code",
   "execution_count": 11,
   "metadata": {
    "collapsed": false
   },
   "outputs": [
    {
     "data": {
      "text/plain": [
       "(3.1677725923697078, -0.7382742735936013)"
      ]
     },
     "execution_count": 11,
     "metadata": {},
     "output_type": "execute_result"
    }
   ],
   "source": [
    "icrs_coord.ra.rad, icrs_coord.dec.rad"
   ]
  },
  {
   "cell_type": "code",
   "execution_count": 12,
   "metadata": {
    "collapsed": false
   },
   "outputs": [
    {
     "data": {
      "text/plain": [
       "<SkyCoord (GCRS: obstime=55780.1, obsgeoloc=(0., 0., 0.) m, obsgeovel=(0., 0., 0.) m / s): (ra, dec) in deg\n",
       "    (181.49525535, -42.3015925)>"
      ]
     },
     "execution_count": 12,
     "metadata": {},
     "output_type": "execute_result"
    }
   ],
   "source": [
    "gcrs_coord = icrs_coord.transform_to('gcrs')\n",
    "gcrs_coord"
   ]
  },
  {
   "cell_type": "code",
   "execution_count": 13,
   "metadata": {
    "collapsed": false
   },
   "outputs": [
    {
     "data": {
      "text/plain": [
       "(3.167689782620545, -0.7383020680162412)"
      ]
     },
     "execution_count": 13,
     "metadata": {},
     "output_type": "execute_result"
    }
   ],
   "source": [
    "gcrs_coord.ra.rad, gcrs_coord.dec.rad"
   ]
  },
  {
   "cell_type": "code",
   "execution_count": 14,
   "metadata": {
    "collapsed": false
   },
   "outputs": [
    {
     "name": "stdout",
     "output_type": "stream",
     "text": [
      "0d00m17.0807s\n",
      "0d00m05.733s\n"
     ]
    }
   ],
   "source": [
    "# This is the change in ra & dec between icrs & gcrs\n",
    "print(icrs_coord.ra-gcrs_coord.ra)\n",
    "print(icrs_coord.dec-gcrs_coord.dec)"
   ]
  },
  {
   "cell_type": "code",
   "execution_count": 15,
   "metadata": {
    "collapsed": false
   },
   "outputs": [
    {
     "name": "stdout",
     "output_type": "stream",
     "text": [
      "-1.28381298339\n",
      "-1.28373254457\n"
     ]
    }
   ],
   "source": [
    "hour_angle_mean = lst_mean.rad - gcrs_coord.ra.rad\n",
    "hour_angle_apparent = lst_apparent.rad - gcrs_coord.ra.rad\n",
    "\n",
    "print(hour_angle_mean)\n",
    "print(hour_angle_apparent)"
   ]
  },
  {
   "cell_type": "code",
   "execution_count": 16,
   "metadata": {
    "collapsed": true
   },
   "outputs": [],
   "source": [
    "# mwa_tools comp2\n",
    "# It turns out these are not actually used in the return values at all. So don't worry about them\n",
    "mwa_tools_comp2_ra = 3.1703987\n",
    "mwa_tools_comp2_dec = -0.73946297"
   ]
  },
  {
   "cell_type": "code",
   "execution_count": 17,
   "metadata": {
    "collapsed": false
   },
   "outputs": [
    {
     "name": "stdout",
     "output_type": "stream",
     "text": [
      "-0deg09m18.7543s\n",
      "0deg03m59.4532s\n"
     ]
    }
   ],
   "source": [
    "# compare mwa_tools comp2 to gcrs\n",
    "print(Angle(gcrs_coord.ra.rad - mwa_tools_comp2_ra, unit='rad').to_string(unit=units.degree, sep=('deg', 'm', 's')))\n",
    "print(Angle(gcrs_coord.dec.rad - mwa_tools_comp2_dec, unit='rad').to_string(unit=units.degree, sep=('deg', 'm', 's')))"
   ]
  },
  {
   "cell_type": "code",
   "execution_count": 18,
   "metadata": {
    "collapsed": true
   },
   "outputs": [],
   "source": [
    "# mwa_tools comp3\n",
    "mwa_tools_comp3_ra = 3.1676898\n",
    "mwa_tools_comp3_dec = -0.73830205"
   ]
  },
  {
   "cell_type": "code",
   "execution_count": 19,
   "metadata": {
    "collapsed": false
   },
   "outputs": [
    {
     "name": "stdout",
     "output_type": "stream",
     "text": [
      "-0deg00m00.0036s\n",
      "-0deg00m00.0037s\n"
     ]
    }
   ],
   "source": [
    "# compare mwa_tools comp3 to gcrs\n",
    "print(Angle(gcrs_coord.ra.rad - mwa_tools_comp3_ra, unit='rad').to_string(unit=units.degree, sep=('deg', 'm', 's')))\n",
    "print(Angle(gcrs_coord.dec.rad - mwa_tools_comp3_dec, unit='rad').to_string(unit=units.degree, sep=('deg', 'm', 's')))"
   ]
  },
  {
   "cell_type": "markdown",
   "metadata": {},
   "source": [
    "# -> mwa_tools ra_aber/dec_aber (calc3) agrees with GCRS, meaning that it accounts for aberration but not nutation or precession"
   ]
  },
  {
   "cell_type": "code",
   "execution_count": 20,
   "metadata": {
    "collapsed": true
   },
   "outputs": [],
   "source": [
    "# The frame radio astronomers call the apparent or current epoch is the\n",
    "# \"true equator & equinox\" frame, notated E_gamma in the USNO circular\n",
    "# astropy doesn't have this frame but it's pretty easy to adapt the CIRS frame\n",
    "# by modifying the ra to reflect the difference between\n",
    "# GAST (Grenwich Apparent Sidereal Time) and the earth rotation angle (theta)\n",
    "def egamma_to_cirs_ra(egamma_ra, time):\n",
    "    from astropy import _erfa as erfa\n",
    "    from astropy.coordinates.builtin_frames.utils import get_jd12\n",
    "    era = erfa.era00(*get_jd12(time, 'ut1'))\n",
    "    theta_earth = Angle(era, unit='rad')\n",
    "\n",
    "    assert(isinstance(time, Time))\n",
    "    assert(isinstance(egamma_ra, Angle))\n",
    "    gast = time.sidereal_time('apparent', longitude=0)\n",
    "    cirs_ra = egamma_ra - (gast-theta_earth)\n",
    "    return cirs_ra\n",
    "\n",
    "def cirs_to_egamma_ra(cirs_ra, time):\n",
    "    from astropy import _erfa as erfa\n",
    "    from astropy.coordinates.builtin_frames.utils import get_jd12\n",
    "    era = erfa.era00(*get_jd12(time, 'ut1'))\n",
    "    theta_earth = Angle(era, unit='rad')\n",
    "\n",
    "    assert(isinstance(time, Time))\n",
    "    assert(isinstance(cirs_ra, Angle))\n",
    "    gast = time.sidereal_time('apparent', longitude=0)\n",
    "    egamma_ra = cirs_ra + (gast-theta_earth)\n",
    "    return egamma_ra"
   ]
  },
  {
   "cell_type": "code",
   "execution_count": 21,
   "metadata": {
    "collapsed": false
   },
   "outputs": [
    {
     "data": {
      "text/plain": [
       "<SkyCoord (CIRS: obstime=55780.1): (ra, dec) in deg\n",
       "    (107.78961213, -26.70331941)>"
      ]
     },
     "execution_count": 21,
     "metadata": {},
     "output_type": "execute_result"
    }
   ],
   "source": [
    "# now get equivilents of lst, lat in GCRS (rather than precessed) frame:\n",
    "# effectively current zenith \"unprecessed\" to J2000 but not undoing aberration\n",
    "# mwa_tools calls these \"lmst2000\" and \"newarrlat\"\n",
    "# also need gcrs hour angle (ha_gcrs), what they call \"ha2000\" which is (\"lmst2000\" - apparent ra)\n",
    "\n",
    "loc_obj = EarthLocation.from_geodetic(lon=longitude, lat=latitude)\n",
    "\n",
    "# use CIRS but with a different ra to account for the difference between LST & earth's rotation angle\n",
    "cirs_ra = egamma_to_cirs_ra(obs_time.sidereal_time('apparent'), obs_time)\n",
    "\n",
    "assert(cirs_to_egamma_ra(cirs_ra, obs_time) == obs_time.sidereal_time('apparent'))\n",
    "\n",
    "egamma_zenith_coord = SkyCoord(ra=cirs_ra, dec=latitude, frame='cirs',\n",
    "                               obstime=obs_time, location = loc_obj)\n",
    "egamma_zenith_coord"
   ]
  },
  {
   "cell_type": "code",
   "execution_count": 22,
   "metadata": {
    "collapsed": false
   },
   "outputs": [
    {
     "data": {
      "text/plain": [
       "<SkyCoord (AltAz: obstime=55780.1, location=(-2559302.5737783727, 5095070.526830904, -2848887.400942108) m, pressure=0.0 hPa, temperature=0.0 deg_C, relative_humidity=0, obswl=1.0 micron): (az, alt) in deg\n",
       "    (28.60732437, 89.99985797)>"
      ]
     },
     "execution_count": 22,
     "metadata": {},
     "output_type": "execute_result"
    }
   ],
   "source": [
    "# check where it is in altaz (should be near zenith):\n",
    "egamma_zenith_altaz = egamma_zenith_coord.transform_to('altaz')\n",
    "egamma_zenith_altaz"
   ]
  },
  {
   "cell_type": "code",
   "execution_count": 23,
   "metadata": {
    "collapsed": false
   },
   "outputs": [
    {
     "data": {
      "text/latex": [
       "$-0^\\circ00{}^\\prime00.5113{}^{\\prime\\prime}$"
      ],
      "text/plain": [
       "<Angle -0.00014203 deg>"
      ]
     },
     "execution_count": 23,
     "metadata": {},
     "output_type": "execute_result"
    }
   ],
   "source": [
    "(egamma_zenith_altaz.alt - Angle('90d')).to('deg')"
   ]
  },
  {
   "cell_type": "code",
   "execution_count": 24,
   "metadata": {
    "collapsed": false
   },
   "outputs": [
    {
     "data": {
      "text/plain": [
       "<SkyCoord (GCRS: obstime=55780.1, obsgeoloc=(0., 0., 0.) m, obsgeovel=(0., 0., 0.) m / s): (ra, dec) in deg\n",
       "    (107.82139279, -26.68249473)>"
      ]
     },
     "execution_count": 24,
     "metadata": {},
     "output_type": "execute_result"
    }
   ],
   "source": [
    "gcrs_zenith = egamma_zenith_altaz.transform_to('gcrs')\n",
    "gcrs_zenith"
   ]
  },
  {
   "cell_type": "code",
   "execution_count": 25,
   "metadata": {
    "collapsed": false
   },
   "outputs": [
    {
     "name": "stdout",
     "output_type": "stream",
     "text": [
      "1.88183830833\n",
      "-0.465697385751\n"
     ]
    }
   ],
   "source": [
    "print(gcrs_zenith.ra.rad)\n",
    "print(gcrs_zenith.dec.rad)"
   ]
  },
  {
   "cell_type": "code",
   "execution_count": 26,
   "metadata": {
    "collapsed": false
   },
   "outputs": [
    {
     "name": "stdout",
     "output_type": "stream",
     "text": [
      "-0d07m17.0606s\n",
      "0d01m14.9688s\n"
     ]
    }
   ],
   "source": [
    "# This is the change between egamma & gcrs\n",
    "print(gcrs_zenith.ra - lst_apparent)\n",
    "print(gcrs_zenith.dec - egamma_zenith_coord.dec)"
   ]
  },
  {
   "cell_type": "code",
   "execution_count": 27,
   "metadata": {
    "collapsed": false
   },
   "outputs": [
    {
     "data": {
      "text/latex": [
       "$286^\\circ19{}^\\prime34.0948{}^{\\prime\\prime}$"
      ],
      "text/plain": [
       "<Longitude 286.32613744 deg>"
      ]
     },
     "execution_count": 27,
     "metadata": {},
     "output_type": "execute_result"
    }
   ],
   "source": [
    "ha_gcrs = Longitude(gcrs_zenith.ra - gcrs_coord.ra)\n",
    "ha_gcrs"
   ]
  },
  {
   "cell_type": "code",
   "execution_count": 28,
   "metadata": {
    "collapsed": false
   },
   "outputs": [
    {
     "data": {
      "text/plain": [
       "4.997333832891704"
      ]
     },
     "execution_count": 28,
     "metadata": {},
     "output_type": "execute_result"
    }
   ],
   "source": [
    "ha_gcrs.rad"
   ]
  },
  {
   "cell_type": "code",
   "execution_count": 29,
   "metadata": {
    "collapsed": true
   },
   "outputs": [],
   "source": [
    "# for these, I used the apparent lst (and aberration corrected ra/decs) from this notebook,\n",
    "# so that's not a source of error\n",
    "mwa_tools_comp4_newarrlat = -0.46569739\n",
    "mwa_tools_comp4_lmst2000 = 1.8818386\n",
    "mwa_tools_comp4_ha2000 = 4.9973341"
   ]
  },
  {
   "cell_type": "code",
   "execution_count": 30,
   "metadata": {
    "collapsed": false
   },
   "outputs": [
    {
     "name": "stdout",
     "output_type": "stream",
     "text": [
      "0d07m17.0005s\n",
      "-0d01m14.9679s\n"
     ]
    }
   ],
   "source": [
    "# This is what the MWA tools code gives as the change between precessed & not\n",
    "print(Angle(lst_apparent.rad - mwa_tools_comp4_lmst2000, unit='rad').to('deg'))\n",
    "print(Angle(latitude.rad - mwa_tools_comp4_newarrlat, unit='rad').to('deg'))"
   ]
  },
  {
   "cell_type": "code",
   "execution_count": 31,
   "metadata": {
    "collapsed": false
   },
   "outputs": [
    {
     "name": "stdout",
     "output_type": "stream",
     "text": [
      "-0d00m00.0602s\n",
      "0d00m00.0009s\n",
      "-0d00m00.0551s\n"
     ]
    }
   ],
   "source": [
    "print(Angle(gcrs_zenith.ra.rad - mwa_tools_comp4_lmst2000, unit='rad').to('deg'))\n",
    "print(Angle(gcrs_zenith.dec.rad - mwa_tools_comp4_newarrlat, unit='rad').to('deg'))\n",
    "print(Angle(ha_gcrs.rad - mwa_tools_comp4_ha2000, unit='rad').to('deg'))"
   ]
  },
  {
   "cell_type": "markdown",
   "metadata": {},
   "source": [
    "# => Egamma -> CIRS -> CGRS agrees with computation4"
   ]
  },
  {
   "cell_type": "code",
   "execution_count": 32,
   "metadata": {
    "collapsed": false
   },
   "outputs": [
    {
     "data": {
      "text/plain": [
       "array([[ 1.00000000e+00, -1.11022333e-07, -4.41180450e-08],\n",
       "       [ 1.11022337e-07,  1.00000000e+00,  9.64779225e-08],\n",
       "       [ 4.41180343e-08, -9.64779274e-08,  1.00000000e+00]])"
      ]
     },
     "execution_count": 32,
     "metadata": {},
     "output_type": "execute_result"
    }
   ],
   "source": [
    "# An undocumented feature lets you get the rotation matrix for some Astropy transforms\n",
    "from astropy import coordinates\n",
    "from astropy.coordinates.builtin_frames import icrs_fk5_transforms\n",
    "fk5 = coordinates.FK5()\n",
    "icrs_fk5_transforms.icrs_to_fk5(None, fk5)"
   ]
  },
  {
   "cell_type": "code",
   "execution_count": 33,
   "metadata": {
    "collapsed": false
   },
   "outputs": [],
   "source": [
    "# # But not for the ones we want -- this errors:\n",
    "# from astropy import coordinates\n",
    "# from astropy.coordinates.builtin_frames import icrs_cirs_transforms\n",
    "# cirs = coordinates.CIRS(obstime=Time(mjd, format='mjd'))\n",
    "# icrs_cirs_transforms.icrs_to_cirs(None, cirs)"
   ]
  },
  {
   "cell_type": "code",
   "execution_count": 34,
   "metadata": {
    "collapsed": false
   },
   "outputs": [
    {
     "name": "stdout",
     "output_type": "stream",
     "text": [
      "(2, 3)\n",
      "0d00m00.0001s\n",
      "0d00m00.0001s\n"
     ]
    }
   ],
   "source": [
    "# now define an antenna position to work on uvw rotation\n",
    "# the positions used in the mwa_tools code are the same as those used in uvfits antenna positions:\n",
    "# relative to the array center (expressed in ITRS), but rotated so that the x axis goes through the meridian\n",
    "\n",
    "from pyuvdata import utils as uvutils\n",
    "array_center_xyz = np.array([-2559454.08, 5095372.14, -2849057.18])\n",
    "\n",
    "# in east/north/up frame (relative to array center) in meters: (Nants, 3)\n",
    "xyz_ants = np.array([[-037.91, 0140.52, 0000.66],[-101.94, 0156.41, 0001.24]])\n",
    "print(xyz_ants.shape)\n",
    "\n",
    "lat_lon_alt = uvutils.LatLonAlt_from_XYZ(array_center_xyz)\n",
    "print(Angle(lat_lon_alt[0]*units.rad).to('deg') - latitude)\n",
    "print(Angle(lat_lon_alt[1]*units.rad).to('deg') - longitude)\n",
    "ant_xyz_abs = uvutils.ECEF_from_ENU(xyz_ants.T, lat_lon_alt[0], lat_lon_alt[1], lat_lon_alt[2]).T\n",
    "\n",
    "ant_xyz_rel_itrs = ant_xyz_abs - array_center_xyz\n",
    "ant_xyz_rel_rot = uvutils.rotECEF_from_ECEF(ant_xyz_rel_itrs, lat_lon_alt[1])"
   ]
  },
  {
   "cell_type": "code",
   "execution_count": 35,
   "metadata": {
    "collapsed": false
   },
   "outputs": [
    {
     "name": "stdout",
     "output_type": "stream",
     "text": [
      "[[  63.73518635  -37.91        125.23630472]\n",
      " [  71.39382794 -101.94        139.17092739]]\n"
     ]
    }
   ],
   "source": [
    "print(ant_xyz_rel_rot)"
   ]
  },
  {
   "cell_type": "code",
   "execution_count": 36,
   "metadata": {
    "collapsed": false
   },
   "outputs": [
    {
     "data": {
      "text/plain": [
       "(<Quantity -0.27293726>, <Quantity 0.85062987>, <Quantity -0.44937075>)"
      ]
     },
     "execution_count": 36,
     "metadata": {},
     "output_type": "execute_result"
    }
   ],
   "source": [
    "egamma_zenith_xyz = spherical_to_cartesian(1, egamma_zenith_coord.dec, egamma_zenith_coord.ra)\n",
    "egamma_zenith_xyz"
   ]
  },
  {
   "cell_type": "code",
   "execution_count": 37,
   "metadata": {
    "collapsed": false
   },
   "outputs": [
    {
     "data": {
      "text/plain": [
       "(<Quantity [145.54543655, 186.70133717]>,\n",
       " <Latitude [1.03617555, 0.84116482] rad>,\n",
       " <Longitude [5.7465945 , 5.32335079] rad>)"
      ]
     },
     "execution_count": 37,
     "metadata": {},
     "output_type": "execute_result"
    }
   ],
   "source": [
    "egamma_ant_spherical = cartesian_to_spherical(ant_xyz_rel_rot[:, 0], ant_xyz_rel_rot[:, 1], ant_xyz_rel_rot[:, 2])\n",
    "egamma_ant_spherical"
   ]
  },
  {
   "cell_type": "code",
   "execution_count": 38,
   "metadata": {
    "collapsed": false
   },
   "outputs": [
    {
     "data": {
      "text/plain": [
       "(<Quantity [63.63360223, 71.12102561]>,\n",
       " <Quantity [ -38.08026714, -102.13051446]>,\n",
       " <Quantity [125.23630472, 139.17092739]>)"
      ]
     },
     "execution_count": 38,
     "metadata": {},
     "output_type": "execute_result"
    }
   ],
   "source": [
    "cirs_ant_ra = egamma_to_cirs_ra(egamma_ant_spherical[2], obs_time)\n",
    "\n",
    "cirs_ant_xyz = spherical_to_cartesian(egamma_ant_spherical[0], egamma_ant_spherical[1], cirs_ant_ra)\n",
    "cirs_ant_xyz"
   ]
  },
  {
   "cell_type": "code",
   "execution_count": 39,
   "metadata": {
    "collapsed": false
   },
   "outputs": [
    {
     "data": {
      "text/plain": [
       "<SkyCoord (CIRS: obstime=55780.1): (x, y, z) in m\n",
       "    [(63.63360223,  -38.08026714, 125.23630472),\n",
       "     (71.12102561, -102.13051446, 139.17092739)]>"
      ]
     },
     "execution_count": 39,
     "metadata": {},
     "output_type": "execute_result"
    }
   ],
   "source": [
    "cirs_ant_coord = SkyCoord(x=cirs_ant_xyz[0]*units.m, y=cirs_ant_xyz[1]*units.m, z=cirs_ant_xyz[2]*units.m,\n",
    "                          representation = 'cartesian', frame='cirs',\n",
    "                          obstime=obs_time)\n",
    "cirs_ant_coord"
   ]
  },
  {
   "cell_type": "code",
   "execution_count": 40,
   "metadata": {
    "collapsed": false
   },
   "outputs": [
    {
     "data": {
      "text/plain": [
       "<SkyCoord (GCRS: obstime=55780.1, obsgeoloc=(0., 0., 0.) m, obsgeovel=(0., 0., 0.) m / s): (x, y, z) in m\n",
       "    [(63.77899211,  -38.08136563, 125.16197688),\n",
       "     (71.28260457, -102.13175108, 139.08732594)]>"
      ]
     },
     "execution_count": 40,
     "metadata": {},
     "output_type": "execute_result"
    }
   ],
   "source": [
    "gcrs_ant_coord = cirs_ant_coord.transform_to('gcrs')\n",
    "gcrs_ant_coord.representation = 'cartesian'\n",
    "gcrs_ant_coord"
   ]
  },
  {
   "cell_type": "code",
   "execution_count": 41,
   "metadata": {
    "collapsed": true
   },
   "outputs": [],
   "source": [
    "mwa_tools_precxyz_xprec = 71.286688\n",
    "mwa_tools_precxyz_yprec = -102.13304\n",
    "mwa_tools_precxyz_zprec = 139.08429"
   ]
  },
  {
   "cell_type": "code",
   "execution_count": 42,
   "metadata": {
    "collapsed": false
   },
   "outputs": [
    {
     "name": "stdout",
     "output_type": "stream",
     "text": [
      "-0.1071399426444799\n",
      "-0.1930399991369427\n",
      "-0.0866373932501574\n"
     ]
    }
   ],
   "source": [
    "# this is how much the input to output changes in mwa_tools (precession + nutation effect)\n",
    "print(mwa_tools_precxyz_xprec - ant_xyz_rel_rot[1, 0])\n",
    "print(mwa_tools_precxyz_yprec - ant_xyz_rel_rot[1, 1])\n",
    "print(mwa_tools_precxyz_zprec - ant_xyz_rel_rot[1, 2])"
   ]
  },
  {
   "cell_type": "code",
   "execution_count": 43,
   "metadata": {
    "collapsed": false
   },
   "outputs": [
    {
     "name": "stdout",
     "output_type": "stream",
     "text": [
      "-4.08343381373 mm\n",
      "1.28892441548 mm\n",
      "3.03593942368 mm\n"
     ]
    }
   ],
   "source": [
    "# This tests agreement between this notebook & mwa_tools\n",
    "print((gcrs_ant_coord.x[1] - mwa_tools_precxyz_xprec*units.m).to('mm'))\n",
    "print((gcrs_ant_coord.y[1] - mwa_tools_precxyz_yprec*units.m).to('mm'))\n",
    "print((gcrs_ant_coord.z[1] - mwa_tools_precxyz_zprec*units.m).to('mm'))"
   ]
  },
  {
   "cell_type": "markdown",
   "metadata": {},
   "source": [
    "# The precessed positions match to < 5mm"
   ]
  },
  {
   "cell_type": "code",
   "execution_count": 44,
   "metadata": {
    "collapsed": false
   },
   "outputs": [
    {
     "name": "stdout",
     "output_type": "stream",
     "text": [
      "<SkyCoord (ITRS: obstime=55780.1): (x, y, z) in m\n",
      "    (-2559454.08, 5095372.14, -2849057.18)>\n"
     ]
    },
    {
     "data": {
      "text/plain": [
       "<SkyCoord (ITRS: obstime=55780.1): (x, y, z) in m\n",
       "    [(-2559448.81204191, 5095446.11020141, -2848931.94369528),\n",
       "     (-2559395.03251243, 5095481.69471912, -2848918.00907261)]>"
      ]
     },
     "execution_count": 44,
     "metadata": {},
     "output_type": "execute_result"
    }
   ],
   "source": [
    "# try something else. Define antennas in ITRS frame. Then rotate them to GCRS\n",
    "array_center_coord = SkyCoord(x=array_center_xyz[0]*units.m,\n",
    "                              y=array_center_xyz[1]*units.m,\n",
    "                              z=array_center_xyz[2]*units.m,\n",
    "                              representation = 'cartesian', frame='itrs', obstime=obs_time)\n",
    "print(array_center_coord)\n",
    "itrs_coord = SkyCoord(x=ant_xyz_abs[:, 0]*units.m, y=ant_xyz_abs[:, 1]*units.m, z=ant_xyz_abs[:, 2]*units.m,\n",
    "                      representation = 'cartesian', frame='itrs', obstime=obs_time)\n",
    "itrs_coord"
   ]
  },
  {
   "cell_type": "code",
   "execution_count": 45,
   "metadata": {
    "collapsed": false
   },
   "outputs": [
    {
     "name": "stdout",
     "output_type": "stream",
     "text": [
      "[ 5.26795809 59.04748757] m\n",
      "[ 73.97020141 109.55471912] m\n",
      "[125.23630472 139.17092739] m\n"
     ]
    }
   ],
   "source": [
    "print(itrs_coord.x - array_center_coord.x)\n",
    "print(itrs_coord.y - array_center_coord.y)\n",
    "print(itrs_coord.z - array_center_coord.z)"
   ]
  },
  {
   "cell_type": "code",
   "execution_count": 46,
   "metadata": {
    "collapsed": false
   },
   "outputs": [
    {
     "name": "stdout",
     "output_type": "stream",
     "text": [
      "<SkyCoord (GCRS: obstime=55780.1, obsgeoloc=(0., 0., 0.) m, obsgeovel=(0., 0., 0.) m / s): (ra, dec, distance) in (deg, deg, m)\n",
      "    (107.82119295, -26.52844311, 6374225.38409199)>\n"
     ]
    },
    {
     "data": {
      "text/plain": [
       "<SkyCoord (GCRS: obstime=55780.1, obsgeoloc=(0., 0., 0.) m, obsgeovel=(0., 0., 0.) m / s): (ra, dec, distance) in (deg, deg, m)\n",
       "    [(107.82081035, -26.52718046, 6374226.42388781),\n",
       "     (107.82016689, -26.52703835, 6374227.04770571)]>"
      ]
     },
     "execution_count": 46,
     "metadata": {},
     "output_type": "execute_result"
    }
   ],
   "source": [
    "gcrs_array_center = array_center_coord.transform_to('gcrs')\n",
    "print(gcrs_array_center)\n",
    "gcrs_from_itrs_coord = itrs_coord.transform_to('gcrs')\n",
    "gcrs_from_itrs_coord"
   ]
  },
  {
   "cell_type": "code",
   "execution_count": 47,
   "metadata": {
    "collapsed": false
   },
   "outputs": [
    {
     "name": "stdout",
     "output_type": "stream",
     "text": [
      "<SkyCoord (GCRS: obstime=55780.1, obsgeoloc=(0., 0., 0.) m, obsgeovel=(0., 0., 0.) m / s): (ra, dec, distance) in (deg, deg, m)\n",
      "    (107.82119295, -26.52844311, 6374225.38409199)>\n",
      "(-1745419.50769061, 5429444.57475286, -2846996.94398546) m\n",
      "<SkyCoord (GCRS: obstime=55780.1, obsgeoloc=(0., 0., 0.) m, obsgeovel=(0., 0., 0.) m / s): (ra, dec, distance) in (deg, deg, m)\n",
      "    [(107.82081035, -26.52718046, 6374226.42388781),\n",
      "     (107.82016689, -26.52703835, 6374227.04770571)]>\n",
      "[(-1745402.73745299, 5429516.84400159, -2846871.72661226),\n",
      " (-1745344.09283064, 5429543.69894979, -2846857.85990781)] m\n"
     ]
    }
   ],
   "source": [
    "print(gcrs_array_center)\n",
    "print(gcrs_array_center.cartesian)\n",
    "print(gcrs_from_itrs_coord)\n",
    "print(gcrs_from_itrs_coord.cartesian)"
   ]
  },
  {
   "cell_type": "code",
   "execution_count": 48,
   "metadata": {
    "collapsed": false
   },
   "outputs": [
    {
     "name": "stdout",
     "output_type": "stream",
     "text": [
      "[[ 16.77023762  72.26924873 125.2173732 ]\n",
      " [ 75.41485997  99.12419693 139.08407765]] m\n"
     ]
    }
   ],
   "source": [
    "gcrs_rel = (gcrs_from_itrs_coord.cartesian - gcrs_array_center.cartesian).get_xyz().T\n",
    "\n",
    "print(gcrs_rel)"
   ]
  },
  {
   "cell_type": "code",
   "execution_count": 49,
   "metadata": {
    "collapsed": false
   },
   "outputs": [
    {
     "name": "stdout",
     "output_type": "stream",
     "text": [
      "1.881834820319562\n",
      "0d00m00s\n",
      "0d00m00.7195s\n",
      "0d00m00.4461s\n",
      "[[  63.66901083  -38.08335911  125.2173732 ]\n",
      " [  71.2873201  -102.13288165  139.08407765]]\n"
     ]
    }
   ],
   "source": [
    "gcrs_lat_lon_alt = uvutils.LatLonAlt_from_XYZ(gcrs_array_center.cartesian.get_xyz().value)\n",
    "print(gcrs_lat_lon_alt[1])\n",
    "gcrs_array_center_spherical = gcrs_array_center.spherical\n",
    "print(gcrs_array_center_spherical.lon - Angle(gcrs_lat_lon_alt[1]*units.rad))\n",
    "print(gcrs_zenith.ra - Angle(gcrs_lat_lon_alt[1]*units.rad))\n",
    "\n",
    "zenith_coord = SkyCoord(alt=Angle(90 * units.deg), az=Angle(0 * units.deg),\n",
    "                        obstime=obs_time, frame='altaz', location=loc_obj)\n",
    "new_gcrs_zenith = zenith_coord.transform_to('gcrs')\n",
    "print(new_gcrs_zenith.ra - Angle(gcrs_lat_lon_alt[1]*units.rad))\n",
    "\n",
    "gcrs_rel_rot = uvutils.rotECEF_from_ECEF(gcrs_rel.value, gcrs_lat_lon_alt[1])\n",
    "\n",
    "print(gcrs_rel_rot)"
   ]
  },
  {
   "cell_type": "code",
   "execution_count": 50,
   "metadata": {
    "collapsed": false
   },
   "outputs": [
    {
     "name": "stdout",
     "output_type": "stream",
     "text": [
      "[-109.98127684    4.71553421] mm\n",
      "[-1.99347929 -1.13057712] mm\n",
      "[55.39632149 -3.248292  ] mm\n"
     ]
    }
   ],
   "source": [
    "print((gcrs_rel_rot[:, 0]*units.m - gcrs_ant_coord.x).to('mm'))\n",
    "print((gcrs_rel_rot[:, 1]*units.m - gcrs_ant_coord.y).to('mm'))\n",
    "print((gcrs_rel_rot[:, 2]*units.m - gcrs_ant_coord.z).to('mm'))"
   ]
  },
  {
   "cell_type": "code",
   "execution_count": 51,
   "metadata": {
    "collapsed": false
   },
   "outputs": [
    {
     "name": "stdout",
     "output_type": "stream",
     "text": [
      "0.632100400765 mm\n",
      "0.158347294317 mm\n",
      "-0.212352578501 mm\n"
     ]
    }
   ],
   "source": [
    "print(((gcrs_rel_rot[1, 0] - mwa_tools_precxyz_xprec)*units.m).to('mm'))\n",
    "print(((gcrs_rel_rot[1, 1] - mwa_tools_precxyz_yprec)*units.m).to('mm'))\n",
    "print(((gcrs_rel_rot[1, 2] - mwa_tools_precxyz_zprec)*units.m).to('mm'))"
   ]
  },
  {
   "cell_type": "markdown",
   "metadata": {},
   "source": [
    "# Starting from ITRS does even better: positions match to < 1mm"
   ]
  },
  {
   "cell_type": "code",
   "execution_count": 52,
   "metadata": {
    "collapsed": true
   },
   "outputs": [],
   "source": [
    "def mwatools_calcuvw(ha, dec, xyz):\n",
    "    if xyz.ndim == 1:\n",
    "        xyz = xyz[np.newaxis, :]\n",
    "    \n",
    "    sh = np.sin(ha);\n",
    "    sd = np.sin(dec);\n",
    "    ch = np.cos(ha);\n",
    "    cd = np.cos(dec);\n",
    "\n",
    "    u = sh * xyz[:, 0] + ch * xyz[:, 1];\n",
    "    v = -sd * ch * xyz[:, 0] + sd * sh * xyz[:, 1] + cd * xyz[:, 2];\n",
    "    w =  cd * ch * xyz[:, 0] - cd * sh * xyz[:, 1] + sd * xyz[:, 2];\n",
    "    return np.array([u, v, w]).T\n",
    "# matching things up, this code expects relative xyz locations in the 'rotated ECEF' frame expected by uvfits"
   ]
  },
  {
   "cell_type": "code",
   "execution_count": 53,
   "metadata": {
    "collapsed": true
   },
   "outputs": [],
   "source": [
    "def calc_uvw_norot(ra, dec, longitude, xyz):\n",
    "    # same as mwatools_calcuvw but using relative xyz locations in ECEF not rotated frame\n",
    "    if xyz.ndim == 1:\n",
    "        xyz = xyz[np.newaxis, :]\n",
    "    \n",
    "    ha = Longitude(longitude*units.rad - ra*units.rad).rad\n",
    "    print(ha)\n",
    "    \n",
    "    rot_xyz = uvutils.rotECEF_from_ECEF(xyz, longitude)\n",
    "    print(rot_xyz)\n",
    "    \n",
    "    sr = np.sin(ha);\n",
    "    sd = np.sin(dec);\n",
    "    cr = np.cos(ha);\n",
    "    cd = np.cos(dec);\n",
    "\n",
    "    u = sr * rot_xyz[:, 0] + cr * rot_xyz[:, 1];\n",
    "    v = -sd * cr * rot_xyz[:, 0] + sd * sr * rot_xyz[:, 1] + cd * rot_xyz[:, 2];\n",
    "    w =  cd * cr * rot_xyz[:, 0] - cd * sr * rot_xyz[:, 1] + sd * rot_xyz[:, 2];\n",
    "    return np.array([u, v, w]).T\n",
    " "
   ]
  },
  {
   "cell_type": "code",
   "execution_count": 54,
   "metadata": {
    "collapsed": true
   },
   "outputs": [],
   "source": [
    "def phase_uvw(ra, dec, xyz):\n",
    "    # This code expects relative xyz locations in the same frame that ra/dec are in (e.g. icrs or gcrs)\n",
    "    \n",
    "    uvw = np.zeros_like(xyz)\n",
    "    uvw[:, 0] = (-np.sin(ra) * xyz[:, 0]\n",
    "                 + np.cos(ra) * xyz[:, 1])\n",
    "    uvw[:, 1] = (-np.sin(dec) * np.cos(ra) * xyz[:, 0]\n",
    "                 - np.sin(dec) * np.sin(ra) * xyz[:, 1]\n",
    "                 + np.cos(dec) * xyz[:, 2])\n",
    "    uvw[:, 2] = (np.cos(dec) * np.cos(ra) * xyz[:, 0]\n",
    "                 + np.cos(dec) * np.sin(ra) * xyz[:, 1]\n",
    "                 + np.sin(dec) * xyz[:, 2])\n",
    "    return(uvw)"
   ]
  },
  {
   "cell_type": "code",
   "execution_count": 55,
   "metadata": {
    "collapsed": false
   },
   "outputs": [
    {
     "name": "stdout",
     "output_type": "stream",
     "text": [
      "4.99733383289\n",
      "3.16768978262\n",
      "-0.738302068016\n"
     ]
    }
   ],
   "source": [
    "print(ha_gcrs.rad)\n",
    "print(gcrs_coord.ra.rad)\n",
    "print(gcrs_coord.dec.rad)"
   ]
  },
  {
   "cell_type": "code",
   "execution_count": 56,
   "metadata": {
    "collapsed": false
   },
   "outputs": [
    {
     "name": "stdout",
     "output_type": "stream",
     "text": [
      "4.99733383289\n",
      "[[  63.66901083  -38.08335911  125.2173732 ]\n",
      " [  71.2873201  -102.13288165  139.08407765]]\n"
     ]
    },
    {
     "data": {
      "text/plain": [
       "array([[ -71.80709995,   80.06019817,  -98.06926531],\n",
       "       [ -97.12282812,   50.38828064, -151.27975942]])"
      ]
     },
     "execution_count": 56,
     "metadata": {},
     "output_type": "execute_result"
    }
   ],
   "source": [
    "gcrs_uvw = mwatools_calcuvw(ha_gcrs.rad, gcrs_coord.dec.rad, gcrs_rel_rot)\n",
    "print(ha_gcrs.rad)\n",
    "print(gcrs_rel_rot)\n",
    "gcrs_uvw"
   ]
  },
  {
   "cell_type": "code",
   "execution_count": 57,
   "metadata": {
    "collapsed": false
   },
   "outputs": [
    {
     "name": "stdout",
     "output_type": "stream",
     "text": [
      "4.99733383289\n",
      "[[  63.668878    -38.08358119  125.2173732 ]\n",
      " [  71.28696386 -102.1331303   139.08407765]]\n",
      "[[ -71.8070349    80.0600296   -98.06945056]\n",
      " [ -97.12255614   50.38805264 -151.28000997]]\n",
      "4.99733034488\n",
      "[[  63.66901083  -38.08335911  125.2173732 ]\n",
      " [  71.2873201  -102.13288165  139.08407765]]\n",
      "[[ -71.8070349    80.0600296   -98.06945056]\n",
      " [ -97.12255614   50.38805264 -151.28000997]]\n",
      "4.99733250752\n",
      "[[  63.66892847  -38.08349681  125.2173732 ]\n",
      " [  71.28709922 -102.13303582  139.08407765]]\n",
      "[[ -71.8070349    80.0600296   -98.06945056]\n",
      " [ -97.12255614   50.38805264 -151.28000997]]\n"
     ]
    }
   ],
   "source": [
    "longitude_use = gcrs_zenith.ra.rad\n",
    "gcrs_uvw_mod1 = calc_uvw_norot(gcrs_coord.ra.rad, gcrs_coord.dec.rad, longitude_use, gcrs_rel.value)\n",
    "print(gcrs_uvw_mod1)\n",
    "longitude_use = gcrs_lat_lon_alt[1]\n",
    "gcrs_uvw_mod2 = calc_uvw_norot(gcrs_coord.ra.rad, gcrs_coord.dec.rad, longitude_use, gcrs_rel.value)\n",
    "print(gcrs_uvw_mod2)\n",
    "longitude_use = new_gcrs_zenith.ra.rad\n",
    "gcrs_uvw_mod3 = calc_uvw_norot(gcrs_coord.ra.rad, gcrs_coord.dec.rad, longitude_use, gcrs_rel.value)\n",
    "print(gcrs_uvw_mod3)"
   ]
  },
  {
   "cell_type": "code",
   "execution_count": 58,
   "metadata": {
    "collapsed": false
   },
   "outputs": [
    {
     "name": "stdout",
     "output_type": "stream",
     "text": [
      "[[ 0.06505217 -0.16857055 -0.18524627]\n",
      " [ 0.27197982 -0.2280002  -0.25055496]] mm\n",
      "[[ 0.06505217 -0.16857055 -0.18524627]\n",
      " [ 0.27197982 -0.2280002  -0.25055496]] mm\n",
      "[[ 0.06505217 -0.16857055 -0.18524627]\n",
      " [ 0.27197982 -0.2280002  -0.25055496]] mm\n"
     ]
    }
   ],
   "source": [
    "print(((gcrs_uvw_mod1 - gcrs_uvw)*units.m).to('mm'))\n",
    "print(((gcrs_uvw_mod2 - gcrs_uvw)*units.m).to('mm'))\n",
    "print(((gcrs_uvw_mod3 - gcrs_uvw)*units.m).to('mm'))\n",
    "# This means that the difference comes because we're using different longitudes to calculate ha & do the ECEF rotation.\n",
    "# (gcrs_zenith for the ha & gcrs_lat_lon_alt[1] for the rotation)\n",
    "# That difference is wrong, we should use the same one."
   ]
  },
  {
   "cell_type": "code",
   "execution_count": 59,
   "metadata": {
    "collapsed": false
   },
   "outputs": [
    {
     "name": "stdout",
     "output_type": "stream",
     "text": [
      "(<Longitude 181.49525535 deg>, <Latitude -42.3015925 deg>)\n"
     ]
    },
    {
     "data": {
      "text/plain": [
       "array([[ -71.8070349 ,   80.0600296 ,  -98.06945056],\n",
       "       [ -97.12255614,   50.38805264, -151.28000997]])"
      ]
     },
     "execution_count": 59,
     "metadata": {},
     "output_type": "execute_result"
    }
   ],
   "source": [
    "gcrs_uvw_new = phase_uvw(gcrs_coord.ra.rad, gcrs_coord.dec.rad, gcrs_rel.value)\n",
    "print(gcrs_coord.ra, gcrs_coord.dec)\n",
    "gcrs_uvw_new"
   ]
  },
  {
   "cell_type": "code",
   "execution_count": 60,
   "metadata": {
    "collapsed": false
   },
   "outputs": [
    {
     "name": "stdout",
     "output_type": "stream",
     "text": [
      "[[ 0.06505217 -0.16857055 -0.18524627]\n",
      " [ 0.27197982 -0.2280002  -0.25055496]] mm\n",
      "[[-1.42108547e-11  1.42108547e-11  1.42108547e-11]\n",
      " [-2.84217094e-11  1.42108547e-11  2.84217094e-11]] mm\n"
     ]
    }
   ],
   "source": [
    "print(((gcrs_uvw_new - gcrs_uvw)*units.m).to('mm'))\n",
    "print(((gcrs_uvw_new - gcrs_uvw_mod1)*units.m).to('mm'))\n",
    "# So phase_uvw works the same as calc_uvw_norot which would match mwatools_calcuvw if we used the same longitude.\n",
    "# we'll use phase_uvw in pyuvdata because it's simplest"
   ]
  },
  {
   "cell_type": "code",
   "execution_count": 61,
   "metadata": {
    "collapsed": true
   },
   "outputs": [],
   "source": [
    "mwa_tools_calcuvw_u = -97.122828\n",
    "mwa_tools_calcuvw_v = 50.388281\n",
    "mwa_tools_calcuvw_w = -151.27976"
   ]
  },
  {
   "cell_type": "code",
   "execution_count": 62,
   "metadata": {
    "collapsed": false
   },
   "outputs": [
    {
     "name": "stdout",
     "output_type": "stream",
     "text": [
      "-0.000119577293844 mm\n",
      "-0.000358739107753 mm\n",
      "0.000584243593948 mm\n"
     ]
    }
   ],
   "source": [
    "print(((gcrs_uvw[1, 0] - mwa_tools_calcuvw_u)*units.m).to('mm'))\n",
    "print(((gcrs_uvw[1, 1] - mwa_tools_calcuvw_v)*units.m).to('mm'))\n",
    "print(((gcrs_uvw[1, 2] - mwa_tools_calcuvw_w)*units.m).to('mm'))"
   ]
  },
  {
   "cell_type": "code",
   "execution_count": 63,
   "metadata": {
    "collapsed": false
   },
   "outputs": [
    {
     "name": "stdout",
     "output_type": "stream",
     "text": [
      "0.27186024758 mm\n",
      "-0.228358937129 mm\n",
      "-0.249970711849 mm\n"
     ]
    }
   ],
   "source": [
    "print(((gcrs_uvw_new[1, 0] - mwa_tools_calcuvw_u)*units.m).to('mm'))\n",
    "print(((gcrs_uvw_new[1, 1] - mwa_tools_calcuvw_v)*units.m).to('mm'))\n",
    "print(((gcrs_uvw_new[1, 2] - mwa_tools_calcuvw_w)*units.m).to('mm'))"
   ]
  },
  {
   "cell_type": "markdown",
   "metadata": {},
   "source": [
    "# =>These match exactly, as expected because I copied the code"
   ]
  },
  {
   "cell_type": "code",
   "execution_count": 64,
   "metadata": {
    "collapsed": false
   },
   "outputs": [
    {
     "data": {
      "text/plain": [
       "array([[ -71.81672963,   80.06391822,  -98.06402539],\n",
       "       [ -97.13904429,   50.39206282, -151.27325458]])"
      ]
     },
     "execution_count": 64,
     "metadata": {},
     "output_type": "execute_result"
    }
   ],
   "source": [
    "# Now redo it all but go to icrs instead of gcrs to include abberation\n",
    "icrs_zenith = egamma_zenith_altaz.transform_to('icrs')\n",
    "ha_icrs = Longitude(icrs_zenith.ra - icrs_coord.ra)\n",
    "icrs_array_center = array_center_coord.transform_to('icrs')\n",
    "icrs_array_center.representation = 'cartesian'\n",
    "icrs_from_itrs_coord = itrs_coord.transform_to('icrs')\n",
    "icrs_from_itrs_coord.representation = 'cartesian'\n",
    "\n",
    "icrs_rel = (np.array([icrs_from_itrs_coord.x.value, icrs_from_itrs_coord.y.value, icrs_from_itrs_coord.z.value]).T\n",
    "            - np.array([icrs_array_center.x.value, icrs_array_center.y.value, icrs_array_center.z.value]))\n",
    "icrs_rel_rot = uvutils.rotECEF_from_ECEF(icrs_rel, gcrs_lat_lon_alt[1])\n",
    "icrs_uvw = mwatools_calcuvw(ha_icrs.rad, icrs_coord.dec.rad, icrs_rel_rot)\n",
    "icrs_uvw"
   ]
  },
  {
   "cell_type": "code",
   "execution_count": 65,
   "metadata": {
    "collapsed": false
   },
   "outputs": [
    {
     "data": {
      "text/latex": [
       "$[[9.629684,~-3.7200445,~-5.2399221],~\n",
       " [16.216173,~-3.7821778,~-6.5048325]] \\; \\mathrm{mm}$"
      ],
      "text/plain": [
       "<Quantity [[ 9.62968403, -3.72004448, -5.23992214],\n",
       "           [16.21617341, -3.78217782, -6.50483246]] mm>"
      ]
     },
     "execution_count": 65,
     "metadata": {},
     "output_type": "execute_result"
    }
   ],
   "source": [
    "(gcrs_uvw*units.m - icrs_uvw*units.m).to('mm')"
   ]
  },
  {
   "cell_type": "markdown",
   "metadata": {},
   "source": [
    "# => 10's of mm scale for itrs vs gcrs"
   ]
  },
  {
   "cell_type": "code",
   "execution_count": 66,
   "metadata": {
    "collapsed": false
   },
   "outputs": [
    {
     "name": "stdout",
     "output_type": "stream",
     "text": [
      "[[  63.73518635  -37.91        125.23630472]\n",
      " [  71.39382794 -101.94        139.17092739]]\n",
      "[[ -37.91  140.52    0.66]\n",
      " [-101.94  156.41    1.24]]\n",
      "[[ -37.91        140.52          0.65999992]\n",
      " [-101.94        156.41          1.23999991]]\n"
     ]
    }
   ],
   "source": [
    "# try to figure out what zenith uvws are in current epoch frame -- can they be calculated from ENU?\n",
    "itrs_lat_lon_alt = uvutils.LatLonAlt_from_XYZ(np.array([array_center_coord.x.value,\n",
    "                                                        array_center_coord.y.value,\n",
    "                                                        array_center_coord.z.value]))\n",
    "itrs_rel = (np.array([itrs_coord.x.value, itrs_coord.y.value, itrs_coord.z.value]).T\n",
    "            - np.array([array_center_coord.x.value, array_center_coord.y.value, array_center_coord.z.value]))\n",
    "itrs_rel_rot = uvutils.rotECEF_from_ECEF(itrs_rel, itrs_lat_lon_alt[1])\n",
    "\n",
    "print(itrs_rel_rot)\n",
    "print(xyz_ants)\n",
    "\n",
    "itrs_uvw = mwatools_calcuvw(0, latitude, itrs_rel_rot)\n",
    "print(itrs_uvw)\n",
    "\n",
    "# good. So this means that the mwatools calculator,\n",
    "# which takes coordinates in the weird relative but rotated ECEF frame,\n",
    "# gives the same answer for zenith phasing as just using ENU positions"
   ]
  },
  {
   "cell_type": "code",
   "execution_count": 67,
   "metadata": {
    "collapsed": false
   },
   "outputs": [
    {
     "data": {
      "text/latex": [
       "$0.07978718-0.99681192j \\; \\mathrm{}$"
      ],
      "text/plain": [
       "<Quantity 0.07978718-0.99681192j>"
      ]
     },
     "execution_count": 67,
     "metadata": {},
     "output_type": "execute_result"
    }
   ],
   "source": [
    "# for phasing the data:\n",
    "# mwa_tools c code: phase = cexp(I*w*k[chan_ind])\n",
    "# k[chan_ind] = freq/(VLIGHT/1e6)\n",
    "# corrected_vis = vis*phase\n",
    "freq = 150 * units.MHz\n",
    "\n",
    "bl_uvw = gcrs_uvw[1, :] - gcrs_uvw[0, :]\n",
    "\n",
    "phase = np.exp(1j * bl_uvw[2]*units.m *freq.to('1/s') / const.c)\n",
    "phase"
   ]
  },
  {
   "cell_type": "markdown",
   "metadata": {},
   "source": [
    "# Now work out how to \"unphase\" to drift"
   ]
  },
  {
   "cell_type": "code",
   "execution_count": 68,
   "metadata": {
    "collapsed": true
   },
   "outputs": [],
   "source": [
    "def mwatools_calcuvw_unphase(ha, dec, uvw):\n",
    "    if uvw.ndim == 1:\n",
    "        uvw = uvw[np.newaxis, :]\n",
    "\n",
    "    sh = np.sin(ha)\n",
    "    sd = np.sin(dec)\n",
    "    ch = np.cos(ha)\n",
    "    cd = np.cos(dec)\n",
    "\n",
    "    x = sh * uvw[:, 0] - sd * ch * uvw[:, 1] + cd * ch * uvw[:, 2]\n",
    "    y = ch * uvw[:, 0] + sd * sh * uvw[:, 1] - cd * sh * uvw[:, 2]\n",
    "    z = cd * uvw[:, 1] + sd * uvw[:, 2]\n",
    "    return np.array([x, y, z]).T"
   ]
  },
  {
   "cell_type": "code",
   "execution_count": 69,
   "metadata": {
    "collapsed": false
   },
   "outputs": [
    {
     "name": "stdout",
     "output_type": "stream",
     "text": [
      "[[  63.66901083  -38.08335911  125.2173732 ]\n",
      " [  71.2873201  -102.13288165  139.08407765]]\n",
      "[[  63.66901083  -38.08335911  125.2173732 ]\n",
      " [  71.2873201  -102.13288165  139.08407765]]\n",
      "[[ 0.00000000e+00  0.00000000e+00  2.84217094e-14]\n",
      " [ 0.00000000e+00 -1.42108547e-14  0.00000000e+00]]\n"
     ]
    }
   ],
   "source": [
    "# start with gcrs_uvw\n",
    "\n",
    "# first unphase to get positions in rotECEF frame\n",
    "uvw_rot_positions = mwatools_calcuvw_unphase(ha_gcrs.rad,\n",
    "                                             gcrs_coord.dec.rad,\n",
    "                                             gcrs_uvw)\n",
    "print(uvw_rot_positions)\n",
    "print(gcrs_rel_rot)\n",
    "print(uvw_rot_positions - gcrs_rel_rot)"
   ]
  },
  {
   "cell_type": "code",
   "execution_count": 70,
   "metadata": {
    "collapsed": false
   },
   "outputs": [
    {
     "name": "stdout",
     "output_type": "stream",
     "text": [
      "[[ 16.77023762  72.26924873 125.2173732 ]\n",
      " [ 75.41485997  99.12419693 139.08407765]]\n",
      "[[ 16.77023762  72.26924873 125.2173732 ]\n",
      " [ 75.41485997  99.12419693 139.08407765]] m\n",
      "[[-7.10542736e-15  0.00000000e+00  2.84217094e-14]\n",
      " [ 0.00000000e+00  0.00000000e+00  0.00000000e+00]]\n"
     ]
    }
   ],
   "source": [
    "# next rotate them so they can be added to telescope location in frame\n",
    "uvw_rel_positions = uvutils.ECEF_from_rotECEF(uvw_rot_positions,\n",
    "                                              gcrs_lat_lon_alt[1])\n",
    "\n",
    "print(uvw_rel_positions)\n",
    "print(gcrs_rel)\n",
    "print(uvw_rel_positions - gcrs_rel.value)"
   ]
  },
  {
   "cell_type": "code",
   "execution_count": 71,
   "metadata": {
    "collapsed": false
   },
   "outputs": [
    {
     "name": "stdout",
     "output_type": "stream",
     "text": [
      "<SkyCoord (GCRS: obstime=55780.1, obsgeoloc=(0., 0., 0.) m, obsgeovel=(0., 0., 0.) m / s): (x, y, z) in m\n",
      "    [(-1745402.73745299, 5429516.84400159, -2846871.72661226),\n",
      "     (-1745344.09283064, 5429543.69894979, -2846857.85990781)]>\n",
      "<SkyCoord (GCRS: obstime=55780.1, obsgeoloc=(0., 0., 0.) m, obsgeovel=(0., 0., 0.) m / s): (ra, dec, distance) in (deg, deg, m)\n",
      "    [(107.82081035, -26.52718046, 6374226.42388781),\n",
      "     (107.82016689, -26.52703835, 6374227.04770571)]>\n",
      "[(0., 0., 0.), (0., 0., 0.)] m\n"
     ]
    }
   ],
   "source": [
    "gcrs_uvw_coord = SkyCoord(x=uvw_rel_positions[:, 0] * units.m + gcrs_array_center.cartesian.x,\n",
    "                          y=uvw_rel_positions[:, 1] * units.m + gcrs_array_center.cartesian.y,\n",
    "                          z=uvw_rel_positions[:, 2] * units.m + gcrs_array_center.cartesian.z,\n",
    "                          representation='cartesian',\n",
    "                          frame='gcrs', obstime=obs_time)\n",
    "\n",
    "print(gcrs_uvw_coord)\n",
    "print(gcrs_from_itrs_coord)\n",
    "print(gcrs_uvw_coord.cartesian - gcrs_from_itrs_coord.cartesian)"
   ]
  },
  {
   "cell_type": "code",
   "execution_count": 72,
   "metadata": {
    "collapsed": false
   },
   "outputs": [
    {
     "name": "stdout",
     "output_type": "stream",
     "text": [
      "<SkyCoord (ITRS: obstime=55780.1): (x, y, z) in m\n",
      "    [(-2559448.81205387, 5095446.11017142, -2848931.9436948 ),\n",
      "     (-2559395.03254594, 5095481.69466586, -2848918.00907071)]>\n",
      "<SkyCoord (ITRS: obstime=55780.1): (x, y, z) in m\n",
      "    [(-2559448.81204191, 5095446.11020141, -2848931.94369528),\n",
      "     (-2559395.03251243, 5095481.69471912, -2848918.00907261)]>\n",
      "[[-0.01196098 -0.03350759]\n",
      " [-0.02998766 -0.05325954]\n",
      " [ 0.00048103  0.0019013 ]] mm\n"
     ]
    }
   ],
   "source": [
    "itrs_uvw_coord = gcrs_uvw_coord.transform_to('itrs')\n",
    "itrs_uvw_coord.representation = 'cartesian'\n",
    "\n",
    "print(itrs_uvw_coord)\n",
    "print(itrs_coord)\n",
    "print((itrs_uvw_coord.cartesian - itrs_coord.cartesian).get_xyz().to('mm'))"
   ]
  },
  {
   "cell_type": "code",
   "execution_count": null,
   "metadata": {
    "collapsed": true
   },
   "outputs": [],
   "source": []
  }
 ],
 "metadata": {
  "kernelspec": {
   "display_name": "Python 2",
   "language": "python",
   "name": "python2"
  },
  "language_info": {
   "codemirror_mode": {
    "name": "ipython",
    "version": 2
   },
   "file_extension": ".py",
   "mimetype": "text/x-python",
   "name": "python",
   "nbconvert_exporter": "python",
   "pygments_lexer": "ipython2",
   "version": "2.7.15"
  }
 },
 "nbformat": 4,
 "nbformat_minor": 0
}
