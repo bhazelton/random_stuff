{
 "cells": [
  {
   "cell_type": "code",
   "execution_count": 1,
   "metadata": {
    "collapsed": false
   },
   "outputs": [],
   "source": [
    "import numpy as np\n",
    "from astropy.coordinates import SkyCoord, Angle, EarthLocation, Longitude, spherical_to_cartesian, cartesian_to_spherical\n",
    "from astropy.time import Time, TimeDelta\n",
    "from astropy import units"
   ]
  },
  {
   "cell_type": "code",
   "execution_count": 2,
   "metadata": {
    "collapsed": false
   },
   "outputs": [],
   "source": [
    "ra_hrs = 12.1\n",
    "dec_degs = -42.3\n",
    "mjd = 55780.1\n",
    "latitude = Angle('-26d42m11.94986s')\n",
    "longitude = Angle('116d40m14.93485s')"
   ]
  },
  {
   "cell_type": "code",
   "execution_count": 3,
   "metadata": {
    "collapsed": false
   },
   "outputs": [
    {
     "name": "stdout",
     "output_type": "stream",
     "text": [
      "-0.466060844839\n",
      "2.03628986686\n"
     ]
    }
   ],
   "source": [
    "print(latitude.rad)\n",
    "print(longitude.rad)"
   ]
  },
  {
   "cell_type": "code",
   "execution_count": 4,
   "metadata": {
    "collapsed": false
   },
   "outputs": [
    {
     "name": "stdout",
     "output_type": "stream",
     "text": [
      "1.88387679923\n",
      "1.88395723805\n"
     ]
    }
   ],
   "source": [
    "obs_time = Time(mjd, format='mjd', location = (longitude, latitude))\n",
    "lst_mean = obs_time.sidereal_time('mean')\n",
    "lst_apparent = obs_time.sidereal_time('apparent')\n",
    "print(lst_mean.rad)\n",
    "print(lst_apparent.rad)"
   ]
  },
  {
   "cell_type": "code",
   "execution_count": 5,
   "metadata": {
    "collapsed": false
   },
   "outputs": [
    {
     "data": {
      "text/latex": [
       "$-0^\\circ00{}^\\prime16.5917{}^{\\prime\\prime}$"
      ],
      "text/plain": [
       "<Angle -0.0046088 deg>"
      ]
     },
     "execution_count": 5,
     "metadata": {},
     "output_type": "execute_result"
    }
   ],
   "source": [
    "(lst_mean - lst_apparent).to('deg')"
   ]
  },
  {
   "cell_type": "code",
   "execution_count": 6,
   "metadata": {
    "collapsed": false
   },
   "outputs": [],
   "source": [
    "mwa_tools_lst_mean = np.float64(1.8838984)"
   ]
  },
  {
   "cell_type": "code",
   "execution_count": 7,
   "metadata": {
    "collapsed": false
   },
   "outputs": [
    {
     "name": "stdout",
     "output_type": "stream",
     "text": [
      "-0d00m04.4555s\n",
      "0d00m12.1362s\n"
     ]
    }
   ],
   "source": [
    "print(Angle(lst_mean.rad - mwa_tools_lst_mean, unit='rad').to('deg'))\n",
    "print(Angle(lst_apparent.rad - mwa_tools_lst_mean, unit='rad').to('deg'))"
   ]
  },
  {
   "cell_type": "code",
   "execution_count": 8,
   "metadata": {
    "collapsed": false
   },
   "outputs": [
    {
     "name": "stdout",
     "output_type": "stream",
     "text": [
      "-0d00m04.4555s\n",
      "0d00m12.1362s\n"
     ]
    }
   ],
   "source": [
    "print((lst_mean - Angle(mwa_tools_lst_mean, unit='rad')).to('deg'))\n",
    "print((lst_apparent - Angle(mwa_tools_lst_mean, unit='rad')).to('deg'))"
   ]
  },
  {
   "cell_type": "code",
   "execution_count": 9,
   "metadata": {
    "collapsed": false
   },
   "outputs": [
    {
     "name": "stdout",
     "output_type": "stream",
     "text": [
      "1.88389890112\n"
     ]
    },
    {
     "data": {
      "text/latex": [
       "$0^\\circ00{}^\\prime00.1034{}^{\\prime\\prime}$"
      ],
      "text/plain": [
       "<Angle 2.87119341e-05 deg>"
      ]
     },
     "execution_count": 9,
     "metadata": {},
     "output_type": "execute_result"
    }
   ],
   "source": [
    "new_time = obs_time + TimeDelta('-0.8' * units.s)\n",
    "print(new_time.sidereal_time('apparent').rad)\n",
    "(new_time.sidereal_time('apparent') - Angle(mwa_tools_lst_mean, unit='rad')).to('deg')"
   ]
  },
  {
   "cell_type": "markdown",
   "metadata": {},
   "source": [
    "# -> mean LST disagrees by ~4.5 arcseconds (should we use apparent??)"
   ]
  },
  {
   "cell_type": "code",
   "execution_count": 10,
   "metadata": {
    "collapsed": false
   },
   "outputs": [
    {
     "data": {
      "text/plain": [
       "<SkyCoord (ICRS): (ra, dec) in deg\n",
       "    (181.5, -42.3)>"
      ]
     },
     "execution_count": 10,
     "metadata": {},
     "output_type": "execute_result"
    }
   ],
   "source": [
    "icrs_coord = SkyCoord(ra=Angle(ra_hrs, unit='hr'), dec=Angle(dec_degs, unit='deg'),\n",
    "                      obstime=Time(mjd, format='mjd'))\n",
    "icrs_coord"
   ]
  },
  {
   "cell_type": "code",
   "execution_count": 11,
   "metadata": {
    "collapsed": false
   },
   "outputs": [
    {
     "data": {
      "text/plain": [
       "(3.1677725923697078, -0.7382742735936013)"
      ]
     },
     "execution_count": 11,
     "metadata": {},
     "output_type": "execute_result"
    }
   ],
   "source": [
    "icrs_coord.ra.rad, icrs_coord.dec.rad"
   ]
  },
  {
   "cell_type": "code",
   "execution_count": 12,
   "metadata": {
    "collapsed": false
   },
   "outputs": [
    {
     "data": {
      "text/plain": [
       "<SkyCoord (GCRS: obstime=55780.1, obsgeoloc=(0., 0., 0.) m, obsgeovel=(0., 0., 0.) m / s): (ra, dec) in deg\n",
       "    (181.49525535, -42.3015925)>"
      ]
     },
     "execution_count": 12,
     "metadata": {},
     "output_type": "execute_result"
    }
   ],
   "source": [
    "gcrs_coord = icrs_coord.transform_to('gcrs')\n",
    "gcrs_coord"
   ]
  },
  {
   "cell_type": "code",
   "execution_count": 13,
   "metadata": {
    "collapsed": false
   },
   "outputs": [
    {
     "data": {
      "text/plain": [
       "(3.167689782620545, -0.7383020680162412)"
      ]
     },
     "execution_count": 13,
     "metadata": {},
     "output_type": "execute_result"
    }
   ],
   "source": [
    "gcrs_coord.ra.rad, gcrs_coord.dec.rad"
   ]
  },
  {
   "cell_type": "code",
   "execution_count": 14,
   "metadata": {
    "collapsed": false
   },
   "outputs": [
    {
     "name": "stdout",
     "output_type": "stream",
     "text": [
      "0d00m17.0807s\n",
      "0d00m05.733s\n"
     ]
    }
   ],
   "source": [
    "# This is the change in ra & dec between icrs & gcrs\n",
    "print(icrs_coord.ra-gcrs_coord.ra)\n",
    "print(icrs_coord.dec-gcrs_coord.dec)"
   ]
  },
  {
   "cell_type": "code",
   "execution_count": 15,
   "metadata": {
    "collapsed": false
   },
   "outputs": [
    {
     "name": "stdout",
     "output_type": "stream",
     "text": [
      "-1.28381298339\n",
      "-1.28373254457\n"
     ]
    }
   ],
   "source": [
    "hour_angle_mean = lst_mean.rad - gcrs_coord.ra.rad\n",
    "hour_angle_apparent = lst_apparent.rad - gcrs_coord.ra.rad\n",
    "\n",
    "print(hour_angle_mean)\n",
    "print(hour_angle_apparent)"
   ]
  },
  {
   "cell_type": "code",
   "execution_count": 16,
   "metadata": {
    "collapsed": true
   },
   "outputs": [],
   "source": [
    "# mwa_tools comp2\n",
    "# It turns out these are not actually used in the return values at all. So don't worry about them\n",
    "mwa_tools_comp2_ra = 3.1703987\n",
    "mwa_tools_comp2_dec = -0.73946297"
   ]
  },
  {
   "cell_type": "code",
   "execution_count": 17,
   "metadata": {
    "collapsed": false
   },
   "outputs": [
    {
     "name": "stdout",
     "output_type": "stream",
     "text": [
      "-0deg09m18.7543s\n",
      "0deg03m59.4532s\n"
     ]
    }
   ],
   "source": [
    "# compare mwa_tools comp2 to gcrs\n",
    "print(Angle(gcrs_coord.ra.rad - mwa_tools_comp2_ra, unit='rad').to_string(unit=units.degree, sep=('deg', 'm', 's')))\n",
    "print(Angle(gcrs_coord.dec.rad - mwa_tools_comp2_dec, unit='rad').to_string(unit=units.degree, sep=('deg', 'm', 's')))"
   ]
  },
  {
   "cell_type": "code",
   "execution_count": 18,
   "metadata": {
    "collapsed": true
   },
   "outputs": [],
   "source": [
    "# mwa_tools comp3\n",
    "mwa_tools_comp3_ra = 3.1676898\n",
    "mwa_tools_comp3_dec = -0.73830205"
   ]
  },
  {
   "cell_type": "code",
   "execution_count": 19,
   "metadata": {
    "collapsed": false
   },
   "outputs": [
    {
     "name": "stdout",
     "output_type": "stream",
     "text": [
      "-0deg00m00.0036s\n",
      "-0deg00m00.0037s\n"
     ]
    }
   ],
   "source": [
    "# compare mwa_tools comp3 to gcrs\n",
    "print(Angle(gcrs_coord.ra.rad - mwa_tools_comp3_ra, unit='rad').to_string(unit=units.degree, sep=('deg', 'm', 's')))\n",
    "print(Angle(gcrs_coord.dec.rad - mwa_tools_comp3_dec, unit='rad').to_string(unit=units.degree, sep=('deg', 'm', 's')))"
   ]
  },
  {
   "cell_type": "markdown",
   "metadata": {},
   "source": [
    "# -> mwa_tools ra_aber/dec_aber (calc3) agrees with GCRS, meaning that it accounts for aberration but not nutation or precession"
   ]
  },
  {
   "cell_type": "code",
   "execution_count": 20,
   "metadata": {
    "collapsed": true
   },
   "outputs": [],
   "source": [
    "# The frame radio astronomers call the apparent or current epoch is the\n",
    "# \"true equator & equinox\" frame, notated E_gamma in the USNO circular\n",
    "# astropy doesn't have this frame but it's pretty easy to adapt the CIRS frame\n",
    "# by modifying the ra to reflect the difference between\n",
    "# GAST (Grenwich Apparent Sidereal Time) and the earth rotation angle (theta)\n",
    "def egamma_to_cirs_ra(egamma_ra, time):\n",
    "    from astropy import _erfa as erfa\n",
    "    from astropy.coordinates.builtin_frames.utils import get_jd12\n",
    "    era = erfa.era00(*get_jd12(time, 'ut1'))\n",
    "    theta_earth = Angle(era, unit='rad')\n",
    "\n",
    "    assert(isinstance(time, Time))\n",
    "    gast = time.sidereal_time('apparent', longitude=0)\n",
    "    cirs_ra = egamma_ra - (gast-theta_earth)\n",
    "    return cirs_ra"
   ]
  },
  {
   "cell_type": "code",
   "execution_count": 21,
   "metadata": {
    "collapsed": false
   },
   "outputs": [
    {
     "data": {
      "text/plain": [
       "<SkyCoord (CIRS: obstime=55780.1): (ra, dec) in deg\n",
       "    (107.78961213, -26.70331941)>"
      ]
     },
     "execution_count": 21,
     "metadata": {},
     "output_type": "execute_result"
    }
   ],
   "source": [
    "# now get equivilents of lst, lat in GCRS (rather than precessed) frame:\n",
    "# effectively current zenith \"unprecessed\" to J2000 but not undoing aberration\n",
    "# mwa_tools calls these \"lmst2000\" and \"newarrlat\"\n",
    "# also need gcrs hour angle (ha_gcrs), what they call \"ha2000\" which is (\"lmst2000\" - apparent ra)\n",
    "\n",
    "loc_obj = EarthLocation.from_geodetic(lon=longitude, lat=latitude)\n",
    "\n",
    "# use CIRS but with a different ra to account for the difference between LST & earth's rotation angle\n",
    "cirs_ra = egamma_to_cirs_ra(obs_time.sidereal_time('apparent'), obs_time)\n",
    "\n",
    "egamma_zenith_coord = SkyCoord(ra=cirs_ra, dec=latitude, frame='cirs',\n",
    "                               obstime=obs_time, location = loc_obj)\n",
    "egamma_zenith_coord"
   ]
  },
  {
   "cell_type": "code",
   "execution_count": 22,
   "metadata": {
    "collapsed": false
   },
   "outputs": [
    {
     "data": {
      "text/plain": [
       "<SkyCoord (AltAz: obstime=55780.1, location=(-2559302.5737783727, 5095070.526830904, -2848887.400942108) m, pressure=0.0 hPa, temperature=0.0 deg_C, relative_humidity=0, obswl=1.0 micron): (az, alt) in deg\n",
       "    (28.60732437, 89.99985797)>"
      ]
     },
     "execution_count": 22,
     "metadata": {},
     "output_type": "execute_result"
    }
   ],
   "source": [
    "# check where it is in altaz (should be near zenith):\n",
    "egamma_zenith_altaz = egamma_zenith_coord.transform_to('altaz')\n",
    "egamma_zenith_altaz"
   ]
  },
  {
   "cell_type": "code",
   "execution_count": 23,
   "metadata": {
    "collapsed": false
   },
   "outputs": [
    {
     "data": {
      "text/latex": [
       "$-0^\\circ00{}^\\prime00.5113{}^{\\prime\\prime}$"
      ],
      "text/plain": [
       "<Angle -0.00014203 deg>"
      ]
     },
     "execution_count": 23,
     "metadata": {},
     "output_type": "execute_result"
    }
   ],
   "source": [
    "(egamma_zenith_altaz.alt - Angle('90d')).to('deg')"
   ]
  },
  {
   "cell_type": "code",
   "execution_count": 24,
   "metadata": {
    "collapsed": false
   },
   "outputs": [
    {
     "data": {
      "text/plain": [
       "<SkyCoord (GCRS: obstime=55780.1, obsgeoloc=(0., 0., 0.) m, obsgeovel=(0., 0., 0.) m / s): (ra, dec) in deg\n",
       "    (107.82139279, -26.68249473)>"
      ]
     },
     "execution_count": 24,
     "metadata": {},
     "output_type": "execute_result"
    }
   ],
   "source": [
    "gcrs_zenith = egamma_zenith_altaz.transform_to('gcrs')\n",
    "gcrs_zenith"
   ]
  },
  {
   "cell_type": "code",
   "execution_count": 25,
   "metadata": {
    "collapsed": false
   },
   "outputs": [
    {
     "name": "stdout",
     "output_type": "stream",
     "text": [
      "1.88183830833\n",
      "-0.465697385751\n"
     ]
    }
   ],
   "source": [
    "print(gcrs_zenith.ra.rad)\n",
    "print(gcrs_zenith.dec.rad)"
   ]
  },
  {
   "cell_type": "code",
   "execution_count": 26,
   "metadata": {
    "collapsed": false
   },
   "outputs": [
    {
     "name": "stdout",
     "output_type": "stream",
     "text": [
      "-0d07m17.0606s\n",
      "0d01m14.9688s\n"
     ]
    }
   ],
   "source": [
    "# This is the change between egamma & gcrs\n",
    "print(gcrs_zenith.ra - lst_apparent)\n",
    "print(gcrs_zenith.dec - egamma_zenith_coord.dec)"
   ]
  },
  {
   "cell_type": "code",
   "execution_count": 27,
   "metadata": {
    "collapsed": false
   },
   "outputs": [
    {
     "data": {
      "text/latex": [
       "$286^\\circ19{}^\\prime34.0948{}^{\\prime\\prime}$"
      ],
      "text/plain": [
       "<Longitude 286.32613744 deg>"
      ]
     },
     "execution_count": 27,
     "metadata": {},
     "output_type": "execute_result"
    }
   ],
   "source": [
    "ha_gcrs = Longitude(gcrs_zenith.ra - gcrs_coord.ra)\n",
    "ha_gcrs"
   ]
  },
  {
   "cell_type": "code",
   "execution_count": 28,
   "metadata": {
    "collapsed": false
   },
   "outputs": [
    {
     "data": {
      "text/plain": [
       "4.997333832891704"
      ]
     },
     "execution_count": 28,
     "metadata": {},
     "output_type": "execute_result"
    }
   ],
   "source": [
    "ha_gcrs.rad"
   ]
  },
  {
   "cell_type": "code",
   "execution_count": 29,
   "metadata": {
    "collapsed": true
   },
   "outputs": [],
   "source": [
    "# for these, I used the apparent lst (and aberration corrected ra/decs) from this notebook,\n",
    "# so that's not a source of error\n",
    "mwa_tools_comp4_newarrlat = -0.46569739\n",
    "mwa_tools_comp4_lmst2000 = 1.8818386\n",
    "mwa_tools_comp4_ha2000 = 4.9973341"
   ]
  },
  {
   "cell_type": "code",
   "execution_count": 30,
   "metadata": {
    "collapsed": false
   },
   "outputs": [
    {
     "name": "stdout",
     "output_type": "stream",
     "text": [
      "0d07m17.0005s\n",
      "-0d01m14.9679s\n"
     ]
    }
   ],
   "source": [
    "# This is what the MWA tools code gives as the change between precessed & not\n",
    "print(Angle(lst_apparent.rad - mwa_tools_comp4_lmst2000, unit='rad').to('deg'))\n",
    "print(Angle(latitude.rad - mwa_tools_comp4_newarrlat, unit='rad').to('deg'))"
   ]
  },
  {
   "cell_type": "code",
   "execution_count": 31,
   "metadata": {
    "collapsed": false
   },
   "outputs": [
    {
     "name": "stdout",
     "output_type": "stream",
     "text": [
      "-0d00m00.0602s\n",
      "0d00m00.0009s\n",
      "-0d00m00.0551s\n"
     ]
    }
   ],
   "source": [
    "print(Angle(gcrs_zenith.ra.rad - mwa_tools_comp4_lmst2000, unit='rad').to('deg'))\n",
    "print(Angle(gcrs_zenith.dec.rad - mwa_tools_comp4_newarrlat, unit='rad').to('deg'))\n",
    "print(Angle(ha_gcrs.rad - mwa_tools_comp4_ha2000, unit='rad').to('deg'))"
   ]
  },
  {
   "cell_type": "code",
   "execution_count": 32,
   "metadata": {
    "collapsed": false
   },
   "outputs": [
    {
     "name": "stdout",
     "output_type": "stream",
     "text": [
      "<SkyCoord (CIRS: obstime=55780.0999907): (ra, dec) in deg\n",
      "    (107.78626967, -26.70331941)>\n",
      "<SkyCoord (AltAz: obstime=55780.0999907, location=(-2559302.5737783727, 5095070.526830904, -2848887.400942108) m, pressure=0.0 hPa, temperature=0.0 deg_C, relative_humidity=0, obswl=1.0 micron): (az, alt) in deg\n",
      "    (28.60732375, 89.99985797)>\n",
      "-0d00m00.5113s\n",
      "-0d00m00.0449s\n",
      "-0d00m00s\n",
      "-0d00m00.0605s\n"
     ]
    }
   ],
   "source": [
    "# redo using the mean lst that matches mwa_tools\n",
    "new_cirs_ra = egamma_to_cirs_ra(new_time.sidereal_time('apparent'), new_time)\n",
    "\n",
    "loc_obj = EarthLocation.from_geodetic(lon=longitude, lat=latitude)\n",
    "new_egamma_zenith_coord = SkyCoord(ra=new_cirs_ra, dec=latitude, frame='cirs',\n",
    "                                   obstime=new_time, location = loc_obj)\n",
    "print(new_egamma_zenith_coord)\n",
    "new_egamma_zenith_altaz = new_egamma_zenith_coord.transform_to('altaz')\n",
    "print(new_egamma_zenith_altaz)\n",
    "print((new_egamma_zenith_altaz.alt - Angle('90d')).to('deg'))\n",
    "\n",
    "new_gcrs_zenith = new_egamma_zenith_altaz.transform_to('gcrs')\n",
    "new_ha_gcrs = Longitude(new_gcrs_zenith.ra - gcrs_coord.ra)\n",
    "\n",
    "new_mwa_tools_comp4_ha2000 = 4.9972758\n",
    "new_mwa_tools_comp4_newarrlat = -0.46569745\n",
    "new_mwa_tools_comp4_lmst2000 = 1.8817802\n",
    "\n",
    "print(Angle(new_gcrs_zenith.ra.rad - new_mwa_tools_comp4_lmst2000, unit='rad').to('deg'))\n",
    "print(Angle(new_gcrs_zenith.dec.rad - new_mwa_tools_comp4_newarrlat, unit='rad').to('deg'))\n",
    "print(Angle(new_ha_gcrs.rad - new_mwa_tools_comp4_ha2000, unit='rad').to('deg'))\n"
   ]
  },
  {
   "cell_type": "markdown",
   "metadata": {},
   "source": [
    "# => Egamma -> CIRS -> CGRS agrees with computation4"
   ]
  },
  {
   "cell_type": "code",
   "execution_count": 33,
   "metadata": {
    "collapsed": false
   },
   "outputs": [
    {
     "data": {
      "text/plain": [
       "array([[ 1.00000000e+00, -1.11022333e-07, -4.41180450e-08],\n",
       "       [ 1.11022337e-07,  1.00000000e+00,  9.64779225e-08],\n",
       "       [ 4.41180343e-08, -9.64779274e-08,  1.00000000e+00]])"
      ]
     },
     "execution_count": 33,
     "metadata": {},
     "output_type": "execute_result"
    }
   ],
   "source": [
    "# An undocumented feature lets you get the rotation matrix for some Astropy transforms\n",
    "from astropy import coordinates\n",
    "from astropy.coordinates.builtin_frames import icrs_fk5_transforms\n",
    "fk5 = coordinates.FK5()\n",
    "icrs_fk5_transforms.icrs_to_fk5(None, fk5)"
   ]
  },
  {
   "cell_type": "code",
   "execution_count": 34,
   "metadata": {
    "collapsed": false
   },
   "outputs": [],
   "source": [
    "# # But not for the ones we want -- this errors:\n",
    "# from astropy import coordinates\n",
    "# from astropy.coordinates.builtin_frames import icrs_cirs_transforms\n",
    "# cirs = coordinates.CIRS(obstime=Time(mjd, format='mjd'))\n",
    "# icrs_cirs_transforms.icrs_to_cirs(None, cirs)"
   ]
  },
  {
   "cell_type": "code",
   "execution_count": 35,
   "metadata": {
    "collapsed": false
   },
   "outputs": [],
   "source": [
    "# now define an antenna position to work on uvw rotation\n",
    "# the positions used in the mwa_tools code are the same as those used in uvfits antenna positions:\n",
    "# relative to the array center (expressed in ITRS), but rotated so that the x axis goes through the meridian\n",
    "\n",
    "from pyuvdata import utils as uvutils\n",
    "array_center_xyz = np.array([-2559454.08, 5095372.14, -2849057.18])\n",
    "\n",
    "# in east/north/up frame (relative to array center) in meters:\n",
    "x_ant = -101.94\n",
    "y_ant = 0156.41\n",
    "z_ant = 0001.24\n",
    "\n",
    "lat_lon_alt = uvutils.LatLonAlt_from_XYZ(array_center_xyz)\n",
    "ant_xyz_abs = uvutils.ECEF_from_ENU(np.array([x_ant, y_ant, z_ant]), lat_lon_alt[0], lat_lon_alt[1], lat_lon_alt[2])\n",
    "\n",
    "ant_xyz_rel_itrs = ant_xyz_abs - array_center_xyz\n",
    "ant_xyz_rel_rot = uvutils.rotECEF_from_ECEF(ant_xyz_rel_itrs, lat_lon_alt[1])"
   ]
  },
  {
   "cell_type": "code",
   "execution_count": 36,
   "metadata": {
    "collapsed": false
   },
   "outputs": [
    {
     "name": "stdout",
     "output_type": "stream",
     "text": [
      "[  71.39382794 -101.94        139.17092739]\n"
     ]
    }
   ],
   "source": [
    "print(ant_xyz_rel_rot)"
   ]
  },
  {
   "cell_type": "code",
   "execution_count": 37,
   "metadata": {
    "collapsed": false
   },
   "outputs": [
    {
     "data": {
      "text/plain": [
       "(<Quantity -0.27293726>, <Quantity 0.85062987>, <Quantity -0.44937075>)"
      ]
     },
     "execution_count": 37,
     "metadata": {},
     "output_type": "execute_result"
    }
   ],
   "source": [
    "egamma_zenith_xyz = spherical_to_cartesian(1, egamma_zenith_coord.dec, egamma_zenith_coord.ra)\n",
    "egamma_zenith_xyz"
   ]
  },
  {
   "cell_type": "code",
   "execution_count": 38,
   "metadata": {
    "collapsed": false
   },
   "outputs": [
    {
     "data": {
      "text/plain": [
       "(<Quantity 186.70133717>,\n",
       " <Latitude 0.84116482 rad>,\n",
       " <Longitude 5.32335079 rad>)"
      ]
     },
     "execution_count": 38,
     "metadata": {},
     "output_type": "execute_result"
    }
   ],
   "source": [
    "egamma_ant_spherical = cartesian_to_spherical(ant_xyz_rel_rot[0], ant_xyz_rel_rot[1], ant_xyz_rel_rot[2])\n",
    "egamma_ant_spherical"
   ]
  },
  {
   "cell_type": "code",
   "execution_count": 39,
   "metadata": {
    "collapsed": true
   },
   "outputs": [],
   "source": [
    "egamma_zenith_cartesian = SkyCoord(x=egamma_zenith_xyz[0], y=egamma_zenith_xyz[1], z=egamma_zenith_xyz[2],\n",
    "                                   representation = 'cartesian', frame='cirs',\n",
    "                                   obstime=obs_time)"
   ]
  },
  {
   "cell_type": "code",
   "execution_count": 40,
   "metadata": {
    "collapsed": false
   },
   "outputs": [
    {
     "data": {
      "text/plain": [
       "<SkyCoord (CIRS: obstime=55780.1): (ra, dec, distance) in (deg, deg, )\n",
       "    (107.78961213, -26.70331941, 1.)>"
      ]
     },
     "execution_count": 40,
     "metadata": {},
     "output_type": "execute_result"
    }
   ],
   "source": [
    "egamma_zenith_cartesian.representation='spherical'\n",
    "egamma_zenith_cartesian"
   ]
  },
  {
   "cell_type": "code",
   "execution_count": 41,
   "metadata": {
    "collapsed": false
   },
   "outputs": [
    {
     "name": "stdout",
     "output_type": "stream",
     "text": [
      "0d00m00s\n",
      "0d00m00s\n"
     ]
    }
   ],
   "source": [
    "print(egamma_zenith_cartesian.ra - egamma_zenith_coord.ra)\n",
    "print(egamma_zenith_cartesian.dec - egamma_zenith_coord.dec)"
   ]
  },
  {
   "cell_type": "code",
   "execution_count": 42,
   "metadata": {
    "collapsed": false
   },
   "outputs": [
    {
     "data": {
      "text/plain": [
       "(<Quantity 71.12102561>, <Quantity -102.13051446>, <Quantity 139.17092739>)"
      ]
     },
     "execution_count": 42,
     "metadata": {},
     "output_type": "execute_result"
    }
   ],
   "source": [
    "cirs_ant_ra = egamma_to_cirs_ra(egamma_ant_spherical[2], obs_time)\n",
    "\n",
    "cirs_ant_xyz = spherical_to_cartesian(egamma_ant_spherical[0], egamma_ant_spherical[1], cirs_ant_ra)\n",
    "cirs_ant_xyz"
   ]
  },
  {
   "cell_type": "code",
   "execution_count": 43,
   "metadata": {
    "collapsed": false
   },
   "outputs": [
    {
     "data": {
      "text/plain": [
       "<SkyCoord (CIRS: obstime=55780.1): (x, y, z) in m\n",
       "    (71.12102561, -102.13051446, 139.17092739)>"
      ]
     },
     "execution_count": 43,
     "metadata": {},
     "output_type": "execute_result"
    }
   ],
   "source": [
    "cirs_ant_coord = SkyCoord(x=cirs_ant_xyz[0]*units.m, y=cirs_ant_xyz[1]*units.m, z=cirs_ant_xyz[2]*units.m,\n",
    "                          representation = 'cartesian', frame='cirs',\n",
    "                          obstime=obs_time)\n",
    "cirs_ant_coord"
   ]
  },
  {
   "cell_type": "code",
   "execution_count": 44,
   "metadata": {
    "collapsed": false
   },
   "outputs": [
    {
     "data": {
      "text/plain": [
       "<SkyCoord (GCRS: obstime=55780.1, obsgeoloc=(0., 0., 0.) m, obsgeovel=(0., 0., 0.) m / s): (x, y, z) in m\n",
       "    (71.28260457, -102.13175108, 139.08732594)>"
      ]
     },
     "execution_count": 44,
     "metadata": {},
     "output_type": "execute_result"
    }
   ],
   "source": [
    "gcrs_ant_coord = cirs_ant_coord.transform_to('gcrs')\n",
    "gcrs_ant_coord.representation = 'cartesian'\n",
    "gcrs_ant_coord"
   ]
  },
  {
   "cell_type": "code",
   "execution_count": 45,
   "metadata": {
    "collapsed": true
   },
   "outputs": [],
   "source": [
    "mwa_tools_precxyz_xprec = 71.286688\n",
    "mwa_tools_precxyz_yprec = -102.13304\n",
    "mwa_tools_precxyz_zprec = 139.08429"
   ]
  },
  {
   "cell_type": "code",
   "execution_count": 46,
   "metadata": {
    "collapsed": false
   },
   "outputs": [
    {
     "name": "stdout",
     "output_type": "stream",
     "text": [
      "-0.1071399426444799\n",
      "-0.1930399991369427\n",
      "-0.0866373932501574\n"
     ]
    }
   ],
   "source": [
    "print(mwa_tools_precxyz_xprec - ant_xyz_rel_rot[0])\n",
    "print(mwa_tools_precxyz_yprec - ant_xyz_rel_rot[1])\n",
    "print(mwa_tools_precxyz_zprec - ant_xyz_rel_rot[2])"
   ]
  },
  {
   "cell_type": "code",
   "execution_count": 47,
   "metadata": {
    "collapsed": false
   },
   "outputs": [
    {
     "name": "stdout",
     "output_type": "stream",
     "text": [
      "-4.08343381373 mm\n",
      "1.28892441548 mm\n",
      "3.03593942368 mm\n"
     ]
    }
   ],
   "source": [
    "print((gcrs_ant_coord.x - mwa_tools_precxyz_xprec*units.m).to('mm'))\n",
    "print((gcrs_ant_coord.y - mwa_tools_precxyz_yprec*units.m).to('mm'))\n",
    "print((gcrs_ant_coord.z - mwa_tools_precxyz_zprec*units.m).to('mm'))\n",
    "# these differences might be due to using a different lst (apparent)\n",
    "# or using relative rather than absolute locations"
   ]
  },
  {
   "cell_type": "markdown",
   "metadata": {},
   "source": [
    "# The precessed positions match to < 5mm"
   ]
  },
  {
   "cell_type": "code",
   "execution_count": 48,
   "metadata": {
    "collapsed": false
   },
   "outputs": [
    {
     "name": "stdout",
     "output_type": "stream",
     "text": [
      "<SkyCoord (ITRS: obstime=55780.1): (x, y, z) in m\n",
      "    (-2559454.08, 5095372.14, -2849057.18)>\n"
     ]
    },
    {
     "data": {
      "text/plain": [
       "<SkyCoord (ITRS: obstime=55780.1): (x, y, z) in m\n",
       "    (-2559395.03251243, 5095481.69471912, -2848918.00907261)>"
      ]
     },
     "execution_count": 48,
     "metadata": {},
     "output_type": "execute_result"
    }
   ],
   "source": [
    "# try something else. Define antennas in ITRS frame. Then rotate them to GCRS\n",
    "array_center_coord = SkyCoord(x=array_center_xyz[0]*units.m,\n",
    "                              y=array_center_xyz[1]*units.m,\n",
    "                              z=array_center_xyz[2]*units.m,\n",
    "                              representation = 'cartesian', frame='itrs', obstime=obs_time)\n",
    "print(array_center_coord)\n",
    "itrs_coord = SkyCoord(x=ant_xyz_abs[0]*units.m, y=ant_xyz_abs[1]*units.m, z=ant_xyz_abs[2]*units.m,\n",
    "                      representation = 'cartesian', frame='itrs', obstime=obs_time)\n",
    "itrs_coord"
   ]
  },
  {
   "cell_type": "code",
   "execution_count": 49,
   "metadata": {
    "collapsed": false
   },
   "outputs": [
    {
     "name": "stdout",
     "output_type": "stream",
     "text": [
      "59.0474875653 m\n",
      "109.554719117 m\n",
      "139.170927393 m\n"
     ]
    }
   ],
   "source": [
    "print(itrs_coord.x - array_center_coord.x)\n",
    "print(itrs_coord.y - array_center_coord.y)\n",
    "print(itrs_coord.z - array_center_coord.z)"
   ]
  },
  {
   "cell_type": "code",
   "execution_count": 50,
   "metadata": {
    "collapsed": false
   },
   "outputs": [
    {
     "name": "stdout",
     "output_type": "stream",
     "text": [
      "<SkyCoord (GCRS: obstime=55780.1, obsgeoloc=(0., 0., 0.) m, obsgeovel=(0., 0., 0.) m / s): (ra, dec, distance) in (deg, deg, m)\n",
      "    (107.82119295, -26.52844311, 6374225.38409199)>\n"
     ]
    },
    {
     "data": {
      "text/plain": [
       "<SkyCoord (GCRS: obstime=55780.1, obsgeoloc=(0., 0., 0.) m, obsgeovel=(0., 0., 0.) m / s): (ra, dec, distance) in (deg, deg, m)\n",
       "    (107.82016689, -26.52703835, 6374227.04770571)>"
      ]
     },
     "execution_count": 50,
     "metadata": {},
     "output_type": "execute_result"
    }
   ],
   "source": [
    "gcrs_array_center = array_center_coord.transform_to('gcrs')\n",
    "print(gcrs_array_center)\n",
    "gcrs_from_itrs_coord = itrs_coord.transform_to('gcrs')\n",
    "gcrs_from_itrs_coord"
   ]
  },
  {
   "cell_type": "code",
   "execution_count": 51,
   "metadata": {
    "collapsed": false
   },
   "outputs": [
    {
     "name": "stdout",
     "output_type": "stream",
     "text": [
      "<SkyCoord (GCRS: obstime=55780.1, obsgeoloc=(0., 0., 0.) m, obsgeovel=(0., 0., 0.) m / s): (x, y, z) in m\n",
      "    (-1745419.50769061, 5429444.57475286, -2846996.94398546)>\n"
     ]
    },
    {
     "data": {
      "text/plain": [
       "<SkyCoord (GCRS: obstime=55780.1, obsgeoloc=(0., 0., 0.) m, obsgeovel=(0., 0., 0.) m / s): (x, y, z) in m\n",
       "    (-1745344.09283064, 5429543.69894979, -2846857.85990781)>"
      ]
     },
     "execution_count": 51,
     "metadata": {},
     "output_type": "execute_result"
    }
   ],
   "source": [
    "gcrs_array_center.representation = 'cartesian'\n",
    "print(gcrs_array_center)\n",
    "gcrs_from_itrs_coord.representation = 'cartesian'\n",
    "gcrs_from_itrs_coord"
   ]
  },
  {
   "cell_type": "code",
   "execution_count": 52,
   "metadata": {
    "collapsed": false
   },
   "outputs": [
    {
     "name": "stdout",
     "output_type": "stream",
     "text": [
      "75.4148599696 m\n",
      "99.1241969327 m\n",
      "139.084077647 m\n"
     ]
    }
   ],
   "source": [
    "gcrs_rel = (np.array([gcrs_from_itrs_coord.x.value, gcrs_from_itrs_coord.y.value, gcrs_from_itrs_coord.z.value])\n",
    "            - np.array([gcrs_array_center.x.value, gcrs_array_center.y.value, gcrs_array_center.z.value]))\n",
    "\n",
    "print(gcrs_rel[0]*units.m)\n",
    "print(gcrs_rel[1]*units.m)\n",
    "print(gcrs_rel[2]*units.m)"
   ]
  },
  {
   "cell_type": "code",
   "execution_count": 53,
   "metadata": {
    "collapsed": false
   },
   "outputs": [
    {
     "name": "stdout",
     "output_type": "stream",
     "text": [
      "71.2873201004 m\n",
      "-102.132881653 m\n",
      "139.084077647 m\n"
     ]
    }
   ],
   "source": [
    "gcrs_lat_lon_alt = uvutils.LatLonAlt_from_XYZ(np.array([gcrs_array_center.x.value,\n",
    "                                                        gcrs_array_center.y.value,\n",
    "                                                        gcrs_array_center.z.value]))\n",
    "gcrs_rel_rot = uvutils.rotECEF_from_ECEF(gcrs_rel, gcrs_lat_lon_alt[1])\n",
    "\n",
    "print(gcrs_rel_rot[0]*units.m)\n",
    "print(gcrs_rel_rot[1]*units.m)\n",
    "print(gcrs_rel_rot[2]*units.m)"
   ]
  },
  {
   "cell_type": "code",
   "execution_count": 54,
   "metadata": {
    "collapsed": false
   },
   "outputs": [
    {
     "name": "stdout",
     "output_type": "stream",
     "text": [
      "4.7155342145 mm\n",
      "-1.13057712116 mm\n",
      "-3.24829200218 mm\n"
     ]
    }
   ],
   "source": [
    "print((gcrs_rel_rot[0]*units.m - gcrs_ant_coord.x).to('mm'))\n",
    "print((gcrs_rel_rot[1]*units.m - gcrs_ant_coord.y).to('mm'))\n",
    "print((gcrs_rel_rot[2]*units.m - gcrs_ant_coord.z).to('mm'))"
   ]
  },
  {
   "cell_type": "code",
   "execution_count": 55,
   "metadata": {
    "collapsed": false
   },
   "outputs": [
    {
     "name": "stdout",
     "output_type": "stream",
     "text": [
      "0.632100400765 mm\n",
      "0.158347294317 mm\n",
      "-0.212352578501 mm\n"
     ]
    }
   ],
   "source": [
    "print(((gcrs_rel_rot[0] - mwa_tools_precxyz_xprec)*units.m).to('mm'))\n",
    "print(((gcrs_rel_rot[1] - mwa_tools_precxyz_yprec)*units.m).to('mm'))\n",
    "print(((gcrs_rel_rot[2] - mwa_tools_precxyz_zprec)*units.m).to('mm'))"
   ]
  },
  {
   "cell_type": "markdown",
   "metadata": {},
   "source": [
    "# Starting from ITRS does even better: positions match to < 1mm"
   ]
  },
  {
   "cell_type": "code",
   "execution_count": null,
   "metadata": {
    "collapsed": true
   },
   "outputs": [],
   "source": []
  }
 ],
 "metadata": {
  "kernelspec": {
   "display_name": "Python 2",
   "language": "python",
   "name": "python2"
  },
  "language_info": {
   "codemirror_mode": {
    "name": "ipython",
    "version": 2
   },
   "file_extension": ".py",
   "mimetype": "text/x-python",
   "name": "python",
   "nbconvert_exporter": "python",
   "pygments_lexer": "ipython2",
   "version": "2.7.15"
  }
 },
 "nbformat": 4,
 "nbformat_minor": 0
}
