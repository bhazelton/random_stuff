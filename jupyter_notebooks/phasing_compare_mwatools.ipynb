{
 "cells": [
  {
   "cell_type": "code",
   "execution_count": 1,
   "metadata": {
    "collapsed": false
   },
   "outputs": [],
   "source": [
    "import numpy as np\n",
    "from astropy import constants as const\n",
    "from astropy.coordinates import SkyCoord, Angle, EarthLocation, Longitude, spherical_to_cartesian, cartesian_to_spherical\n",
    "from astropy.time import Time, TimeDelta\n",
    "from astropy import units\n",
    "from pyuvdata import utils as uvutils"
   ]
  },
  {
   "cell_type": "code",
   "execution_count": 2,
   "metadata": {
    "collapsed": false
   },
   "outputs": [],
   "source": [
    "ra_hrs = 12.1\n",
    "dec_degs = -42.3\n",
    "mjd = 55780.1\n",
    "latitude = Angle('-26d42m11.94986s')\n",
    "longitude = Angle('116d40m14.93485s')"
   ]
  },
  {
   "cell_type": "code",
   "execution_count": 3,
   "metadata": {
    "collapsed": false
   },
   "outputs": [
    {
     "name": "stdout",
     "output_type": "stream",
     "text": [
      "-0.4660608448386394\n",
      "2.0362898668561042\n"
     ]
    }
   ],
   "source": [
    "print(latitude.rad)\n",
    "print(longitude.rad)"
   ]
  },
  {
   "cell_type": "code",
   "execution_count": 4,
   "metadata": {
    "collapsed": false
   },
   "outputs": [
    {
     "name": "stdout",
     "output_type": "stream",
     "text": [
      "1.8838767933262255\n",
      "1.8839572321431979\n"
     ]
    }
   ],
   "source": [
    "obs_time = Time(mjd, format='mjd', location = (longitude, latitude))\n",
    "lst_mean = obs_time.sidereal_time('mean')\n",
    "lst_apparent = obs_time.sidereal_time('apparent')\n",
    "print(lst_mean.rad)\n",
    "print(lst_apparent.rad)"
   ]
  },
  {
   "cell_type": "code",
   "execution_count": 5,
   "metadata": {
    "collapsed": false
   },
   "outputs": [
    {
     "data": {
      "text/latex": [
       "$-0^\\circ00{}^\\prime16.5917{}^{\\prime\\prime}$"
      ],
      "text/plain": [
       "<Angle -0.0046088 deg>"
      ]
     },
     "execution_count": 5,
     "metadata": {},
     "output_type": "execute_result"
    }
   ],
   "source": [
    "(lst_mean - lst_apparent).to('deg')"
   ]
  },
  {
   "cell_type": "code",
   "execution_count": 6,
   "metadata": {
    "collapsed": false
   },
   "outputs": [],
   "source": [
    "mwa_tools_lst_mean = np.float64(1.8838984)"
   ]
  },
  {
   "cell_type": "code",
   "execution_count": 7,
   "metadata": {
    "collapsed": false
   },
   "outputs": [
    {
     "name": "stdout",
     "output_type": "stream",
     "text": [
      "-0d00m04.4567s\n",
      "0d00m12.135s\n"
     ]
    }
   ],
   "source": [
    "print(Angle(lst_mean.rad - mwa_tools_lst_mean, unit='rad').to('deg'))\n",
    "print(Angle(lst_apparent.rad - mwa_tools_lst_mean, unit='rad').to('deg'))"
   ]
  },
  {
   "cell_type": "code",
   "execution_count": 8,
   "metadata": {
    "collapsed": false
   },
   "outputs": [
    {
     "name": "stdout",
     "output_type": "stream",
     "text": [
      "-0d00m04.4567s\n",
      "0d00m12.135s\n"
     ]
    }
   ],
   "source": [
    "print((lst_mean - Angle(mwa_tools_lst_mean, unit='rad')).to('deg'))\n",
    "print((lst_apparent - Angle(mwa_tools_lst_mean, unit='rad')).to('deg'))"
   ]
  },
  {
   "cell_type": "code",
   "execution_count": 9,
   "metadata": {
    "collapsed": false
   },
   "outputs": [
    {
     "name": "stdout",
     "output_type": "stream",
     "text": [
      "1.8838988952140985\n"
     ]
    },
    {
     "data": {
      "text/latex": [
       "$0^\\circ00{}^\\prime00.1021{}^{\\prime\\prime}$"
      ],
      "text/plain": [
       "<Angle 2.83736778e-05 deg>"
      ]
     },
     "execution_count": 9,
     "metadata": {},
     "output_type": "execute_result"
    }
   ],
   "source": [
    "new_time = obs_time + TimeDelta('-0.8' * units.s)\n",
    "print(new_time.sidereal_time('apparent').rad)\n",
    "(new_time.sidereal_time('apparent') - Angle(mwa_tools_lst_mean, unit='rad')).to('deg')\n",
    "# so to get an apparent LST that matches mwa_tools mean LST, need to add ~ -0.8s"
   ]
  },
  {
   "cell_type": "markdown",
   "metadata": {},
   "source": [
    "# -> mean LST disagrees by ~4.5 arcseconds (should we use apparent??)"
   ]
  },
  {
   "cell_type": "code",
   "execution_count": 10,
   "metadata": {
    "collapsed": false
   },
   "outputs": [
    {
     "data": {
      "text/plain": [
       "<SkyCoord (ICRS): (ra, dec) in deg\n",
       "    (181.5, -42.3)>"
      ]
     },
     "execution_count": 10,
     "metadata": {},
     "output_type": "execute_result"
    }
   ],
   "source": [
    "icrs_coord = SkyCoord(ra=Angle(ra_hrs, unit='hr'), dec=Angle(dec_degs, unit='deg'),\n",
    "                      obstime=obs_time)\n",
    "icrs_coord"
   ]
  },
  {
   "cell_type": "code",
   "execution_count": 11,
   "metadata": {
    "collapsed": false
   },
   "outputs": [
    {
     "data": {
      "text/plain": [
       "(3.1677725923697078, -0.7382742735936013)"
      ]
     },
     "execution_count": 11,
     "metadata": {},
     "output_type": "execute_result"
    }
   ],
   "source": [
    "icrs_coord.ra.rad, icrs_coord.dec.rad"
   ]
  },
  {
   "cell_type": "code",
   "execution_count": 12,
   "metadata": {
    "collapsed": false
   },
   "outputs": [
    {
     "data": {
      "text/plain": [
       "<SkyCoord (GCRS: obstime=55780.1, obsgeoloc=(0., 0., 0.) m, obsgeovel=(0., 0., 0.) m / s): (ra, dec) in deg\n",
       "    (181.49525535, -42.3015925)>"
      ]
     },
     "execution_count": 12,
     "metadata": {},
     "output_type": "execute_result"
    }
   ],
   "source": [
    "gcrs_coord = icrs_coord.transform_to('gcrs')\n",
    "gcrs_coord"
   ]
  },
  {
   "cell_type": "code",
   "execution_count": 13,
   "metadata": {
    "collapsed": false
   },
   "outputs": [
    {
     "data": {
      "text/plain": [
       "(3.167689782620545, -0.7383020680162412)"
      ]
     },
     "execution_count": 13,
     "metadata": {},
     "output_type": "execute_result"
    }
   ],
   "source": [
    "gcrs_coord.ra.rad, gcrs_coord.dec.rad"
   ]
  },
  {
   "cell_type": "code",
   "execution_count": 14,
   "metadata": {
    "collapsed": false
   },
   "outputs": [
    {
     "name": "stdout",
     "output_type": "stream",
     "text": [
      "0d00m17.0807s\n",
      "0d00m05.733s\n"
     ]
    }
   ],
   "source": [
    "# This is the change in ra & dec between icrs & gcrs\n",
    "print(icrs_coord.ra-gcrs_coord.ra)\n",
    "print(icrs_coord.dec-gcrs_coord.dec)"
   ]
  },
  {
   "cell_type": "code",
   "execution_count": 15,
   "metadata": {
    "collapsed": false
   },
   "outputs": [
    {
     "name": "stdout",
     "output_type": "stream",
     "text": [
      "-1.2838129892943195\n",
      "-1.2837325504773471\n"
     ]
    }
   ],
   "source": [
    "hour_angle_mean = lst_mean.rad - gcrs_coord.ra.rad\n",
    "hour_angle_apparent = lst_apparent.rad - gcrs_coord.ra.rad\n",
    "\n",
    "print(hour_angle_mean)\n",
    "print(hour_angle_apparent)"
   ]
  },
  {
   "cell_type": "code",
   "execution_count": 16,
   "metadata": {
    "collapsed": true
   },
   "outputs": [],
   "source": [
    "# mwa_tools comp2\n",
    "# It turns out these are not actually used in the return values at all. So don't worry about them\n",
    "mwa_tools_comp2_ra = 3.1703987\n",
    "mwa_tools_comp2_dec = -0.73946297"
   ]
  },
  {
   "cell_type": "code",
   "execution_count": 17,
   "metadata": {
    "collapsed": false
   },
   "outputs": [
    {
     "name": "stdout",
     "output_type": "stream",
     "text": [
      "-0deg09m18.7543s\n",
      "0deg03m59.4532s\n"
     ]
    }
   ],
   "source": [
    "# compare mwa_tools comp2 to gcrs\n",
    "print(Angle(gcrs_coord.ra.rad - mwa_tools_comp2_ra, unit='rad').to_string(unit=units.degree, sep=('deg', 'm', 's')))\n",
    "print(Angle(gcrs_coord.dec.rad - mwa_tools_comp2_dec, unit='rad').to_string(unit=units.degree, sep=('deg', 'm', 's')))"
   ]
  },
  {
   "cell_type": "code",
   "execution_count": 18,
   "metadata": {
    "collapsed": true
   },
   "outputs": [],
   "source": [
    "# mwa_tools comp3\n",
    "mwa_tools_comp3_ra = 3.1676898\n",
    "mwa_tools_comp3_dec = -0.73830205"
   ]
  },
  {
   "cell_type": "code",
   "execution_count": 19,
   "metadata": {
    "collapsed": false
   },
   "outputs": [
    {
     "name": "stdout",
     "output_type": "stream",
     "text": [
      "-0deg00m00.0036s\n",
      "-0deg00m00.0037s\n"
     ]
    }
   ],
   "source": [
    "# compare mwa_tools comp3 to gcrs\n",
    "print(Angle(gcrs_coord.ra.rad - mwa_tools_comp3_ra, unit='rad').to_string(unit=units.degree, sep=('deg', 'm', 's')))\n",
    "print(Angle(gcrs_coord.dec.rad - mwa_tools_comp3_dec, unit='rad').to_string(unit=units.degree, sep=('deg', 'm', 's')))"
   ]
  },
  {
   "cell_type": "markdown",
   "metadata": {},
   "source": [
    "# -> mwa_tools ra_aber/dec_aber (calc3) agrees with GCRS, meaning that it accounts for aberration but not nutation or precession"
   ]
  },
  {
   "cell_type": "code",
   "execution_count": 20,
   "metadata": {
    "collapsed": true
   },
   "outputs": [],
   "source": [
    "# The frame radio astronomers call the apparent or current epoch is the\n",
    "# \"true equator & equinox\" frame, notated E_gamma in the USNO circular\n",
    "# astropy doesn't have this frame but it's pretty easy to adapt the CIRS frame\n",
    "# by modifying the ra to reflect the difference between\n",
    "# GAST (Grenwich Apparent Sidereal Time) and the earth rotation angle (theta)\n",
    "def egamma_to_cirs_ra(egamma_ra, time):\n",
    "    from astropy import _erfa as erfa\n",
    "    from astropy.coordinates.builtin_frames.utils import get_jd12\n",
    "    era = erfa.era00(*get_jd12(time, 'ut1'))\n",
    "    theta_earth = Angle(era, unit='rad')\n",
    "\n",
    "    assert(isinstance(time, Time))\n",
    "    assert(isinstance(egamma_ra, Angle))\n",
    "    gast = time.sidereal_time('apparent', longitude=0)\n",
    "    cirs_ra = egamma_ra - (gast-theta_earth)\n",
    "    return cirs_ra\n",
    "\n",
    "def cirs_to_egamma_ra(cirs_ra, time):\n",
    "    from astropy import _erfa as erfa\n",
    "    from astropy.coordinates.builtin_frames.utils import get_jd12\n",
    "    era = erfa.era00(*get_jd12(time, 'ut1'))\n",
    "    theta_earth = Angle(era, unit='rad')\n",
    "\n",
    "    assert(isinstance(time, Time))\n",
    "    assert(isinstance(cirs_ra, Angle))\n",
    "    gast = time.sidereal_time('apparent', longitude=0)\n",
    "    egamma_ra = cirs_ra + (gast-theta_earth)\n",
    "    return egamma_ra"
   ]
  },
  {
   "cell_type": "code",
   "execution_count": 21,
   "metadata": {
    "collapsed": false
   },
   "outputs": [
    {
     "data": {
      "text/plain": [
       "<SkyCoord (CIRS: obstime=55780.1): (ra, dec) in deg\n",
       "    (107.78961179, -26.70331941)>"
      ]
     },
     "execution_count": 21,
     "metadata": {},
     "output_type": "execute_result"
    }
   ],
   "source": [
    "# now get equivilents of lst, lat in GCRS (rather than precessed) frame:\n",
    "# effectively current zenith \"unprecessed\" to J2000 but not undoing aberration\n",
    "# mwa_tools calls these \"lmst2000\" and \"newarrlat\"\n",
    "# also need gcrs hour angle (ha_gcrs), what they call \"ha2000\" which is (\"lmst2000\" - apparent ra)\n",
    "\n",
    "loc_obj = EarthLocation.from_geodetic(lon=longitude, lat=latitude)\n",
    "\n",
    "# use CIRS but with a different ra to account for the difference between LST & earth's rotation angle\n",
    "cirs_ra = egamma_to_cirs_ra(obs_time.sidereal_time('apparent'), obs_time)\n",
    "\n",
    "assert(cirs_to_egamma_ra(cirs_ra, obs_time) == obs_time.sidereal_time('apparent'))\n",
    "\n",
    "egamma_zenith_coord = SkyCoord(ra=cirs_ra, dec=latitude, frame='cirs',\n",
    "                               obstime=obs_time, location = loc_obj)\n",
    "egamma_zenith_coord"
   ]
  },
  {
   "cell_type": "code",
   "execution_count": 22,
   "metadata": {
    "collapsed": false
   },
   "outputs": [
    {
     "data": {
      "text/plain": [
       "<SkyCoord (AltAz: obstime=55780.1, location=(-2559302.5737783727, 5095070.526830904, -2848887.400942108) m, pressure=0.0 hPa, temperature=0.0 deg_C, relative_humidity=0, obswl=1.0 micron): (az, alt) in deg\n",
       "    (28.60357927, 89.99985796)>"
      ]
     },
     "execution_count": 22,
     "metadata": {},
     "output_type": "execute_result"
    }
   ],
   "source": [
    "# check where it is in altaz (should be near zenith):\n",
    "egamma_zenith_altaz = egamma_zenith_coord.transform_to('altaz')\n",
    "egamma_zenith_altaz"
   ]
  },
  {
   "cell_type": "code",
   "execution_count": 23,
   "metadata": {
    "collapsed": false
   },
   "outputs": [
    {
     "data": {
      "text/latex": [
       "$-0^\\circ00{}^\\prime00.5114{}^{\\prime\\prime}$"
      ],
      "text/plain": [
       "<Angle -0.00014204 deg>"
      ]
     },
     "execution_count": 23,
     "metadata": {},
     "output_type": "execute_result"
    }
   ],
   "source": [
    "(egamma_zenith_altaz.alt - Angle('90d')).to('deg')"
   ]
  },
  {
   "cell_type": "code",
   "execution_count": 24,
   "metadata": {
    "collapsed": false
   },
   "outputs": [
    {
     "data": {
      "text/plain": [
       "<SkyCoord (GCRS: obstime=55780.1, obsgeoloc=(0., 0., 0.) m, obsgeovel=(0., 0., 0.) m / s): (ra, dec) in deg\n",
       "    (107.82139246, -26.68249473)>"
      ]
     },
     "execution_count": 24,
     "metadata": {},
     "output_type": "execute_result"
    }
   ],
   "source": [
    "gcrs_zenith = egamma_zenith_altaz.transform_to('gcrs')\n",
    "gcrs_zenith"
   ]
  },
  {
   "cell_type": "code",
   "execution_count": 25,
   "metadata": {
    "collapsed": false
   },
   "outputs": [
    {
     "name": "stdout",
     "output_type": "stream",
     "text": [
      "1.8818383024300602\n",
      "-0.4656973857576238\n"
     ]
    }
   ],
   "source": [
    "print(gcrs_zenith.ra.rad)\n",
    "print(gcrs_zenith.dec.rad)"
   ]
  },
  {
   "cell_type": "code",
   "execution_count": 26,
   "metadata": {
    "collapsed": false
   },
   "outputs": [
    {
     "name": "stdout",
     "output_type": "stream",
     "text": [
      "-0d07m17.0606s\n",
      "0d01m14.9688s\n"
     ]
    }
   ],
   "source": [
    "# This is the change between egamma & gcrs\n",
    "print(gcrs_zenith.ra - lst_apparent)\n",
    "print(gcrs_zenith.dec - egamma_zenith_coord.dec)"
   ]
  },
  {
   "cell_type": "code",
   "execution_count": 27,
   "metadata": {
    "collapsed": false
   },
   "outputs": [
    {
     "data": {
      "text/latex": [
       "$286^\\circ19{}^\\prime34.0936{}^{\\prime\\prime}$"
      ],
      "text/plain": [
       "<Longitude 286.3261371 deg>"
      ]
     },
     "execution_count": 27,
     "metadata": {},
     "output_type": "execute_result"
    }
   ],
   "source": [
    "ha_gcrs = Longitude(gcrs_zenith.ra - gcrs_coord.ra)\n",
    "ha_gcrs"
   ]
  },
  {
   "cell_type": "code",
   "execution_count": 28,
   "metadata": {
    "collapsed": false
   },
   "outputs": [
    {
     "data": {
      "text/plain": [
       "4.9973338269891014"
      ]
     },
     "execution_count": 28,
     "metadata": {},
     "output_type": "execute_result"
    }
   ],
   "source": [
    "ha_gcrs.rad"
   ]
  },
  {
   "cell_type": "code",
   "execution_count": 29,
   "metadata": {
    "collapsed": true
   },
   "outputs": [],
   "source": [
    "# for these, I used the apparent lst (and aberration corrected ra/decs) from this notebook,\n",
    "# so that's not a source of error\n",
    "mwa_tools_comp4_newarrlat = -0.46569739\n",
    "mwa_tools_comp4_lmst2000 = 1.8818386\n",
    "mwa_tools_comp4_ha2000 = 4.9973341"
   ]
  },
  {
   "cell_type": "code",
   "execution_count": 30,
   "metadata": {
    "collapsed": false
   },
   "outputs": [
    {
     "name": "stdout",
     "output_type": "stream",
     "text": [
      "0d07m16.9992s\n",
      "-0d01m14.9679s\n"
     ]
    }
   ],
   "source": [
    "# This is what the MWA tools code gives as the change between precessed & not\n",
    "print(Angle(lst_apparent.rad - mwa_tools_comp4_lmst2000, unit='rad').to('deg'))\n",
    "print(Angle(latitude.rad - mwa_tools_comp4_newarrlat, unit='rad').to('deg'))"
   ]
  },
  {
   "cell_type": "code",
   "execution_count": 31,
   "metadata": {
    "collapsed": false
   },
   "outputs": [
    {
     "name": "stdout",
     "output_type": "stream",
     "text": [
      "-0d00m00.0614s\n",
      "0d00m00.0009s\n",
      "-0d00m00.0563s\n"
     ]
    }
   ],
   "source": [
    "print(Angle(gcrs_zenith.ra.rad - mwa_tools_comp4_lmst2000, unit='rad').to('deg'))\n",
    "print(Angle(gcrs_zenith.dec.rad - mwa_tools_comp4_newarrlat, unit='rad').to('deg'))\n",
    "print(Angle(ha_gcrs.rad - mwa_tools_comp4_ha2000, unit='rad').to('deg'))"
   ]
  },
  {
   "cell_type": "markdown",
   "metadata": {},
   "source": [
    "# => Egamma -> CIRS -> CGRS agrees with computation4"
   ]
  },
  {
   "cell_type": "code",
   "execution_count": 32,
   "metadata": {
    "collapsed": false
   },
   "outputs": [
    {
     "data": {
      "text/plain": [
       "array([[ 1.00000000e+00, -1.11022333e-07, -4.41180450e-08],\n",
       "       [ 1.11022337e-07,  1.00000000e+00,  9.64779225e-08],\n",
       "       [ 4.41180343e-08, -9.64779274e-08,  1.00000000e+00]])"
      ]
     },
     "execution_count": 32,
     "metadata": {},
     "output_type": "execute_result"
    }
   ],
   "source": [
    "# An undocumented feature lets you get the rotation matrix for some Astropy transforms\n",
    "from astropy import coordinates\n",
    "from astropy.coordinates.builtin_frames import icrs_fk5_transforms\n",
    "fk5 = coordinates.FK5()\n",
    "icrs_fk5_transforms.icrs_to_fk5(None, fk5)"
   ]
  },
  {
   "cell_type": "code",
   "execution_count": 33,
   "metadata": {
    "collapsed": false
   },
   "outputs": [],
   "source": [
    "# # But not for the ones we want -- this errors:\n",
    "# from astropy import coordinates\n",
    "# from astropy.coordinates.builtin_frames import icrs_cirs_transforms\n",
    "# cirs = coordinates.CIRS(obstime=Time(mjd, format='mjd'))\n",
    "# icrs_cirs_transforms.icrs_to_cirs(None, cirs)"
   ]
  },
  {
   "cell_type": "code",
   "execution_count": 34,
   "metadata": {
    "collapsed": false
   },
   "outputs": [
    {
     "name": "stdout",
     "output_type": "stream",
     "text": [
      "(2, 3)\n",
      "0d00m00.0001s\n",
      "0d00m00.0001s\n"
     ]
    }
   ],
   "source": [
    "# now define an antenna position to work on uvw rotation\n",
    "# the positions used in the mwa_tools code are the same as those used in uvfits antenna positions:\n",
    "# relative to the array center (expressed in ITRS), but rotated so that the x axis goes through the meridian\n",
    "\n",
    "array_center_xyz = np.array([-2559454.08, 5095372.14, -2849057.18])\n",
    "\n",
    "# in east/north/up frame (relative to array center) in meters: (Nants, 3)\n",
    "xyz_ants = np.array([[-037.91, 0140.52, 0000.66],[-101.94, 0156.41, 0001.24]])\n",
    "print(xyz_ants.shape)\n",
    "\n",
    "lat_lon_alt = uvutils.LatLonAlt_from_XYZ(array_center_xyz)\n",
    "print(Angle(lat_lon_alt[0]*units.rad).to('deg') - latitude)\n",
    "print(Angle(lat_lon_alt[1]*units.rad).to('deg') - longitude)\n",
    "ant_xyz_abs = uvutils.ECEF_from_ENU(xyz_ants.T, lat_lon_alt[0], lat_lon_alt[1], lat_lon_alt[2]).T\n",
    "\n",
    "ant_xyz_rel_itrs = ant_xyz_abs - array_center_xyz\n",
    "ant_xyz_rel_rot = uvutils.rotECEF_from_ECEF(ant_xyz_rel_itrs, lat_lon_alt[1])"
   ]
  },
  {
   "cell_type": "code",
   "execution_count": 35,
   "metadata": {
    "collapsed": false
   },
   "outputs": [
    {
     "name": "stdout",
     "output_type": "stream",
     "text": [
      "[[  63.73518635  -37.91        125.23630472]\n",
      " [  71.39382794 -101.94        139.17092739]]\n"
     ]
    }
   ],
   "source": [
    "print(ant_xyz_rel_rot)"
   ]
  },
  {
   "cell_type": "code",
   "execution_count": 36,
   "metadata": {
    "collapsed": false
   },
   "outputs": [
    {
     "data": {
      "text/plain": [
       "(<Quantity -0.27293726>, <Quantity 0.85062987>, <Quantity -0.44937075>)"
      ]
     },
     "execution_count": 36,
     "metadata": {},
     "output_type": "execute_result"
    }
   ],
   "source": [
    "egamma_zenith_xyz = spherical_to_cartesian(1, egamma_zenith_coord.dec, egamma_zenith_coord.ra)\n",
    "egamma_zenith_xyz"
   ]
  },
  {
   "cell_type": "code",
   "execution_count": 37,
   "metadata": {
    "collapsed": false
   },
   "outputs": [
    {
     "data": {
      "text/plain": [
       "(<Quantity [145.54543655, 186.70133717]>,\n",
       " <Latitude [1.03617555, 0.84116482] rad>,\n",
       " <Longitude [5.7465945 , 5.32335079] rad>)"
      ]
     },
     "execution_count": 37,
     "metadata": {},
     "output_type": "execute_result"
    }
   ],
   "source": [
    "egamma_ant_spherical = cartesian_to_spherical(ant_xyz_rel_rot[:, 0], ant_xyz_rel_rot[:, 1], ant_xyz_rel_rot[:, 2])\n",
    "egamma_ant_spherical"
   ]
  },
  {
   "cell_type": "code",
   "execution_count": 38,
   "metadata": {
    "collapsed": false
   },
   "outputs": [
    {
     "data": {
      "text/plain": [
       "(<Quantity [63.63360223, 71.12102561]>,\n",
       " <Quantity [ -38.08026714, -102.13051446]>,\n",
       " <Quantity [125.23630472, 139.17092739]>)"
      ]
     },
     "execution_count": 38,
     "metadata": {},
     "output_type": "execute_result"
    }
   ],
   "source": [
    "cirs_ant_ra = egamma_to_cirs_ra(egamma_ant_spherical[2], obs_time)\n",
    "\n",
    "cirs_ant_xyz = spherical_to_cartesian(egamma_ant_spherical[0], egamma_ant_spherical[1], cirs_ant_ra)\n",
    "cirs_ant_xyz"
   ]
  },
  {
   "cell_type": "code",
   "execution_count": 39,
   "metadata": {
    "collapsed": false
   },
   "outputs": [
    {
     "data": {
      "text/plain": [
       "<SkyCoord (CIRS: obstime=55780.1): (x, y, z) in m\n",
       "    [(63.63360223,  -38.08026714, 125.23630472),\n",
       "     (71.12102561, -102.13051446, 139.17092739)]>"
      ]
     },
     "execution_count": 39,
     "metadata": {},
     "output_type": "execute_result"
    }
   ],
   "source": [
    "cirs_ant_coord = SkyCoord(x=cirs_ant_xyz[0]*units.m, y=cirs_ant_xyz[1]*units.m, z=cirs_ant_xyz[2]*units.m,\n",
    "                          representation = 'cartesian', frame='cirs',\n",
    "                          obstime=obs_time)\n",
    "cirs_ant_coord"
   ]
  },
  {
   "cell_type": "code",
   "execution_count": 40,
   "metadata": {
    "collapsed": false
   },
   "outputs": [
    {
     "data": {
      "text/plain": [
       "<SkyCoord (GCRS: obstime=55780.1, obsgeoloc=(0., 0., 0.) m, obsgeovel=(0., 0., 0.) m / s): (x, y, z) in m\n",
       "    [(63.77899211,  -38.08136563, 125.16197688),\n",
       "     (71.28260457, -102.13175108, 139.08732594)]>"
      ]
     },
     "execution_count": 40,
     "metadata": {},
     "output_type": "execute_result"
    }
   ],
   "source": [
    "gcrs_ant_coord = cirs_ant_coord.transform_to('gcrs')\n",
    "gcrs_ant_coord.representation = 'cartesian'\n",
    "gcrs_ant_coord"
   ]
  },
  {
   "cell_type": "code",
   "execution_count": 41,
   "metadata": {
    "collapsed": true
   },
   "outputs": [],
   "source": [
    "mwa_tools_precxyz_xprec = 71.286688\n",
    "mwa_tools_precxyz_yprec = -102.13304\n",
    "mwa_tools_precxyz_zprec = 139.08429"
   ]
  },
  {
   "cell_type": "code",
   "execution_count": 42,
   "metadata": {
    "collapsed": false
   },
   "outputs": [
    {
     "name": "stdout",
     "output_type": "stream",
     "text": [
      "-0.1071399426444799\n",
      "-0.1930399991369427\n",
      "-0.0866373932501574\n"
     ]
    }
   ],
   "source": [
    "# this is how much the input to output changes in mwa_tools (precession + nutation effect)\n",
    "print(mwa_tools_precxyz_xprec - ant_xyz_rel_rot[1, 0])\n",
    "print(mwa_tools_precxyz_yprec - ant_xyz_rel_rot[1, 1])\n",
    "print(mwa_tools_precxyz_zprec - ant_xyz_rel_rot[1, 2])"
   ]
  },
  {
   "cell_type": "code",
   "execution_count": 43,
   "metadata": {
    "collapsed": false
   },
   "outputs": [
    {
     "name": "stdout",
     "output_type": "stream",
     "text": [
      "-4.083433813732995 mm\n",
      "1.2889244154763446 mm\n",
      "3.035939423682521 mm\n"
     ]
    }
   ],
   "source": [
    "# This tests agreement between this notebook & mwa_tools\n",
    "print((gcrs_ant_coord.x[1] - mwa_tools_precxyz_xprec*units.m).to('mm'))\n",
    "print((gcrs_ant_coord.y[1] - mwa_tools_precxyz_yprec*units.m).to('mm'))\n",
    "print((gcrs_ant_coord.z[1] - mwa_tools_precxyz_zprec*units.m).to('mm'))"
   ]
  },
  {
   "cell_type": "markdown",
   "metadata": {},
   "source": [
    "# The precessed positions match to < 5mm"
   ]
  },
  {
   "cell_type": "code",
   "execution_count": 44,
   "metadata": {
    "collapsed": false
   },
   "outputs": [
    {
     "name": "stdout",
     "output_type": "stream",
     "text": [
      "<SkyCoord (ITRS: obstime=55780.1): (x, y, z) in m\n",
      "    (-2559454.08, 5095372.14, -2849057.18)>\n"
     ]
    },
    {
     "data": {
      "text/plain": [
       "<SkyCoord (ITRS: obstime=55780.1): (x, y, z) in m\n",
       "    [(-2559448.81204191, 5095446.11020141, -2848931.94369528),\n",
       "     (-2559395.03251243, 5095481.69471912, -2848918.00907261)]>"
      ]
     },
     "execution_count": 44,
     "metadata": {},
     "output_type": "execute_result"
    }
   ],
   "source": [
    "# try something else. Define antennas in ITRS frame. Then rotate them to GCRS\n",
    "array_center_coord = SkyCoord(x=array_center_xyz[0]*units.m,\n",
    "                              y=array_center_xyz[1]*units.m,\n",
    "                              z=array_center_xyz[2]*units.m,\n",
    "                              representation = 'cartesian', frame='itrs', obstime=obs_time)\n",
    "print(array_center_coord)\n",
    "itrs_coord = SkyCoord(x=ant_xyz_abs[:, 0]*units.m, y=ant_xyz_abs[:, 1]*units.m, z=ant_xyz_abs[:, 2]*units.m,\n",
    "                      representation = 'cartesian', frame='itrs', obstime=obs_time)\n",
    "itrs_coord"
   ]
  },
  {
   "cell_type": "code",
   "execution_count": 45,
   "metadata": {
    "collapsed": false
   },
   "outputs": [
    {
     "name": "stdout",
     "output_type": "stream",
     "text": [
      "[ 5.26795809 59.04748757] m\n",
      "[ 73.97020141 109.55471912] m\n",
      "[125.23630472 139.17092739] m\n"
     ]
    }
   ],
   "source": [
    "print(itrs_coord.x - array_center_coord.x)\n",
    "print(itrs_coord.y - array_center_coord.y)\n",
    "print(itrs_coord.z - array_center_coord.z)"
   ]
  },
  {
   "cell_type": "code",
   "execution_count": 46,
   "metadata": {
    "collapsed": false
   },
   "outputs": [
    {
     "name": "stdout",
     "output_type": "stream",
     "text": [
      "<SkyCoord (GCRS: obstime=55780.1, obsgeoloc=(0., 0., 0.) m, obsgeovel=(0., 0., 0.) m / s): (ra, dec, distance) in (deg, deg, m)\n",
      "    (107.82119261, -26.52844312, 6374225.38409957)>\n"
     ]
    },
    {
     "data": {
      "text/plain": [
       "<SkyCoord (GCRS: obstime=55780.1, obsgeoloc=(0., 0., 0.) m, obsgeovel=(0., 0., 0.) m / s): (ra, dec, distance) in (deg, deg, m)\n",
       "    [(107.82081001, -26.52718048, 6374226.42389492),\n",
       "     (107.82016655, -26.52703837, 6374227.04771532)]>"
      ]
     },
     "execution_count": 46,
     "metadata": {},
     "output_type": "execute_result"
    }
   ],
   "source": [
    "gcrs_array_center = array_center_coord.transform_to('gcrs')\n",
    "print(gcrs_array_center)\n",
    "gcrs_from_itrs_coord = itrs_coord.transform_to('gcrs')\n",
    "gcrs_from_itrs_coord"
   ]
  },
  {
   "cell_type": "code",
   "execution_count": 47,
   "metadata": {
    "collapsed": false
   },
   "outputs": [
    {
     "name": "stdout",
     "output_type": "stream",
     "text": [
      "<SkyCoord (GCRS: obstime=55780.1, obsgeoloc=(0., 0., 0.) m, obsgeovel=(0., 0., 0.) m / s): (ra, dec, distance) in (deg, deg, m)\n",
      "    (107.82119261, -26.52844312, 6374225.38409957)>\n",
      "(-1745419.47561659, 5429444.58424123, -2846996.94557109) m\n",
      "<SkyCoord (GCRS: obstime=55780.1, obsgeoloc=(0., 0., 0.) m, obsgeovel=(0., 0., 0.) m / s): (ra, dec, distance) in (deg, deg, m)\n",
      "    [(107.82081001, -26.52718048, 6374226.42389492),\n",
      "     (107.82016655, -26.52703837, 6374227.04771532)]>\n",
      "[(-1745402.70537897, 5429516.85350522, -2846871.72816737),\n",
      " (-1745344.06078713, 5429543.70843817, -2846857.86147819)] m\n"
     ]
    }
   ],
   "source": [
    "print(gcrs_array_center)\n",
    "print(gcrs_array_center.cartesian)\n",
    "print(gcrs_from_itrs_coord)\n",
    "print(gcrs_from_itrs_coord.cartesian)"
   ]
  },
  {
   "cell_type": "code",
   "execution_count": 48,
   "metadata": {
    "collapsed": false
   },
   "outputs": [
    {
     "name": "stdout",
     "output_type": "stream",
     "text": [
      "[[ 16.77023762  72.26926399 125.21740372]\n",
      " [ 75.41482945  99.12419693 139.08409291]] m\n"
     ]
    }
   ],
   "source": [
    "gcrs_rel = (gcrs_from_itrs_coord.cartesian - gcrs_array_center.cartesian).get_xyz().T\n",
    "\n",
    "print(gcrs_rel)"
   ]
  },
  {
   "cell_type": "code",
   "execution_count": 49,
   "metadata": {
    "collapsed": false
   },
   "outputs": [
    {
     "name": "stdout",
     "output_type": "stream",
     "text": [
      "1.8818348144562813\n",
      "0d00m00s\n",
      "0d00m00.7194s\n",
      "0d00m00.4461s\n",
      "[[  63.66902558  -38.08336341  125.21740372]\n",
      " [  71.28733004 -102.13285218  139.08409291]]\n"
     ]
    }
   ],
   "source": [
    "gcrs_lat_lon_alt = uvutils.LatLonAlt_from_XYZ(gcrs_array_center.cartesian.get_xyz().value)\n",
    "print(gcrs_lat_lon_alt[1])\n",
    "gcrs_array_center_spherical = gcrs_array_center.spherical\n",
    "print(gcrs_array_center_spherical.lon - Angle(gcrs_lat_lon_alt[1]*units.rad))\n",
    "print(gcrs_zenith.ra - Angle(gcrs_lat_lon_alt[1]*units.rad))\n",
    "\n",
    "zenith_coord = SkyCoord(alt=Angle(90 * units.deg), az=Angle(0 * units.deg),\n",
    "                        obstime=obs_time, frame='altaz', location=loc_obj)\n",
    "new_gcrs_zenith = zenith_coord.transform_to('gcrs')\n",
    "print(new_gcrs_zenith.ra - Angle(gcrs_lat_lon_alt[1]*units.rad))\n",
    "\n",
    "gcrs_rel_rot = uvutils.rotECEF_from_ECEF(gcrs_rel.value, gcrs_lat_lon_alt[1])\n",
    "\n",
    "print(gcrs_rel_rot)"
   ]
  },
  {
   "cell_type": "code",
   "execution_count": 50,
   "metadata": {
    "collapsed": false
   },
   "outputs": [
    {
     "name": "stdout",
     "output_type": "stream",
     "text": [
      "[-109.96652825    4.72547333] mm\n",
      "[-1.99777694 -1.10110753] mm\n",
      "[55.42683999 -3.23303321] mm\n"
     ]
    }
   ],
   "source": [
    "print((gcrs_rel_rot[:, 0]*units.m - gcrs_ant_coord.x).to('mm'))\n",
    "print((gcrs_rel_rot[:, 1]*units.m - gcrs_ant_coord.y).to('mm'))\n",
    "print((gcrs_rel_rot[:, 2]*units.m - gcrs_ant_coord.z).to('mm'))"
   ]
  },
  {
   "cell_type": "code",
   "execution_count": 51,
   "metadata": {
    "collapsed": false
   },
   "outputs": [
    {
     "name": "stdout",
     "output_type": "stream",
     "text": [
      "0.6420395208408536 mm\n",
      "0.187816887404324 mm\n",
      "-0.19709378943844058 mm\n"
     ]
    }
   ],
   "source": [
    "print(((gcrs_rel_rot[1, 0] - mwa_tools_precxyz_xprec)*units.m).to('mm'))\n",
    "print(((gcrs_rel_rot[1, 1] - mwa_tools_precxyz_yprec)*units.m).to('mm'))\n",
    "print(((gcrs_rel_rot[1, 2] - mwa_tools_precxyz_zprec)*units.m).to('mm'))"
   ]
  },
  {
   "cell_type": "markdown",
   "metadata": {},
   "source": [
    "# Starting from ITRS does even better: positions match to < 1mm"
   ]
  },
  {
   "cell_type": "code",
   "execution_count": 52,
   "metadata": {
    "collapsed": true
   },
   "outputs": [],
   "source": [
    "def mwatools_calcuvw(ha, dec, xyz):\n",
    "    if xyz.ndim == 1:\n",
    "        xyz = xyz[np.newaxis, :]\n",
    "    \n",
    "    sh = np.sin(ha);\n",
    "    sd = np.sin(dec);\n",
    "    ch = np.cos(ha);\n",
    "    cd = np.cos(dec);\n",
    "\n",
    "    u = sh * xyz[:, 0] + ch * xyz[:, 1];\n",
    "    v = -sd * ch * xyz[:, 0] + sd * sh * xyz[:, 1] + cd * xyz[:, 2];\n",
    "    w =  cd * ch * xyz[:, 0] - cd * sh * xyz[:, 1] + sd * xyz[:, 2];\n",
    "    return np.array([u, v, w]).T\n",
    "# matching things up, this code expects relative xyz locations in the 'rotated ECEF' frame expected by uvfits"
   ]
  },
  {
   "cell_type": "code",
   "execution_count": 53,
   "metadata": {
    "collapsed": true
   },
   "outputs": [],
   "source": [
    "def calc_uvw_norot(ra, dec, longitude, xyz):\n",
    "    # same as mwatools_calcuvw but using relative xyz locations in ECEF not rotated frame\n",
    "    if xyz.ndim == 1:\n",
    "        xyz = xyz[np.newaxis, :]\n",
    "    \n",
    "    ha = Longitude(longitude*units.rad - ra*units.rad).rad\n",
    "    print(ha)\n",
    "    \n",
    "    rot_xyz = uvutils.rotECEF_from_ECEF(xyz, longitude)\n",
    "    print(rot_xyz)\n",
    "    \n",
    "    sr = np.sin(ha);\n",
    "    sd = np.sin(dec);\n",
    "    cr = np.cos(ha);\n",
    "    cd = np.cos(dec);\n",
    "\n",
    "    u = sr * rot_xyz[:, 0] + cr * rot_xyz[:, 1];\n",
    "    v = -sd * cr * rot_xyz[:, 0] + sd * sr * rot_xyz[:, 1] + cd * rot_xyz[:, 2];\n",
    "    w =  cd * cr * rot_xyz[:, 0] - cd * sr * rot_xyz[:, 1] + sd * rot_xyz[:, 2];\n",
    "    return np.array([u, v, w]).T\n",
    " "
   ]
  },
  {
   "cell_type": "code",
   "execution_count": 54,
   "metadata": {
    "collapsed": true
   },
   "outputs": [],
   "source": [
    "def phase_uvw(ra, dec, xyz):\n",
    "    # This code expects relative xyz locations in the same frame that ra/dec are in (e.g. icrs or gcrs)\n",
    "    \n",
    "    if xyz.ndim == 1:\n",
    "        xyz = xyz[np.newaxis, :]\n",
    "\n",
    "    uvw = np.zeros_like(xyz)\n",
    "    uvw[:, 0] = (-np.sin(ra) * xyz[:, 0]\n",
    "                 + np.cos(ra) * xyz[:, 1])\n",
    "    uvw[:, 1] = (-np.sin(dec) * np.cos(ra) * xyz[:, 0]\n",
    "                 - np.sin(dec) * np.sin(ra) * xyz[:, 1]\n",
    "                 + np.cos(dec) * xyz[:, 2])\n",
    "    uvw[:, 2] = (np.cos(dec) * np.cos(ra) * xyz[:, 0]\n",
    "                 + np.cos(dec) * np.sin(ra) * xyz[:, 1]\n",
    "                 + np.sin(dec) * xyz[:, 2])\n",
    "    return(uvw)"
   ]
  },
  {
   "cell_type": "code",
   "execution_count": 55,
   "metadata": {
    "collapsed": false
   },
   "outputs": [
    {
     "name": "stdout",
     "output_type": "stream",
     "text": [
      "4.9973338269891014\n",
      "3.167689782620545\n",
      "-0.7383020680162412\n"
     ]
    }
   ],
   "source": [
    "print(ha_gcrs.rad)\n",
    "print(gcrs_coord.ra.rad)\n",
    "print(gcrs_coord.dec.rad)"
   ]
  },
  {
   "cell_type": "code",
   "execution_count": 56,
   "metadata": {
    "collapsed": false
   },
   "outputs": [
    {
     "name": "stdout",
     "output_type": "stream",
     "text": [
      "4.9973338269891014\n",
      "[[  63.66902558  -38.08336341  125.21740372]\n",
      " [  71.28733004 -102.13285218  139.08409291]]\n"
     ]
    },
    {
     "data": {
      "text/plain": [
       "array([[ -71.8071152 ,   80.06022048,  -98.06928615],\n",
       "       [ -97.12282891,   50.38831246, -151.27974713]])"
      ]
     },
     "execution_count": 56,
     "metadata": {},
     "output_type": "execute_result"
    }
   ],
   "source": [
    "gcrs_uvw = mwatools_calcuvw(ha_gcrs.rad, gcrs_coord.dec.rad, gcrs_rel_rot)\n",
    "print(ha_gcrs.rad)\n",
    "print(gcrs_rel_rot)\n",
    "gcrs_uvw"
   ]
  },
  {
   "cell_type": "code",
   "execution_count": 57,
   "metadata": {
    "collapsed": false
   },
   "outputs": [
    {
     "name": "stdout",
     "output_type": "stream",
     "text": [
      "4.9973338269891014\n",
      "[[  63.66889275  -38.08358549  125.21740372]\n",
      " [  71.2869738  -102.13310083  139.08409291]]\n",
      "[[ -71.80705015   80.06005191  -98.06947139]\n",
      " [ -97.12255694   50.38808446 -151.27999768]]\n",
      "4.997330339015322\n",
      "[[  63.66902558  -38.08336341  125.21740372]\n",
      " [  71.28733004 -102.13285218  139.08409291]]\n",
      "[[ -71.80705015   80.06005191  -98.06947139]\n",
      " [ -97.12255694   50.38808446 -151.27999768]]\n",
      "4.997332501661898\n",
      "[[  63.66894322  -38.0835011   125.21740372]\n",
      " [  71.28710916 -102.13300635  139.08409291]]\n",
      "[[ -71.80705015   80.06005191  -98.06947139]\n",
      " [ -97.12255694   50.38808446 -151.27999768]]\n"
     ]
    }
   ],
   "source": [
    "longitude_use = gcrs_zenith.ra.rad\n",
    "gcrs_uvw_mod1 = calc_uvw_norot(gcrs_coord.ra.rad, gcrs_coord.dec.rad, longitude_use, gcrs_rel.value)\n",
    "print(gcrs_uvw_mod1)\n",
    "longitude_use = gcrs_lat_lon_alt[1]\n",
    "gcrs_uvw_mod2 = calc_uvw_norot(gcrs_coord.ra.rad, gcrs_coord.dec.rad, longitude_use, gcrs_rel.value)\n",
    "print(gcrs_uvw_mod2)\n",
    "longitude_use = new_gcrs_zenith.ra.rad\n",
    "gcrs_uvw_mod3 = calc_uvw_norot(gcrs_coord.ra.rad, gcrs_coord.dec.rad, longitude_use, gcrs_rel.value)\n",
    "print(gcrs_uvw_mod3)"
   ]
  },
  {
   "cell_type": "code",
   "execution_count": 58,
   "metadata": {
    "collapsed": false
   },
   "outputs": [
    {
     "name": "stdout",
     "output_type": "stream",
     "text": [
      "[[ 0.06505144 -0.16856869 -0.18524422]\n",
      " [ 0.27197665 -0.22799763 -0.25055213]] mm\n",
      "[[ 0.06505144 -0.16856869 -0.18524422]\n",
      " [ 0.27197665 -0.22799763 -0.25055213]] mm\n",
      "[[ 0.06505144 -0.16856869 -0.18524422]\n",
      " [ 0.27197665 -0.22799763 -0.25055213]] mm\n"
     ]
    }
   ],
   "source": [
    "print(((gcrs_uvw_mod1 - gcrs_uvw)*units.m).to('mm'))\n",
    "print(((gcrs_uvw_mod2 - gcrs_uvw)*units.m).to('mm'))\n",
    "print(((gcrs_uvw_mod3 - gcrs_uvw)*units.m).to('mm'))\n",
    "# This means that the difference comes because we're using different longitudes to calculate ha & do the ECEF rotation.\n",
    "# (gcrs_zenith for the ha & gcrs_lat_lon_alt[1] for the rotation)\n",
    "# That difference is wrong, we should use the same one."
   ]
  },
  {
   "cell_type": "code",
   "execution_count": 59,
   "metadata": {
    "collapsed": false
   },
   "outputs": [
    {
     "name": "stdout",
     "output_type": "stream",
     "text": [
      "181d29m42.9193s -42d18m05.733s\n"
     ]
    },
    {
     "data": {
      "text/plain": [
       "array([[ -71.80705015,   80.06005191,  -98.06947139],\n",
       "       [ -97.12255694,   50.38808446, -151.27999768]])"
      ]
     },
     "execution_count": 59,
     "metadata": {},
     "output_type": "execute_result"
    }
   ],
   "source": [
    "gcrs_uvw_new = phase_uvw(gcrs_coord.ra.rad, gcrs_coord.dec.rad, gcrs_rel.value)\n",
    "print(gcrs_coord.ra, gcrs_coord.dec)\n",
    "gcrs_uvw_new"
   ]
  },
  {
   "cell_type": "code",
   "execution_count": 60,
   "metadata": {
    "collapsed": false
   },
   "outputs": [
    {
     "name": "stdout",
     "output_type": "stream",
     "text": [
      "[[ 0.06505144 -0.16856869 -0.18524422]\n",
      " [ 0.27197665 -0.22799763 -0.25055213]] mm\n",
      "[[ 0.00000000e+00  1.42108547e-11  1.42108547e-11]\n",
      " [-2.84217094e-11  1.42108547e-11  2.84217094e-11]] mm\n"
     ]
    }
   ],
   "source": [
    "print(((gcrs_uvw_new - gcrs_uvw)*units.m).to('mm'))\n",
    "print(((gcrs_uvw_new - gcrs_uvw_mod1)*units.m).to('mm'))\n",
    "# So phase_uvw works the same as calc_uvw_norot which would match mwatools_calcuvw if we used the same longitude.\n",
    "# we'll use phase_uvw in pyuvdata because it's simplest"
   ]
  },
  {
   "cell_type": "code",
   "execution_count": 61,
   "metadata": {
    "collapsed": true
   },
   "outputs": [],
   "source": [
    "mwa_tools_calcuvw_u = -97.122828\n",
    "mwa_tools_calcuvw_v = 50.388281\n",
    "mwa_tools_calcuvw_w = -151.27976"
   ]
  },
  {
   "cell_type": "code",
   "execution_count": 62,
   "metadata": {
    "collapsed": false
   },
   "outputs": [
    {
     "name": "stdout",
     "output_type": "stream",
     "text": [
      "-0.000913630060495052 mm\n",
      "0.031455671035018895 mm\n",
      "0.012874193629386355 mm\n"
     ]
    }
   ],
   "source": [
    "print(((gcrs_uvw[1, 0] - mwa_tools_calcuvw_u)*units.m).to('mm'))\n",
    "print(((gcrs_uvw[1, 1] - mwa_tools_calcuvw_v)*units.m).to('mm'))\n",
    "print(((gcrs_uvw[1, 2] - mwa_tools_calcuvw_w)*units.m).to('mm'))"
   ]
  },
  {
   "cell_type": "code",
   "execution_count": 63,
   "metadata": {
    "collapsed": false
   },
   "outputs": [
    {
     "name": "stdout",
     "output_type": "stream",
     "text": [
      "0.27106302223955936 mm\n",
      "-0.196541958501939 mm\n",
      "-0.23767793922502278 mm\n"
     ]
    }
   ],
   "source": [
    "print(((gcrs_uvw_new[1, 0] - mwa_tools_calcuvw_u)*units.m).to('mm'))\n",
    "print(((gcrs_uvw_new[1, 1] - mwa_tools_calcuvw_v)*units.m).to('mm'))\n",
    "print(((gcrs_uvw_new[1, 2] - mwa_tools_calcuvw_w)*units.m).to('mm'))"
   ]
  },
  {
   "cell_type": "markdown",
   "metadata": {},
   "source": [
    "# =>These match exactly, as expected because I copied the code"
   ]
  },
  {
   "cell_type": "code",
   "execution_count": 64,
   "metadata": {
    "collapsed": false
   },
   "outputs": [
    {
     "data": {
      "text/plain": [
       "array([[ -71.81674489,   80.06394052,  -98.06404622],\n",
       "       [ -97.13904509,   50.39209463, -151.27324229]])"
      ]
     },
     "execution_count": 64,
     "metadata": {},
     "output_type": "execute_result"
    }
   ],
   "source": [
    "# Now redo it all but go to icrs instead of gcrs to include abberation\n",
    "icrs_zenith = egamma_zenith_altaz.transform_to('icrs')\n",
    "ha_icrs = Longitude(icrs_zenith.ra - icrs_coord.ra)\n",
    "icrs_array_center = array_center_coord.transform_to('icrs')\n",
    "icrs_array_center.representation = 'cartesian'\n",
    "icrs_from_itrs_coord = itrs_coord.transform_to('icrs')\n",
    "icrs_from_itrs_coord.representation = 'cartesian'\n",
    "\n",
    "icrs_rel = (np.array([icrs_from_itrs_coord.x.value, icrs_from_itrs_coord.y.value, icrs_from_itrs_coord.z.value]).T\n",
    "            - np.array([icrs_array_center.x.value, icrs_array_center.y.value, icrs_array_center.z.value]))\n",
    "icrs_rel_rot = uvutils.rotECEF_from_ECEF(icrs_rel, gcrs_lat_lon_alt[1])\n",
    "icrs_uvw = mwatools_calcuvw(ha_icrs.rad, icrs_coord.dec.rad, icrs_rel_rot)\n",
    "icrs_uvw"
   ]
  },
  {
   "cell_type": "code",
   "execution_count": 65,
   "metadata": {
    "collapsed": false
   },
   "outputs": [
    {
     "data": {
      "text/latex": [
       "$[[9.629685,~-3.7200454,~-5.2399245],~\n",
       " [16.216172,~-3.7821784,~-6.5048344]] \\; \\mathrm{mm}$"
      ],
      "text/plain": [
       "<Quantity [[ 9.62968499, -3.72004541, -5.23992454],\n",
       "           [16.21617209, -3.78217843, -6.50483438]] mm>"
      ]
     },
     "execution_count": 65,
     "metadata": {},
     "output_type": "execute_result"
    }
   ],
   "source": [
    "(gcrs_uvw*units.m - icrs_uvw*units.m).to('mm')"
   ]
  },
  {
   "cell_type": "markdown",
   "metadata": {},
   "source": [
    "# => 10's of mm scale for itrs vs gcrs"
   ]
  },
  {
   "cell_type": "code",
   "execution_count": 66,
   "metadata": {
    "collapsed": false
   },
   "outputs": [
    {
     "name": "stdout",
     "output_type": "stream",
     "text": [
      "[[  63.73518635  -37.91        125.23630472]\n",
      " [  71.39382794 -101.94        139.17092739]]\n",
      "[[ -37.91  140.52    0.66]\n",
      " [-101.94  156.41    1.24]]\n",
      "[[ -37.91        140.52          0.65999992]\n",
      " [-101.94        156.41          1.23999991]]\n",
      "[[-8.33622948e-10 -5.44986278e-10 -7.88458329e-08]\n",
      " [-8.63053629e-10  5.80087089e-11 -8.74636734e-08]]\n"
     ]
    }
   ],
   "source": [
    "# try to figure out what zenith uvws are in current epoch frame -- can they be calculated from ENU?\n",
    "itrs_lat_lon_alt = uvutils.LatLonAlt_from_XYZ(np.array([array_center_coord.x.value,\n",
    "                                                        array_center_coord.y.value,\n",
    "                                                        array_center_coord.z.value]))\n",
    "itrs_rel = (np.array([itrs_coord.x.value, itrs_coord.y.value, itrs_coord.z.value]).T\n",
    "            - np.array([array_center_coord.x.value, array_center_coord.y.value, array_center_coord.z.value]))\n",
    "itrs_rel_rot = uvutils.rotECEF_from_ECEF(itrs_rel, itrs_lat_lon_alt[1])\n",
    "\n",
    "print(itrs_rel_rot)\n",
    "print(xyz_ants)\n",
    "\n",
    "itrs_uvw = mwatools_calcuvw(0, latitude, itrs_rel_rot)\n",
    "print(itrs_uvw)\n",
    "print(itrs_uvw - xyz_ants)\n",
    "\n",
    "# good. So this means that the mwatools calculator,\n",
    "# which takes coordinates in the weird relative but rotated ECEF frame,\n",
    "# gives the same answer for zenith phasing as just using ENU positions"
   ]
  },
  {
   "cell_type": "code",
   "execution_count": 67,
   "metadata": {
    "collapsed": false
   },
   "outputs": [
    {
     "data": {
      "text/latex": [
       "$0.0798037-0.9968106j \\; \\mathrm{}$"
      ],
      "text/plain": [
       "<Quantity 0.0798037-0.9968106j>"
      ]
     },
     "execution_count": 67,
     "metadata": {},
     "output_type": "execute_result"
    }
   ],
   "source": [
    "# for phasing the data:\n",
    "# mwa_tools c code: phase = cexp(I*w*k[chan_ind])\n",
    "# k[chan_ind] = freq/(VLIGHT/1e6)\n",
    "# corrected_vis = vis*phase\n",
    "freq = 150 * units.MHz\n",
    "\n",
    "bl_uvw = gcrs_uvw[1, :] - gcrs_uvw[0, :]\n",
    "\n",
    "phase = np.exp(1j * bl_uvw[2]*units.m *freq.to('1/s') / const.c)\n",
    "phase"
   ]
  },
  {
   "cell_type": "markdown",
   "metadata": {},
   "source": [
    "# Now work out how to \"unphase\" to drift"
   ]
  },
  {
   "cell_type": "code",
   "execution_count": 68,
   "metadata": {
    "collapsed": true
   },
   "outputs": [],
   "source": [
    "def mwatools_calcuvw_unphase(ha, dec, uvw):\n",
    "    if uvw.ndim == 1:\n",
    "        uvw = uvw[np.newaxis, :]\n",
    "\n",
    "    sh = np.sin(ha)\n",
    "    sd = np.sin(dec)\n",
    "    ch = np.cos(ha)\n",
    "    cd = np.cos(dec)\n",
    "\n",
    "    x = sh * uvw[:, 0] - sd * ch * uvw[:, 1] + cd * ch * uvw[:, 2]\n",
    "    y = ch * uvw[:, 0] + sd * sh * uvw[:, 1] - cd * sh * uvw[:, 2]\n",
    "    z = cd * uvw[:, 1] + sd * uvw[:, 2]\n",
    "    return np.array([x, y, z]).T"
   ]
  },
  {
   "cell_type": "code",
   "execution_count": 69,
   "metadata": {
    "collapsed": true
   },
   "outputs": [],
   "source": [
    "def unphase_uvw(ra, dec, uvw):\n",
    "    # This code expects uvw locations in the same frame that ra/dec are in (e.g. icrs or gcrs)\n",
    "    \n",
    "    if uvw.ndim == 1:\n",
    "        uvw = uvw[np.newaxis, :]\n",
    "\n",
    "    xyz = np.zeros_like(uvw)\n",
    "    xyz[:, 0] = (-np.sin(ra) * uvw[:, 0]\n",
    "                 -np.sin(dec) * np.cos(ra) * uvw[:, 1]\n",
    "                 +np.cos(dec) * np.cos(ra) * uvw[:, 2])\n",
    "                \n",
    "    xyz[:, 1] = (np.cos(ra) * uvw[:, 0]\n",
    "                 - np.sin(dec) * np.sin(ra) * uvw[:, 1]\n",
    "                 + np.cos(dec) * np.sin(ra) * uvw[:, 2])\n",
    "                 \n",
    "    xyz[:, 2] = (np.cos(dec) * uvw[:, 1]\n",
    "                + np.sin(dec) * uvw[:, 2])\n",
    "                     \n",
    "    return(xyz)"
   ]
  },
  {
   "cell_type": "code",
   "execution_count": 70,
   "metadata": {
    "collapsed": false
   },
   "outputs": [
    {
     "name": "stdout",
     "output_type": "stream",
     "text": [
      "[[  63.66902558  -38.08336341  125.21740372]\n",
      " [  71.28733004 -102.13285218  139.08409291]]\n",
      "[[  63.66902558  -38.08336341  125.21740372]\n",
      " [  71.28733004 -102.13285218  139.08409291]]\n",
      "[[ 0.00000000e+00  0.00000000e+00  1.42108547e-14]\n",
      " [ 0.00000000e+00 -1.42108547e-14  0.00000000e+00]]\n"
     ]
    }
   ],
   "source": [
    "# start with gcrs_uvw\n",
    "\n",
    "# first unphase to get positions in rotECEF frame\n",
    "uvw_rot_positions = mwatools_calcuvw_unphase(ha_gcrs.rad,\n",
    "                                             gcrs_coord.dec.rad,\n",
    "                                             gcrs_uvw)\n",
    "print(uvw_rot_positions)\n",
    "print(gcrs_rel_rot)\n",
    "print(uvw_rot_positions - gcrs_rel_rot)"
   ]
  },
  {
   "cell_type": "code",
   "execution_count": 71,
   "metadata": {
    "collapsed": false
   },
   "outputs": [
    {
     "name": "stdout",
     "output_type": "stream",
     "text": [
      "[[ 16.77023762  72.26926399 125.21740372]\n",
      " [ 75.41482945  99.12419693 139.08409291]]\n",
      "[[ 16.77023762  72.26926399 125.21740372]\n",
      " [ 75.41482945  99.12419693 139.08409291]] m\n",
      "[[7.10542736e-15 0.00000000e+00 1.42108547e-14]\n",
      " [1.42108547e-14 1.42108547e-14 0.00000000e+00]]\n",
      "[[ 16.76998555  72.26932248 125.21740372]\n",
      " [ 75.41448371  99.12445998 139.08409291]]\n",
      "[[ 2.52073400e-04 -5.84937095e-05  0.00000000e+00]\n",
      " [ 3.45743059e-04 -2.63044345e-04  0.00000000e+00]]\n"
     ]
    }
   ],
   "source": [
    "# next rotate them so they can be added to telescope location in frame\n",
    "uvw_rel_positions = uvutils.ECEF_from_rotECEF(uvw_rot_positions,\n",
    "                                              gcrs_lat_lon_alt[1])\n",
    "\n",
    "uvw_rel_pos_unphase = unphase_uvw(gcrs_coord.ra.rad, gcrs_coord.dec.rad,\n",
    "                                  gcrs_uvw)\n",
    "\n",
    "print(uvw_rel_positions)\n",
    "print(gcrs_rel)\n",
    "print(uvw_rel_positions - gcrs_rel.value)\n",
    "print(uvw_rel_pos_unphase)\n",
    "print(uvw_rel_positions - uvw_rel_pos_unphase)"
   ]
  },
  {
   "cell_type": "code",
   "execution_count": 72,
   "metadata": {
    "collapsed": false
   },
   "outputs": [
    {
     "name": "stdout",
     "output_type": "stream",
     "text": [
      "<SkyCoord (GCRS: obstime=55780.1, obsgeoloc=(0., 0., 0.) m, obsgeovel=(0., 0., 0.) m / s): (x, y, z) in m\n",
      "    [(-1745402.70537897, 5429516.85350522, -2846871.72816737),\n",
      "     (-1745344.06078713, 5429543.70843817, -2846857.86147819)]>\n",
      "<SkyCoord (GCRS: obstime=55780.1, obsgeoloc=(0., 0., 0.) m, obsgeovel=(0., 0., 0.) m / s): (ra, dec, distance) in (deg, deg, m)\n",
      "    [(107.82081001, -26.52718048, 6374226.42389492),\n",
      "     (107.82016655, -26.52703837, 6374227.04771532)]>\n",
      "[(0., 0., 0.), (0., 0., 0.)] m\n"
     ]
    }
   ],
   "source": [
    "gcrs_uvw_coord = SkyCoord(x=uvw_rel_positions[:, 0] * units.m + gcrs_array_center.cartesian.x,\n",
    "                          y=uvw_rel_positions[:, 1] * units.m + gcrs_array_center.cartesian.y,\n",
    "                          z=uvw_rel_positions[:, 2] * units.m + gcrs_array_center.cartesian.z,\n",
    "                          representation='cartesian',\n",
    "                          frame='gcrs', obstime=obs_time)\n",
    "\n",
    "print(gcrs_uvw_coord)\n",
    "print(gcrs_from_itrs_coord)\n",
    "print(gcrs_uvw_coord.cartesian - gcrs_from_itrs_coord.cartesian)"
   ]
  },
  {
   "cell_type": "code",
   "execution_count": 73,
   "metadata": {
    "collapsed": false
   },
   "outputs": [
    {
     "name": "stdout",
     "output_type": "stream",
     "text": [
      "<SkyCoord (ITRS: obstime=55780.1): (x, y, z) in m\n",
      "    [(-2559448.81203606, 5095446.11019442, -2848931.94367792),\n",
      "     (-2559395.03255611, 5095481.69466939, -2848918.00908438)]>\n",
      "<SkyCoord (ITRS: obstime=55780.1): (x, y, z) in m\n",
      "    [(-2559448.81204191, 5095446.11020141, -2848931.94369528),\n",
      "     (-2559395.03251243, 5095481.69471912, -2848918.00907261)]>\n",
      "[[ 0.00584684 -0.04367111]\n",
      " [-0.00698864 -0.04972704]\n",
      " [ 0.01735194 -0.01177331]] mm\n"
     ]
    }
   ],
   "source": [
    "itrs_uvw_coord = gcrs_uvw_coord.transform_to('itrs')\n",
    "itrs_uvw_coord.representation = 'cartesian'\n",
    "\n",
    "print(itrs_uvw_coord)\n",
    "print(itrs_coord)\n",
    "print((itrs_uvw_coord.cartesian - itrs_coord.cartesian).get_xyz().to('mm'))"
   ]
  },
  {
   "cell_type": "markdown",
   "metadata": {
    "collapsed": true
   },
   "source": [
    "# Working with uvws (vs antenna positions)"
   ]
  },
  {
   "cell_type": "code",
   "execution_count": 74,
   "metadata": {
    "collapsed": false
   },
   "outputs": [
    {
     "name": "stdout",
     "output_type": "stream",
     "text": [
      "[ 5109337.14592325  2005209.62133741 -3239929.35463413]\n",
      "[[ 5109337.14592325  2005209.62133741 -3239929.35463413]\n",
      " [ 5109326.91649623  2005235.6858481  -3239929.35463413]\n",
      " [ 5109342.7603753   2005241.90402772 -3239939.46926404]]\n"
     ]
    }
   ],
   "source": [
    "antenna_rel = np.array([[-5.61445218e+00, -3.22826900e+01,  1.01146299e+01],\n",
    "                        [-1.58438792e+01, -6.21817931e+00,  1.01146299e+01],\n",
    "                        [-1.25728548e-07,  3.13855708e-07, -1.21071935e-08]])\n",
    "telescope_loc = np.array([ 5109342.76037543,  2005241.90402741, -3239939.46926403])\n",
    "antenna_ecef = antenna_rel + telescope_loc\n",
    "print(antenna_rel[0, :] + telescope_loc)\n",
    "print(antenna_ecef)"
   ]
  },
  {
   "cell_type": "code",
   "execution_count": 75,
   "metadata": {
    "collapsed": false
   },
   "outputs": [
    {
     "name": "stdout",
     "output_type": "stream",
     "text": [
      "[[-2.79999979e+01  3.45201272e-08 -1.97989899e+01]\n",
      " [ 1.91888926e-07  4.94729520e-08 -1.97989899e+01]\n",
      " [ 3.38093824e-07 -4.41559063e-09 -1.38232040e-10]]\n"
     ]
    }
   ],
   "source": [
    "lat_lon_alt = uvutils.LatLonAlt_from_XYZ(telescope_loc)\n",
    "antenna_enu = uvutils.ENU_from_ECEF(antenna_ecef.T, *lat_lon_alt).T\n",
    "print(antenna_enu)"
   ]
  },
  {
   "cell_type": "code",
   "execution_count": 76,
   "metadata": {
    "collapsed": false
   },
   "outputs": [
    {
     "name": "stdout",
     "output_type": "stream",
     "text": [
      "[[-2.79999979e+01  2.74625620e-08 -1.97989899e+01]\n",
      " [ 1.92015205e-07  4.19946176e-08 -1.97989899e+01]\n",
      " [ 3.38093825e-07 -1.16211809e-08  4.14379671e-09]]\n",
      "\n",
      "[[-2.79999979e+01  2.74625638e-08 -1.97989899e+01]\n",
      " [ 1.92015205e-07  4.19946176e-08 -1.97989899e+01]\n",
      " [ 3.38093825e-07 -1.16211809e-08  4.14379671e-09]]\n",
      "[[ 0.00000000e+00 -1.77635684e-15  0.00000000e+00]\n",
      " [ 4.41163240e-16  0.00000000e+00 -3.55271368e-15]\n",
      " [ 0.00000000e+00  8.27180613e-24 -1.65436123e-24]]\n"
     ]
    }
   ],
   "source": [
    "antenna_rot_ecef = uvutils.rotECEF_from_ECEF(antenna_rel, lat_lon_alt[1])\n",
    "phase_ant = mwatools_calcuvw(0, lat_lon_alt[0], antenna_rot_ecef)\n",
    "print(phase_ant)\n",
    "print('')\n",
    "phase_ant_simple = phase_uvw(lat_lon_alt[1], lat_lon_alt[0], antenna_rel)\n",
    "temp = unphase_uvw(lat_lon_alt[1], lat_lon_alt[0], phase_ant_simple)\n",
    "assert(np.allclose(temp, antenna_rel))\n",
    "\n",
    "print(phase_ant_simple)\n",
    "print(phase_ant - phase_ant_simple)"
   ]
  },
  {
   "cell_type": "code",
   "execution_count": 77,
   "metadata": {
    "collapsed": false
   },
   "outputs": [
    {
     "name": "stdout",
     "output_type": "stream",
     "text": [
      "[[-1.45050194e-10 -7.05756520e-09  4.69347938e-09]\n",
      " [ 1.26278984e-10 -7.47833440e-09  3.98542355e-09]\n",
      " [ 4.86039311e-16 -7.20559026e-09  4.28202875e-09]]\n"
     ]
    }
   ],
   "source": [
    "print(phase_ant-antenna_enu)"
   ]
  },
  {
   "cell_type": "code",
   "execution_count": 78,
   "metadata": {
    "collapsed": true
   },
   "outputs": [],
   "source": [
    "uvw_enu = np.array([antenna_enu[1, :] - antenna_enu[0, :],\n",
    "                    antenna_enu[2, :] - antenna_enu[0, :],\n",
    "                    antenna_enu[2, :] - antenna_enu[1, :]])\n",
    "phased_uvw = np.array([phase_ant[1, :] - phase_ant[0, :],\n",
    "                      phase_ant[2, :] - phase_ant[0, :],\n",
    "                      phase_ant[2, :] - phase_ant[1, :]])\n",
    "uvw_ecef = np.array([antenna_ecef[1, :] - antenna_ecef[0, :],\n",
    "                     antenna_ecef[2, :] - antenna_ecef[0, :],\n",
    "                     antenna_ecef[2, :] - antenna_ecef[1, :]])"
   ]
  },
  {
   "cell_type": "code",
   "execution_count": 79,
   "metadata": {
    "collapsed": false
   },
   "outputs": [
    {
     "data": {
      "text/plain": [
       "array([[-2.71327849e-10,  4.20769197e-10,  7.08055836e-10],\n",
       "       [-1.45053747e-10,  1.48025065e-10,  4.11450429e-10],\n",
       "       [ 1.26278498e-10, -2.72744132e-10, -2.96605407e-10]])"
      ]
     },
     "execution_count": 79,
     "metadata": {},
     "output_type": "execute_result"
    }
   ],
   "source": [
    "uvw_enu-phased_uvw"
   ]
  },
  {
   "cell_type": "code",
   "execution_count": 80,
   "metadata": {
    "collapsed": false
   },
   "outputs": [
    {
     "name": "stdout",
     "output_type": "stream",
     "text": [
      "[[-10.22942702  26.06451069   0.        ]\n",
      " [  5.61445205  32.28269031 -10.11462991]\n",
      " [ 15.84387907   6.21817962 -10.11462991]]\n",
      "[[ 2.79999981e+01  2.17155238e-08  2.01345802e-08]\n",
      " [ 2.79999983e+01 -3.17301279e-08  1.97989899e+01]\n",
      " [ 1.46204899e-07 -4.66829526e-08  1.97989899e+01]]\n",
      "[[ 6.89190927e-11  7.18346824e-09 -4.31925252e-09]\n",
      " [-1.45050194e-10  7.35361504e-09 -3.87057852e-09]\n",
      " [ 1.26278978e-10  6.93284585e-09 -4.57863436e-09]]\n",
      "\n",
      "[[ 2.79999981e+01  2.17155238e-08  2.01345802e-08]\n",
      " [ 2.79999983e+01 -3.17301279e-08  1.97989899e+01]\n",
      " [ 1.46204899e-07 -4.66829526e-08  1.97989899e+01]]\n",
      "[[0. 0. 0.]\n",
      " [0. 0. 0.]\n",
      " [0. 0. 0.]]\n"
     ]
    }
   ],
   "source": [
    "# to unphase uvws, treat them like they need to end up in ENU (not ECEF or rotECEF)\n",
    "# this puts them in rotECEF:\n",
    "temp_unphase = mwatools_calcuvw_unphase(0, lat_lon_alt[0], phased_uvw)\n",
    "# now go to ECEF\n",
    "temp_unphase_ecef = uvutils.ECEF_from_rotECEF(temp_unphase, lat_lon_alt[1]) + telescope_loc\n",
    "print(uvw_ecef)\n",
    "# then go to ENU\n",
    "uvw_unphased = uvutils.ENU_from_ECEF(temp_unphase_ecef.T, *lat_lon_alt).T\n",
    "print(uvw_unphased)\n",
    "print(uvw_unphased-phased_uvw)\n",
    "print('')\n",
    "\n",
    "phased_uvw_rel_ecef = unphase_uvw(lat_lon_alt[1], lat_lon_alt[0], phased_uvw)\n",
    "phased_uvw_ecef = phased_uvw_rel_ecef + telescope_loc\n",
    "uvw_unphased2 = uvutils.ENU_from_ECEF(phased_uvw_ecef.T, *lat_lon_alt).T\n",
    "\n",
    "print(uvw_unphased2)\n",
    "print(uvw_unphased2-uvw_unphased)"
   ]
  },
  {
   "cell_type": "code",
   "execution_count": 81,
   "metadata": {
    "collapsed": false
   },
   "outputs": [
    {
     "name": "stdout",
     "output_type": "stream",
     "text": [
      "12d33m20.9945s -30d47m11.0173s\n",
      "12d33m21.1026s -30d37m03.6457s\n",
      "-0.108091arcsec -607.372arcsec\n",
      "\n",
      "[[-6.08279595e+00  2.73313135e+01  7.24636298e-03]\n",
      " [ 1.05194115e+01  3.10289339e+01 -1.01266519e+01]\n",
      " [ 1.66021617e+01  3.69768144e+00 -1.01338906e+01]]\n",
      "[[ 4.26879564e-03  2.80000194e+01  7.24636298e-03]\n",
      " [ 1.70132573e+01  2.80000327e+01 -1.01266519e+01]\n",
      " [ 1.70089571e+01  8.28930982e-05 -1.01338906e+01]]\n",
      "\n",
      "[[ 2.80000194e+01  8.41015169e-03 -4.17269980e-05]\n",
      " [ 2.80000327e+01  8.42737964e-03  1.97989881e+01]\n",
      " [ 8.28930982e-05  7.69968847e-06  1.97989989e+01]]\n",
      "[[ 2.80000194e+01  8.40264144e-03 -5.43323614e-05]\n",
      " [ 2.80000416e+01  8.41986939e-03  1.97989755e+01]\n",
      " [ 9.18064361e-05  7.69966504e-06  1.97989989e+01]]\n",
      "\n",
      "[[-2.23316832e-09  7.51024809e-06  1.26053634e-05]\n",
      " [-8.91558759e-06  7.51025287e-06  1.26053715e-05]\n",
      " [-8.91333795e-06  2.34283704e-11  3.93249877e-11]]\n",
      "\n",
      "[[-2.12401188e-05 -8.41013674e-03  4.17521599e-05]\n",
      " [-3.44656822e-05 -8.42741858e-03  1.79320964e-06]\n",
      " [-8.27468933e-05 -7.75357701e-06 -9.06520348e-06]]\n",
      "[[-2.12423520e-05 -8.40262649e-03  5.43575233e-05]\n",
      " [-4.33812698e-05 -8.41990833e-03  1.43985811e-05]\n",
      " [-9.16602312e-05 -7.75355358e-06 -9.06516416e-06]]\n"
     ]
    }
   ],
   "source": [
    "# how much do uvws change from itrs enu values if you phase them to zenith in gcrs?\n",
    "uvw_enu = np.array([antenna_enu[1, :] - antenna_enu[0, :],\n",
    "                    antenna_enu[2, :] - antenna_enu[0, :],\n",
    "                    antenna_enu[2, :] - antenna_enu[1, :]])\n",
    "uvw_enu_ecef = uvutils.ECEF_from_ENU(uvw_enu.T, *lat_lon_alt).T\n",
    "uvw_enu_rel_ecef = uvw_enu_ecef - telescope_loc\n",
    "uvw_enu_rel_rot_ecef = uvutils.rotECEF_from_ECEF(uvw_enu_rel_ecef, lat_lon_alt[1])\n",
    "\n",
    "zenith_coord = SkyCoord(alt=Angle(90 * units.deg), az=Angle(0 * units.deg),\n",
    "                        obstime=obs_time, frame='altaz', location=EarthLocation.from_geocentric(*telescope_loc, unit='m'))\n",
    "gcrs_zenith = zenith_coord.transform_to('gcrs')\n",
    "\n",
    "telescope_loc_itrs = SkyCoord(x=telescope_loc[0] * units.m,\n",
    "                              y=telescope_loc[1] * units.m,\n",
    "                              z=telescope_loc[2] * units.m,\n",
    "                              representation='cartesian',\n",
    "                              frame='itrs', obstime=obs_time)\n",
    "telescope_loc_gcrs = telescope_loc_itrs.transform_to('gcrs')\n",
    "uvw_enu_itrs_coord = SkyCoord(x=uvw_enu_ecef[:, 0] * units.m,\n",
    "                              y=uvw_enu_ecef[:, 1] * units.m,\n",
    "                              z=uvw_enu_ecef[:, 2] * units.m,\n",
    "                              representation='cartesian',\n",
    "                              frame='itrs', obstime=obs_time)\n",
    "uvw_enu_gcrs_coord = uvw_enu_itrs_coord.transform_to('gcrs')\n",
    "\n",
    "print(gcrs_zenith.ra, gcrs_zenith.dec)\n",
    "print(telescope_loc_gcrs.ra, telescope_loc_gcrs.dec)\n",
    "print((gcrs_zenith.ra - telescope_loc_gcrs.ra).to('arcsec'), (gcrs_zenith.dec - telescope_loc_gcrs.dec).to('arcsec'))\n",
    "print('')\n",
    "\n",
    "# print(uvw_enu_gcrs_coord.cartesian.get_xyz().value.T[:, 0])\n",
    "uvw_enu_gcrs_rel_ecef = uvw_enu_gcrs_coord.cartesian.get_xyz().value.T - telescope_loc_gcrs.cartesian.get_xyz().value\n",
    "print(uvw_enu_gcrs_rel_ecef)\n",
    "uvw_enu_gcrs_rel_rot_ecef = uvutils.rotECEF_from_ECEF(uvw_enu_gcrs_rel_ecef, telescope_loc_gcrs.ra.rad)\n",
    "print(uvw_enu_gcrs_rel_rot_ecef)\n",
    "\n",
    "\n",
    "print('')\n",
    "mwatools_phase_uvws = mwatools_calcuvw(0, gcrs_zenith.dec, uvw_enu_gcrs_rel_rot_ecef)\n",
    "print(mwatools_phase_uvws)\n",
    "simple_phase_uvws = phase_uvw(gcrs_zenith.ra, gcrs_zenith.dec, uvw_enu_gcrs_rel_ecef)\n",
    "print(simple_phase_uvws)\n",
    "print('')\n",
    "print(mwatools_phase_uvws - simple_phase_uvws)\n",
    "print('')\n",
    "print(uvw_enu - mwatools_phase_uvws)\n",
    "print(uvw_enu - simple_phase_uvws)\n",
    "\n"
   ]
  },
  {
   "cell_type": "code",
   "execution_count": null,
   "metadata": {
    "collapsed": true
   },
   "outputs": [],
   "source": []
  },
  {
   "cell_type": "code",
   "execution_count": null,
   "metadata": {
    "collapsed": true
   },
   "outputs": [],
   "source": []
  },
  {
   "cell_type": "code",
   "execution_count": null,
   "metadata": {
    "collapsed": true
   },
   "outputs": [],
   "source": []
  }
 ],
 "metadata": {
  "kernelspec": {
   "display_name": "Python 3",
   "language": "python",
   "name": "python3"
  },
  "language_info": {
   "codemirror_mode": {
    "name": "ipython",
    "version": 3
   },
   "file_extension": ".py",
   "mimetype": "text/x-python",
   "name": "python",
   "nbconvert_exporter": "python",
   "pygments_lexer": "ipython3",
   "version": "3.5.5"
  }
 },
 "nbformat": 4,
 "nbformat_minor": 0
}
