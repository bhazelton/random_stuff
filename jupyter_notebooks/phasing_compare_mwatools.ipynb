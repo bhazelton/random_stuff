{
 "cells": [
  {
   "cell_type": "code",
   "execution_count": 38,
   "metadata": {
    "collapsed": false
   },
   "outputs": [],
   "source": [
    "import numpy as np\n",
    "from astropy.coordinates import SkyCoord, Angle, EarthLocation, Longitude\n",
    "from astropy.time import Time\n",
    "from astropy import units"
   ]
  },
  {
   "cell_type": "code",
   "execution_count": 2,
   "metadata": {
    "collapsed": false
   },
   "outputs": [],
   "source": [
    "ra_hrs = 12.1\n",
    "dec_degs = -42.3\n",
    "mjd = 55780.1\n",
    "latitude = Angle('-26d42m11.94986s')\n",
    "longitude = Angle('116d40m14.93485s')"
   ]
  },
  {
   "cell_type": "code",
   "execution_count": 3,
   "metadata": {
    "collapsed": false
   },
   "outputs": [
    {
     "name": "stdout",
     "output_type": "stream",
     "text": [
      "-0.466060844839\n",
      "2.03628986686\n"
     ]
    }
   ],
   "source": [
    "print(latitude.rad)\n",
    "print(longitude.rad)"
   ]
  },
  {
   "cell_type": "code",
   "execution_count": 4,
   "metadata": {
    "collapsed": false
   },
   "outputs": [
    {
     "name": "stdout",
     "output_type": "stream",
     "text": [
      "1.88387679923\n",
      "1.88395723805\n"
     ]
    }
   ],
   "source": [
    "obs_time = Time(mjd, format='mjd', location = (longitude, latitude))\n",
    "lst_mean = obs_time.sidereal_time('mean')\n",
    "lst_apparent = obs_time.sidereal_time('apparent')\n",
    "print(lst_mean.rad)\n",
    "print(lst_apparent.rad)"
   ]
  },
  {
   "cell_type": "code",
   "execution_count": 5,
   "metadata": {
    "collapsed": true
   },
   "outputs": [],
   "source": [
    "mwa_tools_lst_mean = 1.8838984"
   ]
  },
  {
   "cell_type": "code",
   "execution_count": 6,
   "metadata": {
    "collapsed": false
   },
   "outputs": [
    {
     "name": "stdout",
     "output_type": "stream",
     "text": [
      "-0deg00m04.4555s\n",
      "0deg00m12.1362s\n"
     ]
    }
   ],
   "source": [
    "print(Angle(lst_mean.rad - mwa_tools_lst_mean, unit='rad').to_string(unit=units.degree, sep=('deg', 'm', 's')))\n",
    "print(Angle(lst_apparent.rad - mwa_tools_lst_mean, unit='rad').to_string(unit=units.degree, sep=('deg', 'm', 's')))"
   ]
  },
  {
   "cell_type": "markdown",
   "metadata": {},
   "source": [
    "# -> mean LST disagrees by ~4.5 arcseconds (should we use apparent??)"
   ]
  },
  {
   "cell_type": "code",
   "execution_count": 7,
   "metadata": {
    "collapsed": false
   },
   "outputs": [
    {
     "data": {
      "text/plain": [
       "<SkyCoord (ICRS): (ra, dec) in deg\n",
       "    (181.5, -42.3)>"
      ]
     },
     "execution_count": 7,
     "metadata": {},
     "output_type": "execute_result"
    }
   ],
   "source": [
    "icrs_coord = SkyCoord(ra=Angle(ra_hrs, unit='hr'), dec=Angle(dec_degs, unit='deg'),\n",
    "                      obstime=Time(mjd, format='mjd'), equinox=Time(mjd, format='mjd'))\n",
    "icrs_coord"
   ]
  },
  {
   "cell_type": "code",
   "execution_count": 8,
   "metadata": {
    "collapsed": false
   },
   "outputs": [
    {
     "data": {
      "text/plain": [
       "(3.1677725923697078, -0.7382742735936013)"
      ]
     },
     "execution_count": 8,
     "metadata": {},
     "output_type": "execute_result"
    }
   ],
   "source": [
    "icrs_coord.ra.rad, icrs_coord.dec.rad"
   ]
  },
  {
   "cell_type": "code",
   "execution_count": 10,
   "metadata": {
    "collapsed": false
   },
   "outputs": [
    {
     "data": {
      "text/plain": [
       "<SkyCoord (GCRS: obstime=55780.1, obsgeoloc=(0., 0., 0.) m, obsgeovel=(0., 0., 0.) m / s): (ra, dec) in deg\n",
       "    (181.49525535, -42.3015925)>"
      ]
     },
     "execution_count": 10,
     "metadata": {},
     "output_type": "execute_result"
    }
   ],
   "source": [
    "gcrs_coord = icrs_coord.transform_to('gcrs')\n",
    "gcrs_coord"
   ]
  },
  {
   "cell_type": "code",
   "execution_count": 11,
   "metadata": {
    "collapsed": false
   },
   "outputs": [
    {
     "data": {
      "text/plain": [
       "(3.16772535331374, -0.7394629729188962)"
      ]
     },
     "execution_count": 11,
     "metadata": {},
     "output_type": "execute_result"
    }
   ],
   "source": [
    "cirs_coord.ra.rad, cirs_coord.dec.rad"
   ]
  },
  {
   "cell_type": "code",
   "execution_count": 12,
   "metadata": {
    "collapsed": false
   },
   "outputs": [
    {
     "data": {
      "text/plain": [
       "(3.167689782620545, -0.7383020680162412)"
      ]
     },
     "execution_count": 12,
     "metadata": {},
     "output_type": "execute_result"
    }
   ],
   "source": [
    "gcrs_coord.ra.rad, gcrs_coord.dec.rad"
   ]
  },
  {
   "cell_type": "code",
   "execution_count": 14,
   "metadata": {
    "collapsed": false
   },
   "outputs": [
    {
     "name": "stdout",
     "output_type": "stream",
     "text": [
      "0d00m09.7438s\n",
      "0d04m05.1868s\n"
     ]
    }
   ],
   "source": [
    "# This is the change in ra & dec between icrs & cirs\n",
    "print(icrs_coord.ra-cirs_coord.ra)\n",
    "print(icrs_coord.dec-cirs_coord.dec)"
   ]
  },
  {
   "cell_type": "code",
   "execution_count": 15,
   "metadata": {
    "collapsed": false
   },
   "outputs": [
    {
     "name": "stdout",
     "output_type": "stream",
     "text": [
      "0d00m17.0807s\n",
      "0d00m05.733s\n"
     ]
    }
   ],
   "source": [
    "# This is the change in ra & dec between icrs & gcrs\n",
    "print(icrs_coord.ra-gcrs_coord.ra)\n",
    "print(icrs_coord.dec-gcrs_coord.dec)"
   ]
  },
  {
   "cell_type": "code",
   "execution_count": 16,
   "metadata": {
    "collapsed": false
   },
   "outputs": [
    {
     "name": "stdout",
     "output_type": "stream",
     "text": [
      "-1.28384855408\n",
      "-1.28376811527\n"
     ]
    }
   ],
   "source": [
    "hour_angle_mean = lst_mean.rad - cirs_coord.ra.rad\n",
    "hour_angle_apparent = lst_apparent.rad - cirs_coord.ra.rad\n",
    "\n",
    "print(hour_angle_mean)\n",
    "print(hour_angle_apparent)"
   ]
  },
  {
   "cell_type": "code",
   "execution_count": 17,
   "metadata": {
    "collapsed": true
   },
   "outputs": [],
   "source": [
    "# mwa_tools comp2\n",
    "# It turns out these are not actually used in the return values at all. So don't worry about them\n",
    "mwa_tools_comp2_ra = 3.1703987\n",
    "mwa_tools_comp2_dec = -0.73946297"
   ]
  },
  {
   "cell_type": "code",
   "execution_count": 18,
   "metadata": {
    "collapsed": false
   },
   "outputs": [
    {
     "name": "stdout",
     "output_type": "stream",
     "text": [
      "-0deg09m11.4173s\n",
      "-0deg00m00.0006s\n"
     ]
    }
   ],
   "source": [
    "# compare mwa_tools comp2 to cirs\n",
    "print(Angle(cirs_coord.ra.rad - mwa_tools_comp2_ra, unit='rad').to_string(unit=units.degree, sep=('deg', 'm', 's')))\n",
    "print(Angle(cirs_coord.dec.rad - mwa_tools_comp2_dec, unit='rad').to_string(unit=units.degree, sep=('deg', 'm', 's')))"
   ]
  },
  {
   "cell_type": "code",
   "execution_count": 19,
   "metadata": {
    "collapsed": false
   },
   "outputs": [
    {
     "name": "stdout",
     "output_type": "stream",
     "text": [
      "-0deg09m18.7543s\n",
      "0deg03m59.4532s\n"
     ]
    }
   ],
   "source": [
    "# compare mwa_tools comp2 to gcrs\n",
    "print(Angle(gcrs_coord.ra.rad - mwa_tools_comp2_ra, unit='rad').to_string(unit=units.degree, sep=('deg', 'm', 's')))\n",
    "print(Angle(gcrs_coord.dec.rad - mwa_tools_comp2_dec, unit='rad').to_string(unit=units.degree, sep=('deg', 'm', 's')))"
   ]
  },
  {
   "cell_type": "code",
   "execution_count": 20,
   "metadata": {
    "collapsed": true
   },
   "outputs": [],
   "source": [
    "# mwa_tools comp3\n",
    "mwa_tools_comp3_ra = 3.1676898\n",
    "mwa_tools_comp3_dec = -0.73830205"
   ]
  },
  {
   "cell_type": "code",
   "execution_count": 21,
   "metadata": {
    "collapsed": false
   },
   "outputs": [
    {
     "name": "stdout",
     "output_type": "stream",
     "text": [
      "0deg00m07.3334s\n",
      "-0deg03m59.4575s\n"
     ]
    }
   ],
   "source": [
    "# compare mwa_tools comp3 to cirs\n",
    "print(Angle(cirs_coord.ra.rad - mwa_tools_comp3_ra, unit='rad').to_string(unit=units.degree, sep=('deg', 'm', 's')))\n",
    "print(Angle(cirs_coord.dec.rad - mwa_tools_comp3_dec, unit='rad').to_string(unit=units.degree, sep=('deg', 'm', 's')))"
   ]
  },
  {
   "cell_type": "code",
   "execution_count": 22,
   "metadata": {
    "collapsed": false
   },
   "outputs": [
    {
     "name": "stdout",
     "output_type": "stream",
     "text": [
      "-0deg00m00.0036s\n",
      "-0deg00m00.0037s\n"
     ]
    }
   ],
   "source": [
    "# compare mwa_tools comp3 to gcrs\n",
    "print(Angle(gcrs_coord.ra.rad - mwa_tools_comp3_ra, unit='rad').to_string(unit=units.degree, sep=('deg', 'm', 's')))\n",
    "print(Angle(gcrs_coord.dec.rad - mwa_tools_comp3_dec, unit='rad').to_string(unit=units.degree, sep=('deg', 'm', 's')))"
   ]
  },
  {
   "cell_type": "markdown",
   "metadata": {},
   "source": [
    "# -> mwa_tools ra_aber/dec_aber (calc3) agrees with GCRS, meaning that it accounts for aberration but not nutation or precession"
   ]
  },
  {
   "cell_type": "code",
   "execution_count": 53,
   "metadata": {
    "collapsed": true
   },
   "outputs": [],
   "source": [
    "# The frame radio astronomers call the apparent or current epoch is the\n",
    "# \"true equator & equinox\" frame, notated E_gamma in the USNO circular\n",
    "# astropy doesn't have this frame but it's pretty easy to adapt the CIRS frame\n",
    "# by modifying the ra to reflect the difference between\n",
    "# GAST (Grenwich Apparent Sidereal Time) and the earth rotation angle (theta)\n",
    "def egamma_to_cirs_ra(egamma_ra, time):\n",
    "    from astropy import _erfa as erfa\n",
    "    from astropy.coordinates.builtin_frames.utils import get_jd12\n",
    "    era = erfa.era00(*get_jd12(Time(mjd, format='mjd'), 'ut1'))\n",
    "    theta_earth = Angle(era, unit='rad')\n",
    "\n",
    "    assert(isinstance(time, Time))\n",
    "    gast = time.sidereal_time('apparent', longitude=0)\n",
    "    cirs_ra = e_gamma_ra - (gast-theta_earth)\n",
    "    return cirs_ra"
   ]
  },
  {
   "cell_type": "code",
   "execution_count": 56,
   "metadata": {
    "collapsed": false
   },
   "outputs": [
    {
     "data": {
      "text/plain": [
       "<SkyCoord (CIRS: obstime=55780.1): (ra, dec) in deg\n",
       "    (107.78961213, -26.70331941)>"
      ]
     },
     "execution_count": 56,
     "metadata": {},
     "output_type": "execute_result"
    }
   ],
   "source": [
    "# now get equivilents of lst, lat in GCRS (rather than precessed) frame:\n",
    "# effectively current zenith \"unprecessed\" to J2000 but not undoing aberration\n",
    "# mwa_tools calls these \"lmst2000\" and \"newarrlat\"\n",
    "# also need what they call \"ha2000\" which is \"lmst2000\" - apparent ra\n",
    "\n",
    "loc_obj = EarthLocation.from_geodetic(lon=longitude, lat=latitude)\n",
    "\n",
    "# use CIRS but with a different ra to account for the difference between LST & earth's rotation angle\n",
    "cirs_ra = egamma_to_cirs_ra(lst_apparent, Time(mjd, format='mjd'))\n",
    "\n",
    "egamma_zenith_coord = SkyCoord(ra=cirs_ra, dec=latitude, frame='cirs',\n",
    "                               obstime=Time(mjd, format='mjd'), location = loc_obj)\n",
    "egamma_zenith_coord"
   ]
  },
  {
   "cell_type": "code",
   "execution_count": 57,
   "metadata": {
    "collapsed": false
   },
   "outputs": [
    {
     "data": {
      "text/plain": [
       "<SkyCoord (AltAz: obstime=55780.1, location=(-2559302.5737783727, 5095070.526830904, -2848887.400942108) m, pressure=0.0 hPa, temperature=0.0 deg_C, relative_humidity=0, obswl=1.0 micron): (az, alt) in deg\n",
       "    (28.60732437, 89.99985797)>"
      ]
     },
     "execution_count": 57,
     "metadata": {},
     "output_type": "execute_result"
    }
   ],
   "source": [
    "# check where it is in altaz (should be near zenith):\n",
    "egamma_zenith_altaz = zenith_coord.transform_to('altaz')\n",
    "egamma_zenith_altaz"
   ]
  },
  {
   "cell_type": "code",
   "execution_count": 58,
   "metadata": {
    "collapsed": false
   },
   "outputs": [
    {
     "data": {
      "text/plain": [
       "u'-0deg00m00.5113s'"
      ]
     },
     "execution_count": 58,
     "metadata": {},
     "output_type": "execute_result"
    }
   ],
   "source": [
    "(egamma_zenith_altaz.alt - Angle('90d')).to_string(unit=units.degree, sep=('deg', 'm', 's'))"
   ]
  },
  {
   "cell_type": "code",
   "execution_count": 59,
   "metadata": {
    "collapsed": false
   },
   "outputs": [
    {
     "data": {
      "text/plain": [
       "<SkyCoord (GCRS: obstime=55780.1, obsgeoloc=(0., 0., 0.) m, obsgeovel=(0., 0., 0.) m / s): (ra, dec) in deg\n",
       "    (107.82139279, -26.68249473)>"
      ]
     },
     "execution_count": 59,
     "metadata": {},
     "output_type": "execute_result"
    }
   ],
   "source": [
    "gcrs_zenith = egamma_zenith_altaz.transform_to('gcrs')\n",
    "gcrs_zenith"
   ]
  },
  {
   "cell_type": "code",
   "execution_count": 60,
   "metadata": {
    "collapsed": false
   },
   "outputs": [
    {
     "name": "stdout",
     "output_type": "stream",
     "text": [
      "1.88183830833\n",
      "-0.465697385751\n"
     ]
    }
   ],
   "source": [
    "print(gcrs_zenith.ra.rad)\n",
    "print(gcrs_zenith.dec.rad)"
   ]
  },
  {
   "cell_type": "code",
   "execution_count": 63,
   "metadata": {
    "collapsed": false
   },
   "outputs": [
    {
     "name": "stdout",
     "output_type": "stream",
     "text": [
      "-0d07m17.0606s\n",
      "0d01m14.9688s\n"
     ]
    }
   ],
   "source": [
    "# This is the change between egamma & gcrs\n",
    "print(gcrs_zenith.ra - lst_apparent)\n",
    "print(gcrs_zenith.dec - egamma_zenith_coord.dec)"
   ]
  },
  {
   "cell_type": "code",
   "execution_count": 77,
   "metadata": {
    "collapsed": false
   },
   "outputs": [
    {
     "data": {
      "text/latex": [
       "$286^\\circ19{}^\\prime34.0948{}^{\\prime\\prime}$"
      ],
      "text/plain": [
       "<Longitude 286.32613744 deg>"
      ]
     },
     "execution_count": 77,
     "metadata": {},
     "output_type": "execute_result"
    }
   ],
   "source": [
    "hour_angle2000 = Longitude(gcrs_zenith.ra - gcrs_coord.ra)\n",
    "hour_angle2000"
   ]
  },
  {
   "cell_type": "code",
   "execution_count": 78,
   "metadata": {
    "collapsed": true
   },
   "outputs": [],
   "source": [
    "# for these, I used the apparent lst (and aberration corrected ra/decs) from this notebook,\n",
    "# so that's not a source of error\n",
    "mwa_tools_comp4_newarrlat = -0.46569739\n",
    "mwa_tools_comp4_lmst2000 = 1.8818386\n",
    "mwa_tools_comp4_ha2000 = 4.9973341"
   ]
  },
  {
   "cell_type": "code",
   "execution_count": 79,
   "metadata": {
    "collapsed": false
   },
   "outputs": [
    {
     "name": "stdout",
     "output_type": "stream",
     "text": [
      "0deg07m17.0005s\n",
      "-0deg01m14.9679s\n"
     ]
    }
   ],
   "source": [
    "# This is what the MWA tools code gives as the change between precessed & not\n",
    "print(Angle(lst_apparent.rad - mwa_tools_comp4_lmst2000, unit='rad').to_string(unit=units.degree, sep=('deg', 'm', 's')))\n",
    "print(Angle(latitude.rad - mwa_tools_comp4_newarrlat, unit='rad').to_string(unit=units.degree, sep=('deg', 'm', 's')))"
   ]
  },
  {
   "cell_type": "code",
   "execution_count": 80,
   "metadata": {
    "collapsed": false
   },
   "outputs": [
    {
     "name": "stdout",
     "output_type": "stream",
     "text": [
      "-0deg00m00.0602s\n",
      "0deg00m00.0009s\n",
      "-0deg00m00.0551s\n"
     ]
    }
   ],
   "source": [
    "print(Angle(gcrs_zenith.ra.rad - mwa_tools_comp4_lmst2000, unit='rad').to_string(unit=units.degree, sep=('deg', 'm', 's')))\n",
    "print(Angle(gcrs_zenith.dec.rad - mwa_tools_comp4_newarrlat, unit='rad').to_string(unit=units.degree, sep=('deg', 'm', 's')))\n",
    "print(Angle(hour_angle2000.rad - mwa_tools_comp4_ha2000, unit='rad').to_string(unit=units.degree, sep=('deg', 'm', 's')))"
   ]
  },
  {
   "cell_type": "markdown",
   "metadata": {},
   "source": [
    "# \"unprecessed\" (= CGRS) values disagree by ~13 arcseconds"
   ]
  },
  {
   "cell_type": "code",
   "execution_count": 37,
   "metadata": {
    "collapsed": true
   },
   "outputs": [],
   "source": [
    "# now define an antenna position to work on uvw rotation\n",
    "# in east/north/up frame (relative to array center) in meters:\n",
    "x_ant = -101.94\n",
    "y_ant = 0156.41\n",
    "z_ant = 0001.24"
   ]
  },
  {
   "cell_type": "code",
   "execution_count": null,
   "metadata": {
    "collapsed": true
   },
   "outputs": [],
   "source": []
  }
 ],
 "metadata": {
  "kernelspec": {
   "display_name": "Python 2",
   "language": "python",
   "name": "python2"
  },
  "language_info": {
   "codemirror_mode": {
    "name": "ipython",
    "version": 2
   },
   "file_extension": ".py",
   "mimetype": "text/x-python",
   "name": "python",
   "nbconvert_exporter": "python",
   "pygments_lexer": "ipython2",
   "version": "2.7.15"
  }
 },
 "nbformat": 4,
 "nbformat_minor": 0
}
