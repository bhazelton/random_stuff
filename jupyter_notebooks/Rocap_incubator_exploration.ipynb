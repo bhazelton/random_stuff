{
 "cells": [
  {
   "cell_type": "code",
   "execution_count": 1,
   "metadata": {},
   "outputs": [],
   "source": [
    "import pandas as pd\n",
    "import io\n",
    "import numpy as np\n",
    "from matplotlib import pyplot as plt"
   ]
  },
  {
   "cell_type": "code",
   "execution_count": 2,
   "metadata": {},
   "outputs": [],
   "source": [
    "# Some code to return a Pandas dataframe, given tabular text\n",
    "def to_df(result):\n",
    "    return pd.read_table(io.StringIO(result), header=None)\n"
   ]
  },
  {
   "cell_type": "code",
   "execution_count": 3,
   "metadata": {},
   "outputs": [],
   "source": [
    "from Bio.KEGG import REST\n",
    "from Bio.KEGG.KGML import KGML_parser\n",
    "from Bio.Graphics.KGML_vis import KGMLCanvas\n",
    "\n",
    "high_var_list = ['K00058', 'K00059', 'K00297', 'K00302', 'K00315', 'K00371', 'K00371', 'K00549', 'K00626',\n",
    "                 'K01465', 'K01649', 'K01652', 'K01714', 'K01784', 'K01952', 'K01990', 'K01992', 'K01997',\n",
    "                 'K01998', 'K01999', 'K02274', 'K02276', 'K02575', 'K03320', 'K03573', 'K07090', 'K07090',\n",
    "                 'K07497']\n",
    "high_var_list = ['ko:' + knum for knum in high_var_list]\n",
    "\n",
    "\n",
    "def to_df(result):\n",
    "    return pd.read_table(io.StringIO(result), header=None)\n",
    "\n",
    "\n",
    "enzyme_list = []\n",
    "for knum in high_var_list:\n",
    "    result = REST.kegg_link('enzyme',knum).read()\n",
    "    if result != '\\n':\n",
    "        enzyme_list.extend(list(to_df(result)[1].values))\n",
    "enzyme_list = list(set(enzyme_list))\n",
    "\n",
    "compound_list = []\n",
    "for enzyme in enzyme_list:\n",
    "    result = REST.kegg_link('compound', enzyme).read()\n",
    "    if result != '\\n':\n",
    "        compound_list.extend(list(to_df(result)[1].values))\n",
    "compound_list = list(set(compound_list))\n",
    "\n",
    "\n",
    "mod_list = high_var_list + compound_list\n",
    "\n",
    "\n",
    "met_pathway = KGML_parser.read(REST.kegg_get('ko01100', \"kgml\"))\n",
    "\n",
    "high_var_mod_list = [e for e in met_pathway.entries.values() if \\\n",
    "                     len(set(e.name.split()).intersection(mod_list))]\n",
    "other_mod_list = [e for e in met_pathway.entries.values() if \\\n",
    "                  not len(set(e.name.split()).intersection(mod_list)) \\\n",
    "                  and e.type != 'map']\n",
    "\n",
    "# Change the widths of high variance entries elements\n",
    "for e in high_var_mod_list:\n",
    "    for g in e.graphics:\n",
    "        g.width = 10\n",
    "\n",
    "for e in other_mod_list:\n",
    "    for g in e.graphics:\n",
    "        g.width = .4\n",
    "        g.fgcolor = '#CCCCCC'\n",
    "\n",
    "canvas = KGMLCanvas(met_pathway, import_imagemap=False)\n",
    "canvas.draw(\"high_var_mod_widths.pdf\")"
   ]
  },
  {
   "cell_type": "code",
   "execution_count": null,
   "metadata": {},
   "outputs": [],
   "source": []
  },
  {
   "cell_type": "code",
   "execution_count": null,
   "metadata": {},
   "outputs": [],
   "source": []
  },
  {
   "cell_type": "code",
   "execution_count": 4,
   "metadata": {},
   "outputs": [],
   "source": [
    "X = np.array([ [0.1, 0.3, 0.4, 0.8, 0.9],\n",
    "               [3.2, 2.4, 2.4, 0.1, 5.5],\n",
    "               [10., 8.2, 4.3, 2.6, 0.9]\n",
    "             ])"
   ]
  },
  {
   "cell_type": "code",
   "execution_count": 5,
   "metadata": {},
   "outputs": [
    {
     "data": {
      "text/plain": [
       "array([[ 0.115 ,  0.0575, -1.2325],\n",
       "       [ 0.0575,  3.757 , -0.8775],\n",
       "       [-1.2325, -0.8775, 14.525 ]])"
      ]
     },
     "execution_count": 5,
     "metadata": {},
     "output_type": "execute_result"
    }
   ],
   "source": [
    "covar = np.cov(X)\n",
    "covar"
   ]
  },
  {
   "cell_type": "code",
   "execution_count": 6,
   "metadata": {},
   "outputs": [
    {
     "data": {
      "text/plain": [
       "array([[ 1.        ,  0.0874779 , -0.95363007],\n",
       "       [ 0.0874779 ,  1.        , -0.11878687],\n",
       "       [-0.95363007, -0.11878687,  1.        ]])"
      ]
     },
     "execution_count": 6,
     "metadata": {},
     "output_type": "execute_result"
    }
   ],
   "source": [
    "corr = np.corrcoef(X)\n",
    "corr"
   ]
  },
  {
   "cell_type": "code",
   "execution_count": 7,
   "metadata": {},
   "outputs": [
    {
     "data": {
      "text/plain": [
       "array([[2.94883912, 0.        , 0.        ],\n",
       "       [0.        , 0.51591648, 0.        ],\n",
       "       [0.        , 0.        , 0.26238677]])"
      ]
     },
     "execution_count": 7,
     "metadata": {},
     "output_type": "execute_result"
    }
   ],
   "source": [
    "diag = np.diag(np.sqrt(1/np.diag(covar)))\n",
    "diag"
   ]
  },
  {
   "cell_type": "code",
   "execution_count": 8,
   "metadata": {},
   "outputs": [
    {
     "data": {
      "text/plain": [
       "array([[ 1.        ,  0.0874779 , -0.95363007],\n",
       "       [ 0.0874779 ,  1.        , -0.11878687],\n",
       "       [-0.95363007, -0.11878687,  1.        ]])"
      ]
     },
     "execution_count": 8,
     "metadata": {},
     "output_type": "execute_result"
    }
   ],
   "source": [
    "diag @ covar @ diag"
   ]
  },
  {
   "cell_type": "code",
   "execution_count": 9,
   "metadata": {},
   "outputs": [
    {
     "data": {
      "text/plain": [
       "array([[9.67102568e+01, 4.42798755e-01, 8.23297400e+00],\n",
       "       [4.42798755e-01, 2.72006715e-01, 5.40058766e-02],\n",
       "       [8.23297400e+00, 5.40058766e-02, 7.70707788e-01]])"
      ]
     },
     "execution_count": 9,
     "metadata": {},
     "output_type": "execute_result"
    }
   ],
   "source": [
    "inv_covar = np.linalg.pinv(covar)\n",
    "inv_covar"
   ]
  },
  {
   "cell_type": "code",
   "execution_count": 10,
   "metadata": {},
   "outputs": [
    {
     "data": {
      "text/plain": [
       "array([[0.1016866 , 0.        , 0.        ],\n",
       "       [0.        , 1.9173888 , 0.        ],\n",
       "       [0.        , 0.        , 1.13908236]])"
      ]
     },
     "execution_count": 10,
     "metadata": {},
     "output_type": "execute_result"
    }
   ],
   "source": [
    "inv_diag = np.diag(np.sqrt(1/np.diag(inv_covar)))\n",
    "inv_diag"
   ]
  },
  {
   "cell_type": "code",
   "execution_count": 11,
   "metadata": {},
   "outputs": [
    {
     "data": {
      "text/plain": [
       "array([[-1.        , -0.08633369, -0.95362055],\n",
       "       [-0.08633369, -1.        , -0.11795228],\n",
       "       [-0.95362055, -0.11795228, -1.        ]])"
      ]
     },
     "execution_count": 11,
     "metadata": {},
     "output_type": "execute_result"
    }
   ],
   "source": [
    "-1 * inv_diag @ inv_covar @ inv_diag"
   ]
  },
  {
   "cell_type": "code",
   "execution_count": 12,
   "metadata": {},
   "outputs": [
    {
     "data": {
      "text/plain": [
       "array([[11.12167953,  0.29105557, 10.64054162],\n",
       "       [ 0.29105557,  1.02192923,  0.39895112],\n",
       "       [10.64054162,  0.39895112, 11.19453062]])"
      ]
     },
     "execution_count": 12,
     "metadata": {},
     "output_type": "execute_result"
    }
   ],
   "source": [
    "inv_corr = np.linalg.pinv(corr)\n",
    "inv_corr"
   ]
  },
  {
   "cell_type": "code",
   "execution_count": 13,
   "metadata": {},
   "outputs": [],
   "source": [
    "inv_corr_diag = np.diag(np.sqrt(1/np.diag(inv_corr)))"
   ]
  },
  {
   "cell_type": "code",
   "execution_count": 14,
   "metadata": {},
   "outputs": [
    {
     "data": {
      "text/plain": [
       "array([[-1.        , -0.08633369, -0.95362055],\n",
       "       [-0.08633369, -1.        , -0.11795228],\n",
       "       [-0.95362055, -0.11795228, -1.        ]])"
      ]
     },
     "execution_count": 14,
     "metadata": {},
     "output_type": "execute_result"
    }
   ],
   "source": [
    "-1 * inv_corr_diag @ inv_corr @ inv_corr_diag"
   ]
  },
  {
   "cell_type": "code",
   "execution_count": 15,
   "metadata": {},
   "outputs": [
    {
     "data": {
      "text/plain": [
       "array([[-1.        , -0.08633369, -0.95362055],\n",
       "       [-0.08633369, -1.        , -0.11795228],\n",
       "       [-0.95362055, -0.11795228, -1.        ]])"
      ]
     },
     "execution_count": 15,
     "metadata": {},
     "output_type": "execute_result"
    }
   ],
   "source": [
    "# using the correlation matrix\n",
    "corr = np.corrcoef(X)\n",
    "inv_corr = np.linalg.pinv(corr)\n",
    "inv_corr_diag = np.diag(np.sqrt(1/np.diag(inv_corr)))\n",
    "partial_corr1 = -1 * inv_corr_diag @ inv_corr @ inv_corr_diag\n",
    "partial_corr1"
   ]
  },
  {
   "cell_type": "code",
   "execution_count": 16,
   "metadata": {},
   "outputs": [
    {
     "data": {
      "text/plain": [
       "array([[-1.        , -0.08633369, -0.95362055],\n",
       "       [-0.08633369, -1.        , -0.11795228],\n",
       "       [-0.95362055, -0.11795228, -1.        ]])"
      ]
     },
     "execution_count": 16,
     "metadata": {},
     "output_type": "execute_result"
    }
   ],
   "source": [
    "# using the covariance matrix\n",
    "covar = np.cov(X)\n",
    "inv_covar = np.linalg.pinv(covar)\n",
    "inv_covar_diag = np.diag(np.sqrt(1/np.diag(inv_covar)))\n",
    "partial_corr2 = -1 * inv_covar_diag @ inv_covar @ inv_covar_diag\n",
    "partial_corr2"
   ]
  },
  {
   "cell_type": "code",
   "execution_count": 17,
   "metadata": {},
   "outputs": [
    {
     "data": {
      "text/plain": [
       "array([[0.1016866 , 0.        , 0.        ],\n",
       "       [0.        , 1.9173888 , 0.        ],\n",
       "       [0.        , 0.        , 1.13908236]])"
      ]
     },
     "execution_count": 17,
     "metadata": {},
     "output_type": "execute_result"
    }
   ],
   "source": [
    "inv_covar_diag"
   ]
  },
  {
   "cell_type": "code",
   "execution_count": null,
   "metadata": {},
   "outputs": [],
   "source": []
  },
  {
   "cell_type": "code",
   "execution_count": null,
   "metadata": {},
   "outputs": [],
   "source": []
  },
  {
   "cell_type": "code",
   "execution_count": 2,
   "metadata": {},
   "outputs": [],
   "source": [
    "metabolic_cov_file = '/Users/bryna/Downloads/MetabolicKOcov.txt'\n",
    "metabolic_cov = pd.read_csv(metabolic_cov_file, delimiter='\\t', index_col='KO')"
   ]
  },
  {
   "cell_type": "code",
   "execution_count": 3,
   "metadata": {},
   "outputs": [
    {
     "data": {
      "text/plain": [
       "(4419, 12)"
      ]
     },
     "execution_count": 3,
     "metadata": {},
     "output_type": "execute_result"
    }
   ],
   "source": [
    "metabolic_cov_array = metabolic_cov.to_numpy()\n",
    "metabolic_cov_array.shape"
   ]
  },
  {
   "cell_type": "code",
   "execution_count": 20,
   "metadata": {},
   "outputs": [
    {
     "data": {
      "text/plain": [
       "12"
      ]
     },
     "execution_count": 20,
     "metadata": {},
     "output_type": "execute_result"
    }
   ],
   "source": [
    "nvar, nsample = metabolic_cov_array.shape\n",
    "nsample"
   ]
  },
  {
   "cell_type": "code",
   "execution_count": 21,
   "metadata": {},
   "outputs": [
    {
     "data": {
      "text/plain": [
       "(4419,)"
      ]
     },
     "execution_count": 21,
     "metadata": {},
     "output_type": "execute_result"
    }
   ],
   "source": [
    "var_means = np.mean(metabolic_cov_array, axis=1)\n",
    "var_means.shape"
   ]
  },
  {
   "cell_type": "code",
   "execution_count": 22,
   "metadata": {},
   "outputs": [],
   "source": [
    "centered_metabolic_cov_array = metabolic_cov_array - np.repeat(var_means[:, np.newaxis], nsample, axis=1)\n",
    "emp_covar = (1/(nsample-1)) * (centered_metabolic_cov_array @ centered_metabolic_cov_array.T)"
   ]
  },
  {
   "cell_type": "code",
   "execution_count": 23,
   "metadata": {},
   "outputs": [],
   "source": [
    "np_covar = np.cov(metabolic_cov_array)"
   ]
  },
  {
   "cell_type": "code",
   "execution_count": 24,
   "metadata": {},
   "outputs": [
    {
     "data": {
      "text/plain": [
       "0.0"
      ]
     },
     "execution_count": 24,
     "metadata": {},
     "output_type": "execute_result"
    }
   ],
   "source": [
    "np.max(np.abs(np_covar - emp_covar))"
   ]
  },
  {
   "cell_type": "code",
   "execution_count": 25,
   "metadata": {},
   "outputs": [],
   "source": [
    "wijk = np.einsum('ik,kj->ijk',centered_metabolic_cov_array,centered_metabolic_cov_array.T)"
   ]
  },
  {
   "cell_type": "code",
   "execution_count": 26,
   "metadata": {},
   "outputs": [
    {
     "data": {
      "text/plain": [
       "(4419, 4419, 12)"
      ]
     },
     "execution_count": 26,
     "metadata": {},
     "output_type": "execute_result"
    }
   ],
   "source": [
    "wijk.shape"
   ]
  },
  {
   "cell_type": "code",
   "execution_count": 27,
   "metadata": {},
   "outputs": [],
   "source": [
    "wij_bar = (1/nsample) * np.einsum('ijk->ij', wijk)"
   ]
  },
  {
   "cell_type": "code",
   "execution_count": 28,
   "metadata": {},
   "outputs": [
    {
     "data": {
      "text/plain": [
       "(4419, 4419)"
      ]
     },
     "execution_count": 28,
     "metadata": {},
     "output_type": "execute_result"
    }
   ],
   "source": [
    "wij_bar.shape"
   ]
  },
  {
   "cell_type": "code",
   "execution_count": 29,
   "metadata": {},
   "outputs": [
    {
     "data": {
      "text/plain": [
       "6.617444900424222e-24"
      ]
     },
     "execution_count": 29,
     "metadata": {},
     "output_type": "execute_result"
    }
   ],
   "source": [
    "emp_covar2 = (nsample/(nsample-1)) * wij_bar\n",
    "np.max(np.abs(np_covar - emp_covar2))"
   ]
  },
  {
   "cell_type": "code",
   "execution_count": 30,
   "metadata": {},
   "outputs": [
    {
     "data": {
      "text/plain": [
       "(4419, 4419, 12)"
      ]
     },
     "execution_count": 30,
     "metadata": {},
     "output_type": "execute_result"
    }
   ],
   "source": [
    "np.tile(wij_bar[:, :, np.newaxis], (1, 1, nsample)).shape"
   ]
  },
  {
   "cell_type": "code",
   "execution_count": 31,
   "metadata": {},
   "outputs": [],
   "source": [
    "var_sij = (nsample/(nsample-1)**3) * np.einsum('ijk->ij',\n",
    "                                               (wijk - np.tile(wij_bar[:, :, np.newaxis], (1, 1, nsample)))**2)"
   ]
  },
  {
   "cell_type": "code",
   "execution_count": 32,
   "metadata": {},
   "outputs": [
    {
     "data": {
      "text/plain": [
       "(4419, 4419)"
      ]
     },
     "execution_count": 32,
     "metadata": {},
     "output_type": "execute_result"
    }
   ],
   "source": [
    "var_sij.shape"
   ]
  },
  {
   "cell_type": "code",
   "execution_count": 33,
   "metadata": {},
   "outputs": [
    {
     "name": "stdout",
     "output_type": "stream",
     "text": [
      "3.3276096454471985e-09\n",
      "3.660370609991915e-08\n"
     ]
    }
   ],
   "source": [
    "numpy_var = np.var(metabolic_cov_array, axis=1)\n",
    "numpy_var2 = np.diag(np_covar)\n",
    "print(np.max(np.abs(numpy_var - np.diag(emp_covar))))\n",
    "print(np.max(np.abs(numpy_var - np.diag(numpy_var2))))"
   ]
  },
  {
   "cell_type": "code",
   "execution_count": 34,
   "metadata": {},
   "outputs": [],
   "source": [
    "standardized_metabolic_cov_array = (centered_metabolic_cov_array\n",
    "                                    * np.repeat((np.diag(emp_covar)[:, np.newaxis])**(-1/2), nsample, axis=1))"
   ]
  },
  {
   "cell_type": "code",
   "execution_count": 35,
   "metadata": {},
   "outputs": [
    {
     "data": {
      "text/plain": [
       "(4419, 12)"
      ]
     },
     "execution_count": 35,
     "metadata": {},
     "output_type": "execute_result"
    }
   ],
   "source": [
    "standardized_metabolic_cov_array.shape"
   ]
  },
  {
   "cell_type": "code",
   "execution_count": 36,
   "metadata": {},
   "outputs": [],
   "source": [
    "emp_corr = (1/(nsample-1)) * (standardized_metabolic_cov_array @ standardized_metabolic_cov_array.T)\n",
    "np_corr2 = np.diag((np.diag(np_covar))**(-1/2)) @ np_covar @ np.diag((np.diag(np_covar))**(-1/2))"
   ]
  },
  {
   "cell_type": "code",
   "execution_count": 37,
   "metadata": {},
   "outputs": [],
   "source": [
    "np_corr = np.corrcoef(metabolic_cov_array)"
   ]
  },
  {
   "cell_type": "code",
   "execution_count": 38,
   "metadata": {},
   "outputs": [
    {
     "data": {
      "text/plain": [
       "1.6653345369377348e-15"
      ]
     },
     "execution_count": 38,
     "metadata": {},
     "output_type": "execute_result"
    }
   ],
   "source": [
    "np.max(np.abs(np_corr - emp_corr))"
   ]
  },
  {
   "cell_type": "code",
   "execution_count": 39,
   "metadata": {},
   "outputs": [
    {
     "data": {
      "text/plain": [
       "1.7763568394002505e-15"
      ]
     },
     "execution_count": 39,
     "metadata": {},
     "output_type": "execute_result"
    }
   ],
   "source": [
    "np.max(np.abs(np_corr - np_corr2))"
   ]
  },
  {
   "cell_type": "code",
   "execution_count": 40,
   "metadata": {},
   "outputs": [],
   "source": [
    "corr_wijk = np.einsum('ik,kj->ijk',standardized_metabolic_cov_array,standardized_metabolic_cov_array.T)\n",
    "corr_wij_bar = (1/nsample) * np.einsum('ijk->ij', corr_wijk)\n",
    "emp_corr2 = (nsample/(nsample-1)) * corr_wij_bar\n",
    "var_rij = (nsample/(nsample-1)**3) * np.einsum('ijk->ij',\n",
    "                                               (corr_wijk - np.tile(corr_wij_bar[:, :, np.newaxis], (1, 1, nsample)))**2)"
   ]
  },
  {
   "cell_type": "code",
   "execution_count": 41,
   "metadata": {},
   "outputs": [
    {
     "data": {
      "text/plain": [
       "1.5543122344752192e-15"
      ]
     },
     "execution_count": 41,
     "metadata": {},
     "output_type": "execute_result"
    }
   ],
   "source": [
    "np.max(np.abs(np_corr - emp_corr2))"
   ]
  },
  {
   "cell_type": "code",
   "execution_count": 42,
   "metadata": {},
   "outputs": [
    {
     "data": {
      "text/plain": [
       "(4419, 4419)"
      ]
     },
     "execution_count": 42,
     "metadata": {},
     "output_type": "execute_result"
    }
   ],
   "source": [
    "var_rij.shape"
   ]
  },
  {
   "cell_type": "code",
   "execution_count": 43,
   "metadata": {},
   "outputs": [],
   "source": [
    "lambda_star = (np.sum(var_rij) - np.trace(var_rij)) / (np.sum(emp_corr2**2) - np.trace(emp_corr2**2))"
   ]
  },
  {
   "cell_type": "code",
   "execution_count": 44,
   "metadata": {},
   "outputs": [
    {
     "data": {
      "text/plain": [
       "0.4848440015111615"
      ]
     },
     "execution_count": 44,
     "metadata": {},
     "output_type": "execute_result"
    }
   ],
   "source": [
    "lambda_star"
   ]
  },
  {
   "cell_type": "code",
   "execution_count": 45,
   "metadata": {},
   "outputs": [
    {
     "data": {
      "text/plain": [
       "array([[ 1.        , -0.23530361,  0.47908208, ..., -0.31812953,\n",
       "        -0.07535868, -0.20188529],\n",
       "       [-0.23530361,  1.        , -0.17046835, ...,  0.29099516,\n",
       "         0.14167065,  0.14410216],\n",
       "       [ 0.47908208, -0.17046835,  1.        , ..., -0.32629885,\n",
       "         0.08999725, -0.17391739],\n",
       "       ...,\n",
       "       [-0.31812953,  0.29099516, -0.32629885, ...,  1.        ,\n",
       "        -0.08738451,  0.12270137],\n",
       "       [-0.07535868,  0.14167065,  0.08999725, ..., -0.08738451,\n",
       "         1.        ,  0.08807916],\n",
       "       [-0.20188529,  0.14410216, -0.17391739, ...,  0.12270137,\n",
       "         0.08807916,  1.        ]])"
      ]
     },
     "execution_count": 45,
     "metadata": {},
     "output_type": "execute_result"
    }
   ],
   "source": [
    "corr_star = emp_corr2 * (1-lambda_star)\n",
    "corr_star[np.diag_indices(nvar)] = 1\n",
    "corr_star"
   ]
  },
  {
   "cell_type": "code",
   "execution_count": 46,
   "metadata": {},
   "outputs": [
    {
     "data": {
      "text/plain": [
       "array([[ 4.42124716e-10, -8.00918779e-12,  2.57913471e-10, ...,\n",
       "        -1.21282041e-12, -6.85595650e-13, -1.72636178e-11],\n",
       "       [-8.00918779e-12,  2.62044449e-12, -7.06517541e-12, ...,\n",
       "         8.54069774e-14,  9.92269695e-14,  9.48664632e-13],\n",
       "       [ 2.57913471e-10, -7.06517541e-12,  6.55516174e-10, ...,\n",
       "        -1.51470254e-12,  9.96972805e-13, -1.81087917e-11],\n",
       "       ...,\n",
       "       [-1.21282041e-12,  8.54069774e-14, -1.51470254e-12, ...,\n",
       "         3.28730665e-14, -6.85514985e-15,  9.04740975e-14],\n",
       "       [-6.85595650e-13,  9.92269695e-14,  9.96972805e-13, ...,\n",
       "        -6.85514985e-15,  1.87208149e-13,  1.54985226e-13],\n",
       "       [-1.72636178e-11,  9.48664632e-13, -1.81087917e-11, ...,\n",
       "         9.04740975e-14,  1.54985226e-13,  1.65390093e-11]])"
      ]
     },
     "execution_count": 46,
     "metadata": {},
     "output_type": "execute_result"
    }
   ],
   "source": [
    "covar_star = np.diag(np.diag(emp_covar2)**(1/2)) @ corr_star @ np.diag(np.diag(emp_covar2)**(1/2))\n",
    "covar_star[np.diag_indices(nvar)] = np.diag(emp_covar2)\n",
    "covar_star"
   ]
  },
  {
   "cell_type": "code",
   "execution_count": 47,
   "metadata": {},
   "outputs": [
    {
     "data": {
      "text/plain": [
       "array([[ 0.00000000e+00, -7.53792379e-12,  2.42737733e-10, ...,\n",
       "        -1.14145754e-12, -6.45254912e-13, -1.62478192e-11],\n",
       "       [-7.53792379e-12,  0.00000000e+00, -6.64945750e-12, ...,\n",
       "         8.03815947e-14,  9.33884126e-14,  8.92844804e-13],\n",
       "       [ 2.42737733e-10, -6.64945750e-12,  0.00000000e+00, ...,\n",
       "        -1.42557680e-12,  9.38310503e-13, -1.70432627e-11],\n",
       "       ...,\n",
       "       [-1.14145754e-12,  8.03815947e-14, -1.42557680e-12, ...,\n",
       "         0.00000000e+00, -6.45178993e-15,  8.51505633e-14],\n",
       "       [-6.45254912e-13,  9.33884126e-14,  9.38310503e-13, ...,\n",
       "        -6.45178993e-15,  0.00000000e+00,  1.45865830e-13],\n",
       "       [-1.62478192e-11,  8.92844804e-13, -1.70432627e-11, ...,\n",
       "         8.51505633e-14,  1.45865830e-13,  0.00000000e+00]])"
      ]
     },
     "execution_count": 47,
     "metadata": {},
     "output_type": "execute_result"
    }
   ],
   "source": [
    "emp_covar2 - covar_star"
   ]
  },
  {
   "cell_type": "code",
   "execution_count": 48,
   "metadata": {},
   "outputs": [],
   "source": [
    "inv_covar_star = np.linalg.inv(covar_star)"
   ]
  },
  {
   "cell_type": "code",
   "execution_count": 49,
   "metadata": {},
   "outputs": [],
   "source": [
    "pcorr_star = (-1 * np.diag(np.diag(inv_covar_star)**(-1/2))\n",
    "              @ inv_covar_star @ np.diag(np.diag(inv_covar_star)**(-1/2)))"
   ]
  },
  {
   "cell_type": "code",
   "execution_count": 50,
   "metadata": {},
   "outputs": [
    {
     "data": {
      "text/plain": [
       "array([[-1.00000000e+00, -3.31829246e-04,  1.23300835e-03, ...,\n",
       "        -3.56124347e-04, -8.91786899e-05, -3.06971136e-04],\n",
       "       [-3.31829246e-04, -1.00000000e+00, -3.28030791e-04, ...,\n",
       "         8.18755615e-04, -1.88169692e-04, -2.33363096e-06],\n",
       "       [ 1.23300835e-03, -3.28030791e-04, -1.00000000e+00, ...,\n",
       "        -3.94506087e-04,  3.51516330e-04, -2.05970539e-04],\n",
       "       ...,\n",
       "       [-3.56124347e-04,  8.18755615e-04, -3.94506087e-04, ...,\n",
       "        -1.00000000e+00, -5.67217675e-04,  1.76525119e-04],\n",
       "       [-8.91786899e-05, -1.88169692e-04,  3.51516330e-04, ...,\n",
       "        -5.67217675e-04, -1.00000000e+00,  3.26186025e-04],\n",
       "       [-3.06971136e-04, -2.33363096e-06, -2.05970539e-04, ...,\n",
       "         1.76525119e-04,  3.26186025e-04, -1.00000000e+00]])"
      ]
     },
     "execution_count": 50,
     "metadata": {},
     "output_type": "execute_result"
    }
   ],
   "source": [
    "pcorr_star"
   ]
  },
  {
   "cell_type": "code",
   "execution_count": 51,
   "metadata": {},
   "outputs": [
    {
     "name": "stdout",
     "output_type": "stream",
     "text": [
      "-1.0000000000000002 0.01343228406197681\n"
     ]
    }
   ],
   "source": [
    "print(np.min(pcorr_star), np.max(pcorr_star))"
   ]
  },
  {
   "cell_type": "code",
   "execution_count": 52,
   "metadata": {},
   "outputs": [
    {
     "data": {
      "text/plain": [
       "(19527561,)"
      ]
     },
     "execution_count": 52,
     "metadata": {},
     "output_type": "execute_result"
    }
   ],
   "source": [
    "pcorr_star.flatten().shape"
   ]
  },
  {
   "cell_type": "code",
   "execution_count": 53,
   "metadata": {},
   "outputs": [],
   "source": [
    "off_diag_inds = np.where(~np.eye(pcorr_star.shape[0],dtype=bool))"
   ]
  },
  {
   "cell_type": "code",
   "execution_count": 54,
   "metadata": {},
   "outputs": [
    {
     "data": {
      "image/png": "[encoded data removed]",
      "text/plain": [
       "<Figure size 432x288 with 1 Axes>"
      ]
     },
     "metadata": {
      "needs_background": "light"
     },
     "output_type": "display_data"
    }
   ],
   "source": [
    "plt.hist(pcorr_star[off_diag_inds], bins=100)\n",
    "plt.yscale('log')"
   ]
  },
  {
   "cell_type": "code",
   "execution_count": 10,
   "metadata": {},
   "outputs": [],
   "source": [
    "def shrinkage_partial_correlation(data_array):\n",
    "    \"\"\"\n",
    "    Calculate the partial correlation using the shrinkage method.\n",
    "    \n",
    "    Works well in the case of more variables than samples (p>n)\n",
    "    \n",
    "    Based on Schafer and Strimmer, 2005\n",
    "    doi:10.2202/1544-6115.1175\n",
    "    \n",
    "    Parameters\n",
    "    ----------\n",
    "    data_array : np.array of float\n",
    "        Input data, with shape (nvariables, nsamples)\n",
    "    \n",
    "    Returns\n",
    "    -------\n",
    "    np.array of float\n",
    "        Partial correlation matrix\n",
    "    \n",
    "    \"\"\"\n",
    "    \n",
    "    nvariables, nsamples = data_array.shape\n",
    "    \n",
    "    variances = np.var(data_array, axis=1)\n",
    "    means = np.mean(data_array, axis=1)\n",
    "    centered_array = data_array - np.repeat(means[:, np.newaxis], nsamples, axis=1)\n",
    "    standardized_array = (centered_array\n",
    "                          * np.repeat(variances[:, np.newaxis]**(-1/2), nsamples, axis=1))\n",
    "\n",
    "    corr_wijk = np.einsum('ik,kj->ijk',standardized_array,standardized_array.T)\n",
    "    corr_wij_bar = (1/nsamples) * np.einsum('ijk->ij', corr_wijk)\n",
    "    rij = (nsamples/(nsamples-1)) * corr_wij_bar\n",
    "    var_rij = ((nsamples/(nsamples-1)**3)\n",
    "               * np.einsum('ijk->ij', (corr_wijk - np.tile(corr_wij_bar[:, :, np.newaxis], (1, 1, nsamples)))**2))\n",
    "\n",
    "    # sum off diagonal components = sum of all minus sum of diagonal components, sum of diagonal is trace\n",
    "    lambda_star = (np.sum(var_rij) - np.trace(var_rij)) / (np.sum(rij**2) - np.trace(rij**2))\n",
    "    \n",
    "    if lambda_star > 1:\n",
    "        lambda_star = 1\n",
    "    elif lambda_star < 0:\n",
    "        lambda_star = 0\n",
    "    \n",
    "    diag_inds = np.diag_indices(nvariables)\n",
    "    corr_star = rij * (1-lambda_star)\n",
    "    corr_star[diag_inds] = 1\n",
    "    \n",
    "    covar_star = np.diag(variances**(1/2)) @ corr_star @ np.diag(variances**(1/2))\n",
    "    covar_star[diag_inds] = variances\n",
    "    \n",
    "    inv_covar_star = np.linalg.inv(covar_star)\n",
    "    \n",
    "    pcorr_star = (-1 * np.diag(np.diag(inv_covar_star)**(-1/2))\n",
    "                  @ inv_covar_star @ np.diag(np.diag(inv_covar_star)**(-1/2)))\n",
    "\n",
    "    return pcorr_star"
   ]
  },
  {
   "cell_type": "code",
   "execution_count": 11,
   "metadata": {},
   "outputs": [],
   "source": [
    "pcorr_star_method = shrinkage_partial_correlation(metabolic_cov_array)\n"
   ]
  },
  {
   "cell_type": "code",
   "execution_count": 12,
   "metadata": {},
   "outputs": [
    {
     "data": {
      "text/plain": [
       "array([[-1.00000000e+00, -3.31906267e-04,  1.23353607e-03, ...,\n",
       "        -3.56171934e-04, -8.91850822e-05, -3.06996731e-04],\n",
       "       [-3.31906267e-04, -1.00000000e+00, -3.28152598e-04, ...,\n",
       "         8.19100253e-04, -1.88426787e-04, -2.49802926e-06],\n",
       "       [ 1.23353607e-03, -3.28152598e-04, -1.00000000e+00, ...,\n",
       "        -3.94494331e-04,  3.51525055e-04, -2.05874671e-04],\n",
       "       ...,\n",
       "       [-3.56171934e-04,  8.19100253e-04, -3.94494331e-04, ...,\n",
       "        -1.00000000e+00, -5.67446179e-04,  1.76581733e-04],\n",
       "       [-8.91850822e-05, -1.88426787e-04,  3.51525055e-04, ...,\n",
       "        -5.67446179e-04, -1.00000000e+00,  3.26401346e-04],\n",
       "       [-3.06996731e-04, -2.49802926e-06, -2.05874671e-04, ...,\n",
       "         1.76581733e-04,  3.26401346e-04, -1.00000000e+00]])"
      ]
     },
     "execution_count": 12,
     "metadata": {},
     "output_type": "execute_result"
    }
   ],
   "source": [
    "pcorr_star_method"
   ]
  },
  {
   "cell_type": "code",
   "execution_count": 49,
   "metadata": {},
   "outputs": [
    {
     "data": {
      "image/png": "[encoded data removed]",
      "text/plain": [
       "<Figure size 432x288 with 1 Axes>"
      ]
     },
     "metadata": {
      "needs_background": "light"
     },
     "output_type": "display_data"
    }
   ],
   "source": [
    "plt.hist(pcorr_star_method[np.triu_indices(pcorr_star_method.shape[0], k=1)], bins=100)\n",
    "plt.yscale('log')"
   ]
  },
  {
   "cell_type": "code",
   "execution_count": 36,
   "metadata": {},
   "outputs": [],
   "source": [
    "first_ind, second_ind = np.where(pcorr_star_method > 0.0133)"
   ]
  },
  {
   "cell_type": "code",
   "execution_count": 37,
   "metadata": {},
   "outputs": [
    {
     "data": {
      "text/plain": [
       "0.013467944084678524"
      ]
     },
     "execution_count": 37,
     "metadata": {},
     "output_type": "execute_result"
    }
   ],
   "source": [
    "pcorr_star_method[first_ind[0], second_ind[0]]"
   ]
  },
  {
   "cell_type": "code",
   "execution_count": 28,
   "metadata": {},
   "outputs": [],
   "source": [
    "ko_names = metabolic_cov.index.to_numpy()"
   ]
  },
  {
   "cell_type": "code",
   "execution_count": 29,
   "metadata": {},
   "outputs": [
    {
     "data": {
      "text/plain": [
       "array(['K00001', 'K00002', 'K00003', ..., 'K22911', 'K22912', 'K22913'],\n",
       "      dtype=object)"
      ]
     },
     "execution_count": 29,
     "metadata": {},
     "output_type": "execute_result"
    }
   ],
   "source": [
    "ko_names"
   ]
  },
  {
   "cell_type": "code",
   "execution_count": 77,
   "metadata": {},
   "outputs": [
    {
     "data": {
      "text/plain": [
       "[('K16132', 'K17748'),\n",
       " ('K16132', 'K18775'),\n",
       " ('K16132', 'K20159'),\n",
       " ('K16132', 'K21188'),\n",
       " ('K16132', 'K21647'),\n",
       " ('K16132', 'K21840'),\n",
       " ('K17748', 'K18775'),\n",
       " ('K17748', 'K20159'),\n",
       " ('K17748', 'K21188'),\n",
       " ('K17748', 'K21647'),\n",
       " ('K17748', 'K21840'),\n",
       " ('K18775', 'K20159'),\n",
       " ('K18775', 'K21188'),\n",
       " ('K18775', 'K21647'),\n",
       " ('K18775', 'K21840'),\n",
       " ('K20159', 'K21188'),\n",
       " ('K20159', 'K21647'),\n",
       " ('K20159', 'K21840'),\n",
       " ('K21188', 'K21647'),\n",
       " ('K21188', 'K21840'),\n",
       " ('K21647', 'K21840')]"
      ]
     },
     "execution_count": 77,
     "metadata": {},
     "output_type": "execute_result"
    }
   ],
   "source": [
    "ko_names = metabolic_cov.index.to_numpy()\n",
    "first_ind, second_ind = np.where(np.triu(pcorr_star_method, k=1) > 0.0133)\n",
    "\n",
    "ko_pairs = list(zip(ko_names[first_ind], ko_names[second_ind]))\n",
    "ko_pairs"
   ]
  },
  {
   "cell_type": "code",
   "execution_count": 78,
   "metadata": {},
   "outputs": [
    {
     "data": {
      "text/plain": [
       "21"
      ]
     },
     "execution_count": 78,
     "metadata": {},
     "output_type": "execute_result"
    }
   ],
   "source": [
    "len(ko_pairs)"
   ]
  },
  {
   "cell_type": "code",
   "execution_count": 85,
   "metadata": {},
   "outputs": [
    {
     "name": "stdout",
     "output_type": "stream",
     "text": [
      "7\n"
     ]
    },
    {
     "data": {
      "text/plain": [
       "{'K16132', 'K17748', 'K18775', 'K20159', 'K21188', 'K21647', 'K21840'}"
      ]
     },
     "execution_count": 85,
     "metadata": {},
     "output_type": "execute_result"
    }
   ],
   "source": [
    "high_corr_kos = set(ko_names[first_ind].tolist() + ko_names[second_ind].tolist())\n",
    "print(len(high_corr_kos))\n",
    "high_corr_kos"
   ]
  },
  {
   "cell_type": "code",
   "execution_count": 80,
   "metadata": {},
   "outputs": [
    {
     "name": "stdout",
     "output_type": "stream",
     "text": [
      "19\n"
     ]
    },
    {
     "data": {
      "text/plain": [
       "[('K01860', 'K22251'),\n",
       " ('K14418', 'K22251'),\n",
       " ('K16132', 'K16414'),\n",
       " ('K16132', 'K22251'),\n",
       " ('K16414', 'K17748'),\n",
       " ('K16414', 'K18775'),\n",
       " ('K16414', 'K20159'),\n",
       " ('K16414', 'K21188'),\n",
       " ('K16414', 'K21647'),\n",
       " ('K16414', 'K21840'),\n",
       " ('K16414', 'K22480'),\n",
       " ('K17748', 'K22251'),\n",
       " ('K18775', 'K22251'),\n",
       " ('K19188', 'K22251'),\n",
       " ('K20159', 'K22251'),\n",
       " ('K21188', 'K22251'),\n",
       " ('K21647', 'K22251'),\n",
       " ('K21840', 'K22251'),\n",
       " ('K22251', 'K22480')]"
      ]
     },
     "execution_count": 80,
     "metadata": {},
     "output_type": "execute_result"
    }
   ],
   "source": [
    "ko_names = metabolic_cov.index.to_numpy()\n",
    "first_ind_low, second_ind_low = np.where(np.triu(pcorr_star_method, k=1) < -0.0065)\n",
    "\n",
    "ko_pairs = list(zip(ko_names[first_ind_low], ko_names[second_ind_low]))\n",
    "print(len(ko_pairs))\n",
    "ko_pairs"
   ]
  },
  {
   "cell_type": "code",
   "execution_count": 86,
   "metadata": {},
   "outputs": [
    {
     "name": "stdout",
     "output_type": "stream",
     "text": [
      "13\n"
     ]
    },
    {
     "data": {
      "text/plain": [
       "{'K01860',\n",
       " 'K14418',\n",
       " 'K16132',\n",
       " 'K16414',\n",
       " 'K17748',\n",
       " 'K18775',\n",
       " 'K19188',\n",
       " 'K20159',\n",
       " 'K21188',\n",
       " 'K21647',\n",
       " 'K21840',\n",
       " 'K22251',\n",
       " 'K22480'}"
      ]
     },
     "execution_count": 86,
     "metadata": {},
     "output_type": "execute_result"
    }
   ],
   "source": [
    "low_corr_kos = set(ko_names[first_ind_low].tolist() + ko_names[second_ind_low].tolist())\n",
    "print(len(low_corr_kos))\n",
    "low_corr_kos"
   ]
  },
  {
   "cell_type": "code",
   "execution_count": 87,
   "metadata": {},
   "outputs": [
    {
     "data": {
      "text/plain": [
       "{'K01860',\n",
       " 'K14418',\n",
       " 'K16132',\n",
       " 'K16414',\n",
       " 'K17748',\n",
       " 'K18775',\n",
       " 'K19188',\n",
       " 'K20159',\n",
       " 'K21188',\n",
       " 'K21647',\n",
       " 'K21840',\n",
       " 'K22251',\n",
       " 'K22480'}"
      ]
     },
     "execution_count": 87,
     "metadata": {},
     "output_type": "execute_result"
    }
   ],
   "source": [
    "high_corr_kos|low_corr_kos"
   ]
  },
  {
   "cell_type": "code",
   "execution_count": 92,
   "metadata": {},
   "outputs": [
    {
     "data": {
      "text/plain": [
       "array([[0., 0., 0., 0., 0.],\n",
       "       [0., 0., 0., 0., 0.],\n",
       "       [0., 0., 0., 0., 0.],\n",
       "       [0., 0., 0., 0., 0.],\n",
       "       [0., 0., 0., 0., 0.]])"
      ]
     },
     "execution_count": 92,
     "metadata": {},
     "output_type": "execute_result"
    }
   ],
   "source": [
    "temp = np.zeros((5,5))\n",
    "temp"
   ]
  },
  {
   "cell_type": "code",
   "execution_count": 103,
   "metadata": {},
   "outputs": [],
   "source": [
    "temp[0:3, 0:3]=1\n",
    "temp[3:5, 3:5]=1"
   ]
  },
  {
   "cell_type": "code",
   "execution_count": 104,
   "metadata": {},
   "outputs": [
    {
     "data": {
      "text/plain": [
       "array([[1., 1., 1., 0., 0.],\n",
       "       [1., 1., 1., 0., 0.],\n",
       "       [1., 1., 1., 0., 0.],\n",
       "       [0., 0., 0., 1., 1.],\n",
       "       [0., 0., 0., 1., 1.]])"
      ]
     },
     "execution_count": 104,
     "metadata": {},
     "output_type": "execute_result"
    }
   ],
   "source": [
    "temp"
   ]
  },
  {
   "cell_type": "code",
   "execution_count": 105,
   "metadata": {},
   "outputs": [
    {
     "data": {
      "text/plain": [
       "array([[1., 1., 0., 0., 0.],\n",
       "       [1., 1., 0., 0., 0.],\n",
       "       [0., 0., 1., 1., 1.],\n",
       "       [0., 0., 1., 1., 1.],\n",
       "       [0., 0., 1., 1., 1.]])"
      ]
     },
     "execution_count": 105,
     "metadata": {},
     "output_type": "execute_result"
    }
   ],
   "source": [
    "temp2 = np.zeros((5,5))\n",
    "temp2[0:2, 0:2]=1\n",
    "temp2[2:5, 2:5]=1\n",
    "temp2"
   ]
  },
  {
   "cell_type": "code",
   "execution_count": 106,
   "metadata": {},
   "outputs": [
    {
     "data": {
      "text/plain": [
       "array([[1., 1., 0., 0., 0.],\n",
       "       [1., 1., 0., 0., 0.],\n",
       "       [0., 0., 1., 0., 0.],\n",
       "       [0., 0., 0., 1., 1.],\n",
       "       [0., 0., 0., 1., 1.]])"
      ]
     },
     "execution_count": 106,
     "metadata": {},
     "output_type": "execute_result"
    }
   ],
   "source": [
    "temp*temp2"
   ]
  },
  {
   "cell_type": "code",
   "execution_count": 113,
   "metadata": {},
   "outputs": [
    {
     "data": {
      "text/plain": [
       "array([[2., 2., 1., 0., 0.],\n",
       "       [2., 2., 1., 0., 0.],\n",
       "       [1., 1., 2., 1., 1.],\n",
       "       [0., 0., 1., 2., 2.],\n",
       "       [0., 0., 1., 2., 2.]])"
      ]
     },
     "execution_count": 113,
     "metadata": {},
     "output_type": "execute_result"
    }
   ],
   "source": [
    "temp+temp2"
   ]
  },
  {
   "cell_type": "code",
   "execution_count": 118,
   "metadata": {},
   "outputs": [
    {
     "data": {
      "text/plain": [
       "2.0"
      ]
     },
     "execution_count": 118,
     "metadata": {},
     "output_type": "execute_result"
    }
   ],
   "source": [
    "(np.sum(temp*temp2)-5.)/2"
   ]
  },
  {
   "cell_type": "code",
   "execution_count": 126,
   "metadata": {},
   "outputs": [
    {
     "name": "stdout",
     "output_type": "stream",
     "text": [
      "first array\n",
      "[[1. 1. 1. 0. 0.]\n",
      " [1. 1. 1. 0. 0.]\n",
      " [1. 1. 1. 0. 0.]\n",
      " [0. 0. 0. 1. 1.]\n",
      " [0. 0. 0. 1. 1.]]\n",
      "second array\n",
      "[[1. 1. 0. 0. 0.]\n",
      " [1. 1. 0. 0. 0.]\n",
      " [0. 0. 1. 1. 1.]\n",
      " [0. 0. 1. 1. 1.]\n",
      " [0. 0. 1. 1. 1.]]\n",
      "product\n",
      "[[1. 1. 0. 0. 0.]\n",
      " [1. 1. 0. 0. 0.]\n",
      " [0. 0. 1. 0. 0.]\n",
      " [0. 0. 0. 1. 1.]\n",
      " [0. 0. 0. 1. 1.]]\n",
      "sum\n",
      "[[2. 2. 1. 0. 0.]\n",
      " [2. 2. 1. 0. 0.]\n",
      " [1. 1. 2. 1. 1.]\n",
      " [0. 0. 1. 2. 2.]\n",
      " [0. 0. 1. 2. 2.]]\n",
      "similarity measure\n",
      "2.0\n"
     ]
    }
   ],
   "source": [
    "temp = np.zeros((5,5))\n",
    "temp[0:3, 0:3]=1\n",
    "temp[3:5, 3:5]=1\n",
    "temp2 = np.zeros((5,5))\n",
    "temp2[0:2, 0:2]=1\n",
    "temp2[2:5, 2:5]=1\n",
    "\n",
    "print('first array')\n",
    "print(temp)\n",
    "print('second array')\n",
    "print(temp2)\n",
    "print('product')\n",
    "print(temp*temp2)\n",
    "print('sum')\n",
    "print(temp+temp2)\n",
    "print('similarity measure')\n",
    "print(np.sum(np.triu(temp*temp2, k=1)))"
   ]
  },
  {
   "cell_type": "code",
   "execution_count": null,
   "metadata": {},
   "outputs": [],
   "source": []
  }
 ],
 "metadata": {
  "kernelspec": {
   "display_name": "Python 3",
   "language": "python",
   "name": "python3"
  },
  "language_info": {
   "codemirror_mode": {
    "name": "ipython",
    "version": 3
   },
   "file_extension": ".py",
   "mimetype": "text/x-python",
   "name": "python",
   "nbconvert_exporter": "python",
   "pygments_lexer": "ipython3",
   "version": "3.6.7"
  }
 },
 "nbformat": 4,
 "nbformat_minor": 2
}
