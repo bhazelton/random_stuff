{
 "cells": [
  {
   "cell_type": "code",
   "execution_count": 1,
   "metadata": {
    "collapsed": false
   },
   "outputs": [],
   "source": [
    "import numpy as np\n",
    "from astropy import constants as const\n",
    "from astropy.coordinates import Angle\n",
    "from astropy import units"
   ]
  },
  {
   "cell_type": "code",
   "execution_count": 2,
   "metadata": {
    "collapsed": false
   },
   "outputs": [],
   "source": [
    "max_decorr = 0.1\n",
    "frequency = (250. * 1e6 * units.Hz)\n",
    "wavelength = const.c / frequency.to(1/units.s)\n",
    "max_baseline_m = (870 * units.m) # meters\n",
    "max_lambda = max_baseline_m / wavelength\n",
    "earth_rot_speed = (Angle(360, units.deg) / units.sday).to(units.arcminute/units.s) # arcmin/sec\n",
    "beam_FWHM = Angle(10., units.degree)\n",
    "hera_latitude = Angle(-0.53619181, units.rad)"
   ]
  },
  {
   "cell_type": "code",
   "execution_count": 3,
   "metadata": {
    "collapsed": false
   },
   "outputs": [
    {
     "data": {
      "text/latex": [
       "$1.8902005 \\; \\mathrm{s}$"
      ],
      "text/plain": [
       "<Quantity 1.8902005404696673 s>"
      ]
     },
     "execution_count": 3,
     "metadata": {},
     "output_type": "execute_result"
    }
   ],
   "source": [
    "integration_time = Angle(np.arcsin(wavelength * max_decorr/max_baseline_m), units.radian).to(units.arcminute)/earth_rot_speed\n",
    "integration_time"
   ]
  },
  {
   "cell_type": "code",
   "execution_count": 4,
   "metadata": {
    "collapsed": false
   },
   "outputs": [
    {
     "data": {
      "text/latex": [
       "$34.458903 \\; \\mathrm{kHz}$"
      ],
      "text/plain": [
       "<Quantity 34.45890321839081 kHz>"
      ]
     },
     "execution_count": 4,
     "metadata": {},
     "output_type": "execute_result"
    }
   ],
   "source": [
    "channel_width = (const.c * max_decorr / max_baseline_m).to(units.kHz)\n",
    "channel_width"
   ]
  },
  {
   "cell_type": "code",
   "execution_count": 5,
   "metadata": {
    "collapsed": false
   },
   "outputs": [
    {
     "data": {
      "text/latex": [
       "$198.44091 \\; \\mathrm{kHz}$"
      ],
      "text/plain": [
       "<Quantity 198.44091473557216 kHz>"
      ]
     },
     "execution_count": 5,
     "metadata": {},
     "output_type": "execute_result"
    }
   ],
   "source": [
    "(const.c * max_decorr / (max_baseline_m*np.sin(Angle(10,units.degree).to(units.rad)))).to(units.kHz)"
   ]
  },
  {
   "cell_type": "code",
   "execution_count": 6,
   "metadata": {
    "collapsed": false
   },
   "outputs": [
    {
     "data": {
      "text/latex": [
       "$4.7384393 \\; \\mathrm{{}^{\\prime}}$"
      ],
      "text/plain": [
       "<Quantity 4.738439330552549 arcmin>"
      ]
     },
     "execution_count": 6,
     "metadata": {},
     "output_type": "execute_result"
    }
   ],
   "source": [
    "max_resolution = (wavelength / max_baseline_m * units.radian)\n",
    "max_resolution.to(units.arcminute)"
   ]
  },
  {
   "cell_type": "code",
   "execution_count": 7,
   "metadata": {
    "collapsed": false
   },
   "outputs": [
    {
     "data": {
      "text/latex": [
       "$-21.307411 \\; \\mathrm{s}$"
      ],
      "text/plain": [
       "<Quantity -21.30741139274612 s>"
      ]
     },
     "execution_count": 7,
     "metadata": {},
     "output_type": "execute_result"
    }
   ],
   "source": [
    "fringe_stopped_int_time = max_resolution.to(units.arcminute)/(np.sin(beam_FWHM.radian) * earth_rot_speed * 10 * np.sin(hera_latitude))\n",
    "fringe_stopped_int_time"
   ]
  },
  {
   "cell_type": "markdown",
   "metadata": {},
   "source": [
    "Now invert these equations to calculate the decorrelation caused by some suggested correlator settings"
   ]
  },
  {
   "cell_type": "code",
   "execution_count": 8,
   "metadata": {
    "collapsed": false
   },
   "outputs": [],
   "source": [
    "corr_chan_width = (250 * units.MHz) / 4096\n",
    "corr_integration_time = 2 * units.s"
   ]
  },
  {
   "cell_type": "code",
   "execution_count": 9,
   "metadata": {
    "collapsed": false
   },
   "outputs": [
    {
     "data": {
      "text/latex": [
       "$0.10580888 \\; \\mathrm{}$"
      ],
      "text/plain": [
       "<Quantity 0.10580887881589228>"
      ]
     },
     "execution_count": 9,
     "metadata": {},
     "output_type": "execute_result"
    }
   ],
   "source": [
    "decorr = np.sin((corr_integration_time * earth_rot_speed).to(units.rad)) * max_baseline_m / wavelength\n",
    "decorr"
   ]
  },
  {
   "cell_type": "code",
   "execution_count": 10,
   "metadata": {
    "collapsed": false
   },
   "outputs": [
    {
     "data": {
      "text/latex": [
       "$0.17712449 \\; \\mathrm{}$"
      ],
      "text/plain": [
       "<Quantity 0.17712448902733904>"
      ]
     },
     "execution_count": 10,
     "metadata": {},
     "output_type": "execute_result"
    }
   ],
   "source": [
    "decorr = corr_chan_width.to(1/units.s) * max_baseline_m / const.c\n",
    "decorr"
   ]
  },
  {
   "cell_type": "code",
   "execution_count": null,
   "metadata": {
    "collapsed": true
   },
   "outputs": [],
   "source": []
  }
 ],
 "metadata": {
  "kernelspec": {
   "display_name": "Python 3",
   "language": "python",
   "name": "python3"
  },
  "language_info": {
   "codemirror_mode": {
    "name": "ipython",
    "version": 3
   },
   "file_extension": ".py",
   "mimetype": "text/x-python",
   "name": "python",
   "nbconvert_exporter": "python",
   "pygments_lexer": "ipython3",
   "version": "3.5.2"
  }
 },
 "nbformat": 4,
 "nbformat_minor": 0
}
