{
 "cells": [
  {
   "cell_type": "code",
   "execution_count": 1,
   "metadata": {
    "collapsed": false
   },
   "outputs": [],
   "source": [
    "import numpy as np\n",
    "from astropy import constants as const\n",
    "from astropy.coordinates import Angle\n",
    "from astropy import units"
   ]
  },
  {
   "cell_type": "code",
   "execution_count": 2,
   "metadata": {
    "collapsed": false
   },
   "outputs": [],
   "source": [
    "max_decorr = 0.1\n",
    "frequency = (250. * 1e6 * units.Hz)\n",
    "wavelength = const.c / frequency.to(1/units.s)\n",
    "max_baseline_m = (870 * units.m) # meters\n",
    "max_lambda = max_baseline_m / wavelength\n",
    "earth_rot_speed = (Angle(360, units.deg) / units.sday).to(units.arcminute/units.s) # arcmin/sec\n",
    "beam_FWHM = Angle(10., units.degree)"
   ]
  },
  {
   "cell_type": "code",
   "execution_count": 3,
   "metadata": {
    "collapsed": false
   },
   "outputs": [
    {
     "data": {
      "text/latex": [
       "$1.8902005 \\; \\mathrm{s}$"
      ],
      "text/plain": [
       "<Quantity 1.8902005404696673 s>"
      ]
     },
     "execution_count": 3,
     "metadata": {},
     "output_type": "execute_result"
    }
   ],
   "source": [
    "integration_time = Angle(np.arcsin(wavelength * max_decorr/max_baseline_m), units.radian).to(units.arcminute)/earth_rot_speed\n",
    "integration_time"
   ]
  },
  {
   "cell_type": "code",
   "execution_count": 4,
   "metadata": {
    "collapsed": false
   },
   "outputs": [
    {
     "data": {
      "text/latex": [
       "$34.458903 \\; \\mathrm{kHz}$"
      ],
      "text/plain": [
       "<Quantity 34.45890321839081 kHz>"
      ]
     },
     "execution_count": 4,
     "metadata": {},
     "output_type": "execute_result"
    }
   ],
   "source": [
    "channel_width = (const.c * max_decorr / max_baseline_m).to(units.kHz)\n",
    "channel_width"
   ]
  },
  {
   "cell_type": "code",
   "execution_count": 5,
   "metadata": {
    "collapsed": false
   },
   "outputs": [
    {
     "data": {
      "text/latex": [
       "$0.0013783561 \\; \\mathrm{rad}$"
      ],
      "text/plain": [
       "<Quantity 0.001378356128735632 rad>"
      ]
     },
     "execution_count": 5,
     "metadata": {},
     "output_type": "execute_result"
    }
   ],
   "source": [
    "max_resolution = (wavelength / max_baseline_m * units.radian)\n",
    "max_resolution"
   ]
  },
  {
   "cell_type": "code",
   "execution_count": 6,
   "metadata": {
    "collapsed": false
   },
   "outputs": [
    {
     "data": {
      "text/latex": [
       "$21.770462 \\; \\mathrm{s}$"
      ],
      "text/plain": [
       "<Quantity 21.77046209042281 s>"
      ]
     },
     "execution_count": 6,
     "metadata": {},
     "output_type": "execute_result"
    }
   ],
   "source": [
    "fringe_stopped_integration_time = max_resolution.to(units.arcminute)/np.sin(beam_FWHM.radian)/earth_rot_speed/5\n",
    "fringe_stopped_integration_time"
   ]
  },
  {
   "cell_type": "code",
   "execution_count": null,
   "metadata": {
    "collapsed": true
   },
   "outputs": [],
   "source": []
  }
 ],
 "metadata": {
  "kernelspec": {
   "display_name": "Python 3",
   "language": "python",
   "name": "python3"
  },
  "language_info": {
   "codemirror_mode": {
    "name": "ipython",
    "version": 3
   },
   "file_extension": ".py",
   "mimetype": "text/x-python",
   "name": "python",
   "nbconvert_exporter": "python",
   "pygments_lexer": "ipython3",
   "version": "3.5.2"
  }
 },
 "nbformat": 4,
 "nbformat_minor": 0
}
