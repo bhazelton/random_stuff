{
 "cells": [
  {
   "cell_type": "code",
   "execution_count": 64,
   "metadata": {
    "collapsed": false
   },
   "outputs": [],
   "source": [
    "import os\n",
    "import os.path as op\n",
    "from uvdata.uv import UVData\n",
    "import numpy as np\n",
    "from astropy.time import Time\n"
   ]
  },
  {
   "cell_type": "code",
   "execution_count": 62,
   "metadata": {
    "collapsed": false
   },
   "outputs": [
    {
     "name": "stdout",
     "output_type": "stream",
     "text": [
      "28\n"
     ]
    }
   ],
   "source": [
    "list_of_registers = range(240,253,2)\n",
    "list_of_registers += range(96,109,2)\n",
    "list_of_registers += range(144,157,2)\n",
    "list_of_registers += range(192,205,2)\n",
    "print(len(list_of_registers))"
   ]
  },
  {
   "cell_type": "code",
   "execution_count": 63,
   "metadata": {
    "collapsed": false
   },
   "outputs": [
    {
     "name": "stdout",
     "output_type": "stream",
     "text": [
      "0.036\n"
     ]
    }
   ],
   "source": [
    "print(0.00001 * 3600)"
   ]
  },
  {
   "cell_type": "code",
   "execution_count": 65,
   "metadata": {
    "collapsed": true
   },
   "outputs": [],
   "source": [
    "t1 = Time('2016-01-10 01:15:23', scale='utc')"
   ]
  },
  {
   "cell_type": "code",
   "execution_count": 67,
   "metadata": {
    "collapsed": false
   },
   "outputs": [
    {
     "name": "stdout",
     "output_type": "stream",
     "text": [
      "True\n"
     ]
    }
   ],
   "source": [
    "print(isinstance(t1, Time))"
   ]
  },
  {
   "cell_type": "code",
   "execution_count": 69,
   "metadata": {
    "collapsed": false
   },
   "outputs": [],
   "source": [
    "temp_list = (np.arange(28) + 300.).tolist()\n",
    "temp2_list = (np.arange(28) + 310.).tolist()\n",
    "temp_colnames = ['balun_east', 'cable_east',\n",
    "                         'balun_west', 'cable_west',\n",
    "                         'rcvr_1a', 'rcvr_1b', 'rcvr_2b', 'rcvr_2b',\n",
    "                         'rcvr_3a', 'rcvr_3b', 'rcvr_4b', 'rcvr_4b',\n",
    "                         'rcvr_5a', 'rcvr_5b', 'rcvr_6b', 'rcvr_6b',\n",
    "                         'rcvr_7a', 'rcvr_7b', 'rcvr_8b', 'rcvr_8b']\n",
    "temp_indices = (np.array([1, 2, 3, 4, 8, 9, 10, 11, 12, 13, 15, 16, 17, 18,\n",
    "                        19, 20, 22, 23, 24, 25]) - 1).tolist()"
   ]
  },
  {
   "cell_type": "code",
   "execution_count": 73,
   "metadata": {
    "collapsed": false
   },
   "outputs": [],
   "source": [
    "temp_values = [temp_list[i] for i in temp_indices]"
   ]
  },
  {
   "cell_type": "code",
   "execution_count": 75,
   "metadata": {
    "collapsed": false
   },
   "outputs": [
    {
     "data": {
      "text/plain": [
       "20"
      ]
     },
     "execution_count": 75,
     "metadata": {},
     "output_type": "execute_result"
    }
   ],
   "source": [
    "len(temp_values)"
   ]
  },
  {
   "cell_type": "code",
   "execution_count": 76,
   "metadata": {
    "collapsed": false
   },
   "outputs": [
    {
     "data": {
      "text/plain": [
       "20"
      ]
     },
     "execution_count": 76,
     "metadata": {},
     "output_type": "execute_result"
    }
   ],
   "source": [
    "len(temp_colnames)"
   ]
  },
  {
   "cell_type": "code",
   "execution_count": 77,
   "metadata": {
    "collapsed": true
   },
   "outputs": [],
   "source": [
    "temp_dict = dict(zip(temp_colnames, temp_values))\n"
   ]
  },
  {
   "cell_type": "code",
   "execution_count": 78,
   "metadata": {
    "collapsed": false
   },
   "outputs": [
    {
     "data": {
      "text/plain": [
       "{'balun_east': 300.0,\n",
       " 'balun_west': 302.0,\n",
       " 'cable_east': 301.0,\n",
       " 'cable_west': 303.0,\n",
       " 'rcvr_1a': 307.0,\n",
       " 'rcvr_1b': 308.0,\n",
       " 'rcvr_2b': 310.0,\n",
       " 'rcvr_3a': 311.0,\n",
       " 'rcvr_3b': 312.0,\n",
       " 'rcvr_4b': 315.0,\n",
       " 'rcvr_5a': 316.0,\n",
       " 'rcvr_5b': 317.0,\n",
       " 'rcvr_6b': 319.0,\n",
       " 'rcvr_7a': 321.0,\n",
       " 'rcvr_7b': 322.0,\n",
       " 'rcvr_8b': 324.0}"
      ]
     },
     "execution_count": 78,
     "metadata": {},
     "output_type": "execute_result"
    }
   ],
   "source": [
    "temp_dict"
   ]
  },
  {
   "cell_type": "code",
   "execution_count": 83,
   "metadata": {
    "collapsed": false
   },
   "outputs": [],
   "source": [
    "f_arr = np.arange(384)*80000-1*192*80000+1.82435*10**8"
   ]
  },
  {
   "cell_type": "code",
   "execution_count": 84,
   "metadata": {
    "collapsed": false
   },
   "outputs": [
    {
     "name": "stdout",
     "output_type": "stream",
     "text": [
      "182435000.0\n"
     ]
    }
   ],
   "source": [
    "print(f_arr[192])"
   ]
  },
  {
   "cell_type": "code",
   "execution_count": 85,
   "metadata": {
    "collapsed": false
   },
   "outputs": [
    {
     "name": "stdout",
     "output_type": "stream",
     "text": [
      "167075000.0\n"
     ]
    }
   ],
   "source": [
    "print(f_arr[0])"
   ]
  },
  {
   "cell_type": "code",
   "execution_count": 88,
   "metadata": {
    "collapsed": false
   },
   "outputs": [
    {
     "name": "stdout",
     "output_type": "stream",
     "text": [
      "167075000.0\n",
      "167155000.0\n"
     ]
    }
   ],
   "source": [
    "print(-1*192*80000+1.82435*10**8)\n",
    "print(-1*192*80000+1.82435*10**8) + 80000"
   ]
  },
  {
   "cell_type": "code",
   "execution_count": null,
   "metadata": {
    "collapsed": true
   },
   "outputs": [],
   "source": []
  }
 ],
 "metadata": {
  "kernelspec": {
   "display_name": "Python 2",
   "language": "python",
   "name": "python2"
  },
  "language_info": {
   "codemirror_mode": {
    "name": "ipython",
    "version": 2
   },
   "file_extension": ".py",
   "mimetype": "text/x-python",
   "name": "python",
   "nbconvert_exporter": "python",
   "pygments_lexer": "ipython2",
   "version": "2.7.11"
  }
 },
 "nbformat": 4,
 "nbformat_minor": 0
}
