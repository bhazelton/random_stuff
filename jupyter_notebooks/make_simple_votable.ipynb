{
 "cells": [
  {
   "cell_type": "code",
   "execution_count": 7,
   "metadata": {},
   "outputs": [
    {
     "name": "stdout",
     "output_type": "stream",
     "text": [
      "source_id   RAJ2000      DEJ2000         Si    \n",
      "              deg          deg           Jy    \n",
      "--------- ------------ ------------ -----------\n",
      "     TEST   0.00000000 -30.00000000    1.000000\n",
      "    TEST2   0.00000000   0.00000000    0.000000\n"
     ]
    }
   ],
   "source": [
    "from astropy.io.votable.tree import VOTableFile, Resource, Table, Field\n",
    "\n",
    "# Create a new VOTable file...\n",
    "votable = VOTableFile()\n",
    "\n",
    "# ...with one resource...\n",
    "resource = Resource()\n",
    "votable.resources.append(resource)\n",
    "\n",
    "# ... with one table\n",
    "table = Table(votable, ID=\"VIII_1000_single\", name=\"VIII/1000/single\")\n",
    "resource.tables.append(table)\n",
    "\n",
    "# Define some fields\n",
    "table.fields.extend([\n",
    "        Field(votable, name=\"source_id\", datatype=\"char\", arraysize=\"*\", ucd=\"meta.id;meta.main\"),\n",
    "        Field(votable, name=\"RAJ2000\", ucd=\"pos.eq.ra\", ref=\"J2000\", datatype=\"double\", width=\"12\", precision=\"8\", unit=\"deg\"),\n",
    "        Field(votable, name=\"DEJ2000\", ucd=\"pos.eq.dec\", ref=\"J2000\", datatype=\"double\", width=\"12\", precision=\"8\", unit=\"deg\"),\n",
    "        Field(votable, name=\"Si\", ucd=\"phot.flux\", datatype=\"double\", width=\"11\", precision=\"6\", unit=\"Jy\")])\n",
    "\n",
    "# Now, use those field definitions to create the numpy record arrays, with\n",
    "# the given number of rows\n",
    "table.create_arrays(2)\n",
    "\n",
    "# Now table.array can be filled with data\n",
    "table.array[0] = ('TEST', 0., -30.0, 1.)\n",
    "table.array[1] = ('TEST2', 0., 0., 0.)\n",
    "\n",
    "print(table)\n",
    "\n",
    "# Now write the whole thing to a file.\n",
    "# Note, we have to use the top-level votable file object\n",
    "filename = \"/Users/bryna/Projects/Physics/pyuvsim/pyuvsim/data/new_single_source.vot\"\n",
    "votable.to_xml(filename)"
   ]
  },
  {
   "cell_type": "code",
   "execution_count": null,
   "metadata": {},
   "outputs": [],
   "source": []
  }
 ],
 "metadata": {
  "kernelspec": {
   "display_name": "Python 3",
   "language": "python",
   "name": "python3"
  },
  "language_info": {
   "codemirror_mode": {
    "name": "ipython",
    "version": 3
   },
   "file_extension": ".py",
   "mimetype": "text/x-python",
   "name": "python",
   "nbconvert_exporter": "python",
   "pygments_lexer": "ipython3",
   "version": "3.7.6"
  }
 },
 "nbformat": 4,
 "nbformat_minor": 4
}
