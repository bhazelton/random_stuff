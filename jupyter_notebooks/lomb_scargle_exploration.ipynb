{
 "cells": [
  {
   "cell_type": "code",
   "execution_count": 1,
   "metadata": {},
   "outputs": [],
   "source": [
    "import numpy as np\n",
    "import copy"
   ]
  },
  {
   "cell_type": "code",
   "execution_count": 2,
   "metadata": {},
   "outputs": [],
   "source": [
    "delta_t = 0.5\n",
    "times = np.arange(0, 20, delta_t, dtype=np.float64)\n",
    "nt = np.size(times)\n",
    "period = np.max(times) - np.min(times) + delta_t \n",
    "omega = 2 * np.pi * np.arange(0, nt) / period"
   ]
  },
  {
   "cell_type": "code",
   "execution_count": 3,
   "metadata": {},
   "outputs": [
    {
     "data": {
      "text/plain": [
       "array([ 0. ,  0.5,  1. ,  1.5,  2. ,  2.5,  3. ,  3.5,  4. ,  4.5,  5. ,\n",
       "        5.5,  6. ,  6.5,  7. ,  7.5,  8. ,  8.5,  9. ,  9.5, 10. , 10.5,\n",
       "       11. , 11.5, 12. , 12.5, 13. , 13.5, 14. , 14.5, 15. , 15.5, 16. ,\n",
       "       16.5, 17. , 17.5, 18. , 18.5, 19. , 19.5])"
      ]
     },
     "execution_count": 3,
     "metadata": {},
     "output_type": "execute_result"
    }
   ],
   "source": [
    "times"
   ]
  },
  {
   "cell_type": "code",
   "execution_count": 4,
   "metadata": {},
   "outputs": [
    {
     "data": {
      "text/plain": [
       "array([ 0.        ,  0.31415927,  0.62831853,  0.9424778 ,  1.25663706,\n",
       "        1.57079633,  1.88495559,  2.19911486,  2.51327412,  2.82743339,\n",
       "        3.14159265,  3.45575192,  3.76991118,  4.08407045,  4.39822972,\n",
       "        4.71238898,  5.02654825,  5.34070751,  5.65486678,  5.96902604,\n",
       "        6.28318531,  6.59734457,  6.91150384,  7.2256631 ,  7.53982237,\n",
       "        7.85398163,  8.1681409 ,  8.48230016,  8.79645943,  9.1106187 ,\n",
       "        9.42477796,  9.73893723, 10.05309649, 10.36725576, 10.68141502,\n",
       "       10.99557429, 11.30973355, 11.62389282, 11.93805208, 12.25221135])"
      ]
     },
     "execution_count": 4,
     "metadata": {},
     "output_type": "execute_result"
    }
   ],
   "source": [
    "omega"
   ]
  },
  {
   "cell_type": "code",
   "execution_count": 5,
   "metadata": {},
   "outputs": [],
   "source": [
    "omega_t_arr = np.outer(times, omega) # first axis is time\n",
    "cos_arr = np.cos(omega_t_arr)\n",
    "sin_arr = np.sin(omega_t_arr)"
   ]
  },
  {
   "cell_type": "code",
   "execution_count": 6,
   "metadata": {},
   "outputs": [],
   "source": [
    "variances_const = np.ones((nt, 1))*5\n",
    "variance_const_arr = np.repeat(variances_const, nt, axis=1)"
   ]
  },
  {
   "cell_type": "code",
   "execution_count": 7,
   "metadata": {},
   "outputs": [
    {
     "data": {
      "text/plain": [
       "array([ 0.00000000e+00,  8.88178420e-16,  4.44089210e-16,  0.00000000e+00,\n",
       "        3.55271368e-15,  2.66453526e-14, -5.15143483e-14,  1.50990331e-14,\n",
       "        7.10542736e-15,  6.01740879e-14, -5.51710040e-15, -2.44249065e-15,\n",
       "        5.37347944e-14, -1.10134124e-13,  5.15143483e-14,  5.50670620e-14,\n",
       "        1.86517468e-14, -1.16351373e-13, -2.65121258e-13,  4.35207426e-14,\n",
       "       -1.06180591e-12,  1.84297022e-14, -3.55271368e-15,  1.74082970e-13,\n",
       "       -5.32907052e-14, -9.32587341e-14,  1.69642078e-13,  3.28626015e-13,\n",
       "        2.40696352e-13,  1.89848137e-13, -1.76423417e-13,  8.65973959e-14,\n",
       "        3.99680289e-14, -2.53130850e-13, -8.43769499e-14,  9.14823772e-14,\n",
       "        2.36255460e-13,  3.71258579e-13, -2.48245868e-13,  1.49213975e-13])"
      ]
     },
     "execution_count": 7,
     "metadata": {},
     "output_type": "execute_result"
    }
   ],
   "source": [
    "numerator_const = 2 * np.sum(variance_const_arr * cos_arr * sin_arr, axis=0)\n",
    "numerator_const"
   ]
  },
  {
   "cell_type": "code",
   "execution_count": 8,
   "metadata": {},
   "outputs": [
    {
     "data": {
      "text/plain": [
       "array([ True,  True,  True,  True,  True,  True,  True,  True,  True,\n",
       "        True,  True,  True,  True,  True,  True,  True,  True,  True,\n",
       "        True,  True,  True,  True,  True,  True,  True,  True,  True,\n",
       "        True,  True,  True,  True,  True,  True,  True,  True,  True,\n",
       "        True,  True,  True,  True])"
      ]
     },
     "execution_count": 8,
     "metadata": {},
     "output_type": "execute_result"
    }
   ],
   "source": [
    "np.isclose(numerator_const, 0)"
   ]
  },
  {
   "cell_type": "code",
   "execution_count": 9,
   "metadata": {},
   "outputs": [
    {
     "data": {
      "text/plain": [
       "array([ 2.00000000e+02,  0.00000000e+00,  1.42108547e-14,  2.84217094e-14,\n",
       "        5.68434189e-14, -1.70530257e-13,  1.42108547e-14,  8.52651283e-14,\n",
       "       -1.42108547e-14, -1.42108547e-14,  0.00000000e+00,  1.42108547e-14,\n",
       "        1.56319402e-13,  1.13686838e-13,  8.52651283e-14,  9.94759830e-14,\n",
       "       -4.26325641e-14, -5.68434189e-14,  1.13686838e-13,  8.52651283e-14,\n",
       "        2.00000000e+02, -7.10542736e-14, -5.25801624e-13,  5.68434189e-14,\n",
       "        0.00000000e+00,  5.68434189e-14,  4.83169060e-13, -1.56319402e-13,\n",
       "        2.41584530e-13, -7.10542736e-14,  0.00000000e+00,  1.56319402e-13,\n",
       "       -1.42108547e-14,  0.00000000e+00,  9.94759830e-14, -2.13162821e-13,\n",
       "        3.41060513e-13,  2.84217094e-13,  3.12638804e-13, -1.42108547e-14])"
      ]
     },
     "execution_count": 9,
     "metadata": {},
     "output_type": "execute_result"
    }
   ],
   "source": [
    "denominator_const = np.sum(variance_const_arr * cos_arr**2, axis=0) - np.sum(variance_const_arr * sin_arr**2, axis=0)\n",
    "denominator_const"
   ]
  },
  {
   "cell_type": "code",
   "execution_count": 10,
   "metadata": {},
   "outputs": [
    {
     "data": {
      "text/plain": [
       "array([False,  True,  True,  True,  True,  True,  True,  True,  True,\n",
       "        True,  True,  True,  True,  True,  True,  True,  True,  True,\n",
       "        True,  True, False,  True,  True,  True,  True,  True,  True,\n",
       "        True,  True,  True,  True,  True,  True,  True,  True,  True,\n",
       "        True,  True,  True,  True])"
      ]
     },
     "execution_count": 10,
     "metadata": {},
     "output_type": "execute_result"
    }
   ],
   "source": [
    "np.isclose(denominator_const, 0)"
   ]
  },
  {
   "cell_type": "code",
   "execution_count": 11,
   "metadata": {},
   "outputs": [
    {
     "name": "stderr",
     "output_type": "stream",
     "text": [
      "/Users/bryna/anaconda/envs/py36/lib/python3.6/site-packages/ipykernel_launcher.py:1: RuntimeWarning: divide by zero encountered in true_divide\n",
      "  \"\"\"Entry point for launching an IPython kernel.\n"
     ]
    },
    {
     "data": {
      "text/plain": [
       "array([ 0.00000000e+00,  7.85398163e-01,  1.56199167e-02,  0.00000000e+00,\n",
       "        3.12094050e-02, -7.74983710e-02, -6.50814417e-01,  8.76331880e-02,\n",
       "       -2.31823805e-01, -6.69441561e-01, -7.85398163e-01, -8.51059626e-02,\n",
       "        1.65548038e-01, -3.84763240e-01,  2.71738797e-01,  2.52790527e-01,\n",
       "       -2.06205221e-01,  5.58175456e-01, -5.82851199e-01,  2.35973087e-01,\n",
       "       -2.65451478e-15, -1.26891272e-01,  3.37832697e-03,  6.27590332e-01,\n",
       "       -7.85398163e-01, -5.11701719e-01,  1.68828528e-01, -5.63398422e-01,\n",
       "        3.91778272e-01, -6.06333341e-01, -7.85398163e-01,  2.52945825e-01,\n",
       "       -6.14590418e-01, -7.85398163e-01, -3.51728226e-01, -2.02697276e-01,\n",
       "        3.02907723e-01,  4.58708560e-01, -3.35546296e-01, -7.37922310e-01])"
      ]
     },
     "execution_count": 11,
     "metadata": {},
     "output_type": "execute_result"
    }
   ],
   "source": [
    "theta_const = np.arctan(numerator_const/denominator_const)/2.\n",
    "theta_const"
   ]
  },
  {
   "cell_type": "code",
   "execution_count": 12,
   "metadata": {},
   "outputs": [
    {
     "data": {
      "text/plain": [
       "array([0., 0., 0., 0., 0., 0., 0., 0., 0., 0., 0., 0., 0., 0., 0., 0., 0.,\n",
       "       0., 0., 0., 0., 0., 0., 0., 0., 0., 0., 0., 0., 0., 0., 0., 0., 0.,\n",
       "       0., 0., 0., 0., 0., 0.])"
      ]
     },
     "execution_count": 12,
     "metadata": {},
     "output_type": "execute_result"
    }
   ],
   "source": [
    "theta_const_clipped = copy.copy(theta_const)\n",
    "theta_const_clipped[np.where(np.isclose(numerator_const, 0))] = 0\n",
    "theta_const_clipped"
   ]
  },
  {
   "cell_type": "code",
   "execution_count": 13,
   "metadata": {},
   "outputs": [],
   "source": [
    "variances_vary = np.random.randn(nt)*5\n",
    "variances_vary = variances_vary[:, np.newaxis]\n",
    "variance_vary_arr = np.repeat(variances_vary, nt, axis=1)"
   ]
  },
  {
   "cell_type": "code",
   "execution_count": 14,
   "metadata": {},
   "outputs": [
    {
     "data": {
      "text/plain": [
       "array([ 0.00000000e+00,  5.13043263e+00,  7.31692614e+00,  2.17433356e+00,\n",
       "        1.85370587e+00, -3.77053759e+00, -4.48688330e-01,  2.74274155e+01,\n",
       "        1.21462036e-01,  4.05007421e+00,  1.23898361e-13, -4.05007421e+00,\n",
       "       -1.21462036e-01, -2.74274155e+01,  4.48688330e-01,  3.77053759e+00,\n",
       "       -1.85370587e+00, -2.17433356e+00, -7.31692614e+00, -5.13043263e+00,\n",
       "        2.71455675e-13,  5.13043263e+00,  7.31692614e+00,  2.17433356e+00,\n",
       "        1.85370587e+00, -3.77053759e+00, -4.48688330e-01,  2.74274155e+01,\n",
       "        1.21462036e-01,  4.05007421e+00,  1.26485492e-13, -4.05007421e+00,\n",
       "       -1.21462036e-01, -2.74274155e+01,  4.48688330e-01,  3.77053759e+00,\n",
       "       -1.85370587e+00, -2.17433356e+00, -7.31692614e+00, -5.13043263e+00])"
      ]
     },
     "execution_count": 14,
     "metadata": {},
     "output_type": "execute_result"
    }
   ],
   "source": [
    "numerator_vary = np.sum(variance_vary_arr * cos_arr * sin_arr, axis=0)\n",
    "numerator_vary"
   ]
  },
  {
   "cell_type": "code",
   "execution_count": 15,
   "metadata": {},
   "outputs": [
    {
     "data": {
      "text/plain": [
       "array([ True, False, False, False, False, False, False, False, False,\n",
       "       False,  True, False, False, False, False, False, False, False,\n",
       "       False, False,  True, False, False, False, False, False, False,\n",
       "       False, False, False,  True, False, False, False, False, False,\n",
       "       False, False, False, False])"
      ]
     },
     "execution_count": 15,
     "metadata": {},
     "output_type": "execute_result"
    }
   ],
   "source": [
    "np.isclose(numerator_vary, np.zeros(nt))"
   ]
  },
  {
   "cell_type": "code",
   "execution_count": 16,
   "metadata": {},
   "outputs": [
    {
     "data": {
      "text/plain": [
       "array([-42.61749661, -17.96494605, -18.05818532,  -9.72083371,\n",
       "        17.46123701, -23.63911406,  16.3186698 ,   1.14176172,\n",
       "       -16.98209354, -36.04690209, -39.92686599, -36.04690209,\n",
       "       -16.98209354,   1.14176172,  16.3186698 , -23.63911406,\n",
       "        17.46123701,  -9.72083371, -18.05818532, -17.96494605,\n",
       "       -42.61749661, -17.96494605, -18.05818532,  -9.72083371,\n",
       "        17.46123701, -23.63911406,  16.3186698 ,   1.14176172,\n",
       "       -16.98209354, -36.04690209, -39.92686599, -36.04690209,\n",
       "       -16.98209354,   1.14176172,  16.3186698 , -23.63911406,\n",
       "        17.46123701,  -9.72083371, -18.05818532, -17.96494605])"
      ]
     },
     "execution_count": 16,
     "metadata": {},
     "output_type": "execute_result"
    }
   ],
   "source": [
    "denominator_vary = np.sum(variance_vary_arr * cos_arr**2, axis=0) - np.sum(variance_vary_arr * sin_arr**2, axis=0)\n",
    "denominator_vary"
   ]
  },
  {
   "cell_type": "code",
   "execution_count": 17,
   "metadata": {},
   "outputs": [
    {
     "data": {
      "text/plain": [
       "array([False, False, False, False, False, False, False, False, False,\n",
       "       False, False, False, False, False, False, False, False, False,\n",
       "       False, False, False, False, False, False, False, False, False,\n",
       "       False, False, False, False, False, False, False, False, False,\n",
       "       False, False, False, False])"
      ]
     },
     "execution_count": 17,
     "metadata": {},
     "output_type": "execute_result"
    }
   ],
   "source": [
    "np.isclose(denominator_vary, 0)"
   ]
  },
  {
   "cell_type": "code",
   "execution_count": 18,
   "metadata": {},
   "outputs": [
    {
     "data": {
      "text/plain": [
       "array([ 1.57079633,  1.43170849,  1.37831174,  1.46076858,  0.05288253,\n",
       "       -1.49171043, -0.01374424,  0.76459593,  1.56722021,  1.5148531 ,\n",
       "        1.57079633, -1.5148531 , -1.56722021, -0.76459593,  0.01374424,\n",
       "        1.49171043, -0.05288253, -1.46076858, -1.37831174, -1.43170849,\n",
       "        1.57079633,  1.43170849,  1.37831174,  1.46076858,  0.05288253,\n",
       "       -1.49171043, -0.01374424,  0.76459593,  1.56722021,  1.5148531 ,\n",
       "        1.57079633, -1.5148531 , -1.56722021, -0.76459593,  0.01374424,\n",
       "        1.49171043, -0.05288253, -1.46076858, -1.37831174, -1.43170849])"
      ]
     },
     "execution_count": 18,
     "metadata": {},
     "output_type": "execute_result"
    }
   ],
   "source": [
    "theta_vary = np.arctan2(numerator_vary, denominator_vary)/2.\n",
    "theta_vary"
   ]
  },
  {
   "cell_type": "code",
   "execution_count": 19,
   "metadata": {},
   "outputs": [
    {
     "data": {
      "text/plain": [
       "array([ 0.        ,  1.43170849,  1.37831174,  1.46076858,  0.05288253,\n",
       "       -1.49171043, -0.01374424,  0.76459593,  1.56722021,  1.5148531 ,\n",
       "        0.        , -1.5148531 , -1.56722021, -0.76459593,  0.01374424,\n",
       "        1.49171043, -0.05288253, -1.46076858, -1.37831174, -1.43170849,\n",
       "        0.        ,  1.43170849,  1.37831174,  1.46076858,  0.05288253,\n",
       "       -1.49171043, -0.01374424,  0.76459593,  1.56722021,  1.5148531 ,\n",
       "        0.        , -1.5148531 , -1.56722021, -0.76459593,  0.01374424,\n",
       "        1.49171043, -0.05288253, -1.46076858, -1.37831174, -1.43170849])"
      ]
     },
     "execution_count": 19,
     "metadata": {},
     "output_type": "execute_result"
    }
   ],
   "source": [
    "theta_vary_clipped = copy.copy(theta_vary)\n",
    "theta_vary_clipped[np.where(np.isclose(numerator_vary, 0))] = 0\n",
    "theta_vary_clipped"
   ]
  },
  {
   "cell_type": "code",
   "execution_count": null,
   "metadata": {},
   "outputs": [],
   "source": []
  }
 ],
 "metadata": {
  "kernelspec": {
   "display_name": "Python 3",
   "language": "python",
   "name": "python3"
  },
  "language_info": {
   "codemirror_mode": {
    "name": "ipython",
    "version": 3
   },
   "file_extension": ".py",
   "mimetype": "text/x-python",
   "name": "python",
   "nbconvert_exporter": "python",
   "pygments_lexer": "ipython3",
   "version": "3.6.8"
  }
 },
 "nbformat": 4,
 "nbformat_minor": 2
}
