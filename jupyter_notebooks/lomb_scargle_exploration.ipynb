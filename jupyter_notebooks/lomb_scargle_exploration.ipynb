{
 "cells": [
  {
   "cell_type": "code",
   "execution_count": 1,
   "metadata": {},
   "outputs": [],
   "source": [
    "import numpy as np"
   ]
  },
  {
   "cell_type": "code",
   "execution_count": 2,
   "metadata": {},
   "outputs": [],
   "source": [
    "delta_t = 0.5\n",
    "times = np.arange(0, 20, delta_t)\n",
    "nt = np.size(times)\n",
    "period = np.max(times) - np.min(times) + delta_t \n",
    "omega = 2 * np.pi * np.arange(0, nt) / period"
   ]
  },
  {
   "cell_type": "code",
   "execution_count": 3,
   "metadata": {},
   "outputs": [
    {
     "data": {
      "text/plain": [
       "array([ 0. ,  0.5,  1. ,  1.5,  2. ,  2.5,  3. ,  3.5,  4. ,  4.5,  5. ,\n",
       "        5.5,  6. ,  6.5,  7. ,  7.5,  8. ,  8.5,  9. ,  9.5, 10. , 10.5,\n",
       "       11. , 11.5, 12. , 12.5, 13. , 13.5, 14. , 14.5, 15. , 15.5, 16. ,\n",
       "       16.5, 17. , 17.5, 18. , 18.5, 19. , 19.5])"
      ]
     },
     "execution_count": 3,
     "metadata": {},
     "output_type": "execute_result"
    }
   ],
   "source": [
    "times"
   ]
  },
  {
   "cell_type": "code",
   "execution_count": 4,
   "metadata": {},
   "outputs": [
    {
     "data": {
      "text/plain": [
       "array([ 0.        ,  0.31415927,  0.62831853,  0.9424778 ,  1.25663706,\n",
       "        1.57079633,  1.88495559,  2.19911486,  2.51327412,  2.82743339,\n",
       "        3.14159265,  3.45575192,  3.76991118,  4.08407045,  4.39822972,\n",
       "        4.71238898,  5.02654825,  5.34070751,  5.65486678,  5.96902604,\n",
       "        6.28318531,  6.59734457,  6.91150384,  7.2256631 ,  7.53982237,\n",
       "        7.85398163,  8.1681409 ,  8.48230016,  8.79645943,  9.1106187 ,\n",
       "        9.42477796,  9.73893723, 10.05309649, 10.36725576, 10.68141502,\n",
       "       10.99557429, 11.30973355, 11.62389282, 11.93805208, 12.25221135])"
      ]
     },
     "execution_count": 4,
     "metadata": {},
     "output_type": "execute_result"
    }
   ],
   "source": [
    "omega"
   ]
  },
  {
   "cell_type": "code",
   "execution_count": 5,
   "metadata": {},
   "outputs": [],
   "source": [
    "variances = np.ones((nt, 1))*5\n",
    "variance_arr = np.repeat(variances, nt, axis=1)"
   ]
  },
  {
   "cell_type": "code",
   "execution_count": 6,
   "metadata": {},
   "outputs": [],
   "source": [
    "omega_t_arr = np.outer(times, omega) # first axis is time\n",
    "cos_arr = np.cos(omega_t_arr)\n",
    "sin_arr = np.sin(omega_t_arr)"
   ]
  },
  {
   "cell_type": "code",
   "execution_count": 7,
   "metadata": {},
   "outputs": [
    {
     "data": {
      "text/plain": [
       "array([ 0.00000000e+00,  4.44089210e-16,  2.22044605e-16,  0.00000000e+00,\n",
       "        1.77635684e-15,  1.33226763e-14, -2.57571742e-14,  7.54951657e-15,\n",
       "        3.55271368e-15,  3.00870440e-14, -2.75855020e-15, -1.22124533e-15,\n",
       "        2.68673972e-14, -5.50670620e-14,  2.57571742e-14,  2.75335310e-14,\n",
       "        9.32587341e-15, -5.81756865e-14, -1.32560629e-13,  2.17603713e-14,\n",
       "       -5.30902957e-13,  9.21485110e-15, -1.77635684e-15,  8.70414851e-14,\n",
       "       -2.66453526e-14, -4.66293670e-14,  8.48210391e-14,  1.64313008e-13,\n",
       "        1.20348176e-13,  9.49240686e-14, -8.82117084e-14,  4.32986980e-14,\n",
       "        1.99840144e-14, -1.26565425e-13, -4.21884749e-14,  4.57411886e-14,\n",
       "        1.18127730e-13,  1.85629290e-13, -1.24122934e-13,  7.46069873e-14])"
      ]
     },
     "execution_count": 7,
     "metadata": {},
     "output_type": "execute_result"
    }
   ],
   "source": [
    "numerator = np.sum(variance_arr * cos_arr * sin_arr, axis=0)\n",
    "numerator"
   ]
  },
  {
   "cell_type": "code",
   "execution_count": 8,
   "metadata": {},
   "outputs": [],
   "source": [
    "variances = np.random.rand(nt)*5\n",
    "variances = variances[:, np.newaxis]\n",
    "variance_arr = np.repeat(variances, nt, axis=1)"
   ]
  },
  {
   "cell_type": "code",
   "execution_count": 9,
   "metadata": {},
   "outputs": [
    {
     "data": {
      "text/plain": [
       "array([ 0.00000000e+00, -1.88782227e+00, -1.56145246e+00,  1.39663852e+00,\n",
       "        8.49972675e-01,  5.03768676e-01,  1.12737606e-02, -2.96608132e+00,\n",
       "        2.22096244e-01, -2.00354461e+00, -2.49444239e-14,  2.00354461e+00,\n",
       "       -2.22096244e-01,  2.96608132e+00, -1.12737606e-02, -5.03768676e-01,\n",
       "       -8.49972675e-01, -1.39663852e+00,  1.56145246e+00,  1.88782227e+00,\n",
       "       -2.66915957e-13, -1.88782227e+00, -1.56145246e+00,  1.39663852e+00,\n",
       "        8.49972675e-01,  5.03768676e-01,  1.12737606e-02, -2.96608132e+00,\n",
       "        2.22096244e-01, -2.00354461e+00, -7.17185103e-14,  2.00354461e+00,\n",
       "       -2.22096244e-01,  2.96608132e+00, -1.12737606e-02, -5.03768676e-01,\n",
       "       -8.49972675e-01, -1.39663852e+00,  1.56145246e+00,  1.88782227e+00])"
      ]
     },
     "execution_count": 9,
     "metadata": {},
     "output_type": "execute_result"
    }
   ],
   "source": [
    "numerator = np.sum(variance_arr * cos_arr * sin_arr, axis=0)\n",
    "numerator"
   ]
  },
  {
   "cell_type": "code",
   "execution_count": null,
   "metadata": {},
   "outputs": [],
   "source": []
  }
 ],
 "metadata": {
  "kernelspec": {
   "display_name": "Python 3",
   "language": "python",
   "name": "python3"
  },
  "language_info": {
   "codemirror_mode": {
    "name": "ipython",
    "version": 3
   },
   "file_extension": ".py",
   "mimetype": "text/x-python",
   "name": "python",
   "nbconvert_exporter": "python",
   "pygments_lexer": "ipython3",
   "version": "3.6.8"
  }
 },
 "nbformat": 4,
 "nbformat_minor": 2
}
