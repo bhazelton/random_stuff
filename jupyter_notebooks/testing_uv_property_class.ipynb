{
 "cells": [
  {
   "cell_type": "code",
   "execution_count": 1,
   "metadata": {
    "collapsed": true
   },
   "outputs": [],
   "source": [
    "from astropy import constants as const\n",
    "from astropy.time import Time\n",
    "from astropy.io import fits\n",
    "import os.path as op\n",
    "import numpy as np\n",
    "from scipy.io.idl import readsav\n",
    "import warnings\n",
    "from itertools import islice\n"
   ]
  },
  {
   "cell_type": "code",
   "execution_count": 2,
   "metadata": {
    "collapsed": false
   },
   "outputs": [],
   "source": [
    "class UVProperty:\n",
    "    def __init__(self, required=True, spoof_val=None, value=None):\n",
    "        self.required = required\n",
    "        self.spoof_val = spoof_val\n",
    "        self.value = value\n",
    "\n",
    "    def __setattr__(self)\n",
    "\n",
    "\n",
    "class UVData:\n",
    "    def __init__(self):\n",
    "         self.Ntimes = UVProperty(10)  # Number of times\n",
    "\n",
    "    def required_property_iter(self):\n",
    "        attribute_list = [a for a in dir(self) if not a.startswith('__') and\n",
    "                          not callable(getattr(self, a))]\n",
    "        required_list = []\n",
    "        for a in attribute_list:\n",
    "            attr = getattr(self, a)\n",
    "            if isinstance(attr, UVProperty):\n",
    "                if attr.required:\n",
    "                    required_list.append(a)\n",
    "        for a in required_list:\n",
    "            yield a\n"
   ]
  },
  {
   "cell_type": "code",
   "execution_count": 3,
   "metadata": {
    "collapsed": false
   },
   "outputs": [],
   "source": [
    "uv_obj = UVData()"
   ]
  },
  {
   "cell_type": "code",
   "execution_count": 4,
   "metadata": {
    "collapsed": false
   },
   "outputs": [
    {
     "name": "stdout",
     "output_type": "stream",
     "text": [
      "Ntimes\n",
      "<class 'str'>\n"
     ]
    }
   ],
   "source": [
    "for a in uv_obj.required_property_iter():\n",
    "    print(a)\n",
    "    print(type(a))"
   ]
  },
  {
   "cell_type": "code",
   "execution_count": null,
   "metadata": {
    "collapsed": true
   },
   "outputs": [],
   "source": []
  }
 ],
 "metadata": {
  "kernelspec": {
   "display_name": "Python 3",
   "language": "python",
   "name": "python3"
  },
  "language_info": {
   "codemirror_mode": {
    "name": "ipython",
    "version": 3
   },
   "file_extension": ".py",
   "mimetype": "text/x-python",
   "name": "python",
   "nbconvert_exporter": "python",
   "pygments_lexer": "ipython3",
   "version": "3.5.1"
  }
 },
 "nbformat": 4,
 "nbformat_minor": 0
}
