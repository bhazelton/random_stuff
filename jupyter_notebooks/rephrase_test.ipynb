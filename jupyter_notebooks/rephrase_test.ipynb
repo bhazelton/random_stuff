{
 "cells": [
  {
   "cell_type": "code",
   "execution_count": 1,
   "metadata": {},
   "outputs": [],
   "source": [
    "import os\n",
    "\n",
    "import numpy as np\n",
    "from astropy.coordinates import Angle\n",
    "\n",
    "from pyuvdata import UVData\n",
    "from pyuvdata.data import DATA_PATH"
   ]
  },
  {
   "cell_type": "code",
   "execution_count": 2,
   "metadata": {},
   "outputs": [
    {
     "name": "stdout",
     "output_type": "stream",
     "text": [
      "73.13580521406377\n"
     ]
    }
   ],
   "source": [
    "testfile = os.path.join(DATA_PATH, 'zen.2458661.23480.HH.uvh5')\n",
    "uv_raw = UVData()\n",
    "uv_raw.read_uvh5(testfile)\n",
    "\n",
    "initial_uvws = uv_raw.uvw_array\n",
    "\n",
    "uv_raw.set_uvws_from_antenna_positions()\n",
    "\n",
    "uvw_diff = initial_uvws - uv_raw.uvw_array\n",
    "print(np.max(np.abs(uvw_diff)))"
   ]
  },
  {
   "cell_type": "code",
   "execution_count": 3,
   "metadata": {},
   "outputs": [],
   "source": [
    "uv_raw.reorder_blts(order=\"time\", minor_order=\"baseline\")\n",
    "times = np.unique(uv_raw.time_array)\n",
    "time_set_1, time_set_2 = times[::2], times[1::2]\n",
    "\n",
    "uv_raw_1 = uv_raw.select(times=time_set_1, inplace=False)\n",
    "uv_raw_2 = uv_raw.select(times=time_set_2, inplace=False)\n",
    "\n",
    "uv_raw_1copy = uv_raw_1.copy()\n"
   ]
  },
  {
   "cell_type": "code",
   "execution_count": 4,
   "metadata": {},
   "outputs": [],
   "source": [
    "phase_center_radec = (Angle('0d').rad, Angle('-30d').rad)\n",
    "\n",
    "# phase each half to different spots\n",
    "uv_raw_1.phase(ra=0,\n",
    "               dec=0,\n",
    "               epoch=\"J2000\"\n",
    "               )\n",
    "uv_raw_2.phase(ra=phase_center_radec[0],\n",
    "               dec=phase_center_radec[1],\n",
    "               epoch=\"J2000\"\n",
    "               )\n",
    "\n",
    "# phase original to phase_center_radec\n",
    "uv_raw.phase(ra=phase_center_radec[0],\n",
    "             dec=phase_center_radec[1],\n",
    "             epoch=\"J2000\"\n",
    "             )\n"
   ]
  },
  {
   "cell_type": "code",
   "execution_count": 5,
   "metadata": {},
   "outputs": [
    {
     "name": "stdout",
     "output_type": "stream",
     "text": [
      "3.253907165344266e-11\n",
      "7.587781535024039\n"
     ]
    }
   ],
   "source": [
    "uv_raw_1copy2 = uv_raw_1.copy()\n",
    "uv_raw_1copy2.unphase_to_drift()\n",
    "\n",
    "# check that unphasing gets us back to what we started with\n",
    "vis_diff = uv_raw_1copy.data_array - uv_raw_1copy2.data_array\n",
    "print(np.max(np.abs(vis_diff)))\n",
    "\n",
    "assert uv_raw_1copy == uv_raw_1copy2\n",
    "\n",
    "# phase each the same way\n",
    "uv_raw_1copy2.phase(ra=phase_center_radec[0],\n",
    "               dec=phase_center_radec[1],\n",
    "               epoch=\"J2000\"\n",
    "               )\n",
    "\n",
    "uv_raw_1copy.phase(ra=phase_center_radec[0],\n",
    "               dec=phase_center_radec[1],\n",
    "               epoch=\"J2000\"\n",
    "               )\n",
    "\n",
    "vis_diff = uv_raw_1copy.data_array - uv_raw_1copy2.data_array\n",
    "print(np.max(np.abs(vis_diff)))\n",
    "\n",
    "assert uv_raw_1copy == uv_raw_1copy2\n",
    "assert np.allclose(uv_raw_1copy.data_array, uv_raw_1copy2.data_array)"
   ]
  },
  {
   "cell_type": "code",
   "execution_count": 6,
   "metadata": {},
   "outputs": [
    {
     "name": "stderr",
     "output_type": "stream",
     "text": [
      "Phasing this UVData object to phase_center_radec\n"
     ]
    }
   ],
   "source": [
    "uv_out = uv_raw_1.fast_concat(uv_raw_2, axis='blt', phase_center_radec=phase_center_radec)\n",
    "uv_out.reorder_blts(order='time', minor_order='baseline')"
   ]
  },
  {
   "cell_type": "code",
   "execution_count": 7,
   "metadata": {},
   "outputs": [],
   "source": [
    "assert uv_out.phase_type == \"phased\"\n",
    "uv_out.history = uv_raw.history\n",
    "assert (uv_out.phase_center_ra, uv_out.phase_center_dec) == phase_center_radec\n",
    "assert uv_out == uv_raw\n"
   ]
  },
  {
   "cell_type": "code",
   "execution_count": null,
   "metadata": {},
   "outputs": [],
   "source": []
  }
 ],
 "metadata": {
  "kernelspec": {
   "display_name": "Python 3",
   "language": "python",
   "name": "python3"
  },
  "language_info": {
   "codemirror_mode": {
    "name": "ipython",
    "version": 3
   },
   "file_extension": ".py",
   "mimetype": "text/x-python",
   "name": "python",
   "nbconvert_exporter": "python",
   "pygments_lexer": "ipython3",
   "version": "3.6.7"
  }
 },
 "nbformat": 4,
 "nbformat_minor": 2
}
