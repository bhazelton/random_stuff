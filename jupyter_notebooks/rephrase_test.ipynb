{
 "cells": [
  {
   "cell_type": "code",
   "execution_count": 1,
   "metadata": {},
   "outputs": [],
   "source": [
    "import os\n",
    "\n",
    "import numpy as np\n",
    "from astropy.coordinates import Angle\n",
    "\n",
    "from pyuvdata import UVData\n",
    "from pyuvdata.data import DATA_PATH"
   ]
  },
  {
   "cell_type": "code",
   "execution_count": 2,
   "metadata": {},
   "outputs": [],
   "source": [
    "testfile = os.path.join(DATA_PATH, 'zen.2458661.23480.HH.uvh5')\n",
    "\n",
    "uv_full = UVData()\n",
    "uv_full.read(testfile)\n",
    "uv_full.set_uvws_from_antenna_positions()\n",
    "\n",
    "def check_cycle(drift_obj, phase_center_radec, use_antpos=True):\n",
    "    assert drift_obj.phase_type == 'drift'\n",
    "        \n",
    "    cycle1 = drift_obj.copy()\n",
    "    cycle2 = drift_obj.copy()\n",
    "\n",
    "    cycle2.phase(ra=phase_center_radec[0],\n",
    "                 dec=phase_center_radec[1],\n",
    "                 use_ant_pos=use_antpos)\n",
    "    cycle2.unphase_to_drift(use_ant_pos=use_antpos)\n",
    "\n",
    "    # check that unphasing gets us back to what we started with\n",
    "    uvw_diff = cycle2.uvw_array - drift_obj.uvw_array\n",
    "    print(\"uvw diff, p/u vs none:\", np.max(np.abs(uvw_diff)))\n",
    "\n",
    "    vis_diff = cycle2.data_array - drift_obj.data_array\n",
    "    print(\"vis diff, p/u vs none:\", np.max(np.abs(vis_diff)))\n",
    "    \n",
    "    assert cycle2 == drift_obj\n",
    "\n",
    "    # phase each the same way\n",
    "    cycle1.phase(ra=phase_center_radec[0],\n",
    "                 dec=phase_center_radec[1],\n",
    "                 use_ant_pos=use_antpos)\n",
    "\n",
    "    cycle2.phase(ra=phase_center_radec[0],\n",
    "                 dec=phase_center_radec[1],\n",
    "                 use_ant_pos=use_antpos)\n",
    "\n",
    "    # check that phasing-unphasing-phasing is the same as phasing\n",
    "    uvw_diff = cycle2.uvw_array - cycle1.uvw_array\n",
    "    print(\"uvw diff, p/u/p vs p:\", np.max(np.abs(uvw_diff)))\n",
    "\n",
    "    vis_diff = cycle2.data_array - cycle1.data_array\n",
    "    print(\"vis diff, p/u/p vs p:\", np.max(np.abs(vis_diff)))\n",
    "\n",
    "    # check that unphasing gets us back to what we started with\n",
    "    cycle2.unphase_to_drift(use_ant_pos=use_antpos)\n",
    "\n",
    "    uvw_diff = cycle2.uvw_array - drift_obj.uvw_array\n",
    "    print(\"uvw diff, p/u/p/u vs none:\", np.max(np.abs(uvw_diff)))\n",
    "\n",
    "    vis_diff = cycle2.data_array - drift_obj.data_array\n",
    "    print(\"vis diff, p/u/p/u vs none:\", np.max(np.abs(vis_diff)))\n",
    "\n",
    "    \n",
    "#     assert cycle2 == cycle1\n",
    "#     assert np.allclose(cycle2.data_array, cycle1.data_array)"
   ]
  },
  {
   "cell_type": "code",
   "execution_count": 3,
   "metadata": {},
   "outputs": [
    {
     "name": "stdout",
     "output_type": "stream",
     "text": [
      "uvw diff, p/u vs none: 1.4210854715202004e-14\n",
      "vis diff, p/u vs none: 4.1159031748919956e-11\n",
      "uvw diff, p/u/p vs p: 0.0\n",
      "vis diff, p/u/p vs p: 3.253907165344266e-11\n",
      "uvw diff, p/u/p/u vs none: 1.4210854715202004e-14\n",
      "vis diff, p/u/p/u vs none: 6.864124684985002e-11\n",
      "uvw diff, p/u vs none: 1.4210854715202004e-14\n",
      "vis diff, p/u vs none: 3.253907165344266e-11\n",
      "uvw diff, p/u/p vs p: 0.0\n",
      "vis diff, p/u/p vs p: 3.253907165344266e-11\n",
      "uvw diff, p/u/p/u vs none: 1.4210854715202004e-14\n",
      "vis diff, p/u/p/u vs none: 6.507814330688532e-11\n"
     ]
    }
   ],
   "source": [
    "check_cycle(uv_full, phase_center_radec = (Angle('0d').rad, Angle('-30d').rad))\n",
    "check_cycle(uv_full, phase_center_radec = (Angle('0d').rad, Angle('0d').rad))"
   ]
  },
  {
   "cell_type": "code",
   "execution_count": 4,
   "metadata": {},
   "outputs": [
    {
     "name": "stdout",
     "output_type": "stream",
     "text": [
      "uvw diff, p/u vs none: 9.913153802454389e-05\n",
      "vis diff, p/u vs none: 3.637978807091713e-11\n",
      "uvw diff, p/u/p vs p: 3.0517578125e-05\n",
      "vis diff, p/u/p vs p: 12.891395034519087\n",
      "uvw diff, p/u/p/u vs none: 9.524571402241833e-05\n",
      "vis diff, p/u/p/u vs none: 2.328306436606459e-10\n",
      "uvw diff, p/u vs none: 9.913153802454389e-05\n",
      "vis diff, p/u vs none: 3.253907165344266e-11\n",
      "uvw diff, p/u/p vs p: 3.0517578125e-05\n",
      "vis diff, p/u/p vs p: 2.6647776794889158\n",
      "uvw diff, p/u/p/u vs none: 9.524571402241833e-05\n",
      "vis diff, p/u/p/u vs none: 2.3283064365429315e-10\n"
     ]
    }
   ],
   "source": [
    "check_cycle(uv_full, phase_center_radec = (Angle('0d').rad, Angle('-30d').rad), use_antpos=False)\n",
    "check_cycle(uv_full, phase_center_radec = (Angle('0d').rad, Angle('0d').rad), use_antpos=False)"
   ]
  },
  {
   "cell_type": "code",
   "execution_count": 5,
   "metadata": {},
   "outputs": [
    {
     "name": "stdout",
     "output_type": "stream",
     "text": [
      "drift\n",
      "max uvw difference: 73.13580521406377\n",
      "max u difference: 73.13580521406377\n",
      "max v difference: 25.23781680567602\n",
      "max w difference: 0.2998355882363697\n"
     ]
    }
   ],
   "source": [
    "testfile = os.path.join(DATA_PATH, 'zen.2458661.23480.HH.uvh5')\n",
    "uv_full = UVData()\n",
    "uv_full.read_uvh5(testfile)\n",
    "print(uv_full.phase_type)\n",
    "\n",
    "initial_uvws = uv_full.uvw_array\n",
    "\n",
    "uv_full.set_uvws_from_antenna_positions()\n",
    "\n",
    "uvw_diff = initial_uvws - uv_full.uvw_array\n",
    "print('max uvw difference:', np.max(np.abs(uvw_diff)))\n",
    "\n",
    "print('max u difference:', np.max(np.abs(uvw_diff[:, 0])))\n",
    "print('max v difference:', np.max(np.abs(uvw_diff[:, 1])))\n",
    "print('max w difference:', np.max(np.abs(uvw_diff[:, 2])))\n"
   ]
  },
  {
   "cell_type": "code",
   "execution_count": 6,
   "metadata": {},
   "outputs": [],
   "source": [
    "uv_full.reorder_blts(order=\"time\", minor_order=\"baseline\")\n",
    "times = np.unique(uv_full.time_array)\n",
    "time_set_1, time_set_2 = times[::2], times[1::2]\n",
    "\n",
    "uv_early = uv_full.select(times=time_set_1, inplace=False)\n",
    "uv_late = uv_full.select(times=time_set_2, inplace=False)\n",
    "\n",
    "uv_early_drift = uv_early.copy()\n",
    "uv_late_drift = uv_late.copy()\n",
    "uv_drift = uv_full.copy()\n"
   ]
  },
  {
   "cell_type": "code",
   "execution_count": 7,
   "metadata": {},
   "outputs": [],
   "source": [
    "phase_center_radec = (Angle('0d').rad, Angle('-30d').rad)\n",
    "\n",
    "# phase each half to different spots\n",
    "uv_early.phase(ra=0, dec=0, use_ant_pos=True)\n",
    "\n",
    "uv_late.phase(ra=phase_center_radec[0],\n",
    "               dec=phase_center_radec[1],\n",
    "               use_ant_pos=True)\n",
    "\n",
    "# phase original to phase_center_radec\n",
    "uv_full.phase(ra=phase_center_radec[0],\n",
    "             dec=phase_center_radec[1],\n",
    "             use_ant_pos=True)\n"
   ]
  },
  {
   "cell_type": "code",
   "execution_count": 9,
   "metadata": {},
   "outputs": [
    {
     "name": "stderr",
     "output_type": "stream",
     "text": [
      "Phasing this UVData object to phase_center_radec\n"
     ]
    }
   ],
   "source": [
    "uv_out = uv_early.fast_concat(uv_late, axis='blt', phase_center_radec=phase_center_radec)\n",
    "uv_out.reorder_blts(order='time', minor_order='baseline')"
   ]
  },
  {
   "cell_type": "code",
   "execution_count": 10,
   "metadata": {},
   "outputs": [],
   "source": [
    "assert uv_out.phase_type == \"phased\"\n",
    "uv_out.history = uv_full.history\n",
    "assert (uv_out.phase_center_ra, uv_out.phase_center_dec) == phase_center_radec\n",
    "assert uv_out == uv_full\n"
   ]
  },
  {
   "cell_type": "code",
   "execution_count": null,
   "metadata": {},
   "outputs": [],
   "source": []
  }
 ],
 "metadata": {
  "kernelspec": {
   "display_name": "Python 3",
   "language": "python",
   "name": "python3"
  },
  "language_info": {
   "codemirror_mode": {
    "name": "ipython",
    "version": 3
   },
   "file_extension": ".py",
   "mimetype": "text/x-python",
   "name": "python",
   "nbconvert_exporter": "python",
   "pygments_lexer": "ipython3",
   "version": "3.8.2"
  }
 },
 "nbformat": 4,
 "nbformat_minor": 4
}
