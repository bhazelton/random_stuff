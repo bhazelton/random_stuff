{
 "cells": [
  {
   "cell_type": "code",
   "execution_count": 14,
   "metadata": {},
   "outputs": [],
   "source": [
    "import os\n",
    "\n",
    "import numpy as np\n",
    "import pandas as pd\n",
    "from astropy.time import Time\n",
    "from astropy.coordinates import EarthLocation, Angle\n",
    "from astroquery.vizier import Vizier\n",
    "\n",
    "import pyuvsim"
   ]
  },
  {
   "cell_type": "code",
   "execution_count": 2,
   "metadata": {},
   "outputs": [],
   "source": [
    "ant_per_side = 6\n",
    "n_ants = ant_per_side ** 2\n",
    "dish_size_m = 14\n",
    "antenna_layout_coords = (np.arange(ant_per_side) - (ant_per_side - 1) / 2) * dish_size_m\n"
   ]
  },
  {
   "cell_type": "code",
   "execution_count": 3,
   "metadata": {},
   "outputs": [
    {
     "data": {
      "text/plain": [
       "array([-35., -21.,  -7.,   7.,  21.,  35.])"
      ]
     },
     "execution_count": 3,
     "metadata": {},
     "output_type": "execute_result"
    }
   ],
   "source": [
    "antenna_layout_coords"
   ]
  },
  {
   "cell_type": "code",
   "execution_count": 4,
   "metadata": {},
   "outputs": [],
   "source": [
    "antenna_layout_east, antenna_layout_north = np.meshgrid(antenna_layout_coords, antenna_layout_coords)"
   ]
  },
  {
   "cell_type": "code",
   "execution_count": 5,
   "metadata": {},
   "outputs": [
    {
     "data": {
      "text/plain": [
       "array([-35., -21.,  -7.,   7.,  21.,  35., -35., -21.,  -7.,   7.,  21.,\n",
       "        35., -35., -21.,  -7.,   7.,  21.,  35., -35., -21.,  -7.,   7.,\n",
       "        21.,  35., -35., -21.,  -7.,   7.,  21.,  35., -35., -21.,  -7.,\n",
       "         7.,  21.,  35.])"
      ]
     },
     "execution_count": 5,
     "metadata": {},
     "output_type": "execute_result"
    }
   ],
   "source": [
    "antenna_layout_east.flatten()"
   ]
  },
  {
   "cell_type": "code",
   "execution_count": 6,
   "metadata": {},
   "outputs": [
    {
     "data": {
      "text/plain": [
       "array([-35., -35., -35., -35., -35., -35., -21., -21., -21., -21., -21.,\n",
       "       -21.,  -7.,  -7.,  -7.,  -7.,  -7.,  -7.,   7.,   7.,   7.,   7.,\n",
       "         7.,   7.,  21.,  21.,  21.,  21.,  21.,  21.,  35.,  35.,  35.,\n",
       "        35.,  35.,  35.])"
      ]
     },
     "execution_count": 6,
     "metadata": {},
     "output_type": "execute_result"
    }
   ],
   "source": [
    "antenna_layout_north.flatten()"
   ]
  },
  {
   "cell_type": "code",
   "execution_count": 7,
   "metadata": {},
   "outputs": [],
   "source": [
    "antenna_layout_df = pd.DataFrame()\n",
    "antenna_layout_df['Name'] = ['ant' + str(ind) for ind in range(n_ants)]\n",
    "antenna_layout_df['Number'] = np.arange(n_ants)\n",
    "antenna_layout_df['BeamID'] = np.zeros(n_ants, dtype=int)\n",
    "antenna_layout_df['E'] = antenna_layout_east.flatten()\n",
    "antenna_layout_df['N'] = antenna_layout_north.flatten()\n",
    "antenna_layout_df['U'] = np.zeros(n_ants)"
   ]
  },
  {
   "cell_type": "code",
   "execution_count": 8,
   "metadata": {},
   "outputs": [],
   "source": [
    "antenna_layout_df.to_csv('square_grid_layout.csv', sep='\\t', index=False)"
   ]
  },
  {
   "cell_type": "code",
   "execution_count": 9,
   "metadata": {},
   "outputs": [],
   "source": [
    "# download GLEAM catalog\n",
    "filename = 'gleam_catalog.vot'\n",
    "if not os.path.isfile(filename):\n",
    "    Vizier.ROW_LIMIT = -1\n",
    "    catname = 'VIII/100/gleamegc'\n",
    "    tab = Vizier.get_catalogs(catname)[0]\n",
    "    tab.write(filename, format='votable')\n"
   ]
  },
  {
   "cell_type": "code",
   "execution_count": 19,
   "metadata": {},
   "outputs": [],
   "source": [
    "obstime = Time(2456528.2532407343, scale='utc', format='jd')"
   ]
  },
  {
   "cell_type": "code",
   "execution_count": 21,
   "metadata": {},
   "outputs": [
    {
     "data": {
      "text/plain": [
       "'2013-08-23 18:04:39.999'"
      ]
     },
     "execution_count": 21,
     "metadata": {},
     "output_type": "execute_result"
    }
   ],
   "source": [
    "obstime.iso"
   ]
  },
  {
   "cell_type": "code",
   "execution_count": 15,
   "metadata": {},
   "outputs": [
    {
     "data": {
      "text/plain": [
       "-26.703319405555554"
      ]
     },
     "execution_count": 15,
     "metadata": {},
     "output_type": "execute_result"
    }
   ],
   "source": [
    "Angle(\"-26d42m11.94986s\").degree"
   ]
  },
  {
   "cell_type": "code",
   "execution_count": 16,
   "metadata": {},
   "outputs": [
    {
     "data": {
      "text/plain": [
       "116.67081523611111"
      ]
     },
     "execution_count": 16,
     "metadata": {},
     "output_type": "execute_result"
    }
   ],
   "source": [
    "Angle(\"116d40m14.93485s\").degree"
   ]
  },
  {
   "cell_type": "code",
   "execution_count": 22,
   "metadata": {},
   "outputs": [
    {
     "name": "stderr",
     "output_type": "stream",
     "text": [
      "Mean of empty slice.\n",
      "invalid value encountered in double_scalars\n",
      "No spectral_type specified for GLEAM, using 'flat'.\n"
     ]
    },
    {
     "name": "stdout",
     "output_type": "stream",
     "text": [
      "Nbls: 61\n",
      "Ntimes: 1\n",
      "Nfreqs: 1\n",
      "Nsrcs: 307455\n",
      "Tasks:  61.0\n",
      "1.64% completed. 0:00:00.349160  elapsed. 0:00:20.949597 remaining. \n",
      "\n",
      "3.28% completed. 0:00:00.370620  elapsed. 0:00:10.933290 remaining. \n",
      "\n",
      "4.92% completed. 0:00:00.389618  elapsed. 0:00:07.532613 remaining. \n",
      "\n",
      "6.56% completed. 0:00:00.408711  elapsed. 0:00:05.824131 remaining. \n",
      "\n",
      "8.20% completed. 0:00:00.425394  elapsed. 0:00:04.764413 remaining. \n",
      "\n",
      "9.84% completed. 0:00:00.447121  elapsed. 0:00:04.098608 remaining. \n",
      "\n",
      "11.48% completed. 0:00:00.464795  elapsed. 0:00:03.585560 remaining. \n",
      "\n",
      "13.11% completed. 0:00:00.482603  elapsed. 0:00:03.197245 remaining. \n",
      "\n",
      "14.75% completed. 0:00:00.499838  elapsed. 0:00:02.887954 remaining. \n",
      "\n",
      "16.39% completed. 0:00:00.517619  elapsed. 0:00:02.639856 remaining. \n",
      "\n",
      "18.03% completed. 0:00:00.534524  elapsed. 0:00:02.429654 remaining. \n",
      "\n",
      "19.67% completed. 0:00:00.552872  elapsed. 0:00:02.257560 remaining. \n",
      "\n",
      "21.31% completed. 0:00:00.571840  elapsed. 0:00:02.111409 remaining. \n",
      "\n",
      "22.95% completed. 0:00:00.590411  elapsed. 0:00:01.982095 remaining. \n",
      "\n",
      "24.59% completed. 0:00:00.609503  elapsed. 0:00:01.869143 remaining. \n",
      "\n",
      "26.23% completed. 0:00:00.626901  elapsed. 0:00:01.763159 remaining. \n",
      "\n",
      "27.87% completed. 0:00:00.643828  elapsed. 0:00:01.666378 remaining. \n",
      "\n",
      "29.51% completed. 0:00:00.662136  elapsed. 0:00:01.581769 remaining. \n",
      "\n",
      "31.15% completed. 0:00:00.678396  elapsed. 0:00:01.499612 remaining. \n",
      "\n",
      "32.79% completed. 0:00:00.698689  elapsed. 0:00:01.432312 remaining. \n",
      "\n",
      "34.43% completed. 0:00:00.717229  elapsed. 0:00:01.366150 remaining. \n",
      "\n",
      "36.07% completed. 0:00:00.734767  elapsed. 0:00:01.302541 remaining. \n",
      "\n",
      "37.70% completed. 0:00:00.754299  elapsed. 0:00:01.246233 remaining. \n",
      "\n",
      "39.34% completed. 0:00:00.772048  elapsed. 0:00:01.190241 remaining. \n",
      "\n",
      "40.98% completed. 0:00:00.788985  elapsed. 0:00:01.136138 remaining. \n",
      "\n",
      "42.62% completed. 0:00:00.810054  elapsed. 0:00:01.090457 remaining. \n",
      "\n",
      "44.26% completed. 0:00:00.828091  elapsed. 0:00:01.042781 remaining. \n",
      "\n",
      "45.90% completed. 0:00:00.848301  elapsed. 0:00:00.999783 remaining. \n",
      "\n",
      "47.54% completed. 0:00:00.866786  elapsed. 0:00:00.956453 remaining. \n",
      "\n",
      "49.18% completed. 0:00:00.883670  elapsed. 0:00:00.913126 remaining. \n",
      "\n",
      "50.82% completed. 0:00:00.902293  elapsed. 0:00:00.873187 remaining. \n",
      "\n",
      "52.46% completed. 0:00:00.921356  elapsed. 0:00:00.834979 remaining. \n",
      "\n",
      "54.10% completed. 0:00:00.938605  elapsed. 0:00:00.796392 remaining. \n",
      "\n",
      "55.74% completed. 0:00:00.958338  elapsed. 0:00:00.761033 remaining. \n",
      "\n",
      "57.38% completed. 0:00:00.975656  elapsed. 0:00:00.724773 remaining. \n",
      "\n",
      "59.02% completed. 0:00:00.993568  elapsed. 0:00:00.689978 remaining. \n",
      "\n",
      "60.66% completed. 0:00:01.012976  elapsed. 0:00:00.657065 remaining. \n",
      "\n",
      "62.30% completed. 0:00:01.030318  elapsed. 0:00:00.623613 remaining. \n",
      "\n",
      "63.93% completed. 0:00:01.050200  elapsed. 0:00:00.592421 remaining. \n",
      "\n",
      "65.57% completed. 0:00:01.067853  elapsed. 0:00:00.560623 remaining. \n",
      "\n",
      "67.21% completed. 0:00:01.084600  elapsed. 0:00:00.529073 remaining. \n",
      "\n",
      "68.85% completed. 0:00:01.103992  elapsed. 0:00:00.499425 remaining. \n",
      "\n",
      "70.49% completed. 0:00:01.122268  elapsed. 0:00:00.469787 remaining. \n",
      "\n",
      "72.13% completed. 0:00:01.139863  elapsed. 0:00:00.440402 remaining. \n",
      "\n",
      "73.77% completed. 0:00:01.158752  elapsed. 0:00:00.412001 remaining. \n",
      "\n",
      "75.41% completed. 0:00:01.175600  elapsed. 0:00:00.383348 remaining. \n",
      "\n",
      "77.05% completed. 0:00:01.193755  elapsed. 0:00:00.355587 remaining. \n",
      "\n",
      "78.69% completed. 0:00:01.213468  elapsed. 0:00:00.328648 remaining. \n",
      "\n",
      "80.33% completed. 0:00:01.229835  elapsed. 0:00:00.301184 remaining. \n",
      "\n",
      "81.97% completed. 0:00:01.248050  elapsed. 0:00:00.274571 remaining. \n",
      "\n",
      "83.61% completed. 0:00:01.266154  elapsed. 0:00:00.248266 remaining. \n",
      "\n",
      "85.25% completed. 0:00:01.282950  elapsed. 0:00:00.222049 remaining. \n",
      "\n",
      "86.89% completed. 0:00:01.300544  elapsed. 0:00:00.196309 remaining. \n",
      "\n",
      "88.52% completed. 0:00:01.318757  elapsed. 0:00:00.170950 remaining. \n",
      "\n",
      "90.16% completed. 0:00:01.335521  elapsed. 0:00:00.145693 remaining. \n",
      "\n",
      "91.80% completed. 0:00:01.352931  elapsed. 0:00:00.120797 remaining. \n",
      "\n",
      "93.44% completed. 0:00:01.371648  elapsed. 0:00:00.096256 remaining. \n",
      "\n",
      "95.08% completed. 0:00:01.390630  elapsed. 0:00:00.071929 remaining. \n",
      "\n",
      "96.72% completed. 0:00:01.410945  elapsed. 0:00:00.047829 remaining. \n",
      "\n",
      "98.36% completed. 0:00:01.429632  elapsed. 0:00:00.023827 remaining. \n",
      "\n",
      "100.00% completed. 0:00:01.447575  elapsed. 0:00:00 remaining. \n",
      "\n",
      "Calculations Complete.\n",
      "Outfile path:  ./square_grid_sim__results_0.uvh5\n"
     ]
    }
   ],
   "source": [
    "# Now try running pyuvsim\n",
    "pyuvsim.uvsim.run_uvsim('square_grid_config.yaml')"
   ]
  },
  {
   "cell_type": "code",
   "execution_count": 23,
   "metadata": {},
   "outputs": [
    {
     "name": "stderr",
     "output_type": "stream",
     "text": [
      "Mean of empty slice.\n",
      "invalid value encountered in double_scalars\n",
      "No spectral_type specified for GLEAM, using 'flat'.\n"
     ]
    },
    {
     "name": "stdout",
     "output_type": "stream",
     "text": [
      "Nbls: 61\n",
      "Ntimes: 1\n",
      "Nfreqs: 1\n",
      "Nsrcs: 283601\n",
      "Tasks:  61.0\n",
      "1.64% completed. 0:00:00.328689  elapsed. 0:00:19.721332 remaining. \n",
      "\n",
      "3.28% completed. 0:00:00.346359  elapsed. 0:00:10.217591 remaining. \n",
      "\n",
      "4.92% completed. 0:00:00.363665  elapsed. 0:00:07.030854 remaining. \n",
      "\n",
      "6.56% completed. 0:00:00.378661  elapsed. 0:00:05.395918 remaining. \n",
      "\n",
      "8.20% completed. 0:00:00.395790  elapsed. 0:00:04.432846 remaining. \n",
      "\n",
      "9.84% completed. 0:00:00.412259  elapsed. 0:00:03.779042 remaining. \n",
      "\n",
      "11.48% completed. 0:00:00.427795  elapsed. 0:00:03.300132 remaining. \n",
      "\n",
      "13.11% completed. 0:00:00.444338  elapsed. 0:00:02.943740 remaining. \n",
      "\n",
      "14.75% completed. 0:00:00.460917  elapsed. 0:00:02.663076 remaining. \n",
      "\n",
      "16.39% completed. 0:00:00.475911  elapsed. 0:00:02.427146 remaining. \n",
      "\n",
      "18.03% completed. 0:00:00.493442  elapsed. 0:00:02.242918 remaining. \n",
      "\n",
      "19.67% completed. 0:00:00.509252  elapsed. 0:00:02.079445 remaining. \n",
      "\n",
      "21.31% completed. 0:00:00.524021  elapsed. 0:00:01.934847 remaining. \n",
      "\n",
      "22.95% completed. 0:00:00.542468  elapsed. 0:00:01.821142 remaining. \n",
      "\n",
      "24.59% completed. 0:00:00.560059  elapsed. 0:00:01.717514 remaining. \n",
      "\n",
      "26.23% completed. 0:00:00.577802  elapsed. 0:00:01.625068 remaining. \n",
      "\n",
      "27.87% completed. 0:00:00.596149  elapsed. 0:00:01.542974 remaining. \n",
      "\n",
      "29.51% completed. 0:00:00.611720  elapsed. 0:00:01.461331 remaining. \n",
      "\n",
      "31.15% completed. 0:00:00.629370  elapsed. 0:00:01.391239 remaining. \n",
      "\n",
      "32.79% completed. 0:00:00.645662  elapsed. 0:00:01.323607 remaining. \n",
      "\n",
      "34.43% completed. 0:00:00.661452  elapsed. 0:00:01.259909 remaining. \n",
      "\n",
      "36.07% completed. 0:00:00.678757  elapsed. 0:00:01.203251 remaining. \n",
      "\n",
      "37.70% completed. 0:00:00.695688  elapsed. 0:00:01.149398 remaining. \n",
      "\n",
      "39.34% completed. 0:00:00.713376  elapsed. 0:00:01.099788 remaining. \n",
      "\n",
      "40.98% completed. 0:00:00.728213  elapsed. 0:00:01.048627 remaining. \n",
      "\n",
      "42.62% completed. 0:00:00.744249  elapsed. 0:00:01.001873 remaining. \n",
      "\n",
      "44.26% completed. 0:00:00.760849  elapsed. 0:00:00.958106 remaining. \n",
      "\n",
      "45.90% completed. 0:00:00.775828  elapsed. 0:00:00.914369 remaining. \n",
      "\n",
      "47.54% completed. 0:00:00.792732  elapsed. 0:00:00.874739 remaining. \n",
      "\n",
      "49.18% completed. 0:00:00.809205  elapsed. 0:00:00.836179 remaining. \n",
      "\n",
      "50.82% completed. 0:00:00.824807  elapsed. 0:00:00.798200 remaining. \n",
      "\n",
      "52.46% completed. 0:00:00.841045  elapsed. 0:00:00.762197 remaining. \n",
      "\n",
      "54.10% completed. 0:00:00.857257  elapsed. 0:00:00.727369 remaining. \n",
      "\n",
      "55.74% completed. 0:00:00.872144  elapsed. 0:00:00.692585 remaining. \n",
      "\n",
      "57.38% completed. 0:00:00.887308  elapsed. 0:00:00.659143 remaining. \n",
      "\n",
      "59.02% completed. 0:00:00.904978  elapsed. 0:00:00.628457 remaining. \n",
      "\n",
      "60.66% completed. 0:00:00.920348  elapsed. 0:00:00.596982 remaining. \n",
      "\n",
      "62.30% completed. 0:00:00.936557  elapsed. 0:00:00.566863 remaining. \n",
      "\n",
      "63.93% completed. 0:00:00.953907  elapsed. 0:00:00.538101 remaining. \n",
      "\n",
      "65.57% completed. 0:00:00.970583  elapsed. 0:00:00.509556 remaining. \n",
      "\n",
      "67.21% completed. 0:00:00.988216  elapsed. 0:00:00.482057 remaining. \n",
      "\n",
      "68.85% completed. 0:00:01.005337  elapsed. 0:00:00.454795 remaining. \n",
      "\n",
      "70.49% completed. 0:00:01.020246  elapsed. 0:00:00.427080 remaining. \n",
      "\n",
      "72.13% completed. 0:00:01.035696  elapsed. 0:00:00.400155 remaining. \n",
      "\n",
      "73.77% completed. 0:00:01.052682  elapsed. 0:00:00.374287 remaining. \n",
      "\n",
      "75.41% completed. 0:00:01.068848  elapsed. 0:00:00.348537 remaining. \n",
      "\n",
      "77.05% completed. 0:00:01.084593  elapsed. 0:00:00.323070 remaining. \n",
      "\n",
      "78.69% completed. 0:00:01.102150  elapsed. 0:00:00.298499 remaining. \n",
      "\n",
      "80.33% completed. 0:00:01.118782  elapsed. 0:00:00.273987 remaining. \n",
      "\n",
      "81.97% completed. 0:00:01.134652  elapsed. 0:00:00.249623 remaining. \n",
      "\n",
      "83.61% completed. 0:00:01.151431  elapsed. 0:00:00.225771 remaining. \n",
      "\n",
      "85.25% completed. 0:00:01.167494  elapsed. 0:00:00.202066 remaining. \n",
      "\n",
      "86.89% completed. 0:00:01.183725  elapsed. 0:00:00.178675 remaining. \n",
      "\n",
      "88.52% completed. 0:00:01.200404  elapsed. 0:00:00.155608 remaining. \n",
      "\n",
      "90.16% completed. 0:00:01.216993  elapsed. 0:00:00.132763 remaining. \n",
      "\n",
      "91.80% completed. 0:00:01.233682  elapsed. 0:00:00.110150 remaining. \n",
      "\n",
      "93.44% completed. 0:00:01.251554  elapsed. 0:00:00.087828 remaining. \n",
      "\n",
      "95.08% completed. 0:00:01.268997  elapsed. 0:00:00.065638 remaining. \n",
      "\n",
      "96.72% completed. 0:00:01.286055  elapsed. 0:00:00.043595 remaining. \n",
      "\n",
      "98.36% completed. 0:00:01.303674  elapsed. 0:00:00.021728 remaining. \n",
      "\n",
      "100.00% completed. 0:00:01.319008  elapsed. 0:00:00 remaining. \n",
      "\n",
      "Calculations Complete.\n",
      "Outfile path:  ./square_grid_50mjy_sim_results.uvh5\n"
     ]
    }
   ],
   "source": [
    "# Now try running pyuvsim\n",
    "pyuvsim.uvsim.run_uvsim('square_grid_50mjy_config.yaml')"
   ]
  },
  {
   "cell_type": "code",
   "execution_count": 24,
   "metadata": {},
   "outputs": [
    {
     "name": "stderr",
     "output_type": "stream",
     "text": [
      "Mean of empty slice.\n",
      "invalid value encountered in double_scalars\n",
      "No spectral_type specified for GLEAM, using 'flat'.\n"
     ]
    },
    {
     "name": "stdout",
     "output_type": "stream",
     "text": [
      "Nbls: 61\n",
      "Ntimes: 1\n",
      "Nfreqs: 1\n",
      "Nsrcs: 191878\n",
      "Tasks:  61.0\n",
      "1.64% completed. 0:00:00.211479  elapsed. 0:00:12.688723 remaining. \n",
      "\n",
      "3.28% completed. 0:00:00.225081  elapsed. 0:00:06.639881 remaining. \n",
      "\n",
      "4.92% completed. 0:00:00.237677  elapsed. 0:00:04.595081 remaining. \n",
      "\n",
      "6.56% completed. 0:00:00.251624  elapsed. 0:00:03.585640 remaining. \n",
      "\n",
      "8.20% completed. 0:00:00.263696  elapsed. 0:00:02.953392 remaining. \n",
      "\n",
      "9.84% completed. 0:00:00.278387  elapsed. 0:00:02.551879 remaining. \n",
      "\n",
      "11.48% completed. 0:00:00.290736  elapsed. 0:00:02.242818 remaining. \n",
      "\n",
      "13.11% completed. 0:00:00.301991  elapsed. 0:00:02.000689 remaining. \n",
      "\n",
      "14.75% completed. 0:00:00.314917  elapsed. 0:00:01.819520 remaining. \n",
      "\n",
      "16.39% completed. 0:00:00.326396  elapsed. 0:00:01.664618 remaining. \n",
      "\n",
      "18.03% completed. 0:00:00.339220  elapsed. 0:00:01.541908 remaining. \n",
      "\n",
      "19.67% completed. 0:00:00.350801  elapsed. 0:00:01.432436 remaining. \n",
      "\n",
      "21.31% completed. 0:00:00.363190  elapsed. 0:00:01.341008 remaining. \n",
      "\n",
      "22.95% completed. 0:00:00.374856  elapsed. 0:00:01.258444 remaining. \n",
      "\n",
      "24.59% completed. 0:00:00.386785  elapsed. 0:00:01.186139 remaining. \n",
      "\n",
      "26.23% completed. 0:00:00.397994  elapsed. 0:00:01.119358 remaining. \n",
      "\n",
      "27.87% completed. 0:00:00.407786  elapsed. 0:00:01.055446 remaining. \n",
      "\n",
      "29.51% completed. 0:00:00.419706  elapsed. 0:00:01.002630 remaining. \n",
      "\n",
      "31.15% completed. 0:00:00.431535  elapsed. 0:00:00.953919 remaining. \n",
      "\n",
      "32.79% completed. 0:00:00.445865  elapsed. 0:00:00.914023 remaining. \n",
      "\n",
      "34.43% completed. 0:00:00.457410  elapsed. 0:00:00.871256 remaining. \n",
      "\n",
      "36.07% completed. 0:00:00.469270  elapsed. 0:00:00.831887 remaining. \n",
      "\n",
      "37.70% completed. 0:00:00.480866  elapsed. 0:00:00.794474 remaining. \n",
      "\n",
      "39.34% completed. 0:00:00.491336  elapsed. 0:00:00.757476 remaining. \n",
      "\n",
      "40.98% completed. 0:00:00.503903  elapsed. 0:00:00.725620 remaining. \n",
      "\n",
      "42.62% completed. 0:00:00.515565  elapsed. 0:00:00.694029 remaining. \n",
      "\n",
      "44.26% completed. 0:00:00.526573  elapsed. 0:00:00.663092 remaining. \n",
      "\n",
      "45.90% completed. 0:00:00.539067  elapsed. 0:00:00.635329 remaining. \n",
      "\n",
      "47.54% completed. 0:00:00.550663  elapsed. 0:00:00.607628 remaining. \n",
      "\n",
      "49.18% completed. 0:00:00.561166  elapsed. 0:00:00.579871 remaining. \n",
      "\n",
      "50.82% completed. 0:00:00.573346  elapsed. 0:00:00.554851 remaining. \n",
      "\n",
      "52.46% completed. 0:00:00.584525  elapsed. 0:00:00.529725 remaining. \n",
      "\n",
      "54.10% completed. 0:00:00.595270  elapsed. 0:00:00.505077 remaining. \n",
      "\n",
      "55.74% completed. 0:00:00.609238  elapsed. 0:00:00.483806 remaining. \n",
      "\n",
      "57.38% completed. 0:00:00.623633  elapsed. 0:00:00.463270 remaining. \n",
      "\n",
      "59.02% completed. 0:00:00.638969  elapsed. 0:00:00.443728 remaining. \n",
      "\n",
      "60.66% completed. 0:00:00.654904  elapsed. 0:00:00.424802 remaining. \n",
      "\n",
      "62.30% completed. 0:00:00.666788  elapsed. 0:00:00.403582 remaining. \n",
      "\n",
      "63.93% completed. 0:00:00.678991  elapsed. 0:00:00.383020 remaining. \n",
      "\n",
      "65.57% completed. 0:00:00.691509  elapsed. 0:00:00.363042 remaining. \n",
      "\n",
      "67.21% completed. 0:00:00.705433  elapsed. 0:00:00.344113 remaining. \n",
      "\n",
      "68.85% completed. 0:00:00.718103  elapsed. 0:00:00.324856 remaining. \n",
      "\n",
      "70.49% completed. 0:00:00.730598  elapsed. 0:00:00.305832 remaining. \n",
      "\n",
      "72.13% completed. 0:00:00.742629  elapsed. 0:00:00.286925 remaining. \n",
      "\n",
      "73.77% completed. 0:00:00.755273  elapsed. 0:00:00.268541 remaining. \n",
      "\n",
      "75.41% completed. 0:00:00.767451  elapsed. 0:00:00.250256 remaining. \n",
      "\n",
      "77.05% completed. 0:00:00.779585  elapsed. 0:00:00.232217 remaining. \n",
      "\n",
      "78.69% completed. 0:00:00.791612  elapsed. 0:00:00.214395 remaining. \n",
      "\n",
      "80.33% completed. 0:00:00.803012  elapsed. 0:00:00.196656 remaining. \n",
      "\n",
      "81.97% completed. 0:00:00.814454  elapsed. 0:00:00.179180 remaining. \n",
      "\n",
      "83.61% completed. 0:00:00.826656  elapsed. 0:00:00.162089 remaining. \n",
      "\n",
      "85.25% completed. 0:00:00.839183  elapsed. 0:00:00.145243 remaining. \n",
      "\n",
      "86.89% completed. 0:00:00.851382  elapsed. 0:00:00.128510 remaining. \n",
      "\n",
      "88.52% completed. 0:00:00.864287  elapsed. 0:00:00.112037 remaining. \n",
      "\n",
      "90.16% completed. 0:00:00.876817  elapsed. 0:00:00.095653 remaining. \n",
      "\n",
      "91.80% completed. 0:00:00.889413  elapsed. 0:00:00.079412 remaining. \n",
      "\n",
      "93.44% completed. 0:00:00.900572  elapsed. 0:00:00.063198 remaining. \n",
      "\n",
      "95.08% completed. 0:00:00.912527  elapsed. 0:00:00.047200 remaining. \n",
      "\n",
      "96.72% completed. 0:00:00.923840  elapsed. 0:00:00.031317 remaining. \n",
      "\n",
      "98.36% completed. 0:00:00.936349  elapsed. 0:00:00.015606 remaining. \n",
      "\n",
      "100.00% completed. 0:00:00.949152  elapsed. 0:00:00 remaining. \n",
      "\n",
      "Calculations Complete.\n",
      "Outfile path:  ./square_grid_100mjy_sim_results.uvh5\n"
     ]
    }
   ],
   "source": [
    "# Now try running pyuvsim\n",
    "pyuvsim.uvsim.run_uvsim('square_grid_100mjy_config.yaml')"
   ]
  },
  {
   "cell_type": "code",
   "execution_count": null,
   "metadata": {},
   "outputs": [],
   "source": []
  }
 ],
 "metadata": {
  "kernelspec": {
   "display_name": "Python 3",
   "language": "python",
   "name": "python3"
  },
  "language_info": {
   "codemirror_mode": {
    "name": "ipython",
    "version": 3
   },
   "file_extension": ".py",
   "mimetype": "text/x-python",
   "name": "python",
   "nbconvert_exporter": "python",
   "pygments_lexer": "ipython3",
   "version": "3.8.2"
  }
 },
 "nbformat": 4,
 "nbformat_minor": 4
}
