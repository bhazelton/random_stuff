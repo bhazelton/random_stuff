{
 "cells": [
  {
   "cell_type": "code",
   "execution_count": 1,
   "metadata": {},
   "outputs": [],
   "source": [
    "import numpy as np\n",
    "import copy\n",
    "from astropy.coordinates import Angle\n",
    "import matplotlib\n",
    "import matplotlib.pyplot as plt\n",
    "%matplotlib inline\n",
    "from pyuvdata import UVData\n",
    "import pyuvdata.utils as uvutils"
   ]
  },
  {
   "cell_type": "code",
   "execution_count": 2,
   "metadata": {},
   "outputs": [],
   "source": [
    "file1 = '/data4/beards/phasing_test_data/1133866760.uvfits'\n",
    "file2 = '/data4/beards/phasing_test_data/1133866760_rephase.uvfits'"
   ]
  },
  {
   "cell_type": "code",
   "execution_count": 3,
   "metadata": {},
   "outputs": [],
   "source": [
    "uvd1 = UVData()\n",
    "uvd2 = UVData()\n",
    "uvd1.read_uvfits(file1)\n",
    "uvd2.read_uvfits(file2)"
   ]
  },
  {
   "cell_type": "code",
   "execution_count": 4,
   "metadata": {},
   "outputs": [],
   "source": [
    "uvd1_drift = copy.deepcopy(uvd1)\n",
    "uvd1_drift.unphase_to_drift(phase_frame='gcrs')\n",
    "uvd1_drift_antpos = copy.deepcopy(uvd1)\n",
    "uvd1_drift_antpos.unphase_to_drift(phase_frame='gcrs', use_ant_pos=True)\n",
    "uvd2_drift = copy.deepcopy(uvd2)\n",
    "uvd2_drift.unphase_to_drift(phase_frame='gcrs')\n",
    "uvd2_drift_antpos = copy.deepcopy(uvd2)\n",
    "uvd2_drift_antpos.unphase_to_drift(phase_frame='gcrs', use_ant_pos=True)"
   ]
  },
  {
   "cell_type": "code",
   "execution_count": 5,
   "metadata": {},
   "outputs": [
    {
     "name": "stdout",
     "output_type": "stream",
     "text": [
      "Max absolute visibility difference after unphasing\n",
      "1.2953553\n"
     ]
    }
   ],
   "source": [
    "data_diff_drift = uvd1_drift.data_array - uvd2_drift.data_array\n",
    "print('Max absolute visibility difference after unphasing')\n",
    "print(np.max(np.abs(data_diff_drift)))"
   ]
  },
  {
   "cell_type": "code",
   "execution_count": 6,
   "metadata": {},
   "outputs": [
    {
     "name": "stdout",
     "output_type": "stream",
     "text": [
      "Max absolute uvw difference after unphasing\n",
      "0.01909474658725685\n"
     ]
    }
   ],
   "source": [
    "uvw_diff_drift = uvd1_drift.uvw_array - uvd2_drift.uvw_array\n",
    "print('Max absolute uvw difference after unphasing')\n",
    "print(np.max(np.abs(uvw_diff_drift)))"
   ]
  },
  {
   "cell_type": "code",
   "execution_count": 7,
   "metadata": {},
   "outputs": [
    {
     "name": "stdout",
     "output_type": "stream",
     "text": [
      "(0.4319689898685966, -0.31328660073298215, 2000.0)\n"
     ]
    }
   ],
   "source": [
    "print(uvd1.phase_center_ra, uvd1.phase_center_dec, uvd1.phase_center_epoch)"
   ]
  },
  {
   "cell_type": "code",
   "execution_count": null,
   "metadata": {},
   "outputs": [],
   "source": [
    "uvd2_rephase = copy.deepcopy(uvd2_drift)\n",
    "uvd2_rephase.phase(uvd1.phase_center_ra,\n",
    "                   uvd1.phase_center_dec,\n",
    "                   uvd1.phase_center_epoch,\n",
    "                   phase_frame='gcrs')\n",
    "uvd2_rephase_antpos = copy.deepcopy(uvd2_drift_antpos)\n",
    "uvd2_rephase_antpos.phase(uvd1.phase_center_ra,\n",
    "                            uvd1.phase_center_dec,\n",
    "                            uvd1.phase_center_epoch,\n",
    "                            phase_frame='gcrs', use_ant_pos=True)"
   ]
  },
  {
   "cell_type": "code",
   "execution_count": null,
   "metadata": {},
   "outputs": [],
   "source": [
    "data_diff = uvd1.data_array - uvd2_rephase.data_array\n",
    "print('Max absolute visibility difference after phasing file2 to match file1 using simple phasing')\n",
    "print(np.max(np.abs(data_diff)))\n",
    "\n",
    "data_diff = uvd1.data_array - uvd2_rephase_antpos.data_array\n",
    "print('Max absolute visibility difference after phasing file2 to match file1 using antenna positions & simple phasing')\n",
    "print(np.max(np.abs(data_diff)))"
   ]
  },
  {
   "cell_type": "code",
   "execution_count": null,
   "metadata": {},
   "outputs": [],
   "source": [
    "uvw_diff = uvd1.uvw_array - uvd2_rephase.uvw_array\n",
    "print('Max absolute uvw difference after phasing file2 to match file1 using simple phasing')\n",
    "print(np.max(np.abs(uvw_diff)))\n",
    "\n",
    "uvw_diff = uvd1.uvw_array - uvd2_rephase_antpos.uvw_array\n",
    "print('Max absolute uvw difference after phasing file2 to match file1 using antenna positions & simple phasing')\n",
    "print(np.max(np.abs(uvw_diff)))"
   ]
  },
  {
   "cell_type": "code",
   "execution_count": null,
   "metadata": {},
   "outputs": [],
   "source": [
    "def uvw_from_pos(uv_obj):\n",
    "    if uv_obj.phase_type != 'drift':\n",
    "        raise ValueError('uvw_from_pos can only be calculated for drift observations')\n",
    "    \n",
    "    antpos_ECEF = uv_obj.antenna_positions + uv_obj.telescope_location\n",
    "    ant_pos_ENU = uvutils.ENU_from_ECEF(antpos_ECEF.T, *uv_obj.telescope_location_lat_lon_alt).T\n",
    "    \n",
    "    uvw_array = np.zeros_like(uv_obj.uvw_array)\n",
    "    unique_bls, unique_inds = np.unique(uv_obj.baseline_array, return_index=True)\n",
    "    for ind, bl in enumerate(unique_bls):\n",
    "        inds = np.where(uv_obj.baseline_array == bl)[0]\n",
    "        \n",
    "        ant1_pos = ant_pos_ENU[uv_obj.ant_1_array[unique_inds[ind]]]\n",
    "        ant2_pos = ant_pos_ENU[uv_obj.ant_2_array[unique_inds[ind]]]\n",
    "        this_uvw = ant2_pos - ant1_pos\n",
    "        \n",
    "        uvw_array[inds, :] = this_uvw\n",
    "    \n",
    "    return uvw_array"
   ]
  },
  {
   "cell_type": "code",
   "execution_count": null,
   "metadata": {},
   "outputs": [],
   "source": [
    "ant_pos_diff = uvd1_drift.antenna_positions - uvd2_drift.antenna_positions\n",
    "print(np.max(np.abs(ant_pos_diff)))\n",
    "print(uvd1.antenna_names[0:4])\n",
    "print(uvd1.antenna_numbers[0:4])\n",
    "print(uvd1.antenna_positions[0:4, :])\n",
    "antpos_ECEF = uvd1.antenna_positions + uvd1.telescope_location\n",
    "antpos_ENU = uvutils.ENU_from_ECEF(antpos_ECEF.T, *uvd1.telescope_location_lat_lon_alt).T\n",
    "\n",
    "print(antpos_ECEF[0:4, :])\n",
    "print(antpos_ENU[0:4, :])"
   ]
  },
  {
   "cell_type": "code",
   "execution_count": null,
   "metadata": {},
   "outputs": [],
   "source": [
    "uvw_calc = uvw_from_pos(uvd1_drift)\n",
    "uvw_diff_calc1 = uvd1_drift.uvw_array - uvw_calc\n",
    "uvw_diff_calc2 = uvd2_drift.uvw_array - uvw_calc\n",
    "uvw_ant_diff_calc1 = uvd1_drift_antpos.uvw_array - uvw_calc\n",
    "uvw_ant_diff_calc2 = uvd2_drift_antpos.uvw_array - uvw_calc"
   ]
  },
  {
   "cell_type": "code",
   "execution_count": null,
   "metadata": {},
   "outputs": [],
   "source": [
    "print(np.max(np.abs(uvw_diff_calc1)))\n",
    "print(np.max(np.abs(uvw_diff_calc2)))\n",
    "print(np.max(np.abs(uvw_ant_diff_calc1)))\n",
    "print(np.max(np.abs(uvw_ant_diff_calc2)))"
   ]
  },
  {
   "cell_type": "code",
   "execution_count": null,
   "metadata": {},
   "outputs": [],
   "source": [
    "def plot_uvw_diff(array1, array2, label1, label2):\n",
    "\n",
    "    matplotlib.rcParams['figure.figsize'] = (20,20)\n",
    "\n",
    "    diff_array = array1 - array2\n",
    "    diff_label = label1 + \" - \" + label2\n",
    "    \n",
    "    plt.figure(1)\n",
    "    fig, axes = plt.subplots(3, 3)\n",
    "    axes[0, 0].scatter(array1[:,0], array2[:, 0],\n",
    "                 s=0.25, marker=\"o\")\n",
    "    axes[0, 0].set_xlabel(\"u \" + label1)\n",
    "    axes[0, 0].set_ylabel(\"u \" + label2)\n",
    "    axes[0, 0].set_title(\"u\")\n",
    "\n",
    "    axes[0, 1].scatter(array1[:,1], array2[:, 1],\n",
    "                 s=0.25, marker=\"o\")\n",
    "    axes[0, 1].set_xlabel(\"v \" + label1)\n",
    "    axes[0, 1].set_ylabel(\"v \" + label2)\n",
    "    axes[0, 1].set_title(\"v\")\n",
    "\n",
    "    axes[0, 2].scatter(array1[:,2], array2[:, 2],\n",
    "                 s=0.25, marker=\"o\")\n",
    "    axes[0, 2].set_xlabel(\"w \" + label1)\n",
    "    axes[0, 2].set_ylabel(\"w \" + label2)\n",
    "    axes[0, 2].set_title(\"w: \" + diff_label)\n",
    "\n",
    "    axes[1, 0].scatter(array1[:,0], diff_array[:, 0],\n",
    "                 s=0.25, marker=\"o\")\n",
    "    axes[1, 0].set_xlabel(\"u \" + label1)\n",
    "    axes[1, 0].set_ylabel(\"du (\" + diff_label + \")\")\n",
    "    axes[1, 0].set_title(\"u: \" + diff_label)\n",
    "\n",
    "    axes[1, 1].scatter(array1[:,1], diff_array[:, 1],\n",
    "                 s=0.25, marker=\"o\")\n",
    "    axes[1, 1].set_xlabel(\"v \" + label1)\n",
    "    axes[1, 1].set_ylabel(\"dv (\" + diff_label + \")\")\n",
    "    axes[1, 1].set_title(\"v: \" + diff_label)\n",
    "\n",
    "    axes[1, 2].scatter(array1[:,2], diff_array[:, 2],\n",
    "                 s=0.25, marker=\"o\")\n",
    "    axes[1, 2].set_xlabel(\"w \" + label1)\n",
    "    axes[1, 2].set_ylabel(\"dw (\" + diff_label + \")\")\n",
    "    axes[1, 2].set_title(\"w: \" + diff_label)\n",
    "\n",
    "    axes[2, 0].scatter(np.linalg.norm(array1, axis=1),\n",
    "                    np.linalg.norm(diff_array, axis=1),\n",
    "                    s=0.25, marker=\"o\")\n",
    "    axes[2, 0].set_xlabel(\"|u\" + label1 + \"|\")\n",
    "    axes[2, 0].set_ylabel(\"|du| | (\" + diff_label + \")|\")\n",
    "    axes[2, 0].set_title(\"|u|: \" + diff_label)\n",
    "    \n",
    "#     axes[2, 1].scatter(np.linalg.norm(array1, axis=1),\n",
    "#                     np.linalg.norm(diff_array/array1, axis=1),\n",
    "#                     s=0.25, marker=\"o\")\n",
    "#     axes[2, 1].set_xlabel(\"|u\" + label1 + \"|\")\n",
    "#     axes[2, 1].set_ylabel(\"|du/u\" + label1 + \"| | (\" + diff_label + \")|\")\n",
    "#     axes[2, 1].set_title(\"fractional |u|: \" + diff_label)\n",
    "\n",
    "    axes[2, 1].scatter(array1[:,0], array1[:, 1], s=0.25, marker=\"o\")\n",
    "    axes[2, 1].scatter(array2[:,0], array2[:, 1], s=0.25, marker=\"o\", color='r')\n",
    "    axes[2, 1].set_xlabel(\"u\")\n",
    "    axes[2, 1].set_ylabel(\"v\")\n",
    "    axes[2, 1].set_title(\"u vs v for both arrays\")\n",
    "    \n",
    "    axes[2, 2].scatter(diff_array[:, 0], diff_array[:, 1], s=0.25, marker=\"o\")\n",
    "    axes[2, 2].set_xlabel(\"du (\" + diff_label + \")\")\n",
    "    axes[2, 2].set_ylabel(\"dv (\" + diff_label + \")\")\n",
    "    axes[2, 2].set_title(\"du vs dv (\" + diff_label + \")\")\n",
    "     \n",
    "    fig.show()"
   ]
  },
  {
   "cell_type": "code",
   "execution_count": null,
   "metadata": {},
   "outputs": [],
   "source": [
    "plot_uvw_diff(uvd1_drift.uvw_array, uvd2_drift.uvw_array, 'file1_drift', 'file2_drift')"
   ]
  },
  {
   "cell_type": "code",
   "execution_count": null,
   "metadata": {},
   "outputs": [],
   "source": [
    "plot_uvw_diff(uvd1.uvw_array, uvd2_rephase.uvw_array, 'file1', 'file2_rephased')"
   ]
  },
  {
   "cell_type": "code",
   "execution_count": null,
   "metadata": {},
   "outputs": [],
   "source": [
    "plot_uvw_diff(uvd1.uvw_array, uvd2_rephase_antpos.uvw_array, 'file1', 'file2_rephased_antpos')"
   ]
  },
  {
   "cell_type": "code",
   "execution_count": null,
   "metadata": {},
   "outputs": [],
   "source": [
    "plot_uvw_diff(uvd1_drift.uvw_array, uvw_calc, 'file1_drift', 'calc_uvw')"
   ]
  },
  {
   "cell_type": "code",
   "execution_count": null,
   "metadata": {},
   "outputs": [],
   "source": [
    "plot_uvw_diff(uvd2_drift.uvw_array, uvw_calc, 'file2_drift', 'calc_uvw')"
   ]
  },
  {
   "cell_type": "code",
   "execution_count": null,
   "metadata": {},
   "outputs": [],
   "source": []
  }
 ],
 "metadata": {
  "kernelspec": {
   "display_name": "Python 2",
   "language": "python",
   "name": "python2"
  },
  "language_info": {
   "codemirror_mode": {
    "name": "ipython",
    "version": 2
   },
   "file_extension": ".py",
   "mimetype": "text/x-python",
   "name": "python",
   "nbconvert_exporter": "python",
   "pygments_lexer": "ipython2",
   "version": "2.7.15"
  }
 },
 "nbformat": 4,
 "nbformat_minor": 1
}
