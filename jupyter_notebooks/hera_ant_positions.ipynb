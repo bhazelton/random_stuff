{
 "cells": [
  {
   "cell_type": "code",
   "execution_count": 1,
   "metadata": {},
   "outputs": [],
   "source": [
    "from hera_mc import geo_sysdef, geo_location, geo_handling\n",
    "import cartopy.crs as ccrs\n",
    "from pyuvdata import utils as uvutils\n",
    "import numpy as np\n",
    "import pandas as pd"
   ]
  },
  {
   "cell_type": "code",
   "execution_count": 2,
   "metadata": {},
   "outputs": [],
   "source": [
    "ants = geo_sysdef.read_antennas()\n",
    "latlon_p = ccrs.Geodetic()\n",
    "geo_class = geo_handling.Handling()\n",
    "lat_corr = geo_class.lat_corr[geo_class.hera_zone[1]]\n",
    "utm_p = ccrs.UTM(geo_class.hera_zone[0])\n",
    "agl = {}\n",
    "\n",
    "ant_names = []\n",
    "ant_nums = []\n",
    "ant_x = []\n",
    "ant_y = []\n",
    "ant_z = []\n",
    "for ant, ant_info in ants.items():\n",
    "    ant_names.append(ant)\n",
    "    ant_nums.append(int(ant[2:]))\n",
    "    _a = {'station_name': ant,\n",
    "          'station_type_name': 'hera',\n",
    "          'easting': ant_info['E'],\n",
    "          'northing': ant_info['N'],\n",
    "          'elevation': ant_info['elevation'],\n",
    "          'datum': 'WGS84',\n",
    "          'tile': '34J',\n",
    "          'created_gpstime': 1276288000}\n",
    "    agl[ant] = geo_location.GeoLocation()\n",
    "    agl[ant].geo(**_a)\n",
    "    agl[ant].gps2Time()\n",
    "    lon, lat = latlon_p.transform_point(agl[ant].easting, agl[ant].northing - lat_corr, utm_p)\n",
    "    ant_xyz = uvutils.XYZ_from_LatLonAlt(lat * np.pi / 180., lon * np.pi / 180., agl[ant].elevation)\n",
    "    ant_x.append(ant_xyz[0])\n",
    "    ant_y.append(ant_xyz[1])\n",
    "    ant_z.append(ant_xyz[2])\n",
    "\n"
   ]
  },
  {
   "cell_type": "code",
   "execution_count": 3,
   "metadata": {},
   "outputs": [],
   "source": [
    "cofa = geo_class.cofa()[0]\n",
    "telescope_lon, telescope_lat = latlon_p.transform_point(cofa.easting, cofa.northing - lat_corr, utm_p)\n",
    "telescope_xyz = uvutils.XYZ_from_LatLonAlt(\n",
    "    telescope_lat * np.pi / 180., telescope_lon * np.pi / 180., cofa.elevation\n",
    ")"
   ]
  },
  {
   "cell_type": "code",
   "execution_count": 4,
   "metadata": {},
   "outputs": [],
   "source": [
    "n_ants = len(ant_names)\n",
    "ant_pos = np.zeros((n_ants, 3), dtype=np.float_)"
   ]
  },
  {
   "cell_type": "code",
   "execution_count": 5,
   "metadata": {},
   "outputs": [],
   "source": [
    "ant_pos[:,0] = np.array(ant_x) - telescope_xyz[0]\n",
    "ant_pos[:,1] = np.array(ant_y) - telescope_xyz[1]\n",
    "ant_pos[:,2] = np.array(ant_z) - telescope_xyz[2]"
   ]
  },
  {
   "cell_type": "code",
   "execution_count": 6,
   "metadata": {},
   "outputs": [],
   "source": [
    "ant_pos_df = pd.DataFrame(columns = [\"names\", \"numbers\", \"x\", \"y\", \"z\"])"
   ]
  },
  {
   "cell_type": "code",
   "execution_count": 7,
   "metadata": {},
   "outputs": [],
   "source": [
    "ant_pos_df[\"names\"] = ant_names\n",
    "ant_pos_df[\"numbers\"] = ant_nums\n",
    "ant_pos_df[\"x\"] = ant_pos[:,0]\n",
    "ant_pos_df[\"y\"] = ant_pos[:,1]\n",
    "ant_pos_df[\"z\"] = ant_pos[:,2]"
   ]
  },
  {
   "cell_type": "code",
   "execution_count": 8,
   "metadata": {},
   "outputs": [],
   "source": [
    "ant_pos_df = ant_pos_df.sort_values(\"numbers\")"
   ]
  },
  {
   "cell_type": "code",
   "execution_count": 12,
   "metadata": {},
   "outputs": [],
   "source": [
    "ant_pos_df.to_csv(\"hera_ant_pos.csv\", index=False)"
   ]
  },
  {
   "cell_type": "code",
   "execution_count": 27,
   "metadata": {},
   "outputs": [],
   "source": [
    "columns = ['name', 'number', 'x', 'y', 'z']\n",
    "formats = ['U10', 'i8', 'f16', 'f16', 'f16']\n",
    "\n",
    "dt = np.format_parser(formats, columns, [])\n",
    "ant_array = np.genfromtxt(\"hera_ant_pos.csv\", delimiter=',', autostrip=True, skip_header=1,\n",
    "                          dtype=dt.dtype)"
   ]
  },
  {
   "cell_type": "code",
   "execution_count": 34,
   "metadata": {},
   "outputs": [
    {
     "data": {
      "text/plain": [
       "(350, 3)"
      ]
     },
     "execution_count": 34,
     "metadata": {},
     "output_type": "execute_result"
    }
   ],
   "source": [
    "np.stack((ant_array[\"x\"], ant_array[\"y\"], ant_array[\"z\"])).T.shape"
   ]
  },
  {
   "cell_type": "code",
   "execution_count": null,
   "metadata": {},
   "outputs": [],
   "source": []
  }
 ],
 "metadata": {
  "kernelspec": {
   "display_name": "Python 3 (ipykernel)",
   "language": "python",
   "name": "python3"
  },
  "language_info": {
   "codemirror_mode": {
    "name": "ipython",
    "version": 3
   },
   "file_extension": ".py",
   "mimetype": "text/x-python",
   "name": "python",
   "nbconvert_exporter": "python",
   "pygments_lexer": "ipython3",
   "version": "3.11.5"
  }
 },
 "nbformat": 4,
 "nbformat_minor": 4
}
