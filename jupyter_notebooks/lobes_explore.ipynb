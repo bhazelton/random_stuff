{
 "cells": [
  {
   "cell_type": "code",
   "execution_count": 106,
   "metadata": {},
   "outputs": [],
   "source": [
    "import os\n",
    "import numpy as np\n",
    "\n",
    "from astropy.table import Table\n",
    "import astropy.units as units\n",
    "from astropy.coordinates import Angle\n",
    "\n",
    "from pyradiosky import SkyModel"
   ]
  },
  {
   "cell_type": "code",
   "execution_count": 17,
   "metadata": {},
   "outputs": [],
   "source": [
    "filename = \"/Users/bryna/Downloads/LoBES_EoR0_FULL_FINAL_SpecGaussModCat_17Sep2021.fits\""
   ]
  },
  {
   "cell_type": "code",
   "execution_count": 18,
   "metadata": {},
   "outputs": [],
   "source": [
    "table = Table.read(filename)"
   ]
  },
  {
   "cell_type": "code",
   "execution_count": 25,
   "metadata": {},
   "outputs": [],
   "source": [
    "ext_model_name = np.asarray([name[:14] for name in table[\"NAME\"]])"
   ]
  },
  {
   "cell_type": "code",
   "execution_count": 26,
   "metadata": {},
   "outputs": [
    {
     "name": "stdout",
     "output_type": "stream",
     "text": [
      "88613\n",
      "80861\n"
     ]
    }
   ],
   "source": [
    "print(ext_model_name.size)\n",
    "print((np.unique(ext_model_name)).size)"
   ]
  },
  {
   "cell_type": "code",
   "execution_count": 29,
   "metadata": {},
   "outputs": [
    {
     "name": "stdout",
     "output_type": "stream",
     "text": [
      "88613\n",
      "80862\n"
     ]
    }
   ],
   "source": [
    "src_id = np.asarray(table[\"UNQ_SOURCE_ID\"].data).astype(int)\n",
    "print(src_id.size)\n",
    "print((np.unique(src_id)).size)"
   ]
  },
  {
   "cell_type": "code",
   "execution_count": 45,
   "metadata": {},
   "outputs": [
    {
     "data": {
      "text/plain": [
       "array([   15,    28,    45, ..., 80859, 80860, 80861])"
      ]
     },
     "execution_count": 45,
     "metadata": {},
     "output_type": "execute_result"
    }
   ],
   "source": [
    "counts = np.bincount(src_id)\n",
    "multiple_src_inds = (np.arange(counts.size))[np.nonzero(counts > 1)]\n",
    "multiple_src_inds"
   ]
  },
  {
   "cell_type": "code",
   "execution_count": 53,
   "metadata": {},
   "outputs": [
    {
     "ename": "AssertionError",
     "evalue": "",
     "output_type": "error",
     "traceback": [
      "\u001b[0;31m---------------------------------------------------------------------------\u001b[0m",
      "\u001b[0;31mAssertionError\u001b[0m                            Traceback (most recent call last)",
      "\u001b[0;32m<ipython-input-53-e29ca84471a9>\u001b[0m in \u001b[0;36m<module>\u001b[0;34m\u001b[0m\n\u001b[1;32m      3\u001b[0m     \u001b[0mother_source_names\u001b[0m \u001b[0;34m=\u001b[0m \u001b[0mext_model_name\u001b[0m\u001b[0;34m[\u001b[0m\u001b[0mnp\u001b[0m\u001b[0;34m.\u001b[0m\u001b[0mnonzero\u001b[0m\u001b[0;34m(\u001b[0m\u001b[0msrc_id\u001b[0m \u001b[0;34m!=\u001b[0m \u001b[0mind\u001b[0m\u001b[0;34m)\u001b[0m\u001b[0;34m]\u001b[0m\u001b[0;34m\u001b[0m\u001b[0;34m\u001b[0m\u001b[0m\n\u001b[1;32m      4\u001b[0m     \u001b[0;32massert\u001b[0m \u001b[0mnp\u001b[0m\u001b[0;34m.\u001b[0m\u001b[0mall\u001b[0m\u001b[0;34m(\u001b[0m\u001b[0mthis_source_names\u001b[0m \u001b[0;34m==\u001b[0m \u001b[0mthis_source_names\u001b[0m\u001b[0;34m[\u001b[0m\u001b[0;36m0\u001b[0m\u001b[0;34m]\u001b[0m\u001b[0;34m)\u001b[0m\u001b[0;34m\u001b[0m\u001b[0;34m\u001b[0m\u001b[0m\n\u001b[0;32m----> 5\u001b[0;31m     \u001b[0;32massert\u001b[0m \u001b[0;32mnot\u001b[0m \u001b[0mnp\u001b[0m\u001b[0;34m.\u001b[0m\u001b[0many\u001b[0m\u001b[0;34m(\u001b[0m\u001b[0mother_source_names\u001b[0m \u001b[0;34m==\u001b[0m \u001b[0mthis_source_names\u001b[0m\u001b[0;34m[\u001b[0m\u001b[0;36m0\u001b[0m\u001b[0;34m]\u001b[0m\u001b[0;34m)\u001b[0m\u001b[0;34m\u001b[0m\u001b[0;34m\u001b[0m\u001b[0m\n\u001b[0m",
      "\u001b[0;31mAssertionError\u001b[0m: "
     ]
    }
   ],
   "source": [
    "for ind in np.arange(counts.size):\n",
    "    this_source_names = ext_model_name[np.nonzero(src_id == ind)]\n",
    "    other_source_names = ext_model_name[np.nonzero(src_id != ind)]\n",
    "    assert np.all(this_source_names == this_source_names[0])\n",
    "    assert not np.any(other_source_names == this_source_names[0]), f\"src ind: {ind}\""
   ]
  },
  {
   "cell_type": "code",
   "execution_count": 54,
   "metadata": {},
   "outputs": [
    {
     "name": "stdout",
     "output_type": "stream",
     "text": [
      "66309\n"
     ]
    }
   ],
   "source": [
    "print(ind)"
   ]
  },
  {
   "cell_type": "code",
   "execution_count": 55,
   "metadata": {},
   "outputs": [
    {
     "data": {
      "text/plain": [
       "array(['SNG010918-4453'], dtype='<U14')"
      ]
     },
     "execution_count": 55,
     "metadata": {},
     "output_type": "execute_result"
    }
   ],
   "source": [
    "ext_model_name[np.nonzero(src_id == ind)]"
   ]
  },
  {
   "cell_type": "code",
   "execution_count": 57,
   "metadata": {},
   "outputs": [
    {
     "data": {
      "text/plain": [
       "array([72603])"
      ]
     },
     "execution_count": 57,
     "metadata": {},
     "output_type": "execute_result"
    }
   ],
   "source": [
    "np.nonzero(src_id == ind)[0]"
   ]
  },
  {
   "cell_type": "code",
   "execution_count": 58,
   "metadata": {},
   "outputs": [
    {
     "data": {
      "text/plain": [
       "array([72603, 88301])"
      ]
     },
     "execution_count": 58,
     "metadata": {},
     "output_type": "execute_result"
    }
   ],
   "source": [
    "np.nonzero(ext_model_name == 'SNG010918-4453')[0]"
   ]
  },
  {
   "cell_type": "code",
   "execution_count": 59,
   "metadata": {},
   "outputs": [
    {
     "data": {
      "text/html": [
       "&lt;Column name=&apos;NAME&apos; dtype=&apos;bytes36&apos; length=2&gt;\n",
       "<table>\n",
       "<tr><td>SNG010918-4453_GIDU72629</td></tr>\n",
       "<tr><td>SNG010918-4453_GIDU88344</td></tr>\n",
       "</table>"
      ],
      "text/plain": [
       "<Column name='NAME' dtype='bytes36' length=2>\n",
       "SNG010918-4453_GIDU72629\n",
       "SNG010918-4453_GIDU88344"
      ]
     },
     "execution_count": 59,
     "metadata": {},
     "output_type": "execute_result"
    }
   ],
   "source": [
    "table[\"NAME\"][[72603, 88301]]"
   ]
  },
  {
   "cell_type": "code",
   "execution_count": 60,
   "metadata": {},
   "outputs": [
    {
     "data": {
      "text/html": [
       "&lt;Column name=&apos;UNQ_SOURCE_ID&apos; dtype=&apos;bytes11&apos; length=2&gt;\n",
       "<table>\n",
       "<tr><td>66309</td></tr>\n",
       "<tr><td>80790</td></tr>\n",
       "</table>"
      ],
      "text/plain": [
       "<Column name='UNQ_SOURCE_ID' dtype='bytes11' length=2>\n",
       "66309\n",
       "80790"
      ]
     },
     "execution_count": 60,
     "metadata": {},
     "output_type": "execute_result"
    }
   ],
   "source": [
    "table[\"UNQ_SOURCE_ID\"][[72603, 88301]]"
   ]
  },
  {
   "cell_type": "code",
   "execution_count": 107,
   "metadata": {},
   "outputs": [
    {
     "data": {
      "text/plain": [
       "hms_tuple(h=array([1., 1.]), m=array([9., 9.]), s=array([18.94748703, 18.04757254]))"
      ]
     },
     "execution_count": 107,
     "metadata": {},
     "output_type": "execute_result"
    }
   ],
   "source": [
    "Angle(table[\"RA\"][[72603, 88301]]).hms"
   ]
  },
  {
   "cell_type": "code",
   "execution_count": 108,
   "metadata": {},
   "outputs": [
    {
     "data": {
      "text/plain": [
       "dms_tuple(d=array([-44., -44.]), m=array([-53., -53.]), s=array([ -5.86940479, -33.44815374]))"
      ]
     },
     "execution_count": 108,
     "metadata": {},
     "output_type": "execute_result"
    }
   ],
   "source": [
    "Angle(table[\"DEC\"][[72603, 88301]]).dms"
   ]
  },
  {
   "cell_type": "code",
   "execution_count": 63,
   "metadata": {},
   "outputs": [
    {
     "name": "stdout",
     "output_type": "stream",
     "text": [
      "1\n",
      "1\n"
     ]
    }
   ],
   "source": [
    "print(counts[66309])\n",
    "print(counts[80790])"
   ]
  },
  {
   "cell_type": "code",
   "execution_count": 99,
   "metadata": {},
   "outputs": [],
   "source": [
    "ext_model_name_use = np.full((table[\"NAME\"].size), \"\", dtype=\"<U14\")\n",
    "for ind in multiple_src_inds:\n",
    "    this_orig_inds = np.nonzero(src_id == ind)[0]\n",
    "    this_names_arr = np.asarray([name[:14] for name in (table[\"NAME\"])[this_orig_inds]])\n",
    "    this_name = this_names_arr[0]\n",
    "    assert np.all(this_names_arr == this_name)\n",
    "    if this_name in ext_model_name_use:\n",
    "        this_name += \"_\" + str(ind)\n",
    "        print(\"name exists, adding ind\")\n",
    "    ext_model_name_use[this_orig_inds] = this_name\n"
   ]
  },
  {
   "cell_type": "code",
   "execution_count": 101,
   "metadata": {},
   "outputs": [
    {
     "data": {
      "text/plain": [
       "array(['MLT011814-4027', 'MLT011814-4027'], dtype='<U14')"
      ]
     },
     "execution_count": 101,
     "metadata": {},
     "output_type": "execute_result"
    }
   ],
   "source": [
    "ext_model_name_use[np.nonzero(src_id == multiple_src_inds[0])]"
   ]
  },
  {
   "cell_type": "code",
   "execution_count": 100,
   "metadata": {},
   "outputs": [
    {
     "data": {
      "text/plain": [
       "array(['', '', '', ..., 'COM001751-2221', 'COM001751-2221',\n",
       "       'COM001751-2221'], dtype='<U14')"
      ]
     },
     "execution_count": 100,
     "metadata": {},
     "output_type": "execute_result"
    }
   ],
   "source": [
    "ext_model_name_use"
   ]
  },
  {
   "cell_type": "code",
   "execution_count": null,
   "metadata": {},
   "outputs": [],
   "source": []
  }
 ],
 "metadata": {
  "kernelspec": {
   "display_name": "Python 3",
   "language": "python",
   "name": "python3"
  },
  "language_info": {
   "codemirror_mode": {
    "name": "ipython",
    "version": 3
   },
   "file_extension": ".py",
   "mimetype": "text/x-python",
   "name": "python",
   "nbconvert_exporter": "python",
   "pygments_lexer": "ipython3",
   "version": "3.8.2"
  }
 },
 "nbformat": 4,
 "nbformat_minor": 4
}
