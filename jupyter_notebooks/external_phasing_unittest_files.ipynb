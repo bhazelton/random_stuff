{
 "cells": [
  {
   "cell_type": "code",
   "execution_count": 1,
   "metadata": {},
   "outputs": [],
   "source": [
    "import numpy as np\n",
    "from pyuvdata import UVData"
   ]
  },
  {
   "cell_type": "code",
   "execution_count": 2,
   "metadata": {},
   "outputs": [],
   "source": [
    "file1 = '/data4/beards/phasing_test_data/1133866760.uvfits'\n",
    "file2 = '/data4/beards/phasing_test_data/1133866760_rephase.uvfits'"
   ]
  },
  {
   "cell_type": "code",
   "execution_count": 3,
   "metadata": {},
   "outputs": [],
   "source": [
    "uvd1 = UVData()\n",
    "uvd2 = UVData()\n",
    "uvd1.read_uvfits(file1, read_data=False)\n",
    "uvd1.read_uvfits_data(file1, times=uvd1.time_array[0], freq_chans=(uvd1.Nfreqs/2 + np.arange(-5, 6)))\n",
    "uvd2.read_uvfits(file2, read_data=False)\n",
    "uvd2.read_uvfits_data(file2, times=uvd2.time_array[0], freq_chans=(uvd2.Nfreqs/2 + np.arange(-5, 6)))"
   ]
  },
  {
   "cell_type": "code",
   "execution_count": 4,
   "metadata": {},
   "outputs": [],
   "source": [
    "test_file1 = '/data3/users/bryna/phasing_test_data/1133866760.uvfits'\n",
    "test_file2 = '/data3/users/bryna/phasing_test_data/1133866760_rephase.uvfits'"
   ]
  },
  {
   "cell_type": "code",
   "execution_count": 5,
   "metadata": {},
   "outputs": [],
   "source": [
    "uvd1.write_uvfits(test_file1)\n",
    "uvd2.write_uvfits(test_file2)"
   ]
  },
  {
   "cell_type": "code",
   "execution_count": null,
   "metadata": {},
   "outputs": [],
   "source": []
  }
 ],
 "metadata": {
  "kernelspec": {
   "display_name": "Python 2",
   "language": "python",
   "name": "python2"
  },
  "language_info": {
   "codemirror_mode": {
    "name": "ipython",
    "version": 2
   },
   "file_extension": ".py",
   "mimetype": "text/x-python",
   "name": "python",
   "nbconvert_exporter": "python",
   "pygments_lexer": "ipython2",
   "version": "2.7.15"
  }
 },
 "nbformat": 4,
 "nbformat_minor": 2
}
