{
 "cells": [
  {
   "cell_type": "code",
   "execution_count": 1,
   "metadata": {},
   "outputs": [],
   "source": [
    "import os\n",
    "import time\n",
    "\n",
    "import numpy as np\n",
    "from astropy.time import Time\n",
    "\n",
    "from pyuvdata import UVData\n",
    "\n",
    "import matplotlib.pyplot as plt"
   ]
  },
  {
   "cell_type": "code",
   "execution_count": 2,
   "metadata": {},
   "outputs": [],
   "source": [
    "rime_fast_orig = '/Volumes/Data1/ionrime_bda_sims/pnt_src_300m_baselines_Dec_20_int_time_0.1.uvh5'\n",
    "rime_slow_orig = '/Volumes/Data1/ionrime_bda_sims/pnt_src_300m_baselines_Dec_20_int_time_2.0.uvh5'\n",
    "rime_fast_orig_basename, file_extension = os.path.splitext(os.path.basename(rime_fast_orig))\n",
    "rime_slow_orig_basename, file_extension = os.path.splitext(os.path.basename(rime_slow_orig))\n",
    "\n",
    "fast_int_time = 0.1\n",
    "slow_int_time = 2.0"
   ]
  },
  {
   "cell_type": "code",
   "execution_count": 3,
   "metadata": {},
   "outputs": [],
   "source": [
    "# Fix input files to have narrower freq. channel width to make sure it isn't driving the decorrelation calcs\n",
    "file_fast_fixed='/Volumes/Data1/bda_outputs/' + rime_fast_orig_basename + '_fixed.uvh5'\n",
    "file_slow_fixed='/Volumes/Data1/bda_outputs/' + rime_slow_orig_basename + '_fixed.uvh5'\n",
    "\n",
    "# save phased files because phasing is slow with so many times\n",
    "rime_fast_fixed_basename, file_extension = os.path.splitext(os.path.basename(file_fast_fixed))\n",
    "rime_slow_fixed_basename, file_extension = os.path.splitext(os.path.basename(file_slow_fixed))\n",
    "# for fast file: time to do phasing: 7703.8781061172485 seconds\n",
    "# for slow file: time to read file into a uvdata object, phased it and write it out: 365.0287299156189 seconds\n",
    "\n",
    "file_fast_phased='/Volumes/Data1/bda_outputs/' + rime_fast_fixed_basename + '_phased.uvh5'\n",
    "file_slow_phased='/Volumes/Data1/bda_outputs/' + rime_slow_fixed_basename + '_phased.uvh5'\n",
    "\n",
    "file_dict = {'fast': {'orig': rime_fast_orig, 'fixed': file_fast_fixed, 'phased': file_fast_phased},\n",
    "             'slow': {'orig': rime_slow_orig, 'fixed': file_slow_fixed, 'phased': file_slow_phased}}\n",
    "\n",
    "for sim, stage_dict in file_dict.items():\n",
    "    if not os.path.isfile(stage_dict['phased']):\n",
    "        t0 = time.time()\n",
    "        uv = UVData()\n",
    "        if not os.path.isfile(stage_dict['fixed']):\n",
    "            uv.read(stage_dict['orig'], run_check_acceptability=False)\n",
    "            uv.channel_width=1000. # 1kHz to make sure it isn't driving the decorrelation calcs\n",
    "        else:\n",
    "            uv.read(stage_dict['fixed'], run_check_acceptability=False)\n",
    "        uv.phase_to_time(Time(uv.time_array[0], format='jd'))\n",
    "        uv.write_uvh5(stage_dict['phased'])\n",
    "        t1 = time.time()\n",
    "        print('time to read file into a uvdata object, phased it and write it out: {t} seconds'.format(t=t1-t0))\n",
    "\n"
   ]
  },
  {
   "cell_type": "code",
   "execution_count": 4,
   "metadata": {},
   "outputs": [
    {
     "name": "stderr",
     "output_type": "stream",
     "text": [
      "Telescope probably HERA, but who knows? is not in known_telescopes.\n"
     ]
    },
    {
     "name": "stdout",
     "output_type": "stream",
     "text": [
      "time to read in file: 41.62505006790161 seconds\n"
     ]
    }
   ],
   "source": [
    "t0 = time.time()\n",
    "uv_fast_in = UVData()\n",
    "uv_fast_in.read(file_fast_phased, run_check_acceptability=False)\n",
    "t1 = time.time()\n",
    "print('time to read in file: {t} seconds'.format(t=t1-t0))\n",
    "\n",
    "\n"
   ]
  },
  {
   "cell_type": "code",
   "execution_count": 5,
   "metadata": {},
   "outputs": [],
   "source": [
    "uv_fast_integrated = uv_fast_in.copy()"
   ]
  },
  {
   "cell_type": "code",
   "execution_count": null,
   "metadata": {},
   "outputs": [],
   "source": []
  },
  {
   "cell_type": "code",
   "execution_count": 6,
   "metadata": {},
   "outputs": [
    {
     "name": "stdout",
     "output_type": "stream",
     "text": [
      "time to do bda downsample: 847.7050068378448 seconds\n"
     ]
    }
   ],
   "source": [
    "t0 = time.time()\n",
    "uv_fast_integrated.bda_downsample(2.)\n",
    "t1 = time.time()\n",
    "print('time to do bda downsample: {t} seconds'.format(t=t1-t0))\n",
    "    \n"
   ]
  },
  {
   "cell_type": "code",
   "execution_count": 7,
   "metadata": {},
   "outputs": [
    {
     "data": {
      "text/plain": [
       "(86160, 1, 16, 4)"
      ]
     },
     "execution_count": 7,
     "metadata": {},
     "output_type": "execute_result"
    }
   ],
   "source": [
    "uv_fast_integrated.data_array.shape"
   ]
  },
  {
   "cell_type": "code",
   "execution_count": 8,
   "metadata": {},
   "outputs": [
    {
     "name": "stderr",
     "output_type": "stream",
     "text": [
      "Telescope probably HERA, but who knows? is not in known_telescopes.\n"
     ]
    },
    {
     "name": "stdout",
     "output_type": "stream",
     "text": [
      "time to read in file: 2.2012650966644287 seconds\n"
     ]
    }
   ],
   "source": [
    "t0 = time.time()\n",
    "uv_slow_in = UVData()\n",
    "uv_slow_in.read(file_slow_phased, run_check_acceptability=False)\n",
    "t1 = time.time()\n",
    "print('time to read in file: {t} seconds'.format(t=t1-t0))\n",
    "\n"
   ]
  },
  {
   "cell_type": "code",
   "execution_count": 27,
   "metadata": {},
   "outputs": [],
   "source": [
    "uv_fast_integrated.reorder_blts()\n",
    "uv_slow_in.reorder_blts()"
   ]
  },
  {
   "cell_type": "code",
   "execution_count": 9,
   "metadata": {},
   "outputs": [
    {
     "data": {
      "text/plain": [
       "(86160, 1, 16, 4)"
      ]
     },
     "execution_count": 9,
     "metadata": {},
     "output_type": "execute_result"
    }
   ],
   "source": [
    "uv_slow_in.data_array.shape"
   ]
  },
  {
   "cell_type": "code",
   "execution_count": 10,
   "metadata": {},
   "outputs": [
    {
     "data": {
      "text/plain": [
       "2.0000000000000004"
      ]
     },
     "execution_count": 10,
     "metadata": {},
     "output_type": "execute_result"
    }
   ],
   "source": [
    "np.max(uv_fast_integrated.integration_time)"
   ]
  },
  {
   "cell_type": "code",
   "execution_count": 11,
   "metadata": {},
   "outputs": [
    {
     "data": {
      "text/plain": [
       "2.0000000000000004"
      ]
     },
     "execution_count": 11,
     "metadata": {},
     "output_type": "execute_result"
    }
   ],
   "source": [
    "np.min(uv_fast_integrated.integration_time)"
   ]
  },
  {
   "cell_type": "code",
   "execution_count": 12,
   "metadata": {},
   "outputs": [
    {
     "data": {
      "text/plain": [
       "2.0"
      ]
     },
     "execution_count": 12,
     "metadata": {},
     "output_type": "execute_result"
    }
   ],
   "source": [
    "np.max(uv_slow_in.integration_time)"
   ]
  },
  {
   "cell_type": "code",
   "execution_count": 28,
   "metadata": {},
   "outputs": [
    {
     "data": {
      "text/plain": [
       "0"
      ]
     },
     "execution_count": 28,
     "metadata": {},
     "output_type": "execute_result"
    }
   ],
   "source": [
    "np.max(uv_slow_in.baseline_array - uv_fast_integrated.baseline_array)"
   ]
  },
  {
   "cell_type": "code",
   "execution_count": 29,
   "metadata": {},
   "outputs": [
    {
     "name": "stdout",
     "output_type": "stream",
     "text": [
      "1.9000500440597534\n",
      "1.8999695777893066\n"
     ]
    }
   ],
   "source": [
    "diff_time = uv_slow_in.time_array - uv_fast_integrated.time_array\n",
    "print(np.max(np.abs(diff_time)) * (24*3600))\n",
    "print(np.min(np.abs(diff_time)) * (24*3600))"
   ]
  },
  {
   "cell_type": "code",
   "execution_count": 30,
   "metadata": {},
   "outputs": [
    {
     "name": "stdout",
     "output_type": "stream",
     "text": [
      "35451.62907242775\n",
      "35453.52904200554\n"
     ]
    }
   ],
   "source": [
    "print((uv_slow_in.time_array[0] - np.floor(uv_slow_in.time_array[0]))* (24*3600))\n",
    "print((uv_fast_integrated.time_array[0] - np.floor(uv_fast_integrated.time_array[0]))* (24*3600))"
   ]
  },
  {
   "cell_type": "code",
   "execution_count": 31,
   "metadata": {},
   "outputs": [
    {
     "data": {
      "text/plain": [
       "21540"
      ]
     },
     "execution_count": 31,
     "metadata": {},
     "output_type": "execute_result"
    }
   ],
   "source": [
    "np.unique(uv_fast_integrated.time_array).size"
   ]
  },
  {
   "cell_type": "code",
   "execution_count": 32,
   "metadata": {},
   "outputs": [],
   "source": [
    "uv_slow_matched = uv_slow_in.select(times=np.unique(uv_slow_in.time_array)[1:], inplace=False)\n",
    "uv_fast_integrated_matched = uv_fast_integrated.select(times=np.unique(uv_fast_integrated.time_array)[:-1], inplace=False)"
   ]
  },
  {
   "cell_type": "code",
   "execution_count": 33,
   "metadata": {},
   "outputs": [
    {
     "name": "stdout",
     "output_type": "stream",
     "text": [
      "0.10005980730056763\n"
     ]
    }
   ],
   "source": [
    "diff_time = uv_slow_matched.time_array - uv_fast_integrated_matched.time_array\n",
    "print(np.max(np.abs(diff_time)) * (24*3600))"
   ]
  },
  {
   "cell_type": "code",
   "execution_count": 34,
   "metadata": {},
   "outputs": [
    {
     "name": "stdout",
     "output_type": "stream",
     "text": [
      "0.02301937025741907\n"
     ]
    }
   ],
   "source": [
    "diff_uvw = uv_slow_matched.uvw_array - uv_fast_integrated_matched.uvw_array\n",
    "print(np.max(np.abs(diff_uvw)))"
   ]
  },
  {
   "cell_type": "code",
   "execution_count": 38,
   "metadata": {},
   "outputs": [
    {
     "name": "stdout",
     "output_type": "stream",
     "text": [
      "bin centers:\n",
      "[0.    0.001 0.002 0.003 0.004 0.005 0.006 0.007 0.008 0.009 0.01  0.011\n",
      " 0.012 0.013 0.014 0.015 0.016 0.017 0.018 0.019 0.02  0.021 0.022 0.023]\n"
     ]
    },
    {
     "data": {
      "image/png": "[encoded data removed]",
      "text/plain": [
       "<Figure size 432x288 with 1 Axes>"
      ]
     },
     "metadata": {},
     "output_type": "display_data"
    }
   ],
   "source": [
    "# bin at 1 mm\n",
    "bin_width = 0.001\n",
    "\n",
    "# calculate length from 0 to max diff + 1 bin\n",
    "max_bin = np.round(np.max(np.abs(diff_uvw))/bin_width) + 1\n",
    "length = max_bin + 1\n",
    "\n",
    "# center bins so numerical fluctuations don't cause splits between bins\n",
    "bin_edges = np.arange(length)*bin_width-bin_width/2\n",
    "\n",
    "bin_centers = (bin_edges[:-1] + bin_edges[1:])/2\n",
    "print('bin centers:')\n",
    "print(bin_centers)\n",
    "\n",
    "plt.hist(np.abs(diff_uvw), bin_edges, log=True)\n",
    "plt.show()"
   ]
  },
  {
   "cell_type": "code",
   "execution_count": 35,
   "metadata": {},
   "outputs": [],
   "source": [
    "diff_data = uv_slow_in.data_array - uv_fast_integrated.data_array"
   ]
  },
  {
   "cell_type": "code",
   "execution_count": 36,
   "metadata": {},
   "outputs": [
    {
     "data": {
      "text/plain": [
       "0.007303429"
      ]
     },
     "execution_count": 36,
     "metadata": {},
     "output_type": "execute_result"
    }
   ],
   "source": [
    "np.max(np.abs(diff_data))"
   ]
  },
  {
   "cell_type": "code",
   "execution_count": null,
   "metadata": {},
   "outputs": [],
   "source": []
  }
 ],
 "metadata": {
  "kernelspec": {
   "display_name": "Python 3",
   "language": "python",
   "name": "python3"
  },
  "language_info": {
   "codemirror_mode": {
    "name": "ipython",
    "version": 3
   },
   "file_extension": ".py",
   "mimetype": "text/x-python",
   "name": "python",
   "nbconvert_exporter": "python",
   "pygments_lexer": "ipython3",
   "version": "3.7.3"
  }
 },
 "nbformat": 4,
 "nbformat_minor": 2
}
