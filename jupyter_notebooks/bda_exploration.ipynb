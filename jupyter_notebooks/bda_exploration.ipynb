{
 "cells": [
  {
   "cell_type": "code",
   "execution_count": 1,
   "metadata": {},
   "outputs": [],
   "source": [
    "import os\n",
    "import time\n",
    "import numpy as np\n",
    "from astropy import units\n",
    "from astropy.coordinates import Angle\n",
    "\n",
    "from pyuvdata import UVData\n",
    "\n",
    "from bda import bda_tools"
   ]
  },
  {
   "cell_type": "code",
   "execution_count": 2,
   "metadata": {},
   "outputs": [],
   "source": [
    "def apply_bda(file_in, file_out, pre_fs_int_time=0.1, corr_FoV_angle=20.0,\n",
    "              max_time=30, corr_int_time=None, max_decorr=0.1, overwrite=False, filetype='uvh5'):\n",
    "\n",
    "    if os.path.exists(file_out) and overwrite is False:\n",
    "        raise ValueError(\"{} exists. Use --overwrite to overwrite the file.\".format(file_out))\n",
    "\n",
    "    # check that output filetype is valid\n",
    "    if filetype not in (\"uvh5\", \"uvfits\", \"miriad\"):\n",
    "        raise ValueError(\"filetype must be one of uvh5, uvfits, or miriad\")\n",
    "\n",
    "    uv = UVData()\n",
    "    uv.read(file_in)\n",
    "\n",
    "    # apply BDA\n",
    "    pre_fs_int_time = pre_fs_int_time * units.s\n",
    "    corr_FoV_angle = Angle(corr_FoV_angle, units.deg)\n",
    "    max_time = max_time * units.s\n",
    "    uv2 = bda_tools.apply_bda(\n",
    "        uv,\n",
    "        max_decorr,\n",
    "        pre_fs_int_time,\n",
    "        corr_FoV_angle,\n",
    "        max_time,\n",
    "        corr_int_time,\n",
    "    )\n",
    "\n",
    "    # write out file\n",
    "    if filetype == \"uvh5\":\n",
    "        uv2.write_uvh5(file_out, clobber=True)\n",
    "    if filetype == \"uvfits\":\n",
    "        uv2.write_uvfits(file_out, spoof_nonessential=True, force_phase=True)\n",
    "    if filetype == \"miriad\":\n",
    "        uv2.write_miriad(file_out, clobber=True)\n"
   ]
  },
  {
   "cell_type": "code",
   "execution_count": 3,
   "metadata": {},
   "outputs": [],
   "source": [
    "uvfits_file_in = '/Volumes/Data1/pyuvsim_ref_sim/simulation_results/ref_1.2_uniform.uvfits'\n",
    "uvh5_file_in = '/Volumes/Data1/pyuvsim_ref_sim/simulation_results/ref_1.2_uniform.uvh5'\n",
    "if not os.path.isfile(uvh5_file_in):\n",
    "    uv_in = UVData()\n",
    "    uv_in.read(uvfits_file_in)\n",
    "    uv_in.write_uvh5(uvh5_file_in)"
   ]
  },
  {
   "cell_type": "code",
   "execution_count": 4,
   "metadata": {},
   "outputs": [],
   "source": [
    "file_in=uvh5_file_in\n",
    "file_out='/Volumes/Data1/bda_outputs/ref_1.2_uniform_bda.uvh5'\n",
    "initial_int_time=1.0  # seconds"
   ]
  },
  {
   "cell_type": "code",
   "execution_count": 5,
   "metadata": {},
   "outputs": [],
   "source": [
    "if not os.path.isfile(file_out):\n",
    "    t0 = time.time()\n",
    "    apply_bda(file_in, file_out, pre_fs_int_time=initial_int_time, corr_FoV_angle=20.0,\n",
    "              max_time=30, corr_int_time=None, overwrite=False, filetype='uvh5')\n",
    "    t1 = time.time()\n",
    "    print('time to read file into a uvdata object and do bda: {t} seconds'.format(t=t1-t0))"
   ]
  },
  {
   "cell_type": "code",
   "execution_count": 6,
   "metadata": {},
   "outputs": [
    {
     "name": "stderr",
     "output_type": "stream",
     "text": [
      "Telescope BLLITE is not in known_telescopes.\n",
      "Telescope BLLITE is not in known_telescopes.\n",
      "LST values stored in /Volumes/Data1/bda_outputs/ref_1.2_uniform_bda.uvh5 are not self-consistent with time_array and telescope location. Consider recomputing with utils.get_lst_for_time.\n"
     ]
    }
   ],
   "source": [
    "uv_in = UVData()\n",
    "uv_in.read(file_in)\n",
    "uv_bda = UVData()\n",
    "uv_bda.read(file_out)\n"
   ]
  },
  {
   "cell_type": "code",
   "execution_count": 7,
   "metadata": {},
   "outputs": [
    {
     "name": "stdout",
     "output_type": "stream",
     "text": [
      "Input data\n",
      "Ntimes:  86400\n",
      "Nfreqs:  1\n",
      "Nbls:  10\n",
      "Nblts:  864000\n",
      "data_array shape:  (864000, 1, 1, 4)\n"
     ]
    }
   ],
   "source": [
    "print('Input data')\n",
    "print('Ntimes: ', uv_in.Ntimes)\n",
    "print('Nfreqs: ', uv_in.Nfreqs)\n",
    "print('Nbls: ', uv_in.Nbls)\n",
    "print('Nblts: ', uv_in.Nblts)\n",
    "print('data_array shape: ', uv_in.data_array.shape)"
   ]
  },
  {
   "cell_type": "code",
   "execution_count": 8,
   "metadata": {},
   "outputs": [
    {
     "name": "stdout",
     "output_type": "stream",
     "text": [
      "BDA data\n",
      "Ntimes:  97928\n",
      "Nfreqs:  1\n",
      "Nbls:  10\n",
      "Nblts:  310347\n",
      "data_array shape:  (310347, 1, 1, 4)\n"
     ]
    }
   ],
   "source": [
    "print('BDA data')\n",
    "print('Ntimes: ', uv_bda.Ntimes)\n",
    "print('Nfreqs: ', uv_bda.Nfreqs)\n",
    "print('Nbls: ', uv_bda.Nbls)\n",
    "print('Nblts: ', uv_bda.Nblts)\n",
    "print('data_array shape: ', uv_bda.data_array.shape)"
   ]
  },
  {
   "cell_type": "code",
   "execution_count": 9,
   "metadata": {},
   "outputs": [],
   "source": [
    "unique_bls = np.unique(uv_in.baseline_array)"
   ]
  },
  {
   "cell_type": "code",
   "execution_count": 10,
   "metadata": {},
   "outputs": [
    {
     "data": {
      "text/plain": [
       "array([1.15740113e-05])"
      ]
     },
     "execution_count": 10,
     "metadata": {},
     "output_type": "execute_result"
    }
   ],
   "source": [
    "np.unique(uv_in.integration_time)"
   ]
  },
  {
   "cell_type": "code",
   "execution_count": 11,
   "metadata": {},
   "outputs": [
    {
     "name": "stdout",
     "output_type": "stream",
     "text": [
      "baseline:  67585\n",
      "min int_times:  1.157401129603386e-05\n",
      "max int_times:  1.157401129603386e-05\n",
      "min time_diffs:  0.9990692138671875\n",
      "max time_diffs:  1.0042190551757812\n",
      "baseline:  69633\n",
      "min int_times:  1.157401129603386e-05\n",
      "max int_times:  1.157401129603386e-05\n",
      "min time_diffs:  0.9990692138671875\n",
      "max time_diffs:  1.0042190551757812\n",
      "baseline:  69634\n",
      "min int_times:  1.157401129603386e-05\n",
      "max int_times:  1.157401129603386e-05\n",
      "min time_diffs:  0.9990692138671875\n",
      "max time_diffs:  1.0042190551757812\n",
      "baseline:  71681\n",
      "min int_times:  1.157401129603386e-05\n",
      "max int_times:  1.157401129603386e-05\n",
      "min time_diffs:  0.9990692138671875\n",
      "max time_diffs:  1.0042190551757812\n",
      "baseline:  71682\n",
      "min int_times:  1.157401129603386e-05\n",
      "max int_times:  1.157401129603386e-05\n",
      "min time_diffs:  0.9990692138671875\n",
      "max time_diffs:  1.0042190551757812\n",
      "baseline:  71683\n",
      "min int_times:  1.157401129603386e-05\n",
      "max int_times:  1.157401129603386e-05\n",
      "min time_diffs:  0.9990692138671875\n",
      "max time_diffs:  1.0042190551757812\n",
      "baseline:  73729\n",
      "min int_times:  1.157401129603386e-05\n",
      "max int_times:  1.157401129603386e-05\n",
      "min time_diffs:  0.9990692138671875\n",
      "max time_diffs:  1.0042190551757812\n",
      "baseline:  73730\n",
      "min int_times:  1.157401129603386e-05\n",
      "max int_times:  1.157401129603386e-05\n",
      "min time_diffs:  0.9990692138671875\n",
      "max time_diffs:  1.0042190551757812\n",
      "baseline:  73731\n",
      "min int_times:  1.157401129603386e-05\n",
      "max int_times:  1.157401129603386e-05\n",
      "min time_diffs:  0.9990692138671875\n",
      "max time_diffs:  1.0042190551757812\n",
      "baseline:  73732\n",
      "min int_times:  1.157401129603386e-05\n",
      "max int_times:  1.157401129603386e-05\n",
      "min time_diffs:  0.9990692138671875\n",
      "max time_diffs:  1.0042190551757812\n"
     ]
    }
   ],
   "source": [
    "for bl in unique_bls:\n",
    "    print('baseline: ', bl)\n",
    "    time_diffs = np.diff(uv_in.time_array[np.where(uv_in.baseline_array == bl)])*24*60*60\n",
    "    int_times = uv_in.integration_time[np.where(uv_in.baseline_array == bl)]\n",
    "    nsamples = uv_in.nsample_array[np.where(uv_in.baseline_array == bl)]\n",
    "    print('min int_times: ', np.min(int_times))\n",
    "    print('max int_times: ', np.max(int_times))\n",
    "    print('min time_diffs: ', np.min(time_diffs))\n",
    "    print('max time_diffs: ', np.max(time_diffs))"
   ]
  },
  {
   "cell_type": "code",
   "execution_count": 12,
   "metadata": {},
   "outputs": [
    {
     "name": "stdout",
     "output_type": "stream",
     "text": [
      "baseline:  67585\n",
      "min int_times:  0.0\n",
      "max int_times:  0.0\n",
      "min time_diffs:  0.9990692138671875\n",
      "max time_diffs:  1.0042190551757812\n",
      "baseline:  69633\n",
      "min int_times:  0.00010416610166430473\n",
      "max int_times:  0.0002777762711048126\n",
      "min time_diffs:  17.499160766601562\n",
      "max time_diffs:  25.002479553222656\n",
      "baseline:  69634\n",
      "min int_times:  0.0\n",
      "max int_times:  0.0\n",
      "min time_diffs:  0.9990692138671875\n",
      "max time_diffs:  1.0042190551757812\n",
      "baseline:  71681\n",
      "min int_times:  3.472203388810158e-05\n",
      "max int_times:  0.0002777762711048126\n",
      "min time_diffs:  14.499378204345703\n",
      "max time_diffs:  25.002479553222656\n",
      "baseline:  71682\n",
      "min int_times:  0.0002777762711048126\n",
      "max int_times:  0.0002777762711048126\n",
      "min time_diffs:  24.997329711914062\n",
      "max time_diffs:  25.002479553222656\n",
      "baseline:  71683\n",
      "min int_times:  0.0\n",
      "max int_times:  0.0\n",
      "min time_diffs:  0.9990692138671875\n",
      "max time_diffs:  1.0042190551757812\n",
      "baseline:  73729\n",
      "min int_times:  0.00015046214684844017\n",
      "max int_times:  0.0002893502824008465\n",
      "min time_diffs:  19.999408721923828\n",
      "max time_diffs:  26.001548767089844\n",
      "baseline:  73730\n",
      "min int_times:  9.259209036827087e-05\n",
      "max int_times:  0.0002893502824008465\n",
      "min time_diffs:  17.499160766601562\n",
      "max time_diffs:  26.001548767089844\n",
      "baseline:  73731\n",
      "min int_times:  4.629604518413544e-05\n",
      "max int_times:  0.0002893502824008465\n",
      "min time_diffs:  15.501022338867188\n",
      "max time_diffs:  26.001548767089844\n",
      "baseline:  73732\n",
      "min int_times:  0.0\n",
      "max int_times:  0.0\n",
      "min time_diffs:  0.9990692138671875\n",
      "max time_diffs:  1.0042190551757812\n"
     ]
    }
   ],
   "source": [
    "for bl in unique_bls:\n",
    "    print('baseline: ', bl)\n",
    "    time_diffs = np.diff(uv_bda.time_array[np.where(uv_bda.baseline_array == bl)])*24*60*60\n",
    "    int_times = uv_bda.integration_time[np.where(uv_bda.baseline_array == bl)]\n",
    "    nsamples = uv_bda.nsample_array[np.where(uv_bda.baseline_array == bl)]\n",
    "    print('min int_times: ', np.min(int_times))\n",
    "    print('max int_times: ', np.max(int_times))\n",
    "    print('min time_diffs: ', np.min(time_diffs))\n",
    "    print('max time_diffs: ', np.max(time_diffs))"
   ]
  },
  {
   "cell_type": "code",
   "execution_count": null,
   "metadata": {},
   "outputs": [],
   "source": []
  }
 ],
 "metadata": {
  "kernelspec": {
   "display_name": "Python 3",
   "language": "python",
   "name": "python3"
  },
  "language_info": {
   "codemirror_mode": {
    "name": "ipython",
    "version": 3
   },
   "file_extension": ".py",
   "mimetype": "text/x-python",
   "name": "python",
   "nbconvert_exporter": "python",
   "pygments_lexer": "ipython3",
   "version": "3.6.8"
  }
 },
 "nbformat": 4,
 "nbformat_minor": 2
}
