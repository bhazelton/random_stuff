{
 "cells": [
  {
   "cell_type": "code",
   "execution_count": 1,
   "metadata": {},
   "outputs": [
    {
     "data": {
      "text/plain": [
       "<module 'bda.bda_tools' from '/Users/bryna/anaconda/envs/py36/lib/python3.6/site-packages/bda/bda_tools.py'>"
      ]
     },
     "execution_count": 1,
     "metadata": {},
     "output_type": "execute_result"
    }
   ],
   "source": [
    "import os\n",
    "import time\n",
    "import numpy as np\n",
    "from astropy import units\n",
    "from astropy.coordinates import Angle\n",
    "\n",
    "from pyuvdata import UVData\n",
    "\n",
    "from bda import bda_tools\n",
    "import importlib\n",
    "importlib.reload(bda_tools)"
   ]
  },
  {
   "cell_type": "code",
   "execution_count": 2,
   "metadata": {},
   "outputs": [],
   "source": [
    "def apply_bda(file_in, file_out, pre_fs_int_time=0.1, corr_FoV_angle=20.0,\n",
    "              max_time=30, corr_int_time=None, max_decorr=0.1, overwrite=False, filetype='uvh5'):\n",
    "\n",
    "    if os.path.exists(file_out) and overwrite is False:\n",
    "        raise ValueError(\"{} exists. Use --overwrite to overwrite the file.\".format(file_out))\n",
    "\n",
    "    # check that output filetype is valid\n",
    "    if filetype not in (\"uvh5\", \"uvfits\", \"miriad\"):\n",
    "        raise ValueError(\"filetype must be one of uvh5, uvfits, or miriad\")\n",
    "\n",
    "    uv = UVData()\n",
    "    uv.read(file_in)\n",
    "\n",
    "    # apply BDA\n",
    "    pre_fs_int_time = pre_fs_int_time * units.s\n",
    "    corr_FoV_angle = Angle(corr_FoV_angle, units.deg)\n",
    "    max_time = max_time * units.s\n",
    "    uv2 = bda_tools.apply_bda(\n",
    "        uv,\n",
    "        max_decorr,\n",
    "        pre_fs_int_time,\n",
    "        corr_FoV_angle,\n",
    "        max_time,\n",
    "        corr_int_time,\n",
    "    )\n",
    "\n",
    "    # write out file\n",
    "    if filetype == \"uvh5\":\n",
    "        uv2.write_uvh5(file_out, clobber=True)\n",
    "    if filetype == \"uvfits\":\n",
    "        uv2.write_uvfits(file_out, spoof_nonessential=True, force_phase=True)\n",
    "    if filetype == \"miriad\":\n",
    "        uv2.write_miriad(file_out, clobber=True)\n"
   ]
  },
  {
   "cell_type": "code",
   "execution_count": 3,
   "metadata": {},
   "outputs": [
    {
     "name": "stderr",
     "output_type": "stream",
     "text": [
      "Telescope BLLITE is not in known_telescopes.\n"
     ]
    },
    {
     "name": "stdout",
     "output_type": "stream",
     "text": [
      "time to read in uvh5 file and fix it: 2680.3350892066956 seconds\n"
     ]
    }
   ],
   "source": [
    "uvfits_file_in = '/Volumes/Data1/pyuvsim_ref_sim/simulation_results/ref_1.2_uniform.uvfits'\n",
    "uvh5_file_in = '/Volumes/Data1/pyuvsim_ref_sim/simulation_results/ref_1.2_uniform.uvh5'\n",
    "uvh5_file_in_fixed = '/Volumes/Data1/pyuvsim_ref_sim/simulation_results/ref_1.2_uniform_fixed.uvh5'\n",
    "if not os.path.isfile(uvh5_file_in_fixed):\n",
    "    t0 = time.time()\n",
    "    uv_in = UVData()\n",
    "    print_str = 'time to read in '\n",
    "    if not os.path.isfile(uvh5_file_in):\n",
    "        uv_in.read(uvfits_file_in)\n",
    "        print_str += 'uvfits file '\n",
    "    else:\n",
    "        uv_in.read(uvh5_file_in)\n",
    "        print_str += 'uvh5 file '\n",
    "        \n",
    "    if min(uv_in.integration_time) < 0.9:\n",
    "        # simulation files were originally written with int time in days not seconds\n",
    "        uv_in.integration_time = uv_in.integration_time * 3600 * 24\n",
    "        uv_in.set_lsts_from_time_array()\n",
    "\n",
    "    if uv_in.phase_type == 'phased':\n",
    "        uv_in.unphase_to_drift()\n",
    "        \n",
    "    uv_in.write_uvh5(uvh5_file_in_fixed)\n",
    "    t1 = time.time()\n",
    "    \n",
    "    print_str += 'and fix it: {t} seconds'.format(t=t1-t0)\n",
    "    print(print_str)"
   ]
  },
  {
   "cell_type": "code",
   "execution_count": 4,
   "metadata": {},
   "outputs": [],
   "source": [
    "file_in=uvh5_file_in_fixed\n",
    "file_out='/Volumes/Data1/bda_outputs/ref_1.2_uniform_fixed_bda.uvh5'\n",
    "initial_int_time=1.0  # seconds"
   ]
  },
  {
   "cell_type": "code",
   "execution_count": 5,
   "metadata": {},
   "outputs": [],
   "source": [
    "if not os.path.isfile(file_out):\n",
    "    t0 = time.time()\n",
    "    apply_bda(file_in, file_out, pre_fs_int_time=initial_int_time, corr_FoV_angle=20.0,\n",
    "              max_time=30, corr_int_time=None, overwrite=False, filetype='uvh5')\n",
    "    t1 = time.time()\n",
    "    print('time to read file into a uvdata object and do bda: {t} seconds'.format(t=t1-t0))"
   ]
  },
  {
   "cell_type": "code",
   "execution_count": 6,
   "metadata": {},
   "outputs": [
    {
     "name": "stderr",
     "output_type": "stream",
     "text": [
      "Telescope BLLITE is not in known_telescopes.\n",
      "LST values stored in /Volumes/Data1/bda_outputs/ref_1.2_uniform_fixed_bda.uvh5 are not self-consistent with time_array and telescope location. Consider recomputing with utils.get_lst_for_time.\n"
     ]
    }
   ],
   "source": [
    "uv_in = UVData()\n",
    "uv_in.read(file_in)\n",
    "uv_bda = UVData()\n",
    "uv_bda.read(file_out)\n"
   ]
  },
  {
   "cell_type": "code",
   "execution_count": 7,
   "metadata": {},
   "outputs": [
    {
     "name": "stdout",
     "output_type": "stream",
     "text": [
      "Input data\n",
      "Ntimes:  86400\n",
      "Nfreqs:  1\n",
      "Nbls:  10\n",
      "Nblts:  864000\n",
      "data_array shape:  (864000, 1, 1, 4)\n",
      "phase_type:  drift\n"
     ]
    }
   ],
   "source": [
    "print('Input data')\n",
    "print('Ntimes: ', uv_in.Ntimes)\n",
    "print('Nfreqs: ', uv_in.Nfreqs)\n",
    "print('Nbls: ', uv_in.Nbls)\n",
    "print('Nblts: ', uv_in.Nblts)\n",
    "print('data_array shape: ', uv_in.data_array.shape)\n",
    "print('phase_type: ', uv_in.phase_type)"
   ]
  },
  {
   "cell_type": "code",
   "execution_count": 8,
   "metadata": {},
   "outputs": [
    {
     "name": "stdout",
     "output_type": "stream",
     "text": [
      "BDA data\n",
      "Ntimes:  117818\n",
      "Nfreqs:  1\n",
      "Nbls:  10\n",
      "Nblts:  334634\n",
      "data_array shape:  (334634, 1, 1, 4)\n",
      "phase_type:  drift\n"
     ]
    }
   ],
   "source": [
    "print('BDA data')\n",
    "print('Ntimes: ', uv_bda.Ntimes)\n",
    "print('Nfreqs: ', uv_bda.Nfreqs)\n",
    "print('Nbls: ', uv_bda.Nbls)\n",
    "print('Nblts: ', uv_bda.Nblts)\n",
    "print('data_array shape: ', uv_bda.data_array.shape)\n",
    "print('phase_type: ', uv_in.phase_type)"
   ]
  },
  {
   "cell_type": "code",
   "execution_count": 9,
   "metadata": {},
   "outputs": [],
   "source": [
    "unique_bls = np.unique(uv_in.baseline_array)"
   ]
  },
  {
   "cell_type": "code",
   "execution_count": 10,
   "metadata": {},
   "outputs": [
    {
     "data": {
      "text/plain": [
       "array([0.99999458])"
      ]
     },
     "execution_count": 10,
     "metadata": {},
     "output_type": "execute_result"
    }
   ],
   "source": [
    "np.unique(uv_in.integration_time)"
   ]
  },
  {
   "cell_type": "code",
   "execution_count": 11,
   "metadata": {},
   "outputs": [
    {
     "data": {
      "text/plain": [
       "array([86399.53136444])"
      ]
     },
     "execution_count": 11,
     "metadata": {},
     "output_type": "execute_result"
    }
   ],
   "source": [
    "np.unique(uv_in.integration_time)*3600*24"
   ]
  },
  {
   "cell_type": "code",
   "execution_count": 12,
   "metadata": {},
   "outputs": [
    {
     "name": "stdout",
     "output_type": "stream",
     "text": [
      "baseline:  67585\n",
      "min int_times:  0.9999945759773254\n",
      "max int_times:  0.9999945759773254\n",
      "min time_diffs:  0.9990692138671875\n",
      "max time_diffs:  1.0042190551757812\n",
      "baseline:  69633\n",
      "min int_times:  0.9999945759773254\n",
      "max int_times:  0.9999945759773254\n",
      "min time_diffs:  0.9990692138671875\n",
      "max time_diffs:  1.0042190551757812\n",
      "baseline:  69634\n",
      "min int_times:  0.9999945759773254\n",
      "max int_times:  0.9999945759773254\n",
      "min time_diffs:  0.9990692138671875\n",
      "max time_diffs:  1.0042190551757812\n",
      "baseline:  71681\n",
      "min int_times:  0.9999945759773254\n",
      "max int_times:  0.9999945759773254\n",
      "min time_diffs:  0.9990692138671875\n",
      "max time_diffs:  1.0042190551757812\n",
      "baseline:  71682\n",
      "min int_times:  0.9999945759773254\n",
      "max int_times:  0.9999945759773254\n",
      "min time_diffs:  0.9990692138671875\n",
      "max time_diffs:  1.0042190551757812\n",
      "baseline:  71683\n",
      "min int_times:  0.9999945759773254\n",
      "max int_times:  0.9999945759773254\n",
      "min time_diffs:  0.9990692138671875\n",
      "max time_diffs:  1.0042190551757812\n",
      "baseline:  73729\n",
      "min int_times:  0.9999945759773254\n",
      "max int_times:  0.9999945759773254\n",
      "min time_diffs:  0.9990692138671875\n",
      "max time_diffs:  1.0042190551757812\n",
      "baseline:  73730\n",
      "min int_times:  0.9999945759773254\n",
      "max int_times:  0.9999945759773254\n",
      "min time_diffs:  0.9990692138671875\n",
      "max time_diffs:  1.0042190551757812\n",
      "baseline:  73731\n",
      "min int_times:  0.9999945759773254\n",
      "max int_times:  0.9999945759773254\n",
      "min time_diffs:  0.9990692138671875\n",
      "max time_diffs:  1.0042190551757812\n",
      "baseline:  73732\n",
      "min int_times:  0.9999945759773254\n",
      "max int_times:  0.9999945759773254\n",
      "min time_diffs:  0.9990692138671875\n",
      "max time_diffs:  1.0042190551757812\n"
     ]
    }
   ],
   "source": [
    "for bl in unique_bls:\n",
    "    print('baseline: ', bl)\n",
    "    time_diffs = np.diff(np.sort(uv_in.time_array[np.where(uv_in.baseline_array == bl)]))*24*60*60\n",
    "    int_times = uv_in.integration_time[np.where(uv_in.baseline_array == bl)]\n",
    "    nsamples = uv_in.nsample_array[np.where(uv_in.baseline_array == bl)]\n",
    "    print('min int_times: ', np.min(int_times))\n",
    "    print('max int_times: ', np.max(int_times))\n",
    "    print('min time_diffs: ', np.min(time_diffs))\n",
    "    print('max time_diffs: ', np.max(time_diffs))"
   ]
  },
  {
   "cell_type": "code",
   "execution_count": 13,
   "metadata": {},
   "outputs": [
    {
     "name": "stdout",
     "output_type": "stream",
     "text": [
      "baseline:  67585\n",
      "min int_times:  0.0\n",
      "max int_times:  0.0\n",
      "min time_diffs:  0.9990692138671875\n",
      "max time_diffs:  1.0042190551757812\n",
      "baseline:  69633\n",
      "min int_times:  7.9999566078186035\n",
      "max int_times:  7.9999566078186035\n",
      "min time_diffs:  8.999347686767578\n",
      "max time_diffs:  9.001922607421875\n",
      "baseline:  69634\n",
      "min int_times:  0.0\n",
      "max int_times:  0.0\n",
      "min time_diffs:  0.9990692138671875\n",
      "max time_diffs:  1.0042190551757812\n",
      "baseline:  71681\n",
      "min int_times:  3.9999783039093018\n",
      "max int_times:  7.9999566078186035\n",
      "min time_diffs:  7.001209259033203\n",
      "max time_diffs:  9.001922607421875\n",
      "baseline:  71682\n",
      "min int_times:  3.9999783039093018\n",
      "max int_times:  6.999962031841278\n",
      "min time_diffs:  6.4990997314453125\n",
      "max time_diffs:  8.002853393554688\n",
      "baseline:  71683\n",
      "min int_times:  0.0\n",
      "max int_times:  0.0\n",
      "min time_diffs:  0.9990692138671875\n",
      "max time_diffs:  1.0042190551757812\n",
      "baseline:  73729\n",
      "min int_times:  0.9999945759773254\n",
      "max int_times:  7.9999566078186035\n",
      "min time_diffs:  5.500030517578125\n",
      "max time_diffs:  9.001922607421875\n",
      "baseline:  73730\n",
      "min int_times:  0.0\n",
      "max int_times:  7.9999566078186035\n",
      "min time_diffs:  5.003070831298828\n",
      "max time_diffs:  9.001922607421875\n",
      "baseline:  73731\n",
      "min int_times:  6.999962031841278\n",
      "max int_times:  7.9999566078186035\n",
      "min time_diffs:  8.499813079833984\n",
      "max time_diffs:  9.001922607421875\n",
      "baseline:  73732\n",
      "min int_times:  0.0\n",
      "max int_times:  0.0\n",
      "min time_diffs:  0.9990692138671875\n",
      "max time_diffs:  1.0042190551757812\n"
     ]
    }
   ],
   "source": [
    "for bl in unique_bls:\n",
    "    print('baseline: ', bl)\n",
    "    time_diffs = np.diff(np.sort(uv_bda.time_array[np.where(uv_bda.baseline_array == bl)]))*24*60*60\n",
    "    int_times = uv_bda.integration_time[np.where(uv_bda.baseline_array == bl)]\n",
    "    nsamples = uv_bda.nsample_array[np.where(uv_bda.baseline_array == bl)]\n",
    "    print('min int_times: ', np.min(int_times))\n",
    "    print('max int_times: ', np.max(int_times))\n",
    "    print('min time_diffs: ', np.min(time_diffs))\n",
    "    print('max time_diffs: ', np.max(time_diffs))"
   ]
  },
  {
   "cell_type": "code",
   "execution_count": null,
   "metadata": {},
   "outputs": [],
   "source": []
  }
 ],
 "metadata": {
  "kernelspec": {
   "display_name": "Python 3",
   "language": "python",
   "name": "python3"
  },
  "language_info": {
   "codemirror_mode": {
    "name": "ipython",
    "version": 3
   },
   "file_extension": ".py",
   "mimetype": "text/x-python",
   "name": "python",
   "nbconvert_exporter": "python",
   "pygments_lexer": "ipython3",
   "version": "3.6.8"
  }
 },
 "nbformat": 4,
 "nbformat_minor": 2
}
