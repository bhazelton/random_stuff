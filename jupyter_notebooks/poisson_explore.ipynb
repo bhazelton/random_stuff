{
 "cells": [
  {
   "cell_type": "code",
   "execution_count": 4,
   "metadata": {},
   "outputs": [],
   "source": [
    "import numpy as np\n",
    "import matplotlib.pyplot as plt\n"
   ]
  },
  {
   "cell_type": "code",
   "execution_count": 8,
   "metadata": {},
   "outputs": [],
   "source": [
    "rng = np.random.default_rng()\n",
    "poisson_5 = rng.poisson(5, 10000)"
   ]
  },
  {
   "cell_type": "code",
   "execution_count": 10,
   "metadata": {},
   "outputs": [
    {
     "data": {
      "image/png": "[encoded data removed]",
      "text/plain": [
       "<Figure size 432x288 with 1 Axes>"
      ]
     },
     "metadata": {
      "needs_background": "light"
     },
     "output_type": "display_data"
    }
   ],
   "source": [
    "count, bins, ignored = plt.hist(poisson_5, 14, density=True)"
   ]
  },
  {
   "cell_type": "code",
   "execution_count": 12,
   "metadata": {},
   "outputs": [],
   "source": [
    "n_total = 1000\n",
    "n_minority = 10\n",
    "n_majority = n_total - n_minority"
   ]
  },
  {
   "cell_type": "code",
   "execution_count": 23,
   "metadata": {},
   "outputs": [],
   "source": [
    "dist_minority = rng.poisson(n_minority, n_total*1000)\n",
    "dist_majority = rng.poisson(n_majority, n_total*1000)\n",
    "dist_total = dist_minority + dist_majority"
   ]
  },
  {
   "cell_type": "code",
   "execution_count": 24,
   "metadata": {},
   "outputs": [
    {
     "data": {
      "text/plain": [
       "(array([4.47284345e-08, 3.17571885e-06, 4.53546326e-05, 3.71916933e-04,\n",
       "        1.84276677e-03, 5.95939297e-03, 1.05829712e-02, 1.20256422e-02,\n",
       "        8.87671565e-03, 3.72453674e-03, 1.07258786e-03, 2.00964856e-04,\n",
       "        2.07539936e-05, 1.61022364e-06]),\n",
       " array([ 837.        ,  859.35714286,  881.71428571,  904.07142857,\n",
       "         926.42857143,  948.78571429,  971.14285714,  993.5       ,\n",
       "        1015.85714286, 1038.21428571, 1060.57142857, 1082.92857143,\n",
       "        1105.28571429, 1127.64285714, 1150.        ]),\n",
       " <a list of 14 Patch objects>)"
      ]
     },
     "execution_count": 24,
     "metadata": {},
     "output_type": "execute_result"
    },
    {
     "data": {
      "image/png": "[encoded data removed]",
      "text/plain": [
       "<Figure size 432x288 with 1 Axes>"
      ]
     },
     "metadata": {
      "needs_background": "light"
     },
     "output_type": "display_data"
    }
   ],
   "source": [
    "plt.hist(dist_minority, 14, density=True)\n",
    "plt.hist(dist_majority, 14, density=True)\n",
    "plt.hist(dist_total, 14, density=True)"
   ]
  },
  {
   "cell_type": "code",
   "execution_count": 36,
   "metadata": {},
   "outputs": [
    {
     "data": {
      "text/plain": [
       "(array([7.07668966e-02, 6.27535862e-01, 2.72140345e+00, 8.81672276e+00,\n",
       "        2.11655462e+01, 4.12217172e+01, 6.83577000e+01, 9.59338945e+01,\n",
       "        1.18359716e+02, 1.29420166e+02, 1.26664419e+02, 1.15113805e+02,\n",
       "        9.53126028e+01, 7.31740117e+01, 5.32208690e+01, 3.62274476e+01,\n",
       "        2.32500476e+01, 1.42668145e+01, 8.03100207e+00, 4.36361172e+00,\n",
       "        2.27702897e+00, 1.16661310e+00, 4.92246207e-01, 2.61213103e-01,\n",
       "        9.57434483e-02, 4.47496552e-02, 1.14475862e-02, 1.56103448e-02,\n",
       "        3.12206897e-03, 2.08137931e-03]),\n",
       " array([0.        , 0.0009609 , 0.0019218 , 0.0028827 , 0.00384361,\n",
       "        0.00480451, 0.00576541, 0.00672631, 0.00768721, 0.00864811,\n",
       "        0.00960901, 0.01056991, 0.01153082, 0.01249172, 0.01345262,\n",
       "        0.01441352, 0.01537442, 0.01633532, 0.01729622, 0.01825712,\n",
       "        0.01921803, 0.02017893, 0.02113983, 0.02210073, 0.02306163,\n",
       "        0.02402253, 0.02498343, 0.02594433, 0.02690524, 0.02786614,\n",
       "        0.02882704]),\n",
       " <a list of 30 Patch objects>)"
      ]
     },
     "execution_count": 36,
     "metadata": {},
     "output_type": "execute_result"
    },
    {
     "data": {
      "image/png": "[encoded data removed]",
      "text/plain": [
       "<Figure size 432x288 with 1 Axes>"
      ]
     },
     "metadata": {
      "needs_background": "light"
     },
     "output_type": "display_data"
    }
   ],
   "source": [
    "dist_minority_ratio = dist_minority / dist_total\n",
    "plt.hist(dist_minority_ratio, 30, density=True)"
   ]
  },
  {
   "cell_type": "code",
   "execution_count": 26,
   "metadata": {},
   "outputs": [
    {
     "data": {
      "text/plain": [
       "0.0031749015732775087"
      ]
     },
     "execution_count": 26,
     "metadata": {},
     "output_type": "execute_result"
    }
   ],
   "source": [
    "sigma_minority = np.sqrt(n_minority)\n",
    "sigma_total = np.sqrt(n_total)\n",
    "sigma_minority_ratio_propagated = (n_minority/n_total) * np.sqrt(\n",
    "                                    1/n_minority + 1/n_total - 2/(n_minority*n_total))\n",
    "sigma_minority_ratio_propagated"
   ]
  },
  {
   "cell_type": "code",
   "execution_count": 27,
   "metadata": {},
   "outputs": [
    {
     "data": {
      "text/plain": [
       "0.0031479183560033366"
      ]
     },
     "execution_count": 27,
     "metadata": {},
     "output_type": "execute_result"
    }
   ],
   "source": [
    "np.std(dist_minority_ratio)"
   ]
  },
  {
   "cell_type": "code",
   "execution_count": 41,
   "metadata": {},
   "outputs": [
    {
     "name": "stdout",
     "output_type": "stream",
     "text": [
      "3.1622776601683795\n",
      "6.83772233983162\n",
      "13.16227766016838\n"
     ]
    }
   ],
   "source": [
    "print(sigma_minority)\n",
    "print(n_minority - sigma_minority)\n",
    "print(n_minority + sigma_minority)"
   ]
  },
  {
   "cell_type": "code",
   "execution_count": 42,
   "metadata": {},
   "outputs": [
    {
     "name": "stdout",
     "output_type": "stream",
     "text": [
      "3.2199999999999998\n",
      "3.8100000000000005\n",
      "0.0032323984902855023\n",
      "0.00382048426249867\n"
     ]
    }
   ],
   "source": [
    "sigma_minority_lower = n_minority - 6.78\n",
    "sigma_minority_upper = 13.81 - n_minority\n",
    "sigma_minority_ratio_lower_propagated = (n_minority/n_total) * np.sqrt(\n",
    "                                    (sigma_minority_lower/n_minority)**2 + 1/n_total - 2/(n_minority*n_total))\n",
    "\n",
    "sigma_minority_ratio_upper_propagated = (n_minority/n_total) * np.sqrt(\n",
    "                                    (sigma_minority_upper/n_minority)**2 + 1/n_total - 2/(n_minority*n_total))\n",
    "\n",
    "print(sigma_minority_lower)\n",
    "print(sigma_minority_upper)\n",
    "print(sigma_minority_ratio_lower_propagated)\n",
    "print(sigma_minority_ratio_upper_propagated)"
   ]
  },
  {
   "cell_type": "code",
   "execution_count": 37,
   "metadata": {},
   "outputs": [
    {
     "data": {
      "text/plain": [
       "(array([2.08137931e-03, 3.12206897e-03, 1.56103448e-02, 1.14475862e-02,\n",
       "        4.47496552e-02, 9.57434483e-02, 2.61213103e-01, 4.92246207e-01,\n",
       "        1.16661310e+00, 2.27702897e+00, 4.36361172e+00, 8.03100207e+00,\n",
       "        1.42668145e+01, 2.32500476e+01, 3.62274476e+01, 5.32208690e+01,\n",
       "        7.31740117e+01, 9.53126028e+01, 1.15113805e+02, 1.26664419e+02,\n",
       "        1.29420166e+02, 1.18359716e+02, 9.59338945e+01, 6.83577000e+01,\n",
       "        4.12217172e+01, 2.11655462e+01, 8.81672276e+00, 2.72140345e+00,\n",
       "        6.27535862e-01, 7.07668966e-02]),\n",
       " array([0.97117296, 0.97213386, 0.97309476, 0.97405567, 0.97501657,\n",
       "        0.97597747, 0.97693837, 0.97789927, 0.97886017, 0.97982107,\n",
       "        0.98078197, 0.98174288, 0.98270378, 0.98366468, 0.98462558,\n",
       "        0.98558648, 0.98654738, 0.98750828, 0.98846918, 0.98943009,\n",
       "        0.99039099, 0.99135189, 0.99231279, 0.99327369, 0.99423459,\n",
       "        0.99519549, 0.99615639, 0.9971173 , 0.9980782 , 0.9990391 ,\n",
       "        1.        ]),\n",
       " <a list of 30 Patch objects>)"
      ]
     },
     "execution_count": 37,
     "metadata": {},
     "output_type": "execute_result"
    },
    {
     "data": {
      "image/png": "[encoded data removed]",
      "text/plain": [
       "<Figure size 432x288 with 1 Axes>"
      ]
     },
     "metadata": {
      "needs_background": "light"
     },
     "output_type": "display_data"
    }
   ],
   "source": [
    "dist_majority_ratio = dist_majority / dist_total\n",
    "plt.hist(dist_majority_ratio, 30, density=True)"
   ]
  },
  {
   "cell_type": "code",
   "execution_count": 38,
   "metadata": {},
   "outputs": [
    {
     "data": {
      "text/plain": [
       "0.044363498509472854"
      ]
     },
     "execution_count": 38,
     "metadata": {},
     "output_type": "execute_result"
    }
   ],
   "source": [
    "sigma_majority = np.sqrt(n_majority)\n",
    "sigma_total = np.sqrt(n_total)\n",
    "sigma_majority_ratio_propagated = (n_majority/n_total) * np.sqrt(\n",
    "                                    1/n_majority + 1/n_total - 2/(n_majority*n_total))\n",
    "sigma_majority_ratio_propagated"
   ]
  },
  {
   "cell_type": "code",
   "execution_count": 39,
   "metadata": {},
   "outputs": [
    {
     "data": {
      "text/plain": [
       "0.0031479183560033366"
      ]
     },
     "execution_count": 39,
     "metadata": {},
     "output_type": "execute_result"
    }
   ],
   "source": [
    "np.std(dist_majority_ratio)"
   ]
  },
  {
   "cell_type": "code",
   "execution_count": null,
   "metadata": {},
   "outputs": [],
   "source": []
  }
 ],
 "metadata": {
  "kernelspec": {
   "display_name": "Python 3",
   "language": "python",
   "name": "python3"
  },
  "language_info": {
   "codemirror_mode": {
    "name": "ipython",
    "version": 3
   },
   "file_extension": ".py",
   "mimetype": "text/x-python",
   "name": "python",
   "nbconvert_exporter": "python",
   "pygments_lexer": "ipython3",
   "version": "3.8.2"
  }
 },
 "nbformat": 4,
 "nbformat_minor": 4
}
