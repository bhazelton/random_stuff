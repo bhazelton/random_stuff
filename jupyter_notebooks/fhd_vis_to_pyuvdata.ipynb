{
 "cells": [
  {
   "cell_type": "code",
   "execution_count": 1,
   "metadata": {
    "collapsed": true
   },
   "outputs": [],
   "source": [
    "import os.path as op\n",
    "from scipy.io.idl import readsav\n",
    "import numpy as np\n",
    "import warnings\n",
    "from itertools import islice\n"
   ]
  },
  {
   "cell_type": "code",
   "execution_count": 2,
   "metadata": {
    "collapsed": false
   },
   "outputs": [
    {
     "name": "stdout",
     "output_type": "stream",
     "text": [
      "/Users/bryna/Documents/Physics/HERA/pyuvdata/uvdata/data/fhd_vis_data/1061321792_vis_XX.sav\n",
      "/Users/bryna/Documents/Physics/HERA/pyuvdata/uvdata/data/fhd_vis_data/1061321792_vis_YY.sav\n",
      "/Users/bryna/Documents/Physics/HERA/pyuvdata/uvdata/data/fhd_vis_data/1061321792_flags.sav\n",
      "/Users/bryna/Documents/Physics/HERA/pyuvdata/uvdata/data/fhd_vis_data/1061321792_params.sav\n",
      "/Users/bryna/Documents/Physics/HERA/pyuvdata/uvdata/data/fhd_vis_data/1061321792_settings.txt\n"
     ]
    }
   ],
   "source": [
    "filedir = '/Users/bryna/Documents/Physics/HERA/pyuvdata/uvdata/data/fhd_vis_data/'\n",
    "files = ['1061321792_vis_XX.sav', '1061321792_vis_YY.sav', '1061321792_flags.sav', '1061321792_params.sav',\n",
    "         '1061321792_settings.txt']\n",
    "filelist = []\n",
    "for f in files:\n",
    "    filelist.append(op.join(filedir, f))\n",
    "datafiles = {}\n",
    "params_file = None\n",
    "flags_file = None\n",
    "settings_file = None\n",
    "for file in filelist:\n",
    "    print(file)\n",
    "    if file.lower().endswith('_vis_xx.sav'):\n",
    "        datafiles['xx'] = xx_datafile = file\n",
    "    elif file.lower().endswith('_vis_yy.sav'):\n",
    "        datafiles['yy'] = yy_datafile = file\n",
    "    elif file.lower().endswith('_vis_xy.sav'):\n",
    "        datafiles['xy'] = xy_datafile = file\n",
    "    elif file.lower().endswith('_vis_yx.sav'):\n",
    "        datafiles['yx'] = yx_datafile = file\n",
    "    elif file.lower().endswith('_params.sav'):\n",
    "        params_file = file\n",
    "    elif file.lower().endswith('_flags.sav'):\n",
    "        flags_file = file\n",
    "    elif file.lower().endswith('_settings.txt'):\n",
    "        settings_file = file\n",
    "    else:\n",
    "        print(file + ' is not a recognized fhd file type')\n",
    "\n",
    "if len(datafiles) < 1:\n",
    "    raise StandardError('No data files included in file list')\n",
    "if params_file is None:\n",
    "    raise StandardError('No params file included in file list')\n",
    "if flags_file is None:\n",
    "    raise StandardError('No flags file included in file list')\n",
    "if settings_file is None:\n",
    "    warnings.warn('No flags file included in file list')"
   ]
  },
  {
   "cell_type": "code",
   "execution_count": 3,
   "metadata": {
    "collapsed": false
   },
   "outputs": [],
   "source": [
    "vis_data = {}\n",
    "for pol, file in datafiles.items():\n",
    "    this_dict = readsav(file, python_dict=True)\n",
    "    vis_data[pol] = this_dict['vis_ptr']\n",
    "    this_obs = this_dict['obs']\n",
    "\n",
    "obs = this_obs\n",
    "bl_info = obs['BASELINE_INFO'][0]\n",
    "meta_data = obs['META_DATA'][0]\n",
    "astrometry = obs['ASTR'][0]\n",
    "fhd_pol_list = []\n",
    "for pol in obs['POL_NAMES'][0]:\n",
    "    fhd_pol_list.append(pol.decode(\"utf-8\").lower())\n",
    "\n",
    "params_dict = readsav(params_file, python_dict=True)\n",
    "params = params_dict['params']\n",
    "\n",
    "flags_dict = readsav(flags_file, python_dict=True)\n",
    "flag_data = {}\n",
    "for index, f in enumerate(flags_dict['flag_arr']):\n",
    "    flag_data[fhd_pol_list[index]] = f"
   ]
  },
  {
   "cell_type": "code",
   "execution_count": 4,
   "metadata": {
    "collapsed": false
   },
   "outputs": [],
   "source": [
    "Ntimes = obs['N_TIME'][0]\n",
    "Nbls = obs['NBASELINES'][0]\n",
    "Nblts = Ntimes * Nbls\n",
    "Nfreqs = obs['N_FREQ'][0]\n",
    "Npols = len(vis_data.keys())\n",
    "Nspws = 1\n",
    "spw_array = [1]\n",
    "vis_units = ['Jy']\n",
    "\n",
    "lin_pol_order = ['xx','yy','xy','yx']\n",
    "linear_pol_dict = dict(zip(lin_pol_order, np.arange(5,9)*-1))\n",
    "pol_list = []\n",
    "for pol in lin_pol_order:\n",
    "    if pol in vis_data:\n",
    "        pol_list.append(linear_pol_dict[pol])\n",
    "polarization_array = np.asarray(pol_list)\n"
   ]
  },
  {
   "cell_type": "code",
   "execution_count": 5,
   "metadata": {
    "collapsed": true
   },
   "outputs": [],
   "source": [
    "data_array = np.zeros((Nblts,Nspws,Nfreqs,Npols),dtype=np.complex_)\n",
    "nsample_array = np.zeros((Nblts,Nspws,Nfreqs,Npols),dtype=np.float_)\n",
    "flag_array = np.zeros((Nblts,Nspws,Nfreqs,Npols),dtype=np.bool_)\n",
    "for pol,vis in vis_data.items():\n",
    "    pol_i = pol_list.index(linear_pol_dict[pol])\n",
    "    data_array[:,0,:, pol_i] = vis\n",
    "    flag_array[:,0,:, pol_i] = flag_data[pol] <= 0\n",
    "    nsample_array[:,0,:, pol_i] = np.abs(flag_data[pol])\n"
   ]
  },
  {
   "cell_type": "code",
   "execution_count": 6,
   "metadata": {
    "collapsed": false
   },
   "outputs": [
    {
     "name": "stdout",
     "output_type": "stream",
     "text": [
      "-0.0 16.048576355\n"
     ]
    }
   ],
   "source": [
    "weights_array = nsample_array * np.where(flag_array, -1, 1)\n",
    "print(np.min(weights_array), np.max(weights_array))"
   ]
  },
  {
   "cell_type": "code",
   "execution_count": 6,
   "metadata": {
    "collapsed": false
   },
   "outputs": [
    {
     "data": {
      "text/plain": [
       "('CODE_VERSION',\n",
       " 'INSTRUMENT',\n",
       " 'OBSNAME',\n",
       " 'DIMENSION',\n",
       " 'ELEMENTS',\n",
       " 'NBASELINES',\n",
       " 'DFT_THRESHOLD',\n",
       " 'KPIX',\n",
       " 'DEGPIX',\n",
       " 'OBSAZ',\n",
       " 'OBSALT',\n",
       " 'OBSRA',\n",
       " 'OBSDEC',\n",
       " 'ZENRA',\n",
       " 'ZENDEC',\n",
       " 'OBSX',\n",
       " 'OBSY',\n",
       " 'ZENX',\n",
       " 'ZENY',\n",
       " 'PHASERA',\n",
       " 'PHASEDEC',\n",
       " 'ORIG_PHASERA',\n",
       " 'ORIG_PHASEDEC',\n",
       " 'N_POL',\n",
       " 'N_TILE',\n",
       " 'N_TILE_FLAG',\n",
       " 'N_FREQ',\n",
       " 'N_FREQ_FLAG',\n",
       " 'N_TIME',\n",
       " 'N_TIME_FLAG',\n",
       " 'N_VIS',\n",
       " 'N_VIS_IN',\n",
       " 'N_VIS_RAW',\n",
       " 'NF_VIS',\n",
       " 'BEAM_INTEGRAL',\n",
       " 'POL_NAMES',\n",
       " 'JD0',\n",
       " 'MAX_BASELINE',\n",
       " 'MIN_BASELINE',\n",
       " 'DELAYS',\n",
       " 'LON',\n",
       " 'LAT',\n",
       " 'ALT',\n",
       " 'FREQ_CENTER',\n",
       " 'FREQ_RES',\n",
       " 'TIME_RES',\n",
       " 'ASTR',\n",
       " 'ALPHA',\n",
       " 'PFLAG',\n",
       " 'CAL',\n",
       " 'RESIDUAL',\n",
       " 'VIS_NOISE',\n",
       " 'BASELINE_INFO',\n",
       " 'META_DATA',\n",
       " 'META_HDR',\n",
       " 'DEGRID_SPECTRAL_TERMS',\n",
       " 'GRID_SPECTRAL_TERMS',\n",
       " 'GRID_INFO',\n",
       " 'HEALPIX')"
      ]
     },
     "execution_count": 6,
     "metadata": {},
     "output_type": "execute_result"
    }
   ],
   "source": [
    "obs.dtype.names"
   ]
  },
  {
   "cell_type": "code",
   "execution_count": 7,
   "metadata": {
    "collapsed": false
   },
   "outputs": [
    {
     "data": {
      "text/plain": [
       "('INPUT',\n",
       " 'ANTENNA',\n",
       " 'TILE',\n",
       " 'POL',\n",
       " 'RX',\n",
       " 'SLOT',\n",
       " 'FLAG',\n",
       " 'LENGTH',\n",
       " 'NORTH',\n",
       " 'EAST',\n",
       " 'HEIGHT',\n",
       " 'GAINS',\n",
       " 'DELAYS')"
      ]
     },
     "execution_count": 7,
     "metadata": {},
     "output_type": "execute_result"
    }
   ],
   "source": [
    "meta_data.dtype.names"
   ]
  },
  {
   "cell_type": "code",
   "execution_count": 8,
   "metadata": {
    "collapsed": false
   },
   "outputs": [
    {
     "data": {
      "text/plain": [
       "('NAXIS',\n",
       " 'CD',\n",
       " 'CDELT',\n",
       " 'CRPIX',\n",
       " 'CRVAL',\n",
       " 'CTYPE',\n",
       " 'LONGPOLE',\n",
       " 'LATPOLE',\n",
       " 'PV2',\n",
       " 'PV1',\n",
       " 'AXES',\n",
       " 'REVERSE',\n",
       " 'COORD_SYS',\n",
       " 'PROJECTION',\n",
       " 'KNOWN',\n",
       " 'RADECSYS',\n",
       " 'EQUINOX',\n",
       " 'DATEOBS',\n",
       " 'MJDOBS',\n",
       " 'X0Y0')"
      ]
     },
     "execution_count": 8,
     "metadata": {},
     "output_type": "execute_result"
    }
   ],
   "source": [
    "astrometry.dtype.names"
   ]
  },
  {
   "cell_type": "code",
   "execution_count": 7,
   "metadata": {
    "collapsed": false
   },
   "outputs": [],
   "source": [
    "\n",
    "uvw_array = np.zeros((3,Nblts))\n",
    "uvw_array[0,:] = params['UU'][0]\n",
    "uvw_array[1,:] = params['VV'][0]\n",
    "uvw_array[2,:] = params['WW'][0]\n",
    "\n",
    "# bl_info.JDATE is the only safe date/time to use in FHD files.\n",
    "# (obs.JD0 and params.TIME are context dependent and are not safe\n",
    "#   because they depend on the phasing of the visibilities)\n",
    "# the values in bl_info.JDATE are the JD for each integration.\n",
    "# We need to expand up to Nblts.\n",
    "int_times = bl_info['JDATE'][0]\n",
    "time_array = np.zeros(Nblts)\n",
    "for ii in range(0, Ntimes):\n",
    "    time_array[ii*Nbls:(ii+1)*Nbls] = int_times[ii]\n",
    "\n",
    "ant_1_array = bl_info['TILE_A'][0]\n",
    "ant_2_array = bl_info['TILE_B'][0]\n",
    "\n",
    "baseline_array = params['BASELINE_ARR'][0] # should really calculate this from the antenna arrays using bl_to_ij\n",
    "\n",
    "freq_array = bl_info['FREQ'][0]\n",
    "phase_center_ra = obs['PHASERA']\n",
    "phase_center_dec = obs['PHASEDEC']\n",
    "\n",
    "integration_time = obs['TIME_RES'] # why isn't this quite 2? Do we care?\n",
    "channel_width = obs['FREQ_RES']\n",
    "\n",
    "# # --- observation information ---\n",
    "telescope_name = obs['INSTRUMENT'][0].decode(\"utf-8\")\n",
    "\n",
    "# a bit of a kludge because nothing like object_name existis in FHD files\n",
    "# at least for the MWA, obs.ORIG_PHASERA and obs.ORIG_PHASEDEC specify the field the telescope was pointing at\n",
    "object_name = 'Field RA(deg): ' + str(obs['ORIG_PHASERA'][0]) + ', Dec:' + str(obs['ORIG_PHASEDEC'][0])\n",
    "if telescope_name.lower() == 'mwa' and np.isclose(obs['ORIG_PHASERA'][0], 0) and np.isclose(obs['ORIG_PHASEDEC'][0], -27):\n",
    "    object_name = 'EoR 0 Field'\n",
    "\n",
    "instrument = telescope_name\n",
    "latitude = obs['LAT'][0]\n",
    "longitude = obs['LON'][0]\n",
    "altitude = obs['ALT'][0]\n",
    "dateobs = min(bl_info['JDATE'][0])\n",
    "\n",
    "# history\n",
    "history_list = ['fhd settings info']\n",
    "if not settings_file is None:\n",
    "    with open(settings_file) as f:\n",
    "        head = list(islice(f, 11))\n",
    "    for line in head:\n",
    "        newline = ' '.join(str.split(line))\n",
    "        if not line.startswith('##'):\n",
    "            history_list.append(newline)\n",
    "    history = history_list     \n",
    "\n",
    "phase_center_epoch = astrometry['EQUINOX']\n",
    "\n",
    "Nants = max([max(ant_1_array), max(ant_2_array)])\n",
    "antenna_names = bl_info['TILE_NAMES'][0]\n",
    "antenna_indices = np.arange(Nants)\n"
   ]
  },
  {
   "cell_type": "code",
   "execution_count": 25,
   "metadata": {
    "collapsed": false
   },
   "outputs": [
    {
     "data": {
      "text/plain": [
       "127"
      ]
     },
     "execution_count": 25,
     "metadata": {},
     "output_type": "execute_result"
    }
   ],
   "source": [
    "np.max([len(np.unique(ant_1_array)), len(np.unique(ant_2_array))])"
   ]
  },
  {
   "cell_type": "code",
   "execution_count": 27,
   "metadata": {
    "collapsed": false
   },
   "outputs": [
    {
     "name": "stdout",
     "output_type": "stream",
     "text": [
      "-2283.18103837 2822.21708403\n"
     ]
    }
   ],
   "source": [
    "print(np.min(uvw_array)*3.0*10**8, np.max(uvw_array)*3.0*10**8)"
   ]
  },
  {
   "cell_type": "code",
   "execution_count": 10,
   "metadata": {
    "collapsed": false
   },
   "outputs": [
    {
     "data": {
      "text/plain": [
       "array([b'      11', b'      12', b'      13', b'      14', b'      15',\n",
       "       b'      16', b'      17', b'      18', b'      21', b'      22',\n",
       "       b'      23', b'      24', b'      25', b'      26', b'      27',\n",
       "       b'      28', b'      31', b'      32', b'      33', b'      34',\n",
       "       b'      35', b'      36', b'      37', b'      38', b'      41',\n",
       "       b'      42', b'      43', b'      44', b'      45', b'      46',\n",
       "       b'      47', b'      48', b'      51', b'      52', b'      53',\n",
       "       b'      54', b'      55', b'      56', b'      57', b'      58',\n",
       "       b'      61', b'      62', b'      63', b'      64', b'      65',\n",
       "       b'      66', b'      67', b'      68', b'      71', b'      72',\n",
       "       b'      73', b'      74', b'      75', b'      76', b'      77',\n",
       "       b'      78', b'      81', b'      82', b'      83', b'      84',\n",
       "       b'      85', b'      86', b'      87', b'      88', b'      91',\n",
       "       b'      92', b'      93', b'      94', b'      95', b'      96',\n",
       "       b'      97', b'      98', b'     101', b'     102', b'     103',\n",
       "       b'     104', b'     105', b'     106', b'     107', b'     108',\n",
       "       b'     111', b'     112', b'     113', b'     114', b'     115',\n",
       "       b'     116', b'     117', b'     118', b'     121', b'     122',\n",
       "       b'     123', b'     124', b'     125', b'     126', b'     127',\n",
       "       b'     128', b'     131', b'     132', b'     133', b'     134',\n",
       "       b'     135', b'     136', b'     137', b'     138', b'     141',\n",
       "       b'     142', b'     143', b'     144', b'     145', b'     146',\n",
       "       b'     147', b'     148', b'     151', b'     152', b'     153',\n",
       "       b'     154', b'     155', b'     156', b'     157', b'     158',\n",
       "       b'     161', b'     162', b'     163', b'     164', b'     165',\n",
       "       b'     166', b'     167', b'     168'], dtype=object)"
      ]
     },
     "execution_count": 10,
     "metadata": {},
     "output_type": "execute_result"
    }
   ],
   "source": [
    "antenna_names"
   ]
  },
  {
   "cell_type": "code",
   "execution_count": 11,
   "metadata": {
    "collapsed": false
   },
   "outputs": [
    {
     "data": {
      "text/plain": [
       "['      11',\n",
       " '      12',\n",
       " '      13',\n",
       " '      14',\n",
       " '      15',\n",
       " '      16',\n",
       " '      17',\n",
       " '      18',\n",
       " '      21',\n",
       " '      22',\n",
       " '      23',\n",
       " '      24',\n",
       " '      25',\n",
       " '      26',\n",
       " '      27',\n",
       " '      28',\n",
       " '      31',\n",
       " '      32',\n",
       " '      33',\n",
       " '      34',\n",
       " '      35',\n",
       " '      36',\n",
       " '      37',\n",
       " '      38',\n",
       " '      41',\n",
       " '      42',\n",
       " '      43',\n",
       " '      44',\n",
       " '      45',\n",
       " '      46',\n",
       " '      47',\n",
       " '      48',\n",
       " '      51',\n",
       " '      52',\n",
       " '      53',\n",
       " '      54',\n",
       " '      55',\n",
       " '      56',\n",
       " '      57',\n",
       " '      58',\n",
       " '      61',\n",
       " '      62',\n",
       " '      63',\n",
       " '      64',\n",
       " '      65',\n",
       " '      66',\n",
       " '      67',\n",
       " '      68',\n",
       " '      71',\n",
       " '      72',\n",
       " '      73',\n",
       " '      74',\n",
       " '      75',\n",
       " '      76',\n",
       " '      77',\n",
       " '      78',\n",
       " '      81',\n",
       " '      82',\n",
       " '      83',\n",
       " '      84',\n",
       " '      85',\n",
       " '      86',\n",
       " '      87',\n",
       " '      88',\n",
       " '      91',\n",
       " '      92',\n",
       " '      93',\n",
       " '      94',\n",
       " '      95',\n",
       " '      96',\n",
       " '      97',\n",
       " '      98',\n",
       " '     101',\n",
       " '     102',\n",
       " '     103',\n",
       " '     104',\n",
       " '     105',\n",
       " '     106',\n",
       " '     107',\n",
       " '     108',\n",
       " '     111',\n",
       " '     112',\n",
       " '     113',\n",
       " '     114',\n",
       " '     115',\n",
       " '     116',\n",
       " '     117',\n",
       " '     118',\n",
       " '     121',\n",
       " '     122',\n",
       " '     123',\n",
       " '     124',\n",
       " '     125',\n",
       " '     126',\n",
       " '     127',\n",
       " '     128',\n",
       " '     131',\n",
       " '     132',\n",
       " '     133',\n",
       " '     134',\n",
       " '     135',\n",
       " '     136',\n",
       " '     137',\n",
       " '     138',\n",
       " '     141',\n",
       " '     142',\n",
       " '     143',\n",
       " '     144',\n",
       " '     145',\n",
       " '     146',\n",
       " '     147',\n",
       " '     148',\n",
       " '     151',\n",
       " '     152',\n",
       " '     153',\n",
       " '     154',\n",
       " '     155',\n",
       " '     156',\n",
       " '     157',\n",
       " '     158',\n",
       " '     161',\n",
       " '     162',\n",
       " '     163',\n",
       " '     164',\n",
       " '     165',\n",
       " '     166',\n",
       " '     167',\n",
       " '     168']"
      ]
     },
     "execution_count": 11,
     "metadata": {},
     "output_type": "execute_result"
    }
   ],
   "source": [
    "new_antenna_names = []\n",
    "for i in range(0,len(antenna_names)):\n",
    "     new_antenna_names.append(antenna_names[i].decode())\n",
    "    \n",
    "# new_antenna_names.tolist()\n",
    "new_antenna_names"
   ]
  },
  {
   "cell_type": "code",
   "execution_count": 12,
   "metadata": {
    "collapsed": false
   },
   "outputs": [
    {
     "ename": "SyntaxError",
     "evalue": "invalid syntax (<ipython-input-12-04f4253c71dc>, line 1)",
     "output_type": "error",
     "traceback": [
      "\u001b[0;36m  File \u001b[0;32m\"<ipython-input-12-04f4253c71dc>\"\u001b[0;36m, line \u001b[0;32m1\u001b[0m\n\u001b[0;31m    eastings =\u001b[0m\n\u001b[0m               ^\u001b[0m\n\u001b[0;31mSyntaxError\u001b[0m\u001b[0;31m:\u001b[0m invalid syntax\n"
     ]
    }
   ],
   "source": [
    "eastings = \n",
    "\n",
    "# # coordinate frame for antenna positions (eg 'ITRF' -also google ECEF)\n",
    "# # NB: ECEF has x running through long=0 and z through the north pole\n",
    "# 'xyz_telescope_frame'  : None,\n",
    "# # coordinates of array center in meters in coordinate frame\n",
    "# 'x_telescope'  : None,\n",
    "# 'y_telescope'  : None,\n",
    "# 'z_telescope'  : None,\n",
    "# # array giving coordinates of antennas relative to\n",
    "# # {x,y,z}_telescope in the same frame, (Nants,3)\n",
    "# 'antenna_positions'  : None,\n",
    "\n",
    "# # --- other stuff ---\n",
    "# # the below are copied from AIPS memo 117, but could be revised to\n",
    "# # merge with other sources of data.\n",
    "# # when available they are populated. user beware?\n",
    "# # Greenwich sidereal time at midnight on reference date\n",
    "# 'GST0'  : None,\n",
    "# 'RDate'  : None,  # date for which the GST0 or whatever... applies\n",
    "# # earth's rotation rate in degrees per day\n",
    "# # (might not be enough sigfigs)\n",
    "# 'earth_omega'  : 360.985,\n",
    "# 'DUT1'  : 0.0,        # DUT1 (google it) AIPS 117 calls it UT1UTC\n",
    "# 'TIMESYS'  : 'UTC',   # We only support UTC\n"
   ]
  },
  {
   "cell_type": "code",
   "execution_count": null,
   "metadata": {
    "collapsed": false
   },
   "outputs": [],
   "source": []
  },
  {
   "cell_type": "code",
   "execution_count": null,
   "metadata": {
    "collapsed": true
   },
   "outputs": [],
   "source": []
  },
  {
   "cell_type": "code",
   "execution_count": null,
   "metadata": {
    "collapsed": true
   },
   "outputs": [],
   "source": []
  }
 ],
 "metadata": {
  "kernelspec": {
   "display_name": "Python 3",
   "language": "python",
   "name": "python3"
  },
  "language_info": {
   "codemirror_mode": {
    "name": "ipython",
    "version": 3
   },
   "file_extension": ".py",
   "mimetype": "text/x-python",
   "name": "python",
   "nbconvert_exporter": "python",
   "pygments_lexer": "ipython3",
   "version": "3.5.1"
  }
 },
 "nbformat": 4,
 "nbformat_minor": 0
}
