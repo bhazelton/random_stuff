{
 "cells": [
  {
   "cell_type": "code",
   "execution_count": 19,
   "metadata": {
    "collapsed": true
   },
   "outputs": [],
   "source": [
    "import os.path as op\n",
    "from scipy.io.idl import readsav\n",
    "import pandas as pd\n",
    "import numpy as np\n",
    "import warnings\n",
    "from itertools import islice\n"
   ]
  },
  {
   "cell_type": "code",
   "execution_count": 25,
   "metadata": {
    "collapsed": false
   },
   "outputs": [],
   "source": [
    "filedir = '/Users/bryna/Documents/Physics/data_files/fhd_vis_data/'\n",
    "files = ['1061321792_vis_XX.sav', '1061321792_vis_YY.sav', '1061321792_flags.sav', '1061321792_params.sav',\n",
    "         '1061321792_settings.txt']\n",
    "filelist = []for f in files:\n",
    "    filelist.append(op.join(filedir, f))\n",
    "datafiles = {}\n",
    "params_file = None\n",
    "flags_file = None\n",
    "settings_file = None\n",
    "for file in filelist:\n",
    "    print(file)\n",
    "    if file.lower().endswith('_vis_xx.sav'):\n",
    "        datafiles['xx'] = xx_datafile = file\n",
    "    elif file.lower().endswith('_vis_yy.sav'):\n",
    "        datafiles['yy'] = yy_datafile = file\n",
    "    elif file.lower().endswith('_vis_xy.sav'):\n",
    "        datafiles['xy'] = xy_datafile = file\n",
    "    elif file.lower().endswith('_vis_yx.sav'):\n",
    "        datafiles['yx'] = yx_datafile = file\n",
    "    elif file.lower().endswith('_params.sav'):\n",
    "        params_file = file\n",
    "    elif file.lower().endswith('_flags.sav'):\n",
    "        flags_file = file\n",
    "    elif file.lower().endswith('_settings.txt'):\n",
    "        settings_file = file\n",
    "    else:\n",
    "        print(file + ' is not a recognized fhd file type')\n",
    "\n",
    "if len(datafiles) < 1:\n",
    "    raise StandardError('No data files included in file list')\n",
    "if params_file is None:\n",
    "    raise StandardError('No params file included in file list')\n",
    "if flags_file is None:\n",
    "    raise StandardError('No flags file included in file list')\n",
    "if settings_file is None:\n",
    "    warnings.warn('No flags file included in file list')"
   ]
  },
  {
   "cell_type": "code",
   "execution_count": 3,
   "metadata": {
    "collapsed": false
   },
   "outputs": [],
   "source": [
    "vis_data = {}\n",
    "for pol, file in datafiles.items():\n",
    "    this_dict = readsav(file, python_dict=True)\n",
    "    vis_data[pol] = this_dict['vis_ptr']\n",
    "    this_obs = pd.DataFrame(this_dict['obs'])\n",
    "\n",
    "obs = this_obs\n",
    "bl_info = pd.DataFrame(obs['BASELINE_INFO'][0])\n",
    "meta_data = pd.DataFrame(obs['META_DATA'][0])\n",
    "astrometry = pd.DataFrame(obs['ASTR'][0])\n",
    "fhd_pol_list = []\n",
    "for pol in obs['POL_NAMES'][0]:\n",
    "    fhd_pol_list.append(pol.decode(\"utf-8\").lower())\n",
    "\n",
    "params_dict = readsav(params_file, python_dict=True)\n",
    "params = pd.DataFrame(params_dict['params'])\n",
    "\n",
    "flags_dict = readsav(flags_file, python_dict=True)\n",
    "flag_data = {}\n",
    "for index, f in enumerate(flags_dict['flag_arr']):\n",
    "    flag_data[fhd_pol_list[index]] = f"
   ]
  },
  {
   "cell_type": "code",
   "execution_count": null,
   "metadata": {
    "collapsed": true
   },
   "outputs": [],
   "source": [
    "Ntimes = obs['N_TIME']\n",
    "Nbls = obs['NBASELINES']\n",
    "Nblts = Ntimes * Nbls\n",
    "Nfreqs = obs['N_FREQ']\n",
    "Npols = len(vis_data.keys())\n",
    "Nspws = 1\n",
    "spw_array = [1]\n",
    "vis_units = ['Jy']\n",
    "\n",
    "lin_pol_order = ['xx','yy','xy','yx']\n",
    "linear_pol_dict = dict(zip(lin_pol_order, np.arange(5,9)*-1))\n",
    "pol_list = []\n",
    "for pol in lin_pol_order:\n",
    "    if pol in vis_data:\n",
    "        pol_list.append(linear_pol_dict[pol])\n",
    "polarization_array = np.asarray(pol_list)\n",
    "print(polarization_array)\n"
   ]
  },
  {
   "cell_type": "code",
   "execution_count": null,
   "metadata": {
    "collapsed": true
   },
   "outputs": [],
   "source": [
    "data_array = np.zeros((Nblts,Nspws,Nfreqs,Npols),dtype=np.complex_)\n",
    "nsample_array = np.zeros((Nblts,Nspws,Nfreqs,Npols),dtype=np.complex_)\n",
    "flag_array = np.zeros((Nblts,Nspws,Nfreqs,Npols),dtype=np.bool_)\n",
    "for pol,vis in vis_data.items():\n",
    "    pol_i = pol_list.index(linear_pol_dict[pol])\n",
    "    data_array[:,0,:, pol_i] = vis\n",
    "    flag_array[:,0,:, pol_i] = flag_data[pol] <= 0\n",
    "    nsample_array[:,0,:, pol_i] = np.abs(flag_data[pol])\n"
   ]
  },
  {
   "cell_type": "code",
   "execution_count": 4,
   "metadata": {
    "collapsed": false
   },
   "outputs": [
    {
     "data": {
      "text/plain": [
       "Index(['CODE_VERSION', 'INSTRUMENT', 'OBSNAME', 'DIMENSION', 'ELEMENTS',\n",
       "       'NBASELINES', 'DFT_THRESHOLD', 'KPIX', 'DEGPIX', 'OBSAZ', 'OBSALT',\n",
       "       'OBSRA', 'OBSDEC', 'ZENRA', 'ZENDEC', 'OBSX', 'OBSY', 'ZENX', 'ZENY',\n",
       "       'PHASERA', 'PHASEDEC', 'ORIG_PHASERA', 'ORIG_PHASEDEC', 'N_POL',\n",
       "       'N_TILE', 'N_TILE_FLAG', 'N_FREQ', 'N_FREQ_FLAG', 'N_TIME',\n",
       "       'N_TIME_FLAG', 'N_VIS', 'N_VIS_IN', 'N_VIS_RAW', 'NF_VIS',\n",
       "       'BEAM_INTEGRAL', 'POL_NAMES', 'JD0', 'MAX_BASELINE', 'MIN_BASELINE',\n",
       "       'DELAYS', 'LON', 'LAT', 'ALT', 'FREQ_CENTER', 'FREQ_RES', 'TIME_RES',\n",
       "       'ASTR', 'ALPHA', 'PFLAG', 'CAL', 'RESIDUAL', 'VIS_NOISE',\n",
       "       'BASELINE_INFO', 'META_DATA', 'META_HDR', 'DEGRID_SPECTRAL_TERMS',\n",
       "       'GRID_SPECTRAL_TERMS', 'GRID_INFO', 'HEALPIX'],\n",
       "      dtype='object')"
      ]
     },
     "execution_count": 4,
     "metadata": {},
     "output_type": "execute_result"
    }
   ],
   "source": [
    "obs.columns"
   ]
  },
  {
   "cell_type": "code",
   "execution_count": 5,
   "metadata": {
    "collapsed": false
   },
   "outputs": [
    {
     "data": {
      "text/plain": [
       "Index(['INPUT', 'ANTENNA', 'TILE', 'POL', 'RX', 'SLOT', 'FLAG', 'LENGTH',\n",
       "       'NORTH', 'EAST', 'HEIGHT', 'GAINS', 'DELAYS'],\n",
       "      dtype='object')"
      ]
     },
     "execution_count": 5,
     "metadata": {},
     "output_type": "execute_result"
    }
   ],
   "source": [
    "meta_data.columns"
   ]
  },
  {
   "cell_type": "code",
   "execution_count": 6,
   "metadata": {
    "collapsed": false
   },
   "outputs": [
    {
     "data": {
      "text/plain": [
       "Index(['NAXIS', 'CD', 'CDELT', 'CRPIX', 'CRVAL', 'CTYPE', 'LONGPOLE',\n",
       "       'LATPOLE', 'PV2', 'PV1', 'AXES', 'REVERSE', 'COORD_SYS', 'PROJECTION',\n",
       "       'KNOWN', 'RADECSYS', 'EQUINOX', 'DATEOBS', 'MJDOBS', 'X0Y0'],\n",
       "      dtype='object')"
      ]
     },
     "execution_count": 6,
     "metadata": {},
     "output_type": "execute_result"
    }
   ],
   "source": [
    "astrometry.columns"
   ]
  },
  {
   "cell_type": "code",
   "execution_count": 46,
   "metadata": {
    "collapsed": false
   },
   "outputs": [
    {
     "name": "stderr",
     "output_type": "stream",
     "text": [
      "//anaconda/lib/python3.5/site-packages/ipykernel/__main__.py:2: DeprecationWarning: using a non-integer number instead of an integer will result in an error in the future\n",
      "  from ipykernel import kernelapp as app\n"
     ]
    }
   ],
   "source": [
    "\n",
    "uvw_array = np.zeros((3,Nblts))\n",
    "uvw_array[0,:] = params['UU'][0]\n",
    "uvw_array[1,:] = params['VV'][0]\n",
    "uvw_array[2,:] = params['WW'][0]\n",
    "\n",
    "time_array = params['TIME'][0] + obs['JD0'][0]\n",
    "\n",
    "ant_1_array = bl_info['TILE_A'][0]\n",
    "ant_2_array = bl_info['TILE_B'][0]\n",
    "\n",
    "baseline_array = params['BASELINE_ARR'][0] # should really calculate this from the antenna arrays using bl_to_ij\n",
    "\n",
    "freq_array = bl_info['FREQ'][0]\n",
    "phase_center_ra = obs['PHASERA']\n",
    "phase_center_dec = obs['PHASEDEC']\n",
    "\n",
    "integration_time = obs['TIME_RES'] # why isn't this quite 2? Do we care?\n",
    "channel_width = obs['FREQ_RES']\n",
    "\n",
    "# # --- observation information ---\n",
    "# object_name -- don't know if this exists in fhd save files\n",
    "telescope_name = obs['INSTRUMENT'][0].decode(\"utf-8\")\n",
    "instrument = telescope_name\n",
    "latitude = obs['LAT']\n",
    "longitude = obs['LON']\n",
    "altitude = obs['ALT']\n",
    "dateobs = obs['JD0'] # check this!\n",
    "\n",
    "# history\n",
    "history_list = ['fhd settings info']\n",
    "if not settings_file is None:\n",
    "    with open(settings_file) as f:\n",
    "        head = list(islice(f, 11))\n",
    "    for line in head:\n",
    "        newline = ' '.join(str.split(line))\n",
    "        if not line.startswith('##'):\n",
    "            history_list.append(newline)\n",
    "    history = history_list     \n",
    "\n",
    "phase_center_epoch = astrometry['EQUINOX']\n",
    "\n",
    "Nants = max([max(ant_1_array), max(ant_2_array)])\n",
    "antenna_names = bl_info['TILE_NAMES'][0]\n",
    "antenna_indices = np.arange(Nants)\n",
    "\n",
    "\n",
    "# # coordinate frame for antenna positions (eg 'ITRF' -also google ECEF)\n",
    "# # NB: ECEF has x running through long=0 and z through the north pole\n",
    "# 'xyz_telescope_frame'  : None,\n",
    "# # coordinates of array center in meters in coordinate frame\n",
    "# 'x_telescope'  : None,\n",
    "# 'y_telescope'  : None,\n",
    "# 'z_telescope'  : None,\n",
    "# # array giving coordinates of antennas relative to\n",
    "# # {x,y,z}_telescope in the same frame, (Nants,3)\n",
    "# 'antenna_positions'  : None,\n",
    "\n",
    "# # --- other stuff ---\n",
    "# # the below are copied from AIPS memo 117, but could be revised to\n",
    "# # merge with other sources of data.\n",
    "# # when available they are populated. user beware?\n",
    "# # Greenwich sidereal time at midnight on reference date\n",
    "# 'GST0'  : None,\n",
    "# 'RDate'  : None,  # date for which the GST0 or whatever... applies\n",
    "# # earth's rotation rate in degrees per day\n",
    "# # (might not be enough sigfigs)\n",
    "# 'earth_omega'  : 360.985,\n",
    "# 'DUT1'  : 0.0,        # DUT1 (google it) AIPS 117 calls it UT1UTC\n",
    "# 'TIMESYS'  : 'UTC',   # We only support UTC\n"
   ]
  },
  {
   "cell_type": "code",
   "execution_count": 20,
   "metadata": {
    "collapsed": false
   },
   "outputs": [],
   "source": []
  },
  {
   "cell_type": "code",
   "execution_count": 29,
   "metadata": {
    "collapsed": false
   },
   "outputs": [
    {
     "data": {
      "text/plain": [
       "Index(['CODE_VERSION', 'INSTRUMENT', 'OBSNAME', 'DIMENSION', 'ELEMENTS',\n",
       "       'NBASELINES', 'DFT_THRESHOLD', 'KPIX', 'DEGPIX', 'OBSAZ', 'OBSALT',\n",
       "       'OBSRA', 'OBSDEC', 'ZENRA', 'ZENDEC', 'OBSX', 'OBSY', 'ZENX', 'ZENY',\n",
       "       'PHASERA', 'PHASEDEC', 'ORIG_PHASERA', 'ORIG_PHASEDEC', 'N_POL',\n",
       "       'N_TILE', 'N_TILE_FLAG', 'N_FREQ', 'N_FREQ_FLAG', 'N_TIME',\n",
       "       'N_TIME_FLAG', 'N_VIS', 'N_VIS_IN', 'N_VIS_RAW', 'NF_VIS',\n",
       "       'BEAM_INTEGRAL', 'POL_NAMES', 'JD0', 'MAX_BASELINE', 'MIN_BASELINE',\n",
       "       'DELAYS', 'LON', 'LAT', 'ALT', 'FREQ_CENTER', 'FREQ_RES', 'TIME_RES',\n",
       "       'ASTR', 'ALPHA', 'PFLAG', 'CAL', 'RESIDUAL', 'VIS_NOISE',\n",
       "       'BASELINE_INFO', 'META_DATA', 'META_HDR', 'DEGRID_SPECTRAL_TERMS',\n",
       "       'GRID_SPECTRAL_TERMS', 'GRID_INFO', 'HEALPIX'],\n",
       "      dtype='object')"
      ]
     },
     "execution_count": 29,
     "metadata": {},
     "output_type": "execute_result"
    }
   ],
   "source": []
  },
  {
   "cell_type": "code",
   "execution_count": null,
   "metadata": {
    "collapsed": true
   },
   "outputs": [],
   "source": []
  }
 ],
 "metadata": {
  "kernelspec": {
   "display_name": "Python 3",
   "language": "python",
   "name": "python3"
  },
  "language_info": {
   "codemirror_mode": {
    "name": "ipython",
    "version": 3
   },
   "file_extension": ".py",
   "mimetype": "text/x-python",
   "name": "python",
   "nbconvert_exporter": "python",
   "pygments_lexer": "ipython3",
   "version": "3.5.1"
  }
 },
 "nbformat": 4,
 "nbformat_minor": 0
}
