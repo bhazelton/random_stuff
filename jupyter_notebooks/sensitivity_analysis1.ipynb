{
 "cells": [
  {
   "cell_type": "code",
   "execution_count": 1,
   "metadata": {},
   "outputs": [],
   "source": [
    "import numpy as np\n",
    "import matplotlib.pyplot as plt\n"
   ]
  },
  {
   "cell_type": "code",
   "execution_count": 49,
   "metadata": {},
   "outputs": [
    {
     "name": "stdout",
     "output_type": "stream",
     "text": [
      "2.990035732323311 2.9775294776764123\n"
     ]
    }
   ],
   "source": [
    "nvals = 10000\n",
    "a, b = -3, 3\n",
    "var1 = np.random.uniform(a,b,nvals)\n",
    "var2 = np.random.uniform(a,b,nvals)\n",
    "var3 = np.random.uniform(a,b,nvals)\n",
    "print(np.var(var1), np.var(var2))"
   ]
  },
  {
   "cell_type": "code",
   "execution_count": 50,
   "metadata": {},
   "outputs": [
    {
     "data": {
      "image/png": "[encoded data removed]",
      "text/plain": [
       "<Figure size 432x288 with 1 Axes>"
      ]
     },
     "metadata": {
      "needs_background": "light"
     },
     "output_type": "display_data"
    }
   ],
   "source": [
    "_ = plt.hist(var1, bins=50)"
   ]
  },
  {
   "cell_type": "code",
   "execution_count": 51,
   "metadata": {},
   "outputs": [
    {
     "data": {
      "text/plain": [
       "7.255468126166635"
      ]
     },
     "execution_count": 51,
     "metadata": {},
     "output_type": "execute_result"
    }
   ],
   "source": [
    "var1_2 = var1**2\n",
    "np.var(var1_2)"
   ]
  },
  {
   "cell_type": "code",
   "execution_count": 52,
   "metadata": {},
   "outputs": [
    {
     "data": {
      "text/plain": [
       "[<matplotlib.lines.Line2D at 0x7fbf7ee37ac0>]"
      ]
     },
     "execution_count": 52,
     "metadata": {},
     "output_type": "execute_result"
    },
    {
     "data": {
      "image/png": "[encoded data removed]",
      "text/plain": [
       "<Figure size 432x288 with 1 Axes>"
      ]
     },
     "metadata": {
      "needs_background": "light"
     },
     "output_type": "display_data"
    }
   ],
   "source": [
    "nbins=51\n",
    "if np.sign(a) == np.sign(b):\n",
    "    sq_min = np.min([a**2, b**2])\n",
    "else:\n",
    "    sq_min = 0\n",
    "sq_max = np.max([a**2, b**2])\n",
    "sq_len = sq_max - sq_min\n",
    "bins = (np.arange(nbins) * sq_len) / (nbins-1) + sq_min\n",
    "assert max(bins) > max(var1_2)\n",
    "assert min(bins) < min(var1_2)\n",
    "\n",
    "hist_var1_2, bins_arv1_2, _ = plt.hist(var1_2, bins=bins, density=True)\n",
    "bin_centers = bins[:-1] + np.diff(bins)/2.\n",
    "\n",
    "if sq_min == 0:\n",
    "    if abs(a) > 0 and abs(b) > 0:\n",
    "        neg_mask = bin_centers<a**2\n",
    "        pos_mask = bin_centers<b**2\n",
    "        expected = (1/(4*abs(a)*np.sqrt(bin_centers)))*neg_mask + (1/(4*abs(b)*np.sqrt(bin_centers)))*pos_mask \n",
    "    else:\n",
    "        expected = (1/(2*abs(b-a)*np.sqrt(bin_centers)))\n",
    "else:\n",
    "    expected = (1/(2*(b-a)*np.sqrt(bin_centers)))\n",
    "plt.plot(bin_centers, expected)"
   ]
  },
  {
   "cell_type": "code",
   "execution_count": 53,
   "metadata": {},
   "outputs": [
    {
     "data": {
      "text/plain": [
       "8.932288246729675"
      ]
     },
     "execution_count": 53,
     "metadata": {},
     "output_type": "execute_result"
    }
   ],
   "source": [
    "var1_var2 = var1 * var2\n",
    "np.var(var1_var2)"
   ]
  },
  {
   "cell_type": "code",
   "execution_count": 54,
   "metadata": {},
   "outputs": [
    {
     "data": {
      "image/png": "[encoded data removed]",
      "text/plain": [
       "<Figure size 432x288 with 1 Axes>"
      ]
     },
     "metadata": {
      "needs_background": "light"
     },
     "output_type": "display_data"
    }
   ],
   "source": [
    "if np.sign(a) == np.sign(b):\n",
    "    prod_min = np.min([a**2, b**2])\n",
    "else:\n",
    "    prod_min = a * b\n",
    "prod_max = np.max([a**2, b**2])\n",
    "prod_len = prod_max - prod_min\n",
    "bins = (np.arange(nbins) * prod_len) / (nbins-1) + prod_min\n",
    "assert max(bins) > max(var1_var2)\n",
    "assert min(bins) < min(var1_var2)\n",
    "hist_var1_2, bins_arv1_2, _ = plt.hist(var1_var2, bins=bins, density=True)\n",
    "\n"
   ]
  },
  {
   "cell_type": "code",
   "execution_count": 55,
   "metadata": {},
   "outputs": [
    {
     "data": {
      "text/plain": [
       "26.81980013746466"
      ]
     },
     "execution_count": 55,
     "metadata": {},
     "output_type": "execute_result"
    }
   ],
   "source": [
    "var1_var2_var3 = var1 * var2 * var3\n",
    "np.var(var1_var2_var3)"
   ]
  },
  {
   "cell_type": "code",
   "execution_count": 56,
   "metadata": {},
   "outputs": [
    {
     "data": {
      "image/png": "[encoded data removed]",
      "text/plain": [
       "<Figure size 432x288 with 1 Axes>"
      ]
     },
     "metadata": {
      "needs_background": "light"
     },
     "output_type": "display_data"
    }
   ],
   "source": [
    "prod_min = np.min([a**3, b**3])\n",
    "prod_max = np.max([a**3, b**3])\n",
    "prod_len = prod_max - prod_min\n",
    "bins = (np.arange(nbins) * prod_len) / (nbins-1) + prod_min\n",
    "assert max(bins) > max(var1_var2)\n",
    "assert min(bins) < min(var1_var2)\n",
    "hist_var1_2, bins_arv1_2, _ = plt.hist(var1_var2_var3, bins=bins, density=True)\n",
    "\n"
   ]
  },
  {
   "cell_type": "code",
   "execution_count": null,
   "metadata": {},
   "outputs": [],
   "source": []
  }
 ],
 "metadata": {
  "kernelspec": {
   "display_name": "Python 3",
   "language": "python",
   "name": "python3"
  },
  "language_info": {
   "codemirror_mode": {
    "name": "ipython",
    "version": 3
   },
   "file_extension": ".py",
   "mimetype": "text/x-python",
   "name": "python",
   "nbconvert_exporter": "python",
   "pygments_lexer": "ipython3",
   "version": "3.8.2"
  }
 },
 "nbformat": 4,
 "nbformat_minor": 4
}
