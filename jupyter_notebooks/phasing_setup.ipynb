{
 "cells": [
  {
   "cell_type": "code",
   "execution_count": 1,
   "metadata": {
    "collapsed": false
   },
   "outputs": [
    {
     "name": "stdout",
     "output_type": "stream",
     "text": [
      "10:35:57.83 -30:43:17.5\n",
      "10:45:57.83 -30:43:17.5\n",
      "J2000\n",
      "10:35:11.98 -30:38:10.2\n",
      "10:45:11.44 -30:38:05.3\n"
     ]
    }
   ],
   "source": [
    "import ephem\n",
    "\n",
    "precess_pos = ephem.FixedBody()\n",
    "precess_pos._ra = '10:35:57.83'\n",
    "precess_pos._dec = -0.536191810965\n",
    "precess_pos._epoch = '2016/6/8 16:00:23'\n",
    "\n",
    "print precess_pos._ra, precess_pos._dec\n",
    "print '10:45:57.83', precess_pos._dec\n",
    "\n",
    "precess_pos.compute(epoch=ephem.J2000)\n",
    "print 'J2000'\n",
    "print precess_pos.a_ra, precess_pos.a_dec\n",
    "\n",
    "del(precess_pos)\n",
    "\n",
    "#now increase ra and epoch by 10 minutes\n",
    "precess_pos = ephem.FixedBody()\n",
    "precess_pos._ra = '10:45:57.83'\n",
    "precess_pos._dec = -0.536191810965\n",
    "precess_pos._epoch = '2016/6/8 16:10:23'\n",
    "\n",
    "precess_pos.compute(epoch=ephem.J2000)\n",
    "print precess_pos.a_ra, precess_pos.a_dec\n"
   ]
  },
  {
   "cell_type": "code",
   "execution_count": 2,
   "metadata": {
    "collapsed": false,
    "scrolled": true
   },
   "outputs": [
    {
     "name": "stdout",
     "output_type": "stream",
     "text": [
      "10h35m57.83s -30d43m17.5s\n",
      "10h45m57.83s -30d43m17.5s\n",
      "FK5 J2000\n",
      "10h35m11.9819s -30d38m10.1998s\n",
      "10h45m11.4474s -30d38m05.3207s\n",
      "icrs\n",
      "10h35m11.9798s -30d38m10.1841s\n",
      "10h45m11.4452s -30d38m05.3057s\n"
     ]
    }
   ],
   "source": [
    "import astropy.units as units\n",
    "from astropy.coordinates import EarthLocation, SkyCoord, FK5, Angle\n",
    "fk5c_1 = SkyCoord('10h35m57.83s', Angle(-0.536191810965, unit='radian'), frame=FK5, equinox='2016-6-8T16:00:23')\n",
    "fk5_2000 = FK5(equinox='J2000')\n",
    "precess_pos1 = fk5c_1.transform_to(fk5_2000)\n",
    "precess_pos1_icrs = fk5c_1.transform_to('icrs')\n",
    "\n",
    "fk5c_2 = SkyCoord('10h45m57.83s', Angle(-0.536191810965, unit='radian'), frame=FK5, equinox='2016-6-8T16:10:23')\n",
    "precess_pos2 = fk5c_2.transform_to(fk5_2000)\n",
    "precess_pos2_icrs = fk5c_2.transform_to('icrs')\n",
    "\n",
    "print fk5c_1.ra.to_string(unit='hourangle', sep='hms'), fk5c_1.dec\n",
    "print fk5c_2.ra.to_string(unit='hourangle', sep='hms'), fk5c_2.dec\n",
    "print 'FK5 J2000'\n",
    "print precess_pos1.ra.to_string(unit='hourangle', sep='hms'), precess_pos1.dec\n",
    "print precess_pos2.ra.to_string(unit='hourangle', sep='hms'), precess_pos2.dec\n",
    "print 'icrs'\n",
    "print precess_pos1_icrs.ra.to_string(unit='hourangle', sep='hms'), precess_pos1_icrs.dec\n",
    "print precess_pos2_icrs.ra.to_string(unit='hourangle', sep='hms'), precess_pos2_icrs.dec\n"
   ]
  },
  {
   "cell_type": "markdown",
   "metadata": {
    "collapsed": true
   },
   "source": [
    "Now try to figure out how to get \"current RA/Dec\" with astropy"
   ]
  },
  {
   "cell_type": "code",
   "execution_count": 13,
   "metadata": {
    "collapsed": false
   },
   "outputs": [
    {
     "name": "stdout",
     "output_type": "stream",
     "text": [
      "10h35m57.2539s -30d43m17.5s\n",
      "icrs:\n",
      "10h35m11.5052s -30d37m56.8212s\n",
      "obs:\n",
      "10h35m57.3557s -30d43m04.133s\n"
     ]
    }
   ],
   "source": [
    "from astropy.time import Time\n",
    "obs_time = '2016-6-8T16:00:23'\n",
    "array_location = EarthLocation(lat='-30d43m17.5s', lon='21d25m41.9s',\n",
    "                               height=1073.)\n",
    "\n",
    "source_coord = SkyCoord(alt=Angle(90 * units.deg), az=Angle(0 * units.deg),\n",
    "                        obstime=obs_time, frame='altaz', location=array_location)\n",
    "icrs_coord = source_coord.transform_to('icrs')\n",
    "\n",
    "ra_icrs = icrs_coord.ra\n",
    "dec_icrs = icrs_coord.dec\n",
    "\n",
    "t_obj = Time(obs_time, scale='utc', location=(array_location.lon, array_location.lat))\n",
    "lst = t_obj.sidereal_time('apparent')\n",
    "print lst.to_string(unit='hourangle', sep='hms'), array_location.lat\n",
    "\n",
    "print 'icrs:'\n",
    "print ra_icrs.to_string(unit='hourangle', sep='hms'), dec_icrs\n",
    "\n",
    "obs_coord = source_coord.transform_to(FK5(equinox=obs_time))\n",
    "ra_obs = obs_coord.ra\n",
    "dec_obs = obs_coord.dec\n",
    "print 'obs:'\n",
    "print ra_obs.to_string(unit='hourangle', sep='hms'), dec_obs\n"
   ]
  },
  {
   "cell_type": "code",
   "execution_count": 28,
   "metadata": {
    "collapsed": false
   },
   "outputs": [
    {
     "data": {
      "text/plain": [
       "0.017202885878270565"
      ]
     },
     "execution_count": 28,
     "metadata": {},
     "output_type": "execute_result"
    }
   ],
   "source": [
    "from astropy.time import TimeDelta\n",
    "t1 = Time('2016-6-8T16:00:23', scale='utc', location=(array_location.lon, array_location.lat))\n",
    "t2 = Time('2016-6-9T16:00:23', scale='utc', location=(array_location.lon, array_location.lat))\n",
    "delta_lst = t2.sidereal_time('apparent') - t1.sidereal_time('apparent') \n",
    "delta_lst.rad"
   ]
  },
  {
   "cell_type": "code",
   "execution_count": 33,
   "metadata": {
    "collapsed": false
   },
   "outputs": [
    {
     "name": "stdout",
     "output_type": "stream",
     "text": [
      "2016-06-08T16:00:25.000\n"
     ]
    },
    {
     "data": {
      "text/plain": [
       "0.00014584232149872391"
      ]
     },
     "execution_count": 33,
     "metadata": {},
     "output_type": "execute_result"
    }
   ],
   "source": [
    "t1 = Time('2016-6-8T16:00:23', scale='utc', location=(array_location.lon, array_location.lat))\n",
    "dt = TimeDelta(2.0, format='sec')\n",
    "t2 = t1 + dt\n",
    "print(t2)\n",
    "delta_lst = t2.sidereal_time('apparent') - t1.sidereal_time('apparent') \n",
    "delta_lst.rad"
   ]
  },
  {
   "cell_type": "code",
   "execution_count": null,
   "metadata": {
    "collapsed": true
   },
   "outputs": [],
   "source": []
  }
 ],
 "metadata": {
  "kernelspec": {
   "display_name": "Python 2",
   "language": "python",
   "name": "python2"
  },
  "language_info": {
   "codemirror_mode": {
    "name": "ipython",
    "version": 2
   },
   "file_extension": ".py",
   "mimetype": "text/x-python",
   "name": "python",
   "nbconvert_exporter": "python",
   "pygments_lexer": "ipython2",
   "version": "2.7.15"
  }
 },
 "nbformat": 4,
 "nbformat_minor": 0
}
