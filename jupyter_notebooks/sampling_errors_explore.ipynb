{
 "cells": [
  {
   "cell_type": "code",
   "execution_count": 1,
   "metadata": {},
   "outputs": [],
   "source": [
    "import numpy as np\n",
    "import matplotlib.pyplot as plt\n",
    "\n"
   ]
  },
  {
   "cell_type": "markdown",
   "metadata": {},
   "source": [
    "## Sampling statistics\n",
    "\n",
    "Sampling statistics follow a hypergeometric distribution.\n",
    "\n",
    "distribution parameters:\n",
    "- Population size (N)\n",
    "- Number in the demographic of interest (M)\n",
    "- sample size (n)\n",
    "\n",
    "other parameters: \n",
    "- sample ratio: n/N\n",
    "- fraction in demographic of interest: M/N\n",
    "\n",
    "measurements:\n",
    "- number in demographic in sample (Hypergeometric): mu = nM/N, sample_dem_pop\n",
    "- standard error (sqrt variance) on mu: se_mu = sqrt((N-n)/(N-1) * (nM/N) * (1-M/N)), sample_dem_pop_se\n",
    "\n",
    "census reported values:\n",
    "- sample ratio: (1/6)\n",
    "- population size: = n / sample ratio = N\n",
    "- number in demographic of interest: mu / sample ratio = M, census_dem_pop\n",
    "- standard error on M: se_M = se_mu / sample_ratio, census_dem_pop_se\n",
    "- fraction of demographic of interest (fraction): mu / n = M/N, sample_fraction\n",
    "- standard error on demographic fraction: se_fraction = sqrt((1/n) * (N-n)/(N-1) * fraction * (1-fraction))"
   ]
  },
  {
   "cell_type": "code",
   "execution_count": 2,
   "metadata": {},
   "outputs": [],
   "source": [
    "census_sample_ratio = 1/6."
   ]
  },
  {
   "cell_type": "code",
   "execution_count": 3,
   "metadata": {},
   "outputs": [],
   "source": [
    "census_pop = 500\n",
    "census_dem_pop = 50"
   ]
  },
  {
   "cell_type": "code",
   "execution_count": 4,
   "metadata": {},
   "outputs": [],
   "source": [
    "sample_dem_pop = census_dem_pop * census_sample_ratio\n",
    "sample_dem_pop_se = np.sqrt(\n",
    "    (census_pop - census_pop * census_sample_ratio)/(census_pop-1)\n",
    "    * (census_dem_pop*census_sample_ratio)\n",
    "    * (1-census_dem_pop/census_pop)\n",
    ")"
   ]
  },
  {
   "cell_type": "code",
   "execution_count": 5,
   "metadata": {},
   "outputs": [
    {
     "name": "stdout",
     "output_type": "stream",
     "text": [
      "8.333333333333332\n",
      "2.502503756260957\n"
     ]
    }
   ],
   "source": [
    "print(sample_dem_pop)\n",
    "print(sample_dem_pop_se)"
   ]
  },
  {
   "cell_type": "code",
   "execution_count": 6,
   "metadata": {},
   "outputs": [
    {
     "data": {
      "text/plain": [
       "15.015022537565741"
      ]
     },
     "execution_count": 6,
     "metadata": {},
     "output_type": "execute_result"
    }
   ],
   "source": [
    "census_dem_pop_se = sample_dem_pop_se / census_sample_ratio\n",
    "census_dem_pop_se"
   ]
  },
  {
   "cell_type": "code",
   "execution_count": 7,
   "metadata": {},
   "outputs": [
    {
     "name": "stdout",
     "output_type": "stream",
     "text": [
      "0.1\n",
      "0.030030045075131486\n"
     ]
    }
   ],
   "source": [
    "sample_fraction = census_dem_pop / census_pop\n",
    "sample_fraction_se = np.sqrt(\n",
    "    1/(census_sample_ratio*census_pop)\n",
    "    * (census_pop - census_pop * census_sample_ratio)/(census_pop-1)\n",
    "    * sample_fraction\n",
    "    * (1-sample_fraction)\n",
    ")\n",
    "print(sample_fraction)\n",
    "print(sample_fraction_se)"
   ]
  },
  {
   "cell_type": "code",
   "execution_count": 8,
   "metadata": {},
   "outputs": [],
   "source": [
    "def fraction_standard_error(fraction, population, sample_rate=1/6):\n",
    "    return np.sqrt(\n",
    "        1/(sample_rate * population)\n",
    "        * (population - population * sample_rate)/(population-1)\n",
    "        * fraction\n",
    "        * (1-fraction)\n",
    "    )"
   ]
  },
  {
   "cell_type": "code",
   "execution_count": 9,
   "metadata": {},
   "outputs": [
    {
     "data": {
      "text/plain": [
       "0.030030045075131486"
      ]
     },
     "execution_count": 9,
     "metadata": {},
     "output_type": "execute_result"
    }
   ],
   "source": [
    "fraction_standard_error(0.1, 500)"
   ]
  },
  {
   "cell_type": "code",
   "execution_count": 10,
   "metadata": {},
   "outputs": [
    {
     "data": {
      "text/plain": [
       "0.01401402103506136"
      ]
     },
     "execution_count": 10,
     "metadata": {},
     "output_type": "execute_result"
    }
   ],
   "source": [
    "fraction_standard_error(0.02, 500)"
   ]
  },
  {
   "cell_type": "code",
   "execution_count": 11,
   "metadata": {},
   "outputs": [
    {
     "data": {
      "text/plain": [
       "0.0031638615709414595"
      ]
     },
     "execution_count": 11,
     "metadata": {},
     "output_type": "execute_result"
    }
   ],
   "source": [
    "fraction_standard_error(0.001, 500)"
   ]
  },
  {
   "cell_type": "code",
   "execution_count": 12,
   "metadata": {},
   "outputs": [],
   "source": [
    "def percent_standard_error(percent, population, sample_rate=1/6):\n",
    "    return 100*fraction_standard_error(percent/100., population, sample_rate)"
   ]
  },
  {
   "cell_type": "code",
   "execution_count": 13,
   "metadata": {},
   "outputs": [
    {
     "data": {
      "text/plain": [
       "3.0030045075131486"
      ]
     },
     "execution_count": 13,
     "metadata": {},
     "output_type": "execute_result"
    }
   ],
   "source": [
    "percent_standard_error(10, 500)"
   ]
  },
  {
   "cell_type": "code",
   "execution_count": 14,
   "metadata": {},
   "outputs": [
    {
     "data": {
      "text/plain": [
       "1.401402103506136"
      ]
     },
     "execution_count": 14,
     "metadata": {},
     "output_type": "execute_result"
    }
   ],
   "source": [
    "percent_standard_error(2, 500)"
   ]
  },
  {
   "cell_type": "code",
   "execution_count": 15,
   "metadata": {},
   "outputs": [
    {
     "data": {
      "text/plain": [
       "0.9959839195167117"
      ]
     },
     "execution_count": 15,
     "metadata": {},
     "output_type": "execute_result"
    }
   ],
   "source": [
    "percent_standard_error(1, 500)"
   ]
  },
  {
   "cell_type": "code",
   "execution_count": 16,
   "metadata": {},
   "outputs": [
    {
     "data": {
      "text/plain": [
       "0.31638615709414597"
      ]
     },
     "execution_count": 16,
     "metadata": {},
     "output_type": "execute_result"
    }
   ],
   "source": [
    "percent_standard_error(.1, 500)"
   ]
  },
  {
   "cell_type": "code",
   "execution_count": 17,
   "metadata": {},
   "outputs": [
    {
     "data": {
      "text/plain": [
       "0.4427631509527056"
      ]
     },
     "execution_count": 17,
     "metadata": {},
     "output_type": "execute_result"
    }
   ],
   "source": [
    "percent_standard_error(2, 5000)"
   ]
  },
  {
   "cell_type": "code",
   "execution_count": 18,
   "metadata": {},
   "outputs": [
    {
     "data": {
      "text/plain": [
       "0.9487781806129407"
      ]
     },
     "execution_count": 18,
     "metadata": {},
     "output_type": "execute_result"
    }
   ],
   "source": [
    "percent_standard_error(10, 5000)"
   ]
  },
  {
   "cell_type": "markdown",
   "metadata": {},
   "source": [
    "## Propagate error for P(Gi=g|Ri=r)\n",
    "\n",
    "P(Gi=g|Ri=r) = P(Ri=r|Gi=g) * P(Gi=g) / sum_on_g'(P(Ri=r|Gi=g') * P(Gi=g'))\n",
    "\n",
    "P(Gi=g) = n_gi / sum_on_gi(n_gi) = n_gi / n_total\n",
    "\n",
    "P(Ri=r|Gi=g) = n_rigi / sun_on_ri(n_rigi) = n_rigi / n_gi\n",
    "\n",
    "This is distributed hypergeometrically with the population given by the number in that geolocation.\n",
    "\n",
    "P(Ri=r|Gi=g) * P(Gi=g) = (n_rigi / n_gi) * (n_gi / n_total) = n_rigi / n_total\n",
    "\n",
    "sum_on_g'(P(Ri=r|Gi=g') * n_rigi) = sum_on_g'(n_rigi / n_total) = n_ri / n_total\n",
    "\n",
    "P(Gi=g|Ri=r) = P(Ri=r|Gi=g) * n_rigi / sum_on_g'(P(Ri=r|Gi=g') * n_rigi) = n_rigi / n_ri\n",
    "\n",
    "So this is distributed hypergeometrically, but with the population given by n_ri (total across all locations in that racial group).\n",
    "\n"
   ]
  },
  {
   "cell_type": "code",
   "execution_count": 19,
   "metadata": {},
   "outputs": [
    {
     "name": "stdout",
     "output_type": "stream",
     "text": [
      "Probability of R given G minority 0.1\n",
      "SE on P of R given G minority 0.021223817998900444\n",
      "Probability of G given R minority 2e-05\n",
      "SE on P of G given R minority 4.472091680625611e-06\n",
      "\n",
      "Probability of R given G majority 0.9\n",
      "SE on P of R given G majority 0.02122381799890044\n",
      "Probability of G given R majority 2e-05\n",
      "SE on P of G given R majority 1.4906970943687747e-06\n"
     ]
    }
   ],
   "source": [
    "n_geo = 50000\n",
    "pop_per_geo = 1000\n",
    "\n",
    "minority_fraction = 0.1\n",
    "majority_fraction = 1 - minority_fraction\n",
    "minority_total = minority_fraction * pop_per_geo * n_geo\n",
    "majority_total = majority_fraction * pop_per_geo * n_geo\n",
    "\n",
    "minority_pop_geo = minority_fraction * pop_per_geo\n",
    "majority_pop_geo = majority_fraction * pop_per_geo\n",
    "\n",
    "\n",
    "print(\"Probability of R given G minority\", minority_fraction)\n",
    "standard_error_Pr_g_minority = fraction_standard_error(minority_fraction, pop_per_geo)\n",
    "print(\"SE on P of R given G minority\", standard_error_Pr_g_minority)\n",
    "\n",
    "Pg_r_minority = minority_fraction * pop_per_geo / minority_total\n",
    "print(\"Probability of G given R minority\", Pg_r_minority)\n",
    "assert Pg_r_minority == minority_pop_geo / minority_total\n",
    "standard_error_Pg_r_minority = fraction_standard_error(Pg_r_minority, minority_total)\n",
    "print(\"SE on P of G given R minority\", standard_error_Pg_r_minority)\n",
    "\n",
    "print(\"\")\n",
    "\n",
    "print(\"Probability of R given G majority\", majority_fraction)\n",
    "standard_error_Pr_g_majority = fraction_standard_error(majority_fraction, pop_per_geo)\n",
    "print(\"SE on P of R given G majority\", standard_error_Pr_g_majority)\n",
    "\n",
    "\n",
    "Pg_r_majority = majority_fraction * pop_per_geo / majority_total\n",
    "print(\"Probability of G given R majority\", Pg_r_majority)\n",
    "assert Pg_r_majority == majority_pop_geo / majority_total\n",
    "standard_error_Pg_r_majority = fraction_standard_error(Pg_r_majority, majority_total)\n",
    "print(\"SE on P of G given R majority\", standard_error_Pg_r_majority)\n",
    "\n"
   ]
  },
  {
   "cell_type": "markdown",
   "metadata": {},
   "source": [
    "## Propagate error for P(Ri=r|Gi=g, Si=s)\n",
    "\n",
    "P(Ri=r|Gi=g, Si=s) = P(Gi=g|Ri=r) * P(Ri=r|Si=s) / sum_on_r'(P(Gi=g|Ri=r') * P(Ri=r'|Si=s))\n",
    "\n",
    "from above:\n",
    "\n",
    "P(Gi=g|Ri=r) = n_rigi / n_ri\n",
    "\n",
    "P(Ri=r|Si=s) = n_risi / sun_on_ri(n_risi) = n_risi / n_si\n",
    "\n",
    "\n",
    "P(Gi=g|Ri=r) * P(Ri=r|Si=s) = n_rigi * n_risi / (n_ri * n_si)\n",
    "\n",
    "\n",
    "sum_on_r'(P(Gi=g|Ri=r') * P(Ri=r'|Si=s)) = n_si * sum_on_r'(n_rigi * n_risi / n_ri)\n",
    "\n",
    "\n",
    "P(Ri=r|Gi=g, Si=s) = n_rigi * n_risi / (n_ri * sum_on_r'(n_rigi * n_risi / n_ri))"
   ]
  },
  {
   "cell_type": "code",
   "execution_count": 20,
   "metadata": {},
   "outputs": [
    {
     "name": "stdout",
     "output_type": "stream",
     "text": [
      "Probability of R given S minority 0.1\n",
      "SE on P of R given S minority 0.06741998624632423\n",
      "Probability of R given S majority 0.9\n",
      "SE on P of R given S majority 0.06741998624632423\n",
      "\n",
      "BISG Probability minority 0.1\n",
      "SE on BISG minority 0.07173808987115297\n",
      "\n",
      "BISG Probability majority 0.8999999999999999\n",
      "SE on BISG majority 0.13122113004804412\n"
     ]
    }
   ],
   "source": [
    "census_total = 5e7\n",
    "\n",
    "n_geo = 50000\n",
    "pop_per_geo = 1000\n",
    "assert census_total == n_geo * pop_per_geo\n",
    "\n",
    "n_surname = 500000\n",
    "pop_per_surname = 100\n",
    "assert census_total == n_surname * pop_per_surname\n",
    "\n",
    "minority_fraction = 0.1\n",
    "majority_fraction = 1 - minority_fraction\n",
    "\n",
    "print(\"Probability of R given S minority\", minority_fraction)\n",
    "standard_error_Pr_s_minority = fraction_standard_error(minority_fraction, pop_per_surname)\n",
    "print(\"SE on P of R given S minority\", standard_error_Pr_s_minority)\n",
    "\n",
    "print(\"Probability of R given S majority\", majority_fraction)\n",
    "standard_error_Pr_s_majority = fraction_standard_error(majority_fraction, pop_per_surname)\n",
    "print(\"SE on P of R given S majority\", standard_error_Pr_s_majority)\n",
    "\n",
    "print(\"\")\n",
    "\n",
    "sum_Pg_r_Pr_s = (Pg_r_minority*minority_fraction + Pg_r_majority*majority_fraction)\n",
    "P_bisg_minority = Pg_r_minority * minority_fraction / sum_Pg_r_Pr_s\n",
    "\n",
    "P_bisg_majority = Pg_r_majority * majority_fraction / sum_Pg_r_Pr_s\n",
    "\n",
    "standard_error_Pg_r_Pr_s_minority = Pg_r_minority * minority_fraction * np.sqrt(\n",
    "    (standard_error_Pg_r_minority/Pg_r_minority)**2 + (standard_error_Pr_s_minority/minority_fraction)**2)\n",
    "standard_error_Pg_r_Pr_s_majority = Pg_r_majority * majority_fraction * np.sqrt(\n",
    "    (standard_error_Pg_r_majority/Pg_r_majority)**2 + (standard_error_Pr_s_majority/majority_fraction)**2)\n",
    "\n",
    "standard_error_sum_Pg_r_Pr_s = np.sqrt(\n",
    "    standard_error_Pg_r_Pr_s_minority**2 + standard_error_Pg_r_Pr_s_minority**2\n",
    ")\n",
    "\n",
    "standard_error_BISG_minority = P_bisg_minority * np.sqrt(\n",
    "    (standard_error_Pg_r_Pr_s_minority/(Pg_r_minority*minority_fraction))**2\n",
    "    + (standard_error_sum_Pg_r_Pr_s/(sum_Pg_r_Pr_s))**2\n",
    ")\n",
    "\n",
    "standard_error_BISG_majority = P_bisg_majority * np.sqrt(\n",
    "    (standard_error_Pg_r_Pr_s_majority/(Pg_r_majority*majority_fraction))**2\n",
    "    + (standard_error_sum_Pg_r_Pr_s/(sum_Pg_r_Pr_s))**2\n",
    ")\n",
    "\n",
    "print(\"BISG Probability minority\", P_bisg_minority)\n",
    "print(\"SE on BISG minority\", standard_error_BISG_minority)\n",
    "\n",
    "print(\"\")\n",
    "print(\"BISG Probability majority\", P_bisg_majority)\n",
    "print(\"SE on BISG majority\", standard_error_BISG_majority)\n"
   ]
  },
  {
   "cell_type": "markdown",
   "metadata": {},
   "source": [
    "## Monte Carlo simulations\n",
    "\n",
    "numpy's hypergeometric random number generator wants:\n",
    "- ngood = M\n",
    "- nbad = N-M\n",
    "- nsample = n"
   ]
  },
  {
   "cell_type": "code",
   "execution_count": 21,
   "metadata": {},
   "outputs": [],
   "source": [
    "rng = np.random.default_rng()\n",
    "ntrials = 10000000\n",
    "\n",
    "sample_g_r_minority = rng.hypergeometric(\n",
    "    minority_fraction * pop_per_geo,\n",
    "    minority_fraction * (census_total - pop_per_geo),\n",
    "    minority_total*census_sample_ratio,\n",
    "    ntrials\n",
    ")\n",
    "\n",
    "Pg_r_minority_dist = sample_g_r_minority / (minority_total*census_sample_ratio)\n",
    "\n",
    "\n",
    "sample_r_s_minority = rng.hypergeometric(\n",
    "    minority_fraction * pop_per_surname,\n",
    "    pop_per_surname-minority_fraction * pop_per_surname,\n",
    "    pop_per_surname*census_sample_ratio,\n",
    "    ntrials\n",
    ")\n",
    "\n",
    "Pr_s_minority_dist =  sample_r_s_minority / (pop_per_surname*census_sample_ratio)\n",
    "\n",
    "sample_g_r_majority = rng.hypergeometric(\n",
    "    majority_fraction * pop_per_geo,\n",
    "    majority_fraction * (census_total - pop_per_geo),\n",
    "    majority_total*census_sample_ratio,\n",
    "    ntrials\n",
    ")\n",
    "\n",
    "Pg_r_majority_dist =  sample_g_r_majority / (majority_total*census_sample_ratio)\n",
    "\n",
    "#sample_g_r_majority2 = (\n",
    "#    np.ones(ntrials) * pop_per_geo*census_sample_ratio - sample_g_r_minority\n",
    "#)\n",
    "#Pg_r_majority_dist2 =  sample_g_r_majority2 / (majority_total*census_sample_ratio)\n",
    "\n",
    "\n",
    "sample_r_s_majority = rng.hypergeometric(\n",
    "    majority_fraction * pop_per_surname,\n",
    "    pop_per_surname-majority_fraction * pop_per_surname,\n",
    "    pop_per_surname*census_sample_ratio,\n",
    "    ntrials\n",
    ") \n",
    "\n",
    "Pr_s_majority_dist = sample_r_s_majority / (pop_per_surname*census_sample_ratio)\n",
    "sample_r_s_majority2 = (\n",
    "    np.ones(ntrials) * pop_per_surname*census_sample_ratio - sample_r_s_minority\n",
    ")\n",
    "Pr_s_majority_dist2 = sample_r_s_majority2 / (pop_per_surname*census_sample_ratio)\n",
    "\n",
    "sample_r_s_totals = sample_r_s_minority + sample_r_s_majority\n",
    "\n",
    "\n",
    "\n",
    "\n",
    "sum_Pg_r_Pr_s_dist = (Pg_r_minority_dist*Pr_s_minority_dist + Pg_r_majority_dist*Pr_s_majority_dist)\n",
    "P_bisg_minority_dist = Pg_r_minority_dist * Pr_s_minority_dist / sum_Pg_r_Pr_s\n",
    "\n",
    "P_bisg_majority_dist = Pg_r_majority_dist * Pr_s_majority_dist / sum_Pg_r_Pr_s\n",
    "\n"
   ]
  },
  {
   "cell_type": "code",
   "execution_count": 53,
   "metadata": {},
   "outputs": [
    {
     "data": {
      "image/png": "[encoded data removed]",
      "text/plain": [
       "<Figure size 432x288 with 1 Axes>"
      ]
     },
     "metadata": {
      "needs_background": "light"
     },
     "output_type": "display_data"
    }
   ],
   "source": [
    "max_val = int(np.round(np.max([sample_g_r_minority, sample_g_r_majority])))\n",
    "bins = np.linspace(0,max_val,max_val+1)\n",
    "\n",
    "count, bins, ignored = plt.hist(sample_g_r_minority, bins, density=True, alpha=0.5, label=\"minority\")\n",
    "count, bins, ignored = plt.hist(sample_g_r_majority, bins, density=True, alpha=0.5, label=\"majority\")\n",
    "plt.title(\"Number sampled for P(G|R)\")\n",
    "\n",
    "plt.legend()\n",
    "\n",
    "filename = \"bisg_num_sampled_g_r.pdf\"\n",
    "#plt.show()\n",
    "plt.savefig(filename)"
   ]
  },
  {
   "cell_type": "code",
   "execution_count": 60,
   "metadata": {},
   "outputs": [
    {
     "data": {
      "image/png": "[encoded data removed]",
      "text/plain": [
       "<Figure size 432x288 with 1 Axes>"
      ]
     },
     "metadata": {
      "needs_background": "light"
     },
     "output_type": "display_data"
    }
   ],
   "source": [
    "max_val = np.max([Pg_r_minority_dist, Pg_r_majority_dist])\n",
    "bins = np.linspace(0,max_val,30)\n",
    "\n",
    "count, bins, ignored = plt.hist(Pg_r_minority_dist, bins, density=True, alpha=0.5, label=\"minority\")\n",
    "count, bins, ignored = plt.hist(Pg_r_majority_dist, bins, density=True, alpha=0.5, label=\"majority\")\n",
    "plt.title(\"P(G|R)\")\n",
    "\n",
    "plt.legend()\n",
    "\n",
    "filename = \"bisg_prob_g_r.pdf\"\n",
    "#plt.show()\n",
    "plt.savefig(filename)"
   ]
  },
  {
   "cell_type": "code",
   "execution_count": 55,
   "metadata": {},
   "outputs": [
    {
     "data": {
      "image/png": "[encoded data removed]",
      "text/plain": [
       "<Figure size 432x288 with 1 Axes>"
      ]
     },
     "metadata": {
      "needs_background": "light"
     },
     "output_type": "display_data"
    }
   ],
   "source": [
    "max_val = np.max([Pr_s_minority_dist, Pr_s_majority_dist])\n",
    "bins = np.linspace(0,max_val,20)\n",
    "\n",
    "count, bins, ignored = plt.hist(Pr_s_minority_dist, bins, density=True, alpha=0.5, label=\"minority\")\n",
    "count, bins, ignored = plt.hist(Pr_s_majority_dist, bins, density=True, alpha=0.5, label=\"majority\")\n",
    "plt.title(\"P(R|S)\")\n",
    "\n",
    "plt.legend()\n",
    "\n",
    "filename = \"bisg_prob_r_s.pdf\"\n",
    "#plt.show()\n",
    "plt.savefig(filename)"
   ]
  },
  {
   "cell_type": "code",
   "execution_count": 56,
   "metadata": {},
   "outputs": [
    {
     "name": "stdout",
     "output_type": "stream",
     "text": [
      "minority mean: propagated:  2.0e-06 simulated:  1.9e-06\n",
      "minority std: propagated:  1.4e-06 simulated:  1.4e-06\n",
      "\n",
      "majority mean: propagated:  1.8e-05 simulated:  1.7e-05\n",
      "majority std: propagated:  1.9e-06 simulated:  1.9e-06\n"
     ]
    },
    {
     "data": {
      "image/png": "[encoded data removed]",
      "text/plain": [
       "<Figure size 432x288 with 1 Axes>"
      ]
     },
     "metadata": {
      "needs_background": "light"
     },
     "output_type": "display_data"
    }
   ],
   "source": [
    "max_val = np.max([Pg_r_minority_dist * Pr_s_minority_dist, Pg_r_majority_dist * Pr_s_majority_dist])\n",
    "bins = np.linspace(0,max_val,30)\n",
    "\n",
    "count, bins, ignored = plt.hist(Pg_r_minority_dist * Pr_s_minority_dist, bins, density=True, alpha=0.5, label=\"minority\")\n",
    "count, bins, ignored = plt.hist(Pg_r_majority_dist * Pr_s_majority_dist, bins, density=True, alpha=0.5, label=\"majority\")\n",
    "\n",
    "plt.title(\"P(G|R) * P(R|S)\")\n",
    "\n",
    "plt.legend()\n",
    "\n",
    "filename = \"bisg_prob_g_r_prob_r_s.pdf\"\n",
    "#plt.show()\n",
    "plt.savefig(filename)\n",
    "\n",
    "print(\"minority mean: propagated: \", '{:0.1e}'.format(Pg_r_minority * minority_fraction),\n",
    "      \"simulated: \", '{:0.1e}'.format(np.mean(Pg_r_minority_dist * Pr_s_minority_dist))\n",
    ")\n",
    "print(\"minority std: propagated: \", '{:0.1e}'.format(standard_error_Pg_r_Pr_s_minority),\n",
    "      \"simulated: \", '{:0.1e}'.format(np.std(Pg_r_minority_dist * Pr_s_minority_dist))\n",
    ")\n",
    "\n",
    "print(\"\")\n",
    "print(\"majority mean: propagated: \", '{:0.1e}'.format(Pg_r_majority * majority_fraction),\n",
    "      \"simulated: \", '{:0.1e}'.format(np.mean(Pg_r_majority_dist * Pr_s_majority_dist))\n",
    ")\n",
    "print(\"majority std: propagated: \", '{:0.1e}'.format(standard_error_Pg_r_Pr_s_majority),\n",
    "      \"simulated: \", '{:0.1e}'.format(np.std(Pg_r_majority_dist * Pr_s_majority_dist))\n",
    ")\n"
   ]
  },
  {
   "cell_type": "code",
   "execution_count": 57,
   "metadata": {},
   "outputs": [
    {
     "name": "stdout",
     "output_type": "stream",
     "text": [
      "mean propagated:  2.0e-05 simulated:  1.9e-05\n",
      "std propagated:  2.0e-06 simulated:  2.3e-06\n"
     ]
    },
    {
     "data": {
      "image/png": "[encoded data removed]",
      "text/plain": [
       "<Figure size 432x288 with 1 Axes>"
      ]
     },
     "metadata": {
      "needs_background": "light"
     },
     "output_type": "display_data"
    }
   ],
   "source": [
    "count, bins, ignored = plt.hist(sum_Pg_r_Pr_s_dist, 50, density=True, color='g', alpha=0.5)\n",
    "plt.title(\"P(R|S)\")\n",
    "plt.title(\"$\\Sigma$ P(G|R) * P(R|S)\")\n",
    "\n",
    "filename = \"bisg_sum_prob_g_r_prob_r_s.pdf\"\n",
    "#plt.show()\n",
    "plt.savefig(filename)\n",
    "\n",
    "\n",
    "print(\"mean propagated: \", '{:0.1e}'.format(sum_Pg_r_Pr_s),\n",
    "      \"simulated: \", '{:0.1e}'.format(np.mean(sum_Pg_r_Pr_s_dist))\n",
    ")\n",
    "print(\"std propagated: \", '{:0.1e}'.format(standard_error_sum_Pg_r_Pr_s),\n",
    "      \"simulated: \", '{:0.1e}'.format(np.std(sum_Pg_r_Pr_s_dist))\n",
    ")"
   ]
  },
  {
   "cell_type": "code",
   "execution_count": 58,
   "metadata": {},
   "outputs": [
    {
     "name": "stdout",
     "output_type": "stream",
     "text": [
      "minority mean: propagated:  1.0e-01 simulated:  9.6e-02\n",
      "minority std: propagated:  7.2e-02 simulated:  7.1e-02\n",
      "\n",
      "majority mean: propagated:  9.0e-01 simulated:  1.7e-05\n",
      "majority std: propagated:  1.9e-06 simulated:  1.9e-06\n"
     ]
    },
    {
     "data": {
      "image/png": "[encoded data removed]",
      "text/plain": [
       "<Figure size 432x288 with 1 Axes>"
      ]
     },
     "metadata": {
      "needs_background": "light"
     },
     "output_type": "display_data"
    }
   ],
   "source": [
    "max_val = np.max([P_bisg_minority_dist, P_bisg_majority_dist])\n",
    "bins = np.linspace(0,max_val,40)\n",
    "\n",
    "count, bins, ignored = plt.hist(P_bisg_minority_dist, bins, density=True, alpha=0.5, label=\"minority\")\n",
    "count, bins, ignored = plt.hist(P_bisg_majority_dist, bins, density=True, alpha=0.5, label=\"majority\")\n",
    "\n",
    "plt.title(\"P(R|S,G)\")\n",
    "\n",
    "plt.legend()\n",
    "\n",
    "filename = \"bisg_prob_r_sg.pdf\"\n",
    "#plt.show()\n",
    "plt.savefig(filename)\n",
    "\n",
    "\n",
    "print(\"minority mean: propagated: \", '{:0.1e}'.format(P_bisg_minority),\n",
    "      \"simulated: \", '{:0.1e}'.format(np.mean(P_bisg_minority_dist))\n",
    ")\n",
    "print(\"minority std: propagated: \", '{:0.1e}'.format(standard_error_BISG_minority),\n",
    "      \"simulated: \", '{:0.1e}'.format(np.std(P_bisg_minority_dist))\n",
    ")\n",
    "\n",
    "print(\"\")\n",
    "\n",
    "print(\"majority mean: propagated: \", '{:0.1e}'.format(P_bisg_majority),\n",
    "      \"simulated: \", '{:0.1e}'.format(np.mean(Pg_r_majority_dist * Pr_s_majority_dist))\n",
    ")\n",
    "print(\"majority std: propagated: \", '{:0.1e}'.format(standard_error_Pg_r_Pr_s_majority),\n",
    "      \"simulated: \", '{:0.1e}'.format(np.std(Pg_r_majority_dist * Pr_s_majority_dist))\n",
    ")"
   ]
  },
  {
   "cell_type": "code",
   "execution_count": null,
   "metadata": {},
   "outputs": [],
   "source": []
  },
  {
   "cell_type": "code",
   "execution_count": null,
   "metadata": {},
   "outputs": [],
   "source": []
  }
 ],
 "metadata": {
  "kernelspec": {
   "display_name": "Python 3",
   "language": "python",
   "name": "python3"
  },
  "language_info": {
   "name": ""
  }
 },
 "nbformat": 4,
 "nbformat_minor": 4
}
