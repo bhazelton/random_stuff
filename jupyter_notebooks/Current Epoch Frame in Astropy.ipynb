{
 "cells": [
  {
   "cell_type": "code",
   "execution_count": 1,
   "metadata": {
    "collapsed": true
   },
   "outputs": [],
   "source": [
    "import numpy as np\n",
    "from astropy.coordinates import SkyCoord, Angle, EarthLocation\n",
    "from astropy.time import Time\n",
    "from astropy import units"
   ]
  },
  {
   "cell_type": "code",
   "execution_count": 2,
   "metadata": {
    "collapsed": true
   },
   "outputs": [],
   "source": [
    "mjd = 55780.1\n",
    "latitude = Angle('-26d42m11.94986s')\n",
    "longitude = Angle('116d40m14.93485s')"
   ]
  },
  {
   "cell_type": "code",
   "execution_count": 3,
   "metadata": {
    "collapsed": false
   },
   "outputs": [
    {
     "name": "stdout",
     "output_type": "stream",
     "text": [
      "7h11m46.2716s\n"
     ]
    }
   ],
   "source": [
    "obs_time = Time(mjd, format='mjd', location = (longitude, latitude))\n",
    "lst_apparent = obs_time.sidereal_time('apparent')\n",
    "print(lst_apparent)"
   ]
  },
  {
   "cell_type": "code",
   "execution_count": 4,
   "metadata": {
    "collapsed": true
   },
   "outputs": [],
   "source": [
    "# The frame radio astronomers call the apparent or current epoch is the\n",
    "# \"true equator & equinox\" frame, notated E_gamma in the USNO circular\n",
    "# astropy doesn't have this frame but it's pretty easy to adapt the CIRS frame\n",
    "# by modifying the ra to reflect the difference between\n",
    "# GAST (Grenwich Apparent Sidereal Time) and the earth rotation angle (theta).\n",
    "# The earth rotation angle is most clearly explained in the 2nd paragraph of Chapter 6\n",
    "# of the USNO circular (page 50)\n",
    "# The relationship between E_gamma and CIRS is shown in the figure on page 57 of the circular\n",
    "def egamma_to_cirs_ra(egamma_ra, time):\n",
    "    from astropy import _erfa as erfa\n",
    "    from astropy.coordinates.builtin_frames.utils import get_jd12\n",
    "    era = erfa.era00(*get_jd12(Time(mjd, format='mjd'), 'ut1'))\n",
    "    theta_earth = Angle(era, unit='rad')\n",
    "\n",
    "    assert(isinstance(time, Time))\n",
    "    gast = time.sidereal_time('apparent', longitude=0)\n",
    "    cirs_ra = egamma_ra - (gast-theta_earth)\n",
    "    return cirs_ra"
   ]
  },
  {
   "cell_type": "code",
   "execution_count": 5,
   "metadata": {
    "collapsed": false
   },
   "outputs": [
    {
     "data": {
      "text/plain": [
       "<SkyCoord (CIRS: obstime=55780.1): (ra, dec) in deg\n",
       "    (107.78961213, -26.70331941)>"
      ]
     },
     "execution_count": 5,
     "metadata": {},
     "output_type": "execute_result"
    }
   ],
   "source": [
    "# If we define a source at RA = apparent LST and Dec = latitude it should be at zenith\n",
    "\n",
    "loc_obj = EarthLocation.from_geodetic(lon=longitude, lat=latitude)\n",
    "\n",
    "# use CIRS but with a different ra to account for the difference between LST & earth's rotation angle\n",
    "cirs_ra = egamma_to_cirs_ra(lst_apparent, Time(mjd, format='mjd'))\n",
    "\n",
    "egamma_zenith_coord = SkyCoord(ra=cirs_ra, dec=latitude, frame='cirs',\n",
    "                               obstime=Time(mjd, format='mjd'), location = loc_obj)\n",
    "egamma_zenith_coord"
   ]
  },
  {
   "cell_type": "code",
   "execution_count": 6,
   "metadata": {
    "collapsed": false
   },
   "outputs": [
    {
     "data": {
      "text/plain": [
       "<SkyCoord (AltAz: obstime=55780.1, location=(-2559302.5737783727, 5095070.526830904, -2848887.400942108) m, pressure=0.0 hPa, temperature=0.0 deg_C, relative_humidity=0, obswl=1.0 micron): (az, alt) in deg\n",
       "    (28.60732437, 89.99985797)>"
      ]
     },
     "execution_count": 6,
     "metadata": {},
     "output_type": "execute_result"
    }
   ],
   "source": [
    "# check where it is in altaz (should be near zenith):\n",
    "egamma_zenith_altaz = egamma_zenith_coord.transform_to('altaz')\n",
    "egamma_zenith_altaz"
   ]
  },
  {
   "cell_type": "code",
   "execution_count": 7,
   "metadata": {
    "collapsed": false
   },
   "outputs": [
    {
     "data": {
      "text/plain": [
       "'-0deg00m00.5113s'"
      ]
     },
     "execution_count": 7,
     "metadata": {},
     "output_type": "execute_result"
    }
   ],
   "source": [
    "(egamma_zenith_altaz.alt - Angle('90d')).to_string(unit=units.degree, sep=('deg', 'm', 's'))"
   ]
  },
  {
   "cell_type": "markdown",
   "metadata": {},
   "source": [
    "![Geocentric frame conversions](https://i.imgur.com/UC5Yvoe.png)"
   ]
  },
  {
   "cell_type": "code",
   "execution_count": null,
   "metadata": {
    "collapsed": true
   },
   "outputs": [],
   "source": []
  }
 ],
 "metadata": {
  "kernelspec": {
   "display_name": "Python 3",
   "language": "python",
   "name": "python3"
  },
  "language_info": {
   "codemirror_mode": {
    "name": "ipython",
    "version": 3
   },
   "file_extension": ".py",
   "mimetype": "text/x-python",
   "name": "python",
   "nbconvert_exporter": "python",
   "pygments_lexer": "ipython3",
   "version": "3.5.2"
  }
 },
 "nbformat": 4,
 "nbformat_minor": 0
}
