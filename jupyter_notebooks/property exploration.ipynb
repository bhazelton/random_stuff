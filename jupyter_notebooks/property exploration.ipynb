{
 "cells": [
  {
   "cell_type": "code",
   "execution_count": 382,
   "metadata": {
    "collapsed": true
   },
   "outputs": [],
   "source": [
    "class my_obj(object):    \n",
    "    def __init__(self, xval):\n",
    "        self.xval = xval\n",
    "\n",
    "    @property\n",
    "    def x(self):\n",
    "        return self.xval\n",
    "    \n",
    "    @x.setter\n",
    "    def x(self, value):\n",
    "        self.xval = value"
   ]
  },
  {
   "cell_type": "code",
   "execution_count": 383,
   "metadata": {
    "collapsed": true
   },
   "outputs": [],
   "source": [
    "this_obj = my_obj(3)"
   ]
  },
  {
   "cell_type": "code",
   "execution_count": 384,
   "metadata": {
    "collapsed": false
   },
   "outputs": [
    {
     "data": {
      "text/plain": [
       "3"
      ]
     },
     "execution_count": 384,
     "metadata": {},
     "output_type": "execute_result"
    }
   ],
   "source": [
    "print(this_obj.x)"
   ]
  },
  {
   "cell_type": "code",
   "execution_count": 385,
   "metadata": {
    "collapsed": false
   },
   "outputs": [
    {
     "name": "stdout",
     "output_type": "stream",
     "text": [
      "4\n"
     ]
    }
   ],
   "source": [
    "this_obj.x = 4\n",
    "print(this_obj.xval)"
   ]
  },
  {
   "cell_type": "code",
   "execution_count": 374,
   "metadata": {
    "collapsed": true
   },
   "outputs": [],
   "source": [
    "class my_par(object):\n",
    "    def __init__(self, name, value):\n",
    "        self.name = name\n",
    "        self.value = value\n",
    "\n",
    "class my_obj(object):    \n",
    "    def __init__(self, xval, yval, zval):\n",
    "        self.xval = my_par('x', xval)\n",
    "        self.yval = my_par('y', yval)\n",
    "        self.zval = my_par('z', zval)\n",
    "\n",
    "    @property\n",
    "    def x(self):\n",
    "        return self.xval.value\n",
    "    \n",
    "    @x.setter\n",
    "    def x(self, value):\n",
    "        self.xval.value = value"
   ]
  },
  {
   "cell_type": "code",
   "execution_count": 375,
   "metadata": {
    "collapsed": false
   },
   "outputs": [
    {
     "name": "stdout",
     "output_type": "stream",
     "text": [
      "13\n",
      "14\n",
      "14\n"
     ]
    }
   ],
   "source": [
    "this_obj=my_obj(13, 21, 33)\n",
    "print(this_obj.x)\n",
    "this_obj.x = 14\n",
    "print(this_obj.x)\n",
    "print(this_obj.xval.value)"
   ]
  },
  {
   "cell_type": "code",
   "execution_count": 368,
   "metadata": {
    "collapsed": false
   },
   "outputs": [],
   "source": [
    "class my_par(object):\n",
    "    def __init__(self, name, value):\n",
    "        self.name = name\n",
    "        self.value = value\n",
    "\n",
    "class my_obj(object):    \n",
    "    def __init__(self, xval, yval, zval):\n",
    "        self.xval = my_par('x', xval)\n",
    "        self.yval = my_par('y', yval)\n",
    "        self.zval = my_par('z', zval)\n",
    "        \n",
    "        par_list = ['xval', 'yval','zval']\n",
    "        \n",
    "        for p in par_list:\n",
    "            this_par = getattr(self, p)\n",
    "            attr_name = this_par.name\n",
    "            setattr(self.__class__, attr_name, property(self.prop_fget(p), self.prop_fset(p)))\n",
    "        \n",
    "\n",
    "    def prop_fget(self, attr_name):\n",
    "        def fget(self):\n",
    "            this_par = getattr(self, attr_name)\n",
    "            return this_par.value\n",
    "        return fget\n",
    "        \n",
    "    \n",
    "    def prop_fset(self, attr_name):\n",
    "        def fset(self, value):\n",
    "            this_par = getattr(self, attr_name)\n",
    "            this_par.value = value\n",
    "            setattr(self, attr_name, this_par)\n",
    "        return fset    \n"
   ]
  },
  {
   "cell_type": "code",
   "execution_count": 369,
   "metadata": {
    "collapsed": false
   },
   "outputs": [],
   "source": [
    "this_obj=my_obj(13, 21, 33)"
   ]
  },
  {
   "cell_type": "code",
   "execution_count": 370,
   "metadata": {
    "collapsed": false
   },
   "outputs": [
    {
     "name": "stdout",
     "output_type": "stream",
     "text": [
      "13\n",
      "21\n",
      "33\n"
     ]
    }
   ],
   "source": [
    "print(this_obj.x)\n",
    "print(this_obj.y)\n",
    "print(this_obj.z)"
   ]
  },
  {
   "cell_type": "code",
   "execution_count": 371,
   "metadata": {
    "collapsed": false
   },
   "outputs": [],
   "source": [
    "this_obj.x = 14\n",
    "this_obj.y = 22\n",
    "this_obj.z = 34"
   ]
  },
  {
   "cell_type": "code",
   "execution_count": 372,
   "metadata": {
    "collapsed": false
   },
   "outputs": [
    {
     "name": "stdout",
     "output_type": "stream",
     "text": [
      "14\n",
      "22\n",
      "34\n"
     ]
    }
   ],
   "source": [
    "print(this_obj.x)\n",
    "print(this_obj.y)\n",
    "print(this_obj.z)"
   ]
  },
  {
   "cell_type": "code",
   "execution_count": 373,
   "metadata": {
    "collapsed": false
   },
   "outputs": [
    {
     "name": "stdout",
     "output_type": "stream",
     "text": [
      "14\n",
      "22\n",
      "34\n"
     ]
    }
   ],
   "source": [
    "print(this_obj.xval.value)\n",
    "print(this_obj.yval.value)\n",
    "print(this_obj.zval.value)"
   ]
  },
  {
   "cell_type": "code",
   "execution_count": null,
   "metadata": {
    "collapsed": true
   },
   "outputs": [],
   "source": []
  },
  {
   "cell_type": "code",
   "execution_count": null,
   "metadata": {
    "collapsed": true
   },
   "outputs": [],
   "source": []
  }
 ],
 "metadata": {
  "kernelspec": {
   "display_name": "Python 2",
   "language": "python",
   "name": "python2"
  },
  "language_info": {
   "codemirror_mode": {
    "name": "ipython",
    "version": 2
   },
   "file_extension": ".py",
   "mimetype": "text/x-python",
   "name": "python",
   "nbconvert_exporter": "python",
   "pygments_lexer": "ipython2",
   "version": "2.7.11"
  }
 },
 "nbformat": 4,
 "nbformat_minor": 0
}
