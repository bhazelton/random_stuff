{
 "cells": [
  {
   "cell_type": "code",
   "execution_count": 1,
   "metadata": {},
   "outputs": [],
   "source": [
    "import numpy as np\n",
    "import matplotlib.pyplot as plt\n",
    "\n"
   ]
  },
  {
   "cell_type": "code",
   "execution_count": 28,
   "metadata": {},
   "outputs": [
    {
     "name": "stdout",
     "output_type": "stream",
     "text": [
      "sigma2: 3.0\n",
      "calc var: 2.9929068467276823 3.00797165478625 3.0110763637526454\n"
     ]
    }
   ],
   "source": [
    "nvals = 100000\n",
    "a = 3\n",
    "var1 = np.random.uniform(-a,a,nvals)\n",
    "var2 = np.random.uniform(-a,a,nvals)\n",
    "var3 = np.random.uniform(-a,a,nvals)\n",
    "sigma2_var = a**2/3.\n",
    "print('sigma2:', sigma2_var)\n",
    "print('calc var:', np.var(var1), np.var(var2), np.var(var3))"
   ]
  },
  {
   "cell_type": "code",
   "execution_count": 29,
   "metadata": {},
   "outputs": [
    {
     "name": "stdout",
     "output_type": "stream",
     "text": [
      "sigma2_var2: 7.2\n",
      "calc var var2: 7.206568634361339 7.200862371190637 7.222883394504978\n"
     ]
    }
   ],
   "source": [
    "var1_2 = var1 ** 2\n",
    "var2_2 = var2 ** 2\n",
    "var3_2 = var3 ** 2\n",
    "sigma2_var2 = 4 * a ** 4 / 45\n",
    "print('sigma2_var2:', sigma2_var2)\n",
    "print('calc var var2:', np.var(var1_2), np.var(var2_2), np.var(var3_2))"
   ]
  },
  {
   "cell_type": "code",
   "execution_count": 30,
   "metadata": {},
   "outputs": [
    {
     "name": "stdout",
     "output_type": "stream",
     "text": [
      "sigma2_var1var2: 9.0\n",
      "calc var var1var2: 8.997948962189438 9.024579016423202 9.024271460085346\n"
     ]
    }
   ],
   "source": [
    "var1_var2 = var1 * var2\n",
    "var2_var3 = var2 * var3\n",
    "var1_var3 = var1 * var3\n",
    "\n",
    "sigma2_var1var2 = a ** 4 / 9\n",
    "print('sigma2_var1var2:', sigma2_var1var2)\n",
    "print('calc var var1var2:', np.var(var1_var2), np.var(var2_var3), np.var(var1_var3))"
   ]
  },
  {
   "cell_type": "code",
   "execution_count": 31,
   "metadata": {},
   "outputs": [
    {
     "name": "stdout",
     "output_type": "stream",
     "text": [
      "sigma2_var1var2var3: 27.0\n",
      "calc var var1var2var3: 27.095889248170757\n"
     ]
    }
   ],
   "source": [
    "var1_var2_var3 = var1 * var2 * var3\n",
    "sigma2_var1var2var3 = a ** 6 / 27\n",
    "print('sigma2_var1var2var3:', sigma2_var1var2var3)\n",
    "print('calc var var1var2var3:', np.var(var1_var2_var3))"
   ]
  },
  {
   "cell_type": "code",
   "execution_count": 32,
   "metadata": {},
   "outputs": [],
   "source": [
    "dep_y = (\n",
    "    var1 ** 2 + 2 * var2 ** 2 + 3 * var3 ** 2\n",
    "    + var1 * var2 + 2 * var2 * var3 + 3 * var1 * var3\n",
    "    + var1 * var2 * var3\n",
    ")"
   ]
  },
  {
   "cell_type": "code",
   "execution_count": 34,
   "metadata": {},
   "outputs": [
    {
     "name": "stdout",
     "output_type": "stream",
     "text": [
      "sigma2_y: 253.8\n",
      "calc var y: 254.42754607966933\n"
     ]
    }
   ],
   "source": [
    "sigma2_y = 14 * a ** 4 / 5 + a ** 6 / 27\n",
    "print('sigma2_y:', sigma2_y)\n",
    "print('calc var y:', np.var(dep_y))"
   ]
  },
  {
   "cell_type": "code",
   "execution_count": 35,
   "metadata": {},
   "outputs": [],
   "source": [
    "partial_var1 = sigma2_var2\n",
    "partial_var2 = 4 * sigma2_var2\n",
    "partial_var3 = 9 * sigma2_var2\n",
    "partial_var1var2 = sigma2_var1var2\n",
    "partial_var2var3 = 4 * sigma2_var1var2\n",
    "partial_var1var3 = 9 * sigma2_var1var2\n",
    "partial_var1var2var3 = sigma2_var1var2var3\n",
    "\n",
    "partial_sum = (\n",
    "    partial_var1 + partial_var2 + partial_var3\n",
    "    + partial_var1var2 + partial_var2var3 + partial_var1var3\n",
    "    + partial_var1var2var3\n",
    ")\n",
    "assert partial_sum == sigma2_y"
   ]
  },
  {
   "cell_type": "code",
   "execution_count": 41,
   "metadata": {},
   "outputs": [
    {
     "name": "stdout",
     "output_type": "stream",
     "text": [
      "var1, var2, var3 drawn from a uniform distribution, interval [-3, 3]\n",
      "sensitivity var1: 0.028\n",
      "sensitivity var2: 0.113\n",
      "sensitivity var3: 0.255\n",
      "sensitivity var1, var2: 0.035\n",
      "sensitivity var2, var3: 0.142\n",
      "sensitivity var1, var3: 0.319\n",
      "sensitivity var1, var2, var3: 0.106\n"
     ]
    }
   ],
   "source": [
    "sens_var1 = partial_var1 / sigma2_y\n",
    "sens_var2 = partial_var2 / sigma2_y\n",
    "sens_var3 = partial_var3 / sigma2_y\n",
    "sens_var1var2 = partial_var1var2 / sigma2_y\n",
    "sens_var2var3 = partial_var2var3 / sigma2_y\n",
    "sens_var1var3 = partial_var1var3 / sigma2_y\n",
    "sens_var1var2var3 = partial_var1var2var3 / sigma2_y\n",
    "\n",
    "print(f\"var1, var2, var3 drawn from a uniform distribution, interval [{-a}, {a}]\")\n",
    "print(\"sensitivity var1:\", \"{:.3f}\".format(sens_var1))\n",
    "print(\"sensitivity var2:\", \"{:.3f}\".format(sens_var2))\n",
    "print(\"sensitivity var3:\", \"{:.3f}\".format(sens_var3))\n",
    "print(\"sensitivity var1, var2:\", \"{:.3f}\".format(sens_var1var2))\n",
    "print(\"sensitivity var2, var3:\", \"{:.3f}\".format(sens_var2var3))\n",
    "print(\"sensitivity var1, var3:\", \"{:.3f}\".format(sens_var1var3))\n",
    "print(\"sensitivity var1, var2, var3:\", \"{:.3f}\".format(sens_var1var2var3))"
   ]
  },
  {
   "cell_type": "code",
   "execution_count": null,
   "metadata": {},
   "outputs": [],
   "source": []
  }
 ],
 "metadata": {
  "kernelspec": {
   "display_name": "Python 3",
   "language": "python",
   "name": "python3"
  },
  "language_info": {
   "codemirror_mode": {
    "name": "ipython",
    "version": 3
   },
   "file_extension": ".py",
   "mimetype": "text/x-python",
   "name": "python",
   "nbconvert_exporter": "python",
   "pygments_lexer": "ipython3",
   "version": "3.8.2"
  }
 },
 "nbformat": 4,
 "nbformat_minor": 4
}
